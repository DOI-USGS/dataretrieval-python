{
 "cells": [
  {
   "cell_type": "markdown",
   "metadata": {
    "collapsed": true,
    "pycharm": {
     "name": "#%% md\n"
    }
   },
   "source": [
    "# USGS dataretrieval Python Package `get_gwlevels()` Examples\n",
    "\n",
    "This notebook provides examples of using the Python dataretrieval package to retrieve groundwater level data for a United States  Geological Survey (USGS) monitoring site. The dataretrieval package provides a collection of functions to get data from the USGS National Water Information System (NWIS) and other online sources of hydrology and water quality data, including the United States Environmental Protection Agency (USEPA)."
   ]
  },
  {
   "cell_type": "markdown",
   "metadata": {
    "collapsed": false
   },
   "source": [
    "### Install the Package\n",
    "\n",
    "Use the following code to install the package if it doesn't exist already within your Jupyter Python environment."
   ]
  },
  {
   "cell_type": "code",
   "execution_count": 1,
   "metadata": {
    "collapsed": false,
    "execution": {
     "iopub.execute_input": "2024-06-30T02:27:42.950601Z",
     "iopub.status.busy": "2024-06-30T02:27:42.950413Z",
     "iopub.status.idle": "2024-06-30T02:27:43.650599Z",
     "shell.execute_reply": "2024-06-30T02:27:43.649838Z"
    },
    "pycharm": {
     "name": "#%%\n"
    }
   },
   "outputs": [
    {
     "name": "stdout",
     "output_type": "stream",
     "text": [
      "Defaulting to user installation because normal site-packages is not writeable\r\n"
     ]
    },
    {
     "name": "stdout",
     "output_type": "stream",
     "text": [
      "Requirement already satisfied: dataretrieval in /home/runner/.local/lib/python3.10/site-packages (0.1.dev1+g71920bc)\r\n",
      "Requirement already satisfied: requests in /usr/lib/python3/dist-packages (from dataretrieval) (2.25.1)\r\n",
      "Requirement already satisfied: pandas==2.* in /home/runner/.local/lib/python3.10/site-packages (from dataretrieval) (2.2.2)\r\n"
     ]
    },
    {
     "name": "stdout",
     "output_type": "stream",
     "text": [
      "Requirement already satisfied: numpy>=1.22.4 in /home/runner/.local/lib/python3.10/site-packages (from pandas==2.*->dataretrieval) (2.0.0)\r\n",
      "Requirement already satisfied: python-dateutil>=2.8.2 in /home/runner/.local/lib/python3.10/site-packages (from pandas==2.*->dataretrieval) (2.9.0.post0)\r\n",
      "Requirement already satisfied: pytz>=2020.1 in /usr/lib/python3/dist-packages (from pandas==2.*->dataretrieval) (2022.1)\r\n",
      "Requirement already satisfied: tzdata>=2022.7 in /home/runner/.local/lib/python3.10/site-packages (from pandas==2.*->dataretrieval) (2024.1)\r\n",
      "Requirement already satisfied: six>=1.5 in /usr/lib/python3/dist-packages (from python-dateutil>=2.8.2->pandas==2.*->dataretrieval) (1.16.0)\r\n"
     ]
    }
   ],
   "source": [
    "!pip install dataretrieval"
   ]
  },
  {
   "cell_type": "markdown",
   "metadata": {
    "collapsed": false
   },
   "source": [
    "Load the package so you can use it along with other packages used in this notebook."
   ]
  },
  {
   "cell_type": "code",
   "execution_count": 2,
   "metadata": {
    "collapsed": false,
    "execution": {
     "iopub.execute_input": "2024-06-30T02:27:43.653556Z",
     "iopub.status.busy": "2024-06-30T02:27:43.653161Z",
     "iopub.status.idle": "2024-06-30T02:27:43.924604Z",
     "shell.execute_reply": "2024-06-30T02:27:43.924051Z"
    },
    "pycharm": {
     "name": "#%%\n"
    }
   },
   "outputs": [],
   "source": [
    "from dataretrieval import nwis\n",
    "from IPython.display import display"
   ]
  },
  {
   "cell_type": "markdown",
   "metadata": {
    "collapsed": false
   },
   "source": [
    "### Basic Usage\n",
    "\n",
    "The dataretrieval package has several functions that allow you to retrieve data from different web services. This examples uses the `get_gwlevels()` function to retrieve groundwater level data from USGS NWIS. The following arguments are supported:\n",
    "\n",
    "Arguments (Additional parameters, if supplied, will be used as query parameters)\n",
    "\n",
    "* **sites** (string or list of strings): A list of USGS site identifiers for which to retrieve data.\n",
    "* **start** (string): The beginning date for a period for which to retrieve data. If the waterdata parameter begin_date is supplied, it will overwrite the start parameter (defaults to '1851-01-01')\n",
    "* **end** (string): The ending date for a period for which to retrieve data. If the waterdata parameter end_date is supplied, it will overwrite the end parameter."
   ]
  },
  {
   "cell_type": "markdown",
   "metadata": {
    "collapsed": false,
    "pycharm": {
     "name": "#%% md\n"
    }
   },
   "source": [
    "Example 1: Get groundwater level data for a single monitoring site."
   ]
  },
  {
   "cell_type": "code",
   "execution_count": 3,
   "metadata": {
    "collapsed": false,
    "execution": {
     "iopub.execute_input": "2024-06-30T02:27:43.927520Z",
     "iopub.status.busy": "2024-06-30T02:27:43.927045Z",
     "iopub.status.idle": "2024-06-30T02:27:44.037924Z",
     "shell.execute_reply": "2024-06-30T02:27:44.037258Z"
    },
    "pycharm": {
     "name": "#%%\n"
    }
   },
   "outputs": [
    {
     "name": "stdout",
     "output_type": "stream",
     "text": [
      "Retrieved 248 data values.\n"
     ]
    },
    {
     "name": "stderr",
     "output_type": "stream",
     "text": [
      "/home/runner/.local/lib/python3.10/site-packages/dataretrieval/utils.py:89: UserWarning: Warning: 189 incomplete dates found, consider setting datetime_index to False.\n",
      "  warnings.warn(\n"
     ]
    }
   ],
   "source": [
    "# Set the parameters needed to retrieve data\n",
    "site_id = \"434400121275801\"\n",
    "\n",
    "# Retrieve the data\n",
    "data = nwis.get_gwlevels(sites=site_id)\n",
    "print(\"Retrieved \" + str(len(data[0])) + \" data values.\")"
   ]
  },
  {
   "cell_type": "markdown",
   "metadata": {
    "collapsed": false
   },
   "source": [
    "### Interpreting the Result\n",
    "\n",
    "The result of calling the `get_gwlevels()` function is an object that contains a Pandas data frame and an associated metadata object. The Pandas data frame contains the data requested. The data frame is indexed by the dates associated with the data values.\n",
    "\n",
    "Once you've got the data frame, there's several useful things you can do to explore the data."
   ]
  },
  {
   "cell_type": "markdown",
   "metadata": {
    "collapsed": false,
    "pycharm": {
     "name": "#%% md\n"
    }
   },
   "source": [
    "Display the data frame as a table"
   ]
  },
  {
   "cell_type": "code",
   "execution_count": 4,
   "metadata": {
    "collapsed": false,
    "execution": {
     "iopub.execute_input": "2024-06-30T02:27:44.040264Z",
     "iopub.status.busy": "2024-06-30T02:27:44.040067Z",
     "iopub.status.idle": "2024-06-30T02:27:44.054702Z",
     "shell.execute_reply": "2024-06-30T02:27:44.054225Z"
    },
    "pycharm": {
     "name": "#%%\n"
    }
   },
   "outputs": [
    {
     "data": {
      "text/html": [
       "<div>\n",
       "<style scoped>\n",
       "    .dataframe tbody tr th:only-of-type {\n",
       "        vertical-align: middle;\n",
       "    }\n",
       "\n",
       "    .dataframe tbody tr th {\n",
       "        vertical-align: top;\n",
       "    }\n",
       "\n",
       "    .dataframe thead th {\n",
       "        text-align: right;\n",
       "    }\n",
       "</style>\n",
       "<table border=\"1\" class=\"dataframe\">\n",
       "  <thead>\n",
       "    <tr style=\"text-align: right;\">\n",
       "      <th></th>\n",
       "      <th>agency_cd</th>\n",
       "      <th>site_no</th>\n",
       "      <th>site_tp_cd</th>\n",
       "      <th>lev_dt</th>\n",
       "      <th>lev_tm</th>\n",
       "      <th>lev_tz_cd</th>\n",
       "      <th>lev_va</th>\n",
       "      <th>sl_lev_va</th>\n",
       "      <th>sl_datum_cd</th>\n",
       "      <th>lev_status_cd</th>\n",
       "      <th>lev_agency_cd</th>\n",
       "      <th>lev_dt_acy_cd</th>\n",
       "      <th>lev_acy_cd</th>\n",
       "      <th>lev_src_cd</th>\n",
       "      <th>lev_meth_cd</th>\n",
       "      <th>lev_age_cd</th>\n",
       "    </tr>\n",
       "    <tr>\n",
       "      <th>datetime</th>\n",
       "      <th></th>\n",
       "      <th></th>\n",
       "      <th></th>\n",
       "      <th></th>\n",
       "      <th></th>\n",
       "      <th></th>\n",
       "      <th></th>\n",
       "      <th></th>\n",
       "      <th></th>\n",
       "      <th></th>\n",
       "      <th></th>\n",
       "      <th></th>\n",
       "      <th></th>\n",
       "      <th></th>\n",
       "      <th></th>\n",
       "      <th></th>\n",
       "    </tr>\n",
       "  </thead>\n",
       "  <tbody>\n",
       "    <tr>\n",
       "      <th>1945-10-12 22:35:00+00:00</th>\n",
       "      <td>USGS</td>\n",
       "      <td>434400121275801</td>\n",
       "      <td>GW</td>\n",
       "      <td>1945-10-12</td>\n",
       "      <td>22:35</td>\n",
       "      <td>+0000</td>\n",
       "      <td>27.35</td>\n",
       "      <td>NaN</td>\n",
       "      <td>NaN</td>\n",
       "      <td>1</td>\n",
       "      <td>USGS</td>\n",
       "      <td>m</td>\n",
       "      <td>2</td>\n",
       "      <td>S</td>\n",
       "      <td>O</td>\n",
       "      <td>A</td>\n",
       "    </tr>\n",
       "    <tr>\n",
       "      <th>1999-06-04 18:00:00+00:00</th>\n",
       "      <td>USGS</td>\n",
       "      <td>434400121275801</td>\n",
       "      <td>GW</td>\n",
       "      <td>1999-06-04</td>\n",
       "      <td>18:00</td>\n",
       "      <td>+0000</td>\n",
       "      <td>16.78</td>\n",
       "      <td>NaN</td>\n",
       "      <td>NaN</td>\n",
       "      <td>1</td>\n",
       "      <td>USGS</td>\n",
       "      <td>m</td>\n",
       "      <td>2</td>\n",
       "      <td>S</td>\n",
       "      <td>S</td>\n",
       "      <td>A</td>\n",
       "    </tr>\n",
       "    <tr>\n",
       "      <th>1999-08-19 17:25:00+00:00</th>\n",
       "      <td>USGS</td>\n",
       "      <td>434400121275801</td>\n",
       "      <td>GW</td>\n",
       "      <td>1999-08-19</td>\n",
       "      <td>17:25</td>\n",
       "      <td>+0000</td>\n",
       "      <td>15.06</td>\n",
       "      <td>NaN</td>\n",
       "      <td>NaN</td>\n",
       "      <td>1</td>\n",
       "      <td>USGS</td>\n",
       "      <td>m</td>\n",
       "      <td>2</td>\n",
       "      <td>S</td>\n",
       "      <td>V</td>\n",
       "      <td>A</td>\n",
       "    </tr>\n",
       "    <tr>\n",
       "      <th>1999-11-19 18:40:00+00:00</th>\n",
       "      <td>USGS</td>\n",
       "      <td>434400121275801</td>\n",
       "      <td>GW</td>\n",
       "      <td>1999-11-19</td>\n",
       "      <td>18:40</td>\n",
       "      <td>+0000</td>\n",
       "      <td>17.62</td>\n",
       "      <td>NaN</td>\n",
       "      <td>NaN</td>\n",
       "      <td>1</td>\n",
       "      <td>USGS</td>\n",
       "      <td>m</td>\n",
       "      <td>2</td>\n",
       "      <td>S</td>\n",
       "      <td>S</td>\n",
       "      <td>A</td>\n",
       "    </tr>\n",
       "    <tr>\n",
       "      <th>2000-02-11 17:25:00+00:00</th>\n",
       "      <td>USGS</td>\n",
       "      <td>434400121275801</td>\n",
       "      <td>GW</td>\n",
       "      <td>2000-02-11</td>\n",
       "      <td>17:25</td>\n",
       "      <td>+0000</td>\n",
       "      <td>21.00</td>\n",
       "      <td>NaN</td>\n",
       "      <td>NaN</td>\n",
       "      <td>1</td>\n",
       "      <td>USGS</td>\n",
       "      <td>m</td>\n",
       "      <td>2</td>\n",
       "      <td>S</td>\n",
       "      <td>S</td>\n",
       "      <td>A</td>\n",
       "    </tr>\n",
       "    <tr>\n",
       "      <th>...</th>\n",
       "      <td>...</td>\n",
       "      <td>...</td>\n",
       "      <td>...</td>\n",
       "      <td>...</td>\n",
       "      <td>...</td>\n",
       "      <td>...</td>\n",
       "      <td>...</td>\n",
       "      <td>...</td>\n",
       "      <td>...</td>\n",
       "      <td>...</td>\n",
       "      <td>...</td>\n",
       "      <td>...</td>\n",
       "      <td>...</td>\n",
       "      <td>...</td>\n",
       "      <td>...</td>\n",
       "      <td>...</td>\n",
       "    </tr>\n",
       "    <tr>\n",
       "      <th>NaT</th>\n",
       "      <td>USGS</td>\n",
       "      <td>434400121275801</td>\n",
       "      <td>GW</td>\n",
       "      <td>1998-09-25</td>\n",
       "      <td>NaN</td>\n",
       "      <td>+0000</td>\n",
       "      <td>17.36</td>\n",
       "      <td>NaN</td>\n",
       "      <td>NaN</td>\n",
       "      <td>1</td>\n",
       "      <td>NaN</td>\n",
       "      <td>D</td>\n",
       "      <td>2</td>\n",
       "      <td>NaN</td>\n",
       "      <td>S</td>\n",
       "      <td>A</td>\n",
       "    </tr>\n",
       "    <tr>\n",
       "      <th>NaT</th>\n",
       "      <td>USGS</td>\n",
       "      <td>434400121275801</td>\n",
       "      <td>GW</td>\n",
       "      <td>1998-11-19</td>\n",
       "      <td>NaN</td>\n",
       "      <td>+0000</td>\n",
       "      <td>19.85</td>\n",
       "      <td>NaN</td>\n",
       "      <td>NaN</td>\n",
       "      <td>1</td>\n",
       "      <td>USGS</td>\n",
       "      <td>D</td>\n",
       "      <td>2</td>\n",
       "      <td>S</td>\n",
       "      <td>S</td>\n",
       "      <td>A</td>\n",
       "    </tr>\n",
       "    <tr>\n",
       "      <th>NaT</th>\n",
       "      <td>USGS</td>\n",
       "      <td>434400121275801</td>\n",
       "      <td>GW</td>\n",
       "      <td>1998-12-15</td>\n",
       "      <td>NaN</td>\n",
       "      <td>+0000</td>\n",
       "      <td>20.33</td>\n",
       "      <td>NaN</td>\n",
       "      <td>NaN</td>\n",
       "      <td>1</td>\n",
       "      <td>USGS</td>\n",
       "      <td>D</td>\n",
       "      <td>2</td>\n",
       "      <td>S</td>\n",
       "      <td>S</td>\n",
       "      <td>A</td>\n",
       "    </tr>\n",
       "    <tr>\n",
       "      <th>NaT</th>\n",
       "      <td>USGS</td>\n",
       "      <td>434400121275801</td>\n",
       "      <td>GW</td>\n",
       "      <td>1999-03-19</td>\n",
       "      <td>NaN</td>\n",
       "      <td>+0000</td>\n",
       "      <td>19.05</td>\n",
       "      <td>NaN</td>\n",
       "      <td>NaN</td>\n",
       "      <td>1</td>\n",
       "      <td>NaN</td>\n",
       "      <td>D</td>\n",
       "      <td>2</td>\n",
       "      <td>NaN</td>\n",
       "      <td>S</td>\n",
       "      <td>A</td>\n",
       "    </tr>\n",
       "    <tr>\n",
       "      <th>NaT</th>\n",
       "      <td>USGS</td>\n",
       "      <td>434400121275801</td>\n",
       "      <td>GW</td>\n",
       "      <td>1999-05-14</td>\n",
       "      <td>NaN</td>\n",
       "      <td>+0000</td>\n",
       "      <td>18.01</td>\n",
       "      <td>NaN</td>\n",
       "      <td>NaN</td>\n",
       "      <td>1</td>\n",
       "      <td>USGS</td>\n",
       "      <td>D</td>\n",
       "      <td>2</td>\n",
       "      <td>S</td>\n",
       "      <td>S</td>\n",
       "      <td>A</td>\n",
       "    </tr>\n",
       "  </tbody>\n",
       "</table>\n",
       "<p>248 rows × 16 columns</p>\n",
       "</div>"
      ],
      "text/plain": [
       "                          agency_cd          site_no site_tp_cd      lev_dt  \\\n",
       "datetime                                                                      \n",
       "1945-10-12 22:35:00+00:00      USGS  434400121275801         GW  1945-10-12   \n",
       "1999-06-04 18:00:00+00:00      USGS  434400121275801         GW  1999-06-04   \n",
       "1999-08-19 17:25:00+00:00      USGS  434400121275801         GW  1999-08-19   \n",
       "1999-11-19 18:40:00+00:00      USGS  434400121275801         GW  1999-11-19   \n",
       "2000-02-11 17:25:00+00:00      USGS  434400121275801         GW  2000-02-11   \n",
       "...                             ...              ...        ...         ...   \n",
       "NaT                            USGS  434400121275801         GW  1998-09-25   \n",
       "NaT                            USGS  434400121275801         GW  1998-11-19   \n",
       "NaT                            USGS  434400121275801         GW  1998-12-15   \n",
       "NaT                            USGS  434400121275801         GW  1999-03-19   \n",
       "NaT                            USGS  434400121275801         GW  1999-05-14   \n",
       "\n",
       "                          lev_tm lev_tz_cd  lev_va  sl_lev_va  sl_datum_cd  \\\n",
       "datetime                                                                     \n",
       "1945-10-12 22:35:00+00:00  22:35     +0000   27.35        NaN          NaN   \n",
       "1999-06-04 18:00:00+00:00  18:00     +0000   16.78        NaN          NaN   \n",
       "1999-08-19 17:25:00+00:00  17:25     +0000   15.06        NaN          NaN   \n",
       "1999-11-19 18:40:00+00:00  18:40     +0000   17.62        NaN          NaN   \n",
       "2000-02-11 17:25:00+00:00  17:25     +0000   21.00        NaN          NaN   \n",
       "...                          ...       ...     ...        ...          ...   \n",
       "NaT                          NaN     +0000   17.36        NaN          NaN   \n",
       "NaT                          NaN     +0000   19.85        NaN          NaN   \n",
       "NaT                          NaN     +0000   20.33        NaN          NaN   \n",
       "NaT                          NaN     +0000   19.05        NaN          NaN   \n",
       "NaT                          NaN     +0000   18.01        NaN          NaN   \n",
       "\n",
       "                          lev_status_cd lev_agency_cd lev_dt_acy_cd  \\\n",
       "datetime                                                              \n",
       "1945-10-12 22:35:00+00:00             1          USGS             m   \n",
       "1999-06-04 18:00:00+00:00             1          USGS             m   \n",
       "1999-08-19 17:25:00+00:00             1          USGS             m   \n",
       "1999-11-19 18:40:00+00:00             1          USGS             m   \n",
       "2000-02-11 17:25:00+00:00             1          USGS             m   \n",
       "...                                 ...           ...           ...   \n",
       "NaT                                   1           NaN             D   \n",
       "NaT                                   1          USGS             D   \n",
       "NaT                                   1          USGS             D   \n",
       "NaT                                   1           NaN             D   \n",
       "NaT                                   1          USGS             D   \n",
       "\n",
       "                           lev_acy_cd lev_src_cd lev_meth_cd lev_age_cd  \n",
       "datetime                                                                 \n",
       "1945-10-12 22:35:00+00:00           2          S           O          A  \n",
       "1999-06-04 18:00:00+00:00           2          S           S          A  \n",
       "1999-08-19 17:25:00+00:00           2          S           V          A  \n",
       "1999-11-19 18:40:00+00:00           2          S           S          A  \n",
       "2000-02-11 17:25:00+00:00           2          S           S          A  \n",
       "...                               ...        ...         ...        ...  \n",
       "NaT                                 2        NaN           S          A  \n",
       "NaT                                 2          S           S          A  \n",
       "NaT                                 2          S           S          A  \n",
       "NaT                                 2        NaN           S          A  \n",
       "NaT                                 2          S           S          A  \n",
       "\n",
       "[248 rows x 16 columns]"
      ]
     },
     "metadata": {},
     "output_type": "display_data"
    }
   ],
   "source": [
    "display(data[0])"
   ]
  },
  {
   "cell_type": "markdown",
   "metadata": {
    "collapsed": false,
    "pycharm": {
     "name": "#%% md\n"
    }
   },
   "source": [
    "Show the data types of the columns in the resulting data frame."
   ]
  },
  {
   "cell_type": "code",
   "execution_count": 5,
   "metadata": {
    "collapsed": false,
    "execution": {
     "iopub.execute_input": "2024-06-30T02:27:44.057024Z",
     "iopub.status.busy": "2024-06-30T02:27:44.056591Z",
     "iopub.status.idle": "2024-06-30T02:27:44.060087Z",
     "shell.execute_reply": "2024-06-30T02:27:44.059499Z"
    },
    "pycharm": {
     "name": "#%%\n"
    }
   },
   "outputs": [
    {
     "name": "stdout",
     "output_type": "stream",
     "text": [
      "agency_cd         object\n",
      "site_no           object\n",
      "site_tp_cd        object\n",
      "lev_dt            object\n",
      "lev_tm            object\n",
      "lev_tz_cd         object\n",
      "lev_va           float64\n",
      "sl_lev_va        float64\n",
      "sl_datum_cd      float64\n",
      "lev_status_cd     object\n",
      "lev_agency_cd     object\n",
      "lev_dt_acy_cd     object\n",
      "lev_acy_cd         int64\n",
      "lev_src_cd        object\n",
      "lev_meth_cd       object\n",
      "lev_age_cd        object\n",
      "dtype: object\n"
     ]
    }
   ],
   "source": [
    "print(data[0].dtypes)"
   ]
  },
  {
   "cell_type": "markdown",
   "metadata": {
    "collapsed": false,
    "pycharm": {
     "name": "#%% md\n"
    }
   },
   "source": [
    "Get summary statistics for the daily streamflow values."
   ]
  },
  {
   "cell_type": "code",
   "execution_count": 6,
   "metadata": {
    "collapsed": false,
    "execution": {
     "iopub.execute_input": "2024-06-30T02:27:44.062271Z",
     "iopub.status.busy": "2024-06-30T02:27:44.061919Z",
     "iopub.status.idle": "2024-06-30T02:27:44.067587Z",
     "shell.execute_reply": "2024-06-30T02:27:44.066985Z"
    },
    "pycharm": {
     "name": "#%%\n"
    }
   },
   "outputs": [
    {
     "data": {
      "text/plain": [
       "count    248.000000\n",
       "mean      23.690605\n",
       "std        5.265540\n",
       "min       10.900000\n",
       "25%       20.127500\n",
       "50%       24.495000\n",
       "75%       27.375000\n",
       "max       41.630000\n",
       "Name: lev_va, dtype: float64"
      ]
     },
     "execution_count": 6,
     "metadata": {},
     "output_type": "execute_result"
    }
   ],
   "source": [
    "data[0]['lev_va'].describe()"
   ]
  },
  {
   "cell_type": "markdown",
   "metadata": {
    "collapsed": false,
    "pycharm": {
     "name": "#%% md\n"
    }
   },
   "source": [
    "Make a quick time series plot."
   ]
  },
  {
   "cell_type": "code",
   "execution_count": 7,
   "metadata": {
    "collapsed": false,
    "execution": {
     "iopub.execute_input": "2024-06-30T02:27:44.069991Z",
     "iopub.status.busy": "2024-06-30T02:27:44.069587Z",
     "iopub.status.idle": "2024-06-30T02:27:45.735572Z",
     "shell.execute_reply": "2024-06-30T02:27:45.734753Z"
    },
    "pycharm": {
     "name": "#%%\n"
    }
   },
   "outputs": [
    {
     "ename": "ConversionError",
     "evalue": "Failed to convert value(s) to axis units: array([Timestamp('1945-10-12 22:35:00+0000', tz='UTC'),\n       Timestamp('1999-06-04 18:00:00+0000', tz='UTC'),\n       Timestamp('1999-08-19 17:25:00+0000', tz='UTC'),\n       Timestamp('1999-11-19 18:40:00+0000', tz='UTC'),\n       Timestamp('2000-02-11 17:25:00+0000', tz='UTC'),\n       Timestamp('2000-03-09 22:30:00+0000', tz='UTC'),\n       Timestamp('2000-05-26 16:00:00+0000', tz='UTC'),\n       Timestamp('2000-08-22 21:55:00+0000', tz='UTC'),\n       Timestamp('2000-11-15 21:59:00+0000', tz='UTC'),\n       Timestamp('2001-03-21 00:03:00+0000', tz='UTC'),\n       Timestamp('2001-05-05 01:10:00+0000', tz='UTC'),\n       Timestamp('2001-05-30 20:13:00+0000', tz='UTC'),\n       Timestamp('2001-07-18 17:15:00+0000', tz='UTC'),\n       Timestamp('2001-08-30 15:34:00+0000', tz='UTC'),\n       Timestamp('2001-09-26 15:49:00+0000', tz='UTC'),\n       Timestamp('2001-10-30 23:09:00+0000', tz='UTC'),\n       Timestamp('2001-11-29 18:00:00+0000', tz='UTC'),\n       Timestamp('2001-12-27 22:33:00+0000', tz='UTC'),\n       Timestamp('2002-01-28 22:09:00+0000', tz='UTC'),\n       Timestamp('2002-02-25 22:50:00+0000', tz='UTC'),\n       Timestamp('2002-03-25 22:01:00+0000', tz='UTC'),\n       Timestamp('2002-04-30 16:50:00+0000', tz='UTC'),\n       Timestamp('2002-05-30 22:05:00+0000', tz='UTC'),\n       Timestamp('2002-08-14 18:24:00+0000', tz='UTC'),\n       Timestamp('2002-09-12 15:41:00+0000', tz='UTC'),\n       Timestamp('2002-11-13 22:45:00+0000', tz='UTC'),\n       Timestamp('2003-02-11 22:57:00+0000', tz='UTC'),\n       Timestamp('2003-05-13 21:23:00+0000', tz='UTC'),\n       Timestamp('2003-09-09 23:29:00+0000', tz='UTC'),\n       Timestamp('2003-12-01 22:59:00+0000', tz='UTC'),\n       Timestamp('2004-01-18 22:42:00+0000', tz='UTC'),\n       Timestamp('2004-04-30 19:46:00+0000', tz='UTC'),\n       Timestamp('2004-07-15 17:53:00+0000', tz='UTC'),\n       Timestamp('2004-10-15 17:38:00+0000', tz='UTC'),\n       Timestamp('2005-01-07 18:24:00+0000', tz='UTC'),\n       Timestamp('2005-04-08 17:13:00+0000', tz='UTC'),\n       Timestamp('2005-07-15 16:47:00+0000', tz='UTC'),\n       Timestamp('2005-10-07 17:52:00+0000', tz='UTC'),\n       Timestamp('2006-01-13 19:23:00+0000', tz='UTC'),\n       Timestamp('2006-05-26 14:16:00+0000', tz='UTC'),\n       Timestamp('2006-07-14 18:22:00+0000', tz='UTC'),\n       Timestamp('2006-10-19 23:15:00+0000', tz='UTC'),\n       Timestamp('2007-01-12 19:10:00+0000', tz='UTC'),\n       Timestamp('2007-04-06 15:34:00+0000', tz='UTC'),\n       Timestamp('2007-10-04 23:40:00+0000', tz='UTC'),\n       Timestamp('2008-04-03 21:55:00+0000', tz='UTC'),\n       Timestamp('2008-10-29 21:33:00+0000', tz='UTC'),\n       Timestamp('2009-05-20 18:29:00+0000', tz='UTC'),\n       Timestamp('2009-06-09 16:33:00+0000', tz='UTC'),\n       Timestamp('2009-11-25 17:33:00+0000', tz='UTC'),\n       Timestamp('2010-05-28 16:50:00+0000', tz='UTC'),\n       Timestamp('2010-11-29 23:20:00+0000', tz='UTC'),\n       Timestamp('2011-10-07 18:58:00+0000', tz='UTC'),\n       Timestamp('2012-10-11 21:24:00+0000', tz='UTC'),\n       Timestamp('2012-10-12 01:49:00+0000', tz='UTC'),\n       Timestamp('2013-10-31 17:42:00+0000', tz='UTC'),\n       Timestamp('2014-10-15 21:07:00+0000', tz='UTC'),\n       Timestamp('2015-10-22 17:52:00+0000', tz='UTC'),\n       Timestamp('2016-10-26 16:22:00+0000', tz='UTC'), NaT, NaT, NaT,\n       NaT, NaT, NaT, NaT, NaT, NaT, NaT, NaT, NaT, NaT, NaT, NaT, NaT,\n       NaT, NaT, NaT, NaT, NaT, NaT, NaT, NaT, NaT, NaT, NaT, NaT, NaT,\n       NaT, NaT, NaT, NaT, NaT, NaT, NaT, NaT, NaT, NaT, NaT, NaT, NaT,\n       NaT, NaT, NaT, NaT, NaT, NaT, NaT, NaT, NaT, NaT, NaT, NaT, NaT,\n       NaT, NaT, NaT, NaT, NaT, NaT, NaT, NaT, NaT, NaT, NaT, NaT, NaT,\n       NaT, NaT, NaT, NaT, NaT, NaT, NaT, NaT, NaT, NaT, NaT, NaT, NaT,\n       NaT, NaT, NaT, NaT, NaT, NaT, NaT, NaT, NaT, NaT, NaT, NaT, NaT,\n       NaT, NaT, NaT, NaT, NaT, NaT, NaT, NaT, NaT, NaT, NaT, NaT, NaT,\n       NaT, NaT, NaT, NaT, NaT, NaT, NaT, NaT, NaT, NaT, NaT, NaT, NaT,\n       NaT, NaT, NaT, NaT, NaT, NaT, NaT, NaT, NaT, NaT, NaT, NaT, NaT,\n       NaT, NaT, NaT, NaT, NaT, NaT, NaT, NaT, NaT, NaT, NaT, NaT, NaT,\n       NaT, NaT, NaT, NaT, NaT, NaT, NaT, NaT, NaT, NaT, NaT, NaT, NaT,\n       NaT, NaT, NaT, NaT, NaT, NaT, NaT, NaT, NaT, NaT, NaT, NaT, NaT,\n       NaT, NaT, NaT, NaT, NaT, NaT, NaT, NaT, NaT, NaT, NaT, NaT, NaT,\n       NaT, NaT, NaT, NaT], dtype=object)",
     "output_type": "error",
     "traceback": [
      "\u001b[0;31m---------------------------------------------------------------------------\u001b[0m",
      "\u001b[0;31mValueError\u001b[0m                                Traceback (most recent call last)",
      "File \u001b[0;32m~/.local/lib/python3.10/site-packages/matplotlib/axis.py:1804\u001b[0m, in \u001b[0;36mAxis.convert_units\u001b[0;34m(self, x)\u001b[0m\n\u001b[1;32m   1803\u001b[0m \u001b[38;5;28;01mtry\u001b[39;00m:\n\u001b[0;32m-> 1804\u001b[0m     ret \u001b[38;5;241m=\u001b[39m \u001b[38;5;28;43mself\u001b[39;49m\u001b[38;5;241;43m.\u001b[39;49m\u001b[43mconverter\u001b[49m\u001b[38;5;241;43m.\u001b[39;49m\u001b[43mconvert\u001b[49m\u001b[43m(\u001b[49m\u001b[43mx\u001b[49m\u001b[43m,\u001b[49m\u001b[43m \u001b[49m\u001b[38;5;28;43mself\u001b[39;49m\u001b[38;5;241;43m.\u001b[39;49m\u001b[43munits\u001b[49m\u001b[43m,\u001b[49m\u001b[43m \u001b[49m\u001b[38;5;28;43mself\u001b[39;49m\u001b[43m)\u001b[49m\n\u001b[1;32m   1805\u001b[0m \u001b[38;5;28;01mexcept\u001b[39;00m \u001b[38;5;167;01mException\u001b[39;00m \u001b[38;5;28;01mas\u001b[39;00m e:\n",
      "File \u001b[0;32m~/.local/lib/python3.10/site-packages/pandas/plotting/_matplotlib/converter.py:295\u001b[0m, in \u001b[0;36mDatetimeConverter.convert\u001b[0;34m(values, unit, axis)\u001b[0m\n\u001b[1;32m    294\u001b[0m \u001b[38;5;28;01melse\u001b[39;00m:\n\u001b[0;32m--> 295\u001b[0m     values \u001b[38;5;241m=\u001b[39m \u001b[43mDatetimeConverter\u001b[49m\u001b[38;5;241;43m.\u001b[39;49m\u001b[43m_convert_1d\u001b[49m\u001b[43m(\u001b[49m\u001b[43mvalues\u001b[49m\u001b[43m,\u001b[49m\u001b[43m \u001b[49m\u001b[43munit\u001b[49m\u001b[43m,\u001b[49m\u001b[43m \u001b[49m\u001b[43maxis\u001b[49m\u001b[43m)\u001b[49m\n\u001b[1;32m    296\u001b[0m \u001b[38;5;28;01mreturn\u001b[39;00m values\n",
      "File \u001b[0;32m~/.local/lib/python3.10/site-packages/pandas/plotting/_matplotlib/converter.py:330\u001b[0m, in \u001b[0;36mDatetimeConverter._convert_1d\u001b[0;34m(values, unit, axis)\u001b[0m\n\u001b[1;32m    328\u001b[0m         \u001b[38;5;28;01mpass\u001b[39;00m\n\u001b[0;32m--> 330\u001b[0m     values \u001b[38;5;241m=\u001b[39m \u001b[43mmdates\u001b[49m\u001b[38;5;241;43m.\u001b[39;49m\u001b[43mdate2num\u001b[49m\u001b[43m(\u001b[49m\u001b[43mvalues\u001b[49m\u001b[43m)\u001b[49m\n\u001b[1;32m    332\u001b[0m \u001b[38;5;28;01mreturn\u001b[39;00m values\n",
      "File \u001b[0;32m~/.local/lib/python3.10/site-packages/matplotlib/dates.py:447\u001b[0m, in \u001b[0;36mdate2num\u001b[0;34m(d)\u001b[0m\n\u001b[1;32m    445\u001b[0m \u001b[38;5;28;01mif\u001b[39;00m tzi \u001b[38;5;129;01mis\u001b[39;00m \u001b[38;5;129;01mnot\u001b[39;00m \u001b[38;5;28;01mNone\u001b[39;00m:\n\u001b[1;32m    446\u001b[0m     \u001b[38;5;66;03m# make datetime naive:\u001b[39;00m\n\u001b[0;32m--> 447\u001b[0m     d \u001b[38;5;241m=\u001b[39m [dt\u001b[38;5;241m.\u001b[39mastimezone(UTC)\u001b[38;5;241m.\u001b[39mreplace(tzinfo\u001b[38;5;241m=\u001b[39m\u001b[38;5;28;01mNone\u001b[39;00m) \u001b[38;5;28;01mfor\u001b[39;00m dt \u001b[38;5;129;01min\u001b[39;00m d]\n\u001b[1;32m    448\u001b[0m     d \u001b[38;5;241m=\u001b[39m np\u001b[38;5;241m.\u001b[39masarray(d)\n",
      "File \u001b[0;32m~/.local/lib/python3.10/site-packages/matplotlib/dates.py:447\u001b[0m, in \u001b[0;36m<listcomp>\u001b[0;34m(.0)\u001b[0m\n\u001b[1;32m    445\u001b[0m \u001b[38;5;28;01mif\u001b[39;00m tzi \u001b[38;5;129;01mis\u001b[39;00m \u001b[38;5;129;01mnot\u001b[39;00m \u001b[38;5;28;01mNone\u001b[39;00m:\n\u001b[1;32m    446\u001b[0m     \u001b[38;5;66;03m# make datetime naive:\u001b[39;00m\n\u001b[0;32m--> 447\u001b[0m     d \u001b[38;5;241m=\u001b[39m [\u001b[43mdt\u001b[49m\u001b[38;5;241;43m.\u001b[39;49m\u001b[43mastimezone\u001b[49m\u001b[43m(\u001b[49m\u001b[43mUTC\u001b[49m\u001b[43m)\u001b[49m\u001b[38;5;241m.\u001b[39mreplace(tzinfo\u001b[38;5;241m=\u001b[39m\u001b[38;5;28;01mNone\u001b[39;00m) \u001b[38;5;28;01mfor\u001b[39;00m dt \u001b[38;5;129;01min\u001b[39;00m d]\n\u001b[1;32m    448\u001b[0m     d \u001b[38;5;241m=\u001b[39m np\u001b[38;5;241m.\u001b[39masarray(d)\n",
      "File \u001b[0;32mnattype.pyx:54\u001b[0m, in \u001b[0;36mpandas._libs.tslibs.nattype._make_error_func.f\u001b[0;34m()\u001b[0m\n",
      "\u001b[0;31mValueError\u001b[0m: NaTType does not support astimezone",
      "\nThe above exception was the direct cause of the following exception:\n",
      "\u001b[0;31mConversionError\u001b[0m                           Traceback (most recent call last)",
      "Cell \u001b[0;32mIn[7], line 1\u001b[0m\n\u001b[0;32m----> 1\u001b[0m ax \u001b[38;5;241m=\u001b[39m \u001b[43mdata\u001b[49m\u001b[43m[\u001b[49m\u001b[38;5;241;43m0\u001b[39;49m\u001b[43m]\u001b[49m\u001b[38;5;241;43m.\u001b[39;49m\u001b[43mplot\u001b[49m\u001b[43m(\u001b[49m\u001b[43my\u001b[49m\u001b[38;5;241;43m=\u001b[39;49m\u001b[38;5;124;43m'\u001b[39;49m\u001b[38;5;124;43mlev_va\u001b[39;49m\u001b[38;5;124;43m'\u001b[39;49m\u001b[43m)\u001b[49m\n\u001b[1;32m      2\u001b[0m ax\u001b[38;5;241m.\u001b[39mset_xlabel(\u001b[38;5;124m'\u001b[39m\u001b[38;5;124mDate\u001b[39m\u001b[38;5;124m'\u001b[39m)\n\u001b[1;32m      3\u001b[0m ax\u001b[38;5;241m.\u001b[39mset_ylabel(\u001b[38;5;124m'\u001b[39m\u001b[38;5;124mWater Level (feet below land surface)\u001b[39m\u001b[38;5;124m'\u001b[39m)\n",
      "File \u001b[0;32m~/.local/lib/python3.10/site-packages/pandas/plotting/_core.py:1030\u001b[0m, in \u001b[0;36mPlotAccessor.__call__\u001b[0;34m(self, *args, **kwargs)\u001b[0m\n\u001b[1;32m   1027\u001b[0m             label_name \u001b[38;5;241m=\u001b[39m label_kw \u001b[38;5;129;01mor\u001b[39;00m data\u001b[38;5;241m.\u001b[39mcolumns\n\u001b[1;32m   1028\u001b[0m             data\u001b[38;5;241m.\u001b[39mcolumns \u001b[38;5;241m=\u001b[39m label_name\n\u001b[0;32m-> 1030\u001b[0m \u001b[38;5;28;01mreturn\u001b[39;00m \u001b[43mplot_backend\u001b[49m\u001b[38;5;241;43m.\u001b[39;49m\u001b[43mplot\u001b[49m\u001b[43m(\u001b[49m\u001b[43mdata\u001b[49m\u001b[43m,\u001b[49m\u001b[43m \u001b[49m\u001b[43mkind\u001b[49m\u001b[38;5;241;43m=\u001b[39;49m\u001b[43mkind\u001b[49m\u001b[43m,\u001b[49m\u001b[43m \u001b[49m\u001b[38;5;241;43m*\u001b[39;49m\u001b[38;5;241;43m*\u001b[39;49m\u001b[43mkwargs\u001b[49m\u001b[43m)\u001b[49m\n",
      "File \u001b[0;32m~/.local/lib/python3.10/site-packages/pandas/plotting/_matplotlib/__init__.py:71\u001b[0m, in \u001b[0;36mplot\u001b[0;34m(data, kind, **kwargs)\u001b[0m\n\u001b[1;32m     69\u001b[0m         kwargs[\u001b[38;5;124m\"\u001b[39m\u001b[38;5;124max\u001b[39m\u001b[38;5;124m\"\u001b[39m] \u001b[38;5;241m=\u001b[39m \u001b[38;5;28mgetattr\u001b[39m(ax, \u001b[38;5;124m\"\u001b[39m\u001b[38;5;124mleft_ax\u001b[39m\u001b[38;5;124m\"\u001b[39m, ax)\n\u001b[1;32m     70\u001b[0m plot_obj \u001b[38;5;241m=\u001b[39m PLOT_CLASSES[kind](data, \u001b[38;5;241m*\u001b[39m\u001b[38;5;241m*\u001b[39mkwargs)\n\u001b[0;32m---> 71\u001b[0m \u001b[43mplot_obj\u001b[49m\u001b[38;5;241;43m.\u001b[39;49m\u001b[43mgenerate\u001b[49m\u001b[43m(\u001b[49m\u001b[43m)\u001b[49m\n\u001b[1;32m     72\u001b[0m plot_obj\u001b[38;5;241m.\u001b[39mdraw()\n\u001b[1;32m     73\u001b[0m \u001b[38;5;28;01mreturn\u001b[39;00m plot_obj\u001b[38;5;241m.\u001b[39mresult\n",
      "File \u001b[0;32m~/.local/lib/python3.10/site-packages/pandas/plotting/_matplotlib/core.py:501\u001b[0m, in \u001b[0;36mMPLPlot.generate\u001b[0;34m(self)\u001b[0m\n\u001b[1;32m    499\u001b[0m \u001b[38;5;28mself\u001b[39m\u001b[38;5;241m.\u001b[39m_compute_plot_data()\n\u001b[1;32m    500\u001b[0m fig \u001b[38;5;241m=\u001b[39m \u001b[38;5;28mself\u001b[39m\u001b[38;5;241m.\u001b[39mfig\n\u001b[0;32m--> 501\u001b[0m \u001b[38;5;28;43mself\u001b[39;49m\u001b[38;5;241;43m.\u001b[39;49m\u001b[43m_make_plot\u001b[49m\u001b[43m(\u001b[49m\u001b[43mfig\u001b[49m\u001b[43m)\u001b[49m\n\u001b[1;32m    502\u001b[0m \u001b[38;5;28mself\u001b[39m\u001b[38;5;241m.\u001b[39m_add_table()\n\u001b[1;32m    503\u001b[0m \u001b[38;5;28mself\u001b[39m\u001b[38;5;241m.\u001b[39m_make_legend()\n",
      "File \u001b[0;32m~/.local/lib/python3.10/site-packages/pandas/plotting/_matplotlib/core.py:1544\u001b[0m, in \u001b[0;36mLinePlot._make_plot\u001b[0;34m(self, fig)\u001b[0m\n\u001b[1;32m   1541\u001b[0m label \u001b[38;5;241m=\u001b[39m \u001b[38;5;28mself\u001b[39m\u001b[38;5;241m.\u001b[39m_mark_right_label(label, index\u001b[38;5;241m=\u001b[39mi)\n\u001b[1;32m   1542\u001b[0m kwds[\u001b[38;5;124m\"\u001b[39m\u001b[38;5;124mlabel\u001b[39m\u001b[38;5;124m\"\u001b[39m] \u001b[38;5;241m=\u001b[39m label\n\u001b[0;32m-> 1544\u001b[0m newlines \u001b[38;5;241m=\u001b[39m \u001b[43mplotf\u001b[49m\u001b[43m(\u001b[49m\n\u001b[1;32m   1545\u001b[0m \u001b[43m    \u001b[49m\u001b[43max\u001b[49m\u001b[43m,\u001b[49m\n\u001b[1;32m   1546\u001b[0m \u001b[43m    \u001b[49m\u001b[43mx\u001b[49m\u001b[43m,\u001b[49m\n\u001b[1;32m   1547\u001b[0m \u001b[43m    \u001b[49m\u001b[43my\u001b[49m\u001b[43m,\u001b[49m\n\u001b[1;32m   1548\u001b[0m \u001b[43m    \u001b[49m\u001b[43mstyle\u001b[49m\u001b[38;5;241;43m=\u001b[39;49m\u001b[43mstyle\u001b[49m\u001b[43m,\u001b[49m\n\u001b[1;32m   1549\u001b[0m \u001b[43m    \u001b[49m\u001b[43mcolumn_num\u001b[49m\u001b[38;5;241;43m=\u001b[39;49m\u001b[43mi\u001b[49m\u001b[43m,\u001b[49m\n\u001b[1;32m   1550\u001b[0m \u001b[43m    \u001b[49m\u001b[43mstacking_id\u001b[49m\u001b[38;5;241;43m=\u001b[39;49m\u001b[43mstacking_id\u001b[49m\u001b[43m,\u001b[49m\n\u001b[1;32m   1551\u001b[0m \u001b[43m    \u001b[49m\u001b[43mis_errorbar\u001b[49m\u001b[38;5;241;43m=\u001b[39;49m\u001b[43mis_errorbar\u001b[49m\u001b[43m,\u001b[49m\n\u001b[1;32m   1552\u001b[0m \u001b[43m    \u001b[49m\u001b[38;5;241;43m*\u001b[39;49m\u001b[38;5;241;43m*\u001b[39;49m\u001b[43mkwds\u001b[49m\u001b[43m,\u001b[49m\n\u001b[1;32m   1553\u001b[0m \u001b[43m\u001b[49m\u001b[43m)\u001b[49m\n\u001b[1;32m   1554\u001b[0m \u001b[38;5;28mself\u001b[39m\u001b[38;5;241m.\u001b[39m_append_legend_handles_labels(newlines[\u001b[38;5;241m0\u001b[39m], label)\n\u001b[1;32m   1556\u001b[0m \u001b[38;5;28;01mif\u001b[39;00m \u001b[38;5;28mself\u001b[39m\u001b[38;5;241m.\u001b[39m_is_ts_plot():\n\u001b[1;32m   1557\u001b[0m     \u001b[38;5;66;03m# reset of xlim should be used for ts data\u001b[39;00m\n\u001b[1;32m   1558\u001b[0m     \u001b[38;5;66;03m# TODO: GH28021, should find a way to change view limit on xaxis\u001b[39;00m\n",
      "File \u001b[0;32m~/.local/lib/python3.10/site-packages/pandas/plotting/_matplotlib/core.py:1580\u001b[0m, in \u001b[0;36mLinePlot._plot\u001b[0;34m(cls, ax, x, y, style, column_num, stacking_id, **kwds)\u001b[0m\n\u001b[1;32m   1578\u001b[0m     \u001b[38;5;28mcls\u001b[39m\u001b[38;5;241m.\u001b[39m_initialize_stacker(ax, stacking_id, \u001b[38;5;28mlen\u001b[39m(y))\n\u001b[1;32m   1579\u001b[0m y_values \u001b[38;5;241m=\u001b[39m \u001b[38;5;28mcls\u001b[39m\u001b[38;5;241m.\u001b[39m_get_stacked_values(ax, stacking_id, y, kwds[\u001b[38;5;124m\"\u001b[39m\u001b[38;5;124mlabel\u001b[39m\u001b[38;5;124m\"\u001b[39m])\n\u001b[0;32m-> 1580\u001b[0m lines \u001b[38;5;241m=\u001b[39m \u001b[43mMPLPlot\u001b[49m\u001b[38;5;241;43m.\u001b[39;49m\u001b[43m_plot\u001b[49m\u001b[43m(\u001b[49m\u001b[43max\u001b[49m\u001b[43m,\u001b[49m\u001b[43m \u001b[49m\u001b[43mx\u001b[49m\u001b[43m,\u001b[49m\u001b[43m \u001b[49m\u001b[43my_values\u001b[49m\u001b[43m,\u001b[49m\u001b[43m \u001b[49m\u001b[43mstyle\u001b[49m\u001b[38;5;241;43m=\u001b[39;49m\u001b[43mstyle\u001b[49m\u001b[43m,\u001b[49m\u001b[43m \u001b[49m\u001b[38;5;241;43m*\u001b[39;49m\u001b[38;5;241;43m*\u001b[39;49m\u001b[43mkwds\u001b[49m\u001b[43m)\u001b[49m\n\u001b[1;32m   1581\u001b[0m \u001b[38;5;28mcls\u001b[39m\u001b[38;5;241m.\u001b[39m_update_stacker(ax, stacking_id, y)\n\u001b[1;32m   1582\u001b[0m \u001b[38;5;28;01mreturn\u001b[39;00m lines\n",
      "File \u001b[0;32m~/.local/lib/python3.10/site-packages/pandas/plotting/_matplotlib/converter.py:95\u001b[0m, in \u001b[0;36mregister_pandas_matplotlib_converters.<locals>.wrapper\u001b[0;34m(*args, **kwargs)\u001b[0m\n\u001b[1;32m     92\u001b[0m \u001b[38;5;129m@functools\u001b[39m\u001b[38;5;241m.\u001b[39mwraps(func)\n\u001b[1;32m     93\u001b[0m \u001b[38;5;28;01mdef\u001b[39;00m \u001b[38;5;21mwrapper\u001b[39m(\u001b[38;5;241m*\u001b[39margs, \u001b[38;5;241m*\u001b[39m\u001b[38;5;241m*\u001b[39mkwargs):\n\u001b[1;32m     94\u001b[0m     \u001b[38;5;28;01mwith\u001b[39;00m pandas_converters():\n\u001b[0;32m---> 95\u001b[0m         \u001b[38;5;28;01mreturn\u001b[39;00m \u001b[43mfunc\u001b[49m\u001b[43m(\u001b[49m\u001b[38;5;241;43m*\u001b[39;49m\u001b[43margs\u001b[49m\u001b[43m,\u001b[49m\u001b[43m \u001b[49m\u001b[38;5;241;43m*\u001b[39;49m\u001b[38;5;241;43m*\u001b[39;49m\u001b[43mkwargs\u001b[49m\u001b[43m)\u001b[49m\n",
      "File \u001b[0;32m~/.local/lib/python3.10/site-packages/pandas/plotting/_matplotlib/core.py:975\u001b[0m, in \u001b[0;36mMPLPlot._plot\u001b[0;34m(cls, ax, x, y, style, is_errorbar, **kwds)\u001b[0m\n\u001b[1;32m    972\u001b[0m \u001b[38;5;28;01melse\u001b[39;00m:\n\u001b[1;32m    973\u001b[0m     \u001b[38;5;66;03m# prevent style kwarg from going to errorbar, where it is unsupported\u001b[39;00m\n\u001b[1;32m    974\u001b[0m     args \u001b[38;5;241m=\u001b[39m (x, y, style) \u001b[38;5;28;01mif\u001b[39;00m style \u001b[38;5;129;01mis\u001b[39;00m \u001b[38;5;129;01mnot\u001b[39;00m \u001b[38;5;28;01mNone\u001b[39;00m \u001b[38;5;28;01melse\u001b[39;00m (x, y)\n\u001b[0;32m--> 975\u001b[0m     \u001b[38;5;28;01mreturn\u001b[39;00m \u001b[43max\u001b[49m\u001b[38;5;241;43m.\u001b[39;49m\u001b[43mplot\u001b[49m\u001b[43m(\u001b[49m\u001b[38;5;241;43m*\u001b[39;49m\u001b[43margs\u001b[49m\u001b[43m,\u001b[49m\u001b[43m \u001b[49m\u001b[38;5;241;43m*\u001b[39;49m\u001b[38;5;241;43m*\u001b[39;49m\u001b[43mkwds\u001b[49m\u001b[43m)\u001b[49m\n",
      "File \u001b[0;32m~/.local/lib/python3.10/site-packages/matplotlib/axes/_axes.py:1781\u001b[0m, in \u001b[0;36mAxes.plot\u001b[0;34m(self, scalex, scaley, data, *args, **kwargs)\u001b[0m\n\u001b[1;32m   1779\u001b[0m lines \u001b[38;5;241m=\u001b[39m [\u001b[38;5;241m*\u001b[39m\u001b[38;5;28mself\u001b[39m\u001b[38;5;241m.\u001b[39m_get_lines(\u001b[38;5;28mself\u001b[39m, \u001b[38;5;241m*\u001b[39margs, data\u001b[38;5;241m=\u001b[39mdata, \u001b[38;5;241m*\u001b[39m\u001b[38;5;241m*\u001b[39mkwargs)]\n\u001b[1;32m   1780\u001b[0m \u001b[38;5;28;01mfor\u001b[39;00m line \u001b[38;5;129;01min\u001b[39;00m lines:\n\u001b[0;32m-> 1781\u001b[0m     \u001b[38;5;28;43mself\u001b[39;49m\u001b[38;5;241;43m.\u001b[39;49m\u001b[43madd_line\u001b[49m\u001b[43m(\u001b[49m\u001b[43mline\u001b[49m\u001b[43m)\u001b[49m\n\u001b[1;32m   1782\u001b[0m \u001b[38;5;28;01mif\u001b[39;00m scalex:\n\u001b[1;32m   1783\u001b[0m     \u001b[38;5;28mself\u001b[39m\u001b[38;5;241m.\u001b[39m_request_autoscale_view(\u001b[38;5;124m\"\u001b[39m\u001b[38;5;124mx\u001b[39m\u001b[38;5;124m\"\u001b[39m)\n",
      "File \u001b[0;32m~/.local/lib/python3.10/site-packages/matplotlib/axes/_base.py:2311\u001b[0m, in \u001b[0;36m_AxesBase.add_line\u001b[0;34m(self, line)\u001b[0m\n\u001b[1;32m   2308\u001b[0m \u001b[38;5;28;01mif\u001b[39;00m line\u001b[38;5;241m.\u001b[39mget_clip_path() \u001b[38;5;129;01mis\u001b[39;00m \u001b[38;5;28;01mNone\u001b[39;00m:\n\u001b[1;32m   2309\u001b[0m     line\u001b[38;5;241m.\u001b[39mset_clip_path(\u001b[38;5;28mself\u001b[39m\u001b[38;5;241m.\u001b[39mpatch)\n\u001b[0;32m-> 2311\u001b[0m \u001b[38;5;28;43mself\u001b[39;49m\u001b[38;5;241;43m.\u001b[39;49m\u001b[43m_update_line_limits\u001b[49m\u001b[43m(\u001b[49m\u001b[43mline\u001b[49m\u001b[43m)\u001b[49m\n\u001b[1;32m   2312\u001b[0m \u001b[38;5;28;01mif\u001b[39;00m \u001b[38;5;129;01mnot\u001b[39;00m line\u001b[38;5;241m.\u001b[39mget_label():\n\u001b[1;32m   2313\u001b[0m     line\u001b[38;5;241m.\u001b[39mset_label(\u001b[38;5;124mf\u001b[39m\u001b[38;5;124m'\u001b[39m\u001b[38;5;124m_child\u001b[39m\u001b[38;5;132;01m{\u001b[39;00m\u001b[38;5;28mlen\u001b[39m(\u001b[38;5;28mself\u001b[39m\u001b[38;5;241m.\u001b[39m_children)\u001b[38;5;132;01m}\u001b[39;00m\u001b[38;5;124m'\u001b[39m)\n",
      "File \u001b[0;32m~/.local/lib/python3.10/site-packages/matplotlib/axes/_base.py:2334\u001b[0m, in \u001b[0;36m_AxesBase._update_line_limits\u001b[0;34m(self, line)\u001b[0m\n\u001b[1;32m   2330\u001b[0m \u001b[38;5;28;01mdef\u001b[39;00m \u001b[38;5;21m_update_line_limits\u001b[39m(\u001b[38;5;28mself\u001b[39m, line):\n\u001b[1;32m   2331\u001b[0m \u001b[38;5;250m    \u001b[39m\u001b[38;5;124;03m\"\"\"\u001b[39;00m\n\u001b[1;32m   2332\u001b[0m \u001b[38;5;124;03m    Figures out the data limit of the given line, updating self.dataLim.\u001b[39;00m\n\u001b[1;32m   2333\u001b[0m \u001b[38;5;124;03m    \"\"\"\u001b[39;00m\n\u001b[0;32m-> 2334\u001b[0m     path \u001b[38;5;241m=\u001b[39m \u001b[43mline\u001b[49m\u001b[38;5;241;43m.\u001b[39;49m\u001b[43mget_path\u001b[49m\u001b[43m(\u001b[49m\u001b[43m)\u001b[49m\n\u001b[1;32m   2335\u001b[0m     \u001b[38;5;28;01mif\u001b[39;00m path\u001b[38;5;241m.\u001b[39mvertices\u001b[38;5;241m.\u001b[39msize \u001b[38;5;241m==\u001b[39m \u001b[38;5;241m0\u001b[39m:\n\u001b[1;32m   2336\u001b[0m         \u001b[38;5;28;01mreturn\u001b[39;00m\n",
      "File \u001b[0;32m~/.local/lib/python3.10/site-packages/matplotlib/lines.py:1037\u001b[0m, in \u001b[0;36mLine2D.get_path\u001b[0;34m(self)\u001b[0m\n\u001b[1;32m   1035\u001b[0m \u001b[38;5;250m\u001b[39m\u001b[38;5;124;03m\"\"\"Return the `~matplotlib.path.Path` associated with this line.\"\"\"\u001b[39;00m\n\u001b[1;32m   1036\u001b[0m \u001b[38;5;28;01mif\u001b[39;00m \u001b[38;5;28mself\u001b[39m\u001b[38;5;241m.\u001b[39m_invalidy \u001b[38;5;129;01mor\u001b[39;00m \u001b[38;5;28mself\u001b[39m\u001b[38;5;241m.\u001b[39m_invalidx:\n\u001b[0;32m-> 1037\u001b[0m     \u001b[38;5;28;43mself\u001b[39;49m\u001b[38;5;241;43m.\u001b[39;49m\u001b[43mrecache\u001b[49m\u001b[43m(\u001b[49m\u001b[43m)\u001b[49m\n\u001b[1;32m   1038\u001b[0m \u001b[38;5;28;01mreturn\u001b[39;00m \u001b[38;5;28mself\u001b[39m\u001b[38;5;241m.\u001b[39m_path\n",
      "File \u001b[0;32m~/.local/lib/python3.10/site-packages/matplotlib/lines.py:673\u001b[0m, in \u001b[0;36mLine2D.recache\u001b[0;34m(self, always)\u001b[0m\n\u001b[1;32m    671\u001b[0m \u001b[38;5;28;01mdef\u001b[39;00m \u001b[38;5;21mrecache\u001b[39m(\u001b[38;5;28mself\u001b[39m, always\u001b[38;5;241m=\u001b[39m\u001b[38;5;28;01mFalse\u001b[39;00m):\n\u001b[1;32m    672\u001b[0m     \u001b[38;5;28;01mif\u001b[39;00m always \u001b[38;5;129;01mor\u001b[39;00m \u001b[38;5;28mself\u001b[39m\u001b[38;5;241m.\u001b[39m_invalidx:\n\u001b[0;32m--> 673\u001b[0m         xconv \u001b[38;5;241m=\u001b[39m \u001b[38;5;28;43mself\u001b[39;49m\u001b[38;5;241;43m.\u001b[39;49m\u001b[43mconvert_xunits\u001b[49m\u001b[43m(\u001b[49m\u001b[38;5;28;43mself\u001b[39;49m\u001b[38;5;241;43m.\u001b[39;49m\u001b[43m_xorig\u001b[49m\u001b[43m)\u001b[49m\n\u001b[1;32m    674\u001b[0m         x \u001b[38;5;241m=\u001b[39m _to_unmasked_float_array(xconv)\u001b[38;5;241m.\u001b[39mravel()\n\u001b[1;32m    675\u001b[0m     \u001b[38;5;28;01melse\u001b[39;00m:\n",
      "File \u001b[0;32m~/.local/lib/python3.10/site-packages/matplotlib/artist.py:279\u001b[0m, in \u001b[0;36mArtist.convert_xunits\u001b[0;34m(self, x)\u001b[0m\n\u001b[1;32m    277\u001b[0m \u001b[38;5;28;01mif\u001b[39;00m ax \u001b[38;5;129;01mis\u001b[39;00m \u001b[38;5;28;01mNone\u001b[39;00m \u001b[38;5;129;01mor\u001b[39;00m ax\u001b[38;5;241m.\u001b[39mxaxis \u001b[38;5;129;01mis\u001b[39;00m \u001b[38;5;28;01mNone\u001b[39;00m:\n\u001b[1;32m    278\u001b[0m     \u001b[38;5;28;01mreturn\u001b[39;00m x\n\u001b[0;32m--> 279\u001b[0m \u001b[38;5;28;01mreturn\u001b[39;00m \u001b[43max\u001b[49m\u001b[38;5;241;43m.\u001b[39;49m\u001b[43mxaxis\u001b[49m\u001b[38;5;241;43m.\u001b[39;49m\u001b[43mconvert_units\u001b[49m\u001b[43m(\u001b[49m\u001b[43mx\u001b[49m\u001b[43m)\u001b[49m\n",
      "File \u001b[0;32m~/.local/lib/python3.10/site-packages/matplotlib/axis.py:1806\u001b[0m, in \u001b[0;36mAxis.convert_units\u001b[0;34m(self, x)\u001b[0m\n\u001b[1;32m   1804\u001b[0m     ret \u001b[38;5;241m=\u001b[39m \u001b[38;5;28mself\u001b[39m\u001b[38;5;241m.\u001b[39mconverter\u001b[38;5;241m.\u001b[39mconvert(x, \u001b[38;5;28mself\u001b[39m\u001b[38;5;241m.\u001b[39munits, \u001b[38;5;28mself\u001b[39m)\n\u001b[1;32m   1805\u001b[0m \u001b[38;5;28;01mexcept\u001b[39;00m \u001b[38;5;167;01mException\u001b[39;00m \u001b[38;5;28;01mas\u001b[39;00m e:\n\u001b[0;32m-> 1806\u001b[0m     \u001b[38;5;28;01mraise\u001b[39;00m munits\u001b[38;5;241m.\u001b[39mConversionError(\u001b[38;5;124m'\u001b[39m\u001b[38;5;124mFailed to convert value(s) to axis \u001b[39m\u001b[38;5;124m'\u001b[39m\n\u001b[1;32m   1807\u001b[0m                                  \u001b[38;5;124mf\u001b[39m\u001b[38;5;124m'\u001b[39m\u001b[38;5;124munits: \u001b[39m\u001b[38;5;132;01m{\u001b[39;00mx\u001b[38;5;132;01m!r}\u001b[39;00m\u001b[38;5;124m'\u001b[39m) \u001b[38;5;28;01mfrom\u001b[39;00m \u001b[38;5;21;01me\u001b[39;00m\n\u001b[1;32m   1808\u001b[0m \u001b[38;5;28;01mreturn\u001b[39;00m ret\n",
      "\u001b[0;31mConversionError\u001b[0m: Failed to convert value(s) to axis units: array([Timestamp('1945-10-12 22:35:00+0000', tz='UTC'),\n       Timestamp('1999-06-04 18:00:00+0000', tz='UTC'),\n       Timestamp('1999-08-19 17:25:00+0000', tz='UTC'),\n       Timestamp('1999-11-19 18:40:00+0000', tz='UTC'),\n       Timestamp('2000-02-11 17:25:00+0000', tz='UTC'),\n       Timestamp('2000-03-09 22:30:00+0000', tz='UTC'),\n       Timestamp('2000-05-26 16:00:00+0000', tz='UTC'),\n       Timestamp('2000-08-22 21:55:00+0000', tz='UTC'),\n       Timestamp('2000-11-15 21:59:00+0000', tz='UTC'),\n       Timestamp('2001-03-21 00:03:00+0000', tz='UTC'),\n       Timestamp('2001-05-05 01:10:00+0000', tz='UTC'),\n       Timestamp('2001-05-30 20:13:00+0000', tz='UTC'),\n       Timestamp('2001-07-18 17:15:00+0000', tz='UTC'),\n       Timestamp('2001-08-30 15:34:00+0000', tz='UTC'),\n       Timestamp('2001-09-26 15:49:00+0000', tz='UTC'),\n       Timestamp('2001-10-30 23:09:00+0000', tz='UTC'),\n       Timestamp('2001-11-29 18:00:00+0000', tz='UTC'),\n       Timestamp('2001-12-27 22:33:00+0000', tz='UTC'),\n       Timestamp('2002-01-28 22:09:00+0000', tz='UTC'),\n       Timestamp('2002-02-25 22:50:00+0000', tz='UTC'),\n       Timestamp('2002-03-25 22:01:00+0000', tz='UTC'),\n       Timestamp('2002-04-30 16:50:00+0000', tz='UTC'),\n       Timestamp('2002-05-30 22:05:00+0000', tz='UTC'),\n       Timestamp('2002-08-14 18:24:00+0000', tz='UTC'),\n       Timestamp('2002-09-12 15:41:00+0000', tz='UTC'),\n       Timestamp('2002-11-13 22:45:00+0000', tz='UTC'),\n       Timestamp('2003-02-11 22:57:00+0000', tz='UTC'),\n       Timestamp('2003-05-13 21:23:00+0000', tz='UTC'),\n       Timestamp('2003-09-09 23:29:00+0000', tz='UTC'),\n       Timestamp('2003-12-01 22:59:00+0000', tz='UTC'),\n       Timestamp('2004-01-18 22:42:00+0000', tz='UTC'),\n       Timestamp('2004-04-30 19:46:00+0000', tz='UTC'),\n       Timestamp('2004-07-15 17:53:00+0000', tz='UTC'),\n       Timestamp('2004-10-15 17:38:00+0000', tz='UTC'),\n       Timestamp('2005-01-07 18:24:00+0000', tz='UTC'),\n       Timestamp('2005-04-08 17:13:00+0000', tz='UTC'),\n       Timestamp('2005-07-15 16:47:00+0000', tz='UTC'),\n       Timestamp('2005-10-07 17:52:00+0000', tz='UTC'),\n       Timestamp('2006-01-13 19:23:00+0000', tz='UTC'),\n       Timestamp('2006-05-26 14:16:00+0000', tz='UTC'),\n       Timestamp('2006-07-14 18:22:00+0000', tz='UTC'),\n       Timestamp('2006-10-19 23:15:00+0000', tz='UTC'),\n       Timestamp('2007-01-12 19:10:00+0000', tz='UTC'),\n       Timestamp('2007-04-06 15:34:00+0000', tz='UTC'),\n       Timestamp('2007-10-04 23:40:00+0000', tz='UTC'),\n       Timestamp('2008-04-03 21:55:00+0000', tz='UTC'),\n       Timestamp('2008-10-29 21:33:00+0000', tz='UTC'),\n       Timestamp('2009-05-20 18:29:00+0000', tz='UTC'),\n       Timestamp('2009-06-09 16:33:00+0000', tz='UTC'),\n       Timestamp('2009-11-25 17:33:00+0000', tz='UTC'),\n       Timestamp('2010-05-28 16:50:00+0000', tz='UTC'),\n       Timestamp('2010-11-29 23:20:00+0000', tz='UTC'),\n       Timestamp('2011-10-07 18:58:00+0000', tz='UTC'),\n       Timestamp('2012-10-11 21:24:00+0000', tz='UTC'),\n       Timestamp('2012-10-12 01:49:00+0000', tz='UTC'),\n       Timestamp('2013-10-31 17:42:00+0000', tz='UTC'),\n       Timestamp('2014-10-15 21:07:00+0000', tz='UTC'),\n       Timestamp('2015-10-22 17:52:00+0000', tz='UTC'),\n       Timestamp('2016-10-26 16:22:00+0000', tz='UTC'), NaT, NaT, NaT,\n       NaT, NaT, NaT, NaT, NaT, NaT, NaT, NaT, NaT, NaT, NaT, NaT, NaT,\n       NaT, NaT, NaT, NaT, NaT, NaT, NaT, NaT, NaT, NaT, NaT, NaT, NaT,\n       NaT, NaT, NaT, NaT, NaT, NaT, NaT, NaT, NaT, NaT, NaT, NaT, NaT,\n       NaT, NaT, NaT, NaT, NaT, NaT, NaT, NaT, NaT, NaT, NaT, NaT, NaT,\n       NaT, NaT, NaT, NaT, NaT, NaT, NaT, NaT, NaT, NaT, NaT, NaT, NaT,\n       NaT, NaT, NaT, NaT, NaT, NaT, NaT, NaT, NaT, NaT, NaT, NaT, NaT,\n       NaT, NaT, NaT, NaT, NaT, NaT, NaT, NaT, NaT, NaT, NaT, NaT, NaT,\n       NaT, NaT, NaT, NaT, NaT, NaT, NaT, NaT, NaT, NaT, NaT, NaT, NaT,\n       NaT, NaT, NaT, NaT, NaT, NaT, NaT, NaT, NaT, NaT, NaT, NaT, NaT,\n       NaT, NaT, NaT, NaT, NaT, NaT, NaT, NaT, NaT, NaT, NaT, NaT, NaT,\n       NaT, NaT, NaT, NaT, NaT, NaT, NaT, NaT, NaT, NaT, NaT, NaT, NaT,\n       NaT, NaT, NaT, NaT, NaT, NaT, NaT, NaT, NaT, NaT, NaT, NaT, NaT,\n       NaT, NaT, NaT, NaT, NaT, NaT, NaT, NaT, NaT, NaT, NaT, NaT, NaT,\n       NaT, NaT, NaT, NaT, NaT, NaT, NaT, NaT, NaT, NaT, NaT, NaT, NaT,\n       NaT, NaT, NaT, NaT], dtype=object)"
     ]
    },
    {
     "data": {
      "image/png": "[encoded data removed]",
      "text/plain": [
       "<Figure size 640x480 with 1 Axes>"
      ]
     },
     "metadata": {},
     "output_type": "display_data"
    }
   ],
   "source": [
    "ax = data[0].plot(y='lev_va')\n",
    "ax.set_xlabel('Date')\n",
    "ax.set_ylabel('Water Level (feet below land surface)')"
   ]
  },
  {
   "cell_type": "markdown",
   "metadata": {
    "collapsed": false,
    "pycharm": {
     "name": "#%% md\n"
    }
   },
   "source": [
    "The other part of the result returned from the `get_gwlevels()` function is a metadata object that contains information about the query that was executed to return the data. For example, you can access the URL that was assembled to retrieve the requested data from the USGS web service. The USGS web service responses contain a descriptive header that defines and can be helpful in interpreting the contents of the response."
   ]
  },
  {
   "cell_type": "code",
   "execution_count": 8,
   "metadata": {
    "collapsed": false,
    "execution": {
     "iopub.execute_input": "2024-06-30T02:27:45.738218Z",
     "iopub.status.busy": "2024-06-30T02:27:45.737883Z",
     "iopub.status.idle": "2024-06-30T02:27:45.741112Z",
     "shell.execute_reply": "2024-06-30T02:27:45.740551Z"
    },
    "pycharm": {
     "name": "#%%\n"
    }
   },
   "outputs": [
    {
     "name": "stdout",
     "output_type": "stream",
     "text": [
      "The query URL used to retrieve the data from  NWIS was: https://waterservices.usgs.gov/nwis/gwlevels?startDT=1851-01-01&sites=434400121275801&format=rdb\n"
     ]
    }
   ],
   "source": [
    "print(\"The query URL used to retrieve the data from  NWIS was: \" + data[1].url)"
   ]
  },
  {
   "cell_type": "markdown",
   "metadata": {
    "collapsed": false
   },
   "source": [
    "### Additional Examples\n",
    "\n",
    "You can also request data for multiple sites at the same time.\n",
    "\n",
    "Example 2: Get data for multiple sites. Site numbers are specified using a comma delimited list of strings."
   ]
  },
  {
   "cell_type": "code",
   "execution_count": 9,
   "metadata": {
    "collapsed": false,
    "execution": {
     "iopub.execute_input": "2024-06-30T02:27:45.743162Z",
     "iopub.status.busy": "2024-06-30T02:27:45.742976Z",
     "iopub.status.idle": "2024-06-30T02:27:46.148804Z",
     "shell.execute_reply": "2024-06-30T02:27:46.148193Z"
    },
    "pycharm": {
     "name": "#%%\n"
    }
   },
   "outputs": [
    {
     "name": "stdout",
     "output_type": "stream",
     "text": [
      "Retrieved 311 data values.\n"
     ]
    },
    {
     "name": "stderr",
     "output_type": "stream",
     "text": [
      "/home/runner/.local/lib/python3.10/site-packages/dataretrieval/utils.py:89: UserWarning: Warning: 207 incomplete dates found, consider setting datetime_index to False.\n",
      "  warnings.warn(\n"
     ]
    },
    {
     "data": {
      "text/html": [
       "<div>\n",
       "<style scoped>\n",
       "    .dataframe tbody tr th:only-of-type {\n",
       "        vertical-align: middle;\n",
       "    }\n",
       "\n",
       "    .dataframe tbody tr th {\n",
       "        vertical-align: top;\n",
       "    }\n",
       "\n",
       "    .dataframe thead th {\n",
       "        text-align: right;\n",
       "    }\n",
       "</style>\n",
       "<table border=\"1\" class=\"dataframe\">\n",
       "  <thead>\n",
       "    <tr style=\"text-align: right;\">\n",
       "      <th></th>\n",
       "      <th></th>\n",
       "      <th>agency_cd</th>\n",
       "      <th>site_tp_cd</th>\n",
       "      <th>lev_dt</th>\n",
       "      <th>lev_tm</th>\n",
       "      <th>lev_tz_cd</th>\n",
       "      <th>lev_va</th>\n",
       "      <th>sl_lev_va</th>\n",
       "      <th>sl_datum_cd</th>\n",
       "      <th>lev_status_cd</th>\n",
       "      <th>lev_agency_cd</th>\n",
       "      <th>lev_dt_acy_cd</th>\n",
       "      <th>lev_acy_cd</th>\n",
       "      <th>lev_src_cd</th>\n",
       "      <th>lev_meth_cd</th>\n",
       "      <th>lev_age_cd</th>\n",
       "    </tr>\n",
       "    <tr>\n",
       "      <th>site_no</th>\n",
       "      <th>datetime</th>\n",
       "      <th></th>\n",
       "      <th></th>\n",
       "      <th></th>\n",
       "      <th></th>\n",
       "      <th></th>\n",
       "      <th></th>\n",
       "      <th></th>\n",
       "      <th></th>\n",
       "      <th></th>\n",
       "      <th></th>\n",
       "      <th></th>\n",
       "      <th></th>\n",
       "      <th></th>\n",
       "      <th></th>\n",
       "      <th></th>\n",
       "    </tr>\n",
       "  </thead>\n",
       "  <tbody>\n",
       "    <tr>\n",
       "      <th rowspan=\"5\" valign=\"top\">375907091432201</th>\n",
       "      <th>2007-01-26 17:08:00+00:00</th>\n",
       "      <td>USGS</td>\n",
       "      <td>GW</td>\n",
       "      <td>2007-01-26</td>\n",
       "      <td>17:08</td>\n",
       "      <td>+0000</td>\n",
       "      <td>317.21</td>\n",
       "      <td>NaN</td>\n",
       "      <td>NaN</td>\n",
       "      <td>1</td>\n",
       "      <td>USGS</td>\n",
       "      <td>m</td>\n",
       "      <td>2</td>\n",
       "      <td>S</td>\n",
       "      <td>V</td>\n",
       "      <td>A</td>\n",
       "    </tr>\n",
       "    <tr>\n",
       "      <th>2007-06-11 19:30:00+00:00</th>\n",
       "      <td>USGS</td>\n",
       "      <td>GW</td>\n",
       "      <td>2007-06-11</td>\n",
       "      <td>19:30</td>\n",
       "      <td>+0000</td>\n",
       "      <td>309.32</td>\n",
       "      <td>NaN</td>\n",
       "      <td>NaN</td>\n",
       "      <td>1</td>\n",
       "      <td>MO005</td>\n",
       "      <td>m</td>\n",
       "      <td>2</td>\n",
       "      <td>A</td>\n",
       "      <td>T</td>\n",
       "      <td>A</td>\n",
       "    </tr>\n",
       "    <tr>\n",
       "      <th>2007-07-23 14:30:00+00:00</th>\n",
       "      <td>USGS</td>\n",
       "      <td>GW</td>\n",
       "      <td>2007-07-23</td>\n",
       "      <td>14:30</td>\n",
       "      <td>+0000</td>\n",
       "      <td>321.35</td>\n",
       "      <td>NaN</td>\n",
       "      <td>NaN</td>\n",
       "      <td>1</td>\n",
       "      <td>MO005</td>\n",
       "      <td>m</td>\n",
       "      <td>2</td>\n",
       "      <td>A</td>\n",
       "      <td>T</td>\n",
       "      <td>A</td>\n",
       "    </tr>\n",
       "    <tr>\n",
       "      <th>2007-09-04 20:15:00+00:00</th>\n",
       "      <td>USGS</td>\n",
       "      <td>GW</td>\n",
       "      <td>2007-09-04</td>\n",
       "      <td>20:15</td>\n",
       "      <td>+0000</td>\n",
       "      <td>326.55</td>\n",
       "      <td>NaN</td>\n",
       "      <td>NaN</td>\n",
       "      <td>1</td>\n",
       "      <td>MO005</td>\n",
       "      <td>m</td>\n",
       "      <td>2</td>\n",
       "      <td>A</td>\n",
       "      <td>T</td>\n",
       "      <td>A</td>\n",
       "    </tr>\n",
       "    <tr>\n",
       "      <th>2007-10-01 15:17:00+00:00</th>\n",
       "      <td>USGS</td>\n",
       "      <td>GW</td>\n",
       "      <td>2007-10-01</td>\n",
       "      <td>15:17</td>\n",
       "      <td>+0000</td>\n",
       "      <td>317.01</td>\n",
       "      <td>NaN</td>\n",
       "      <td>NaN</td>\n",
       "      <td>1</td>\n",
       "      <td>MO005</td>\n",
       "      <td>m</td>\n",
       "      <td>2</td>\n",
       "      <td>A</td>\n",
       "      <td>T</td>\n",
       "      <td>A</td>\n",
       "    </tr>\n",
       "    <tr>\n",
       "      <th>...</th>\n",
       "      <th>...</th>\n",
       "      <td>...</td>\n",
       "      <td>...</td>\n",
       "      <td>...</td>\n",
       "      <td>...</td>\n",
       "      <td>...</td>\n",
       "      <td>...</td>\n",
       "      <td>...</td>\n",
       "      <td>...</td>\n",
       "      <td>...</td>\n",
       "      <td>...</td>\n",
       "      <td>...</td>\n",
       "      <td>...</td>\n",
       "      <td>...</td>\n",
       "      <td>...</td>\n",
       "      <td>...</td>\n",
       "    </tr>\n",
       "    <tr>\n",
       "      <th rowspan=\"5\" valign=\"top\">434400121275801</th>\n",
       "      <th>NaT</th>\n",
       "      <td>USGS</td>\n",
       "      <td>GW</td>\n",
       "      <td>1998-09-25</td>\n",
       "      <td>NaN</td>\n",
       "      <td>+0000</td>\n",
       "      <td>17.36</td>\n",
       "      <td>NaN</td>\n",
       "      <td>NaN</td>\n",
       "      <td>1</td>\n",
       "      <td>NaN</td>\n",
       "      <td>D</td>\n",
       "      <td>2</td>\n",
       "      <td>NaN</td>\n",
       "      <td>S</td>\n",
       "      <td>A</td>\n",
       "    </tr>\n",
       "    <tr>\n",
       "      <th>NaT</th>\n",
       "      <td>USGS</td>\n",
       "      <td>GW</td>\n",
       "      <td>1998-11-19</td>\n",
       "      <td>NaN</td>\n",
       "      <td>+0000</td>\n",
       "      <td>19.85</td>\n",
       "      <td>NaN</td>\n",
       "      <td>NaN</td>\n",
       "      <td>1</td>\n",
       "      <td>USGS</td>\n",
       "      <td>D</td>\n",
       "      <td>2</td>\n",
       "      <td>S</td>\n",
       "      <td>S</td>\n",
       "      <td>A</td>\n",
       "    </tr>\n",
       "    <tr>\n",
       "      <th>NaT</th>\n",
       "      <td>USGS</td>\n",
       "      <td>GW</td>\n",
       "      <td>1998-12-15</td>\n",
       "      <td>NaN</td>\n",
       "      <td>+0000</td>\n",
       "      <td>20.33</td>\n",
       "      <td>NaN</td>\n",
       "      <td>NaN</td>\n",
       "      <td>1</td>\n",
       "      <td>USGS</td>\n",
       "      <td>D</td>\n",
       "      <td>2</td>\n",
       "      <td>S</td>\n",
       "      <td>S</td>\n",
       "      <td>A</td>\n",
       "    </tr>\n",
       "    <tr>\n",
       "      <th>NaT</th>\n",
       "      <td>USGS</td>\n",
       "      <td>GW</td>\n",
       "      <td>1999-03-19</td>\n",
       "      <td>NaN</td>\n",
       "      <td>+0000</td>\n",
       "      <td>19.05</td>\n",
       "      <td>NaN</td>\n",
       "      <td>NaN</td>\n",
       "      <td>1</td>\n",
       "      <td>NaN</td>\n",
       "      <td>D</td>\n",
       "      <td>2</td>\n",
       "      <td>NaN</td>\n",
       "      <td>S</td>\n",
       "      <td>A</td>\n",
       "    </tr>\n",
       "    <tr>\n",
       "      <th>NaT</th>\n",
       "      <td>USGS</td>\n",
       "      <td>GW</td>\n",
       "      <td>1999-05-14</td>\n",
       "      <td>NaN</td>\n",
       "      <td>+0000</td>\n",
       "      <td>18.01</td>\n",
       "      <td>NaN</td>\n",
       "      <td>NaN</td>\n",
       "      <td>1</td>\n",
       "      <td>USGS</td>\n",
       "      <td>D</td>\n",
       "      <td>2</td>\n",
       "      <td>S</td>\n",
       "      <td>S</td>\n",
       "      <td>A</td>\n",
       "    </tr>\n",
       "  </tbody>\n",
       "</table>\n",
       "<p>311 rows × 15 columns</p>\n",
       "</div>"
      ],
      "text/plain": [
       "                                          agency_cd site_tp_cd      lev_dt  \\\n",
       "site_no         datetime                                                     \n",
       "375907091432201 2007-01-26 17:08:00+00:00      USGS         GW  2007-01-26   \n",
       "                2007-06-11 19:30:00+00:00      USGS         GW  2007-06-11   \n",
       "                2007-07-23 14:30:00+00:00      USGS         GW  2007-07-23   \n",
       "                2007-09-04 20:15:00+00:00      USGS         GW  2007-09-04   \n",
       "                2007-10-01 15:17:00+00:00      USGS         GW  2007-10-01   \n",
       "...                                             ...        ...         ...   \n",
       "434400121275801 NaT                            USGS         GW  1998-09-25   \n",
       "                NaT                            USGS         GW  1998-11-19   \n",
       "                NaT                            USGS         GW  1998-12-15   \n",
       "                NaT                            USGS         GW  1999-03-19   \n",
       "                NaT                            USGS         GW  1999-05-14   \n",
       "\n",
       "                                          lev_tm lev_tz_cd  lev_va  sl_lev_va  \\\n",
       "site_no         datetime                                                        \n",
       "375907091432201 2007-01-26 17:08:00+00:00  17:08     +0000  317.21        NaN   \n",
       "                2007-06-11 19:30:00+00:00  19:30     +0000  309.32        NaN   \n",
       "                2007-07-23 14:30:00+00:00  14:30     +0000  321.35        NaN   \n",
       "                2007-09-04 20:15:00+00:00  20:15     +0000  326.55        NaN   \n",
       "                2007-10-01 15:17:00+00:00  15:17     +0000  317.01        NaN   \n",
       "...                                          ...       ...     ...        ...   \n",
       "434400121275801 NaT                          NaN     +0000   17.36        NaN   \n",
       "                NaT                          NaN     +0000   19.85        NaN   \n",
       "                NaT                          NaN     +0000   20.33        NaN   \n",
       "                NaT                          NaN     +0000   19.05        NaN   \n",
       "                NaT                          NaN     +0000   18.01        NaN   \n",
       "\n",
       "                                           sl_datum_cd lev_status_cd  \\\n",
       "site_no         datetime                                               \n",
       "375907091432201 2007-01-26 17:08:00+00:00          NaN             1   \n",
       "                2007-06-11 19:30:00+00:00          NaN             1   \n",
       "                2007-07-23 14:30:00+00:00          NaN             1   \n",
       "                2007-09-04 20:15:00+00:00          NaN             1   \n",
       "                2007-10-01 15:17:00+00:00          NaN             1   \n",
       "...                                                ...           ...   \n",
       "434400121275801 NaT                                NaN             1   \n",
       "                NaT                                NaN             1   \n",
       "                NaT                                NaN             1   \n",
       "                NaT                                NaN             1   \n",
       "                NaT                                NaN             1   \n",
       "\n",
       "                                          lev_agency_cd lev_dt_acy_cd  \\\n",
       "site_no         datetime                                                \n",
       "375907091432201 2007-01-26 17:08:00+00:00          USGS             m   \n",
       "                2007-06-11 19:30:00+00:00         MO005             m   \n",
       "                2007-07-23 14:30:00+00:00         MO005             m   \n",
       "                2007-09-04 20:15:00+00:00         MO005             m   \n",
       "                2007-10-01 15:17:00+00:00         MO005             m   \n",
       "...                                                 ...           ...   \n",
       "434400121275801 NaT                                 NaN             D   \n",
       "                NaT                                USGS             D   \n",
       "                NaT                                USGS             D   \n",
       "                NaT                                 NaN             D   \n",
       "                NaT                                USGS             D   \n",
       "\n",
       "                                          lev_acy_cd lev_src_cd lev_meth_cd  \\\n",
       "site_no         datetime                                                      \n",
       "375907091432201 2007-01-26 17:08:00+00:00          2          S           V   \n",
       "                2007-06-11 19:30:00+00:00          2          A           T   \n",
       "                2007-07-23 14:30:00+00:00          2          A           T   \n",
       "                2007-09-04 20:15:00+00:00          2          A           T   \n",
       "                2007-10-01 15:17:00+00:00          2          A           T   \n",
       "...                                              ...        ...         ...   \n",
       "434400121275801 NaT                                2        NaN           S   \n",
       "                NaT                                2          S           S   \n",
       "                NaT                                2          S           S   \n",
       "                NaT                                2        NaN           S   \n",
       "                NaT                                2          S           S   \n",
       "\n",
       "                                          lev_age_cd  \n",
       "site_no         datetime                              \n",
       "375907091432201 2007-01-26 17:08:00+00:00          A  \n",
       "                2007-06-11 19:30:00+00:00          A  \n",
       "                2007-07-23 14:30:00+00:00          A  \n",
       "                2007-09-04 20:15:00+00:00          A  \n",
       "                2007-10-01 15:17:00+00:00          A  \n",
       "...                                              ...  \n",
       "434400121275801 NaT                                A  \n",
       "                NaT                                A  \n",
       "                NaT                                A  \n",
       "                NaT                                A  \n",
       "                NaT                                A  \n",
       "\n",
       "[311 rows x 15 columns]"
      ]
     },
     "metadata": {},
     "output_type": "display_data"
    }
   ],
   "source": [
    "site_ids = [\"434400121275801\", \"375907091432201\"]\n",
    "data2 = nwis.get_gwlevels(sites=site_ids)\n",
    "print(\"Retrieved \" + str(len(data2[0])) + \" data values.\")\n",
    "display(data2[0])"
   ]
  },
  {
   "cell_type": "markdown",
   "metadata": {
    "collapsed": false,
    "pycharm": {
     "name": "#%% md\n"
    }
   },
   "source": [
    "Some groundwater level data have dates that include only a year or a month and year, but no day.\n",
    "\n",
    "Example 3: Retrieve groundwater level data that have dates without a day."
   ]
  },
  {
   "cell_type": "code",
   "execution_count": 10,
   "metadata": {
    "collapsed": false,
    "execution": {
     "iopub.execute_input": "2024-06-30T02:27:46.151257Z",
     "iopub.status.busy": "2024-06-30T02:27:46.150865Z",
     "iopub.status.idle": "2024-06-30T02:27:46.380511Z",
     "shell.execute_reply": "2024-06-30T02:27:46.379824Z"
    },
    "pycharm": {
     "name": "#%%\n"
    }
   },
   "outputs": [
    {
     "name": "stdout",
     "output_type": "stream",
     "text": [
      "Retrieved 34 data values.\n",
      "DatetimeIndex(['NaT', 'NaT', 'NaT', 'NaT', 'NaT', 'NaT', 'NaT', 'NaT', 'NaT',\n",
      "               'NaT', 'NaT', 'NaT', 'NaT', 'NaT', 'NaT', 'NaT', 'NaT', 'NaT',\n",
      "               'NaT', 'NaT', 'NaT', 'NaT', 'NaT', 'NaT', 'NaT', 'NaT', 'NaT',\n",
      "               'NaT', 'NaT', 'NaT', 'NaT', 'NaT', 'NaT', 'NaT'],\n",
      "              dtype='datetime64[ns, UTC]', name='datetime', freq=None)\n"
     ]
    },
    {
     "name": "stderr",
     "output_type": "stream",
     "text": [
      "/home/runner/.local/lib/python3.10/site-packages/dataretrieval/utils.py:89: UserWarning: Warning: 34 incomplete dates found, consider setting datetime_index to False.\n",
      "  warnings.warn(\n"
     ]
    }
   ],
   "source": [
    "data3 = nwis.get_gwlevels(sites=\"425957088141001\")\n",
    "print(\"Retrieved \" + str(len(data3[0])) + \" data values.\")\n",
    "\n",
    "# Print the date/time index values, which show up as NaT because\n",
    "# the dates can't be converted to a date/time data type\n",
    "print(data3[0].index)"
   ]
  },
  {
   "cell_type": "markdown",
   "metadata": {
    "collapsed": false,
    "pycharm": {
     "name": "#%% md\n"
    }
   },
   "source": [
    "If you want to see the USGS RDB (delimited text) version of the data just retrieved, you can get the URL for the request that was sent to the USGS web service."
   ]
  },
  {
   "cell_type": "code",
   "execution_count": 11,
   "metadata": {
    "collapsed": false,
    "execution": {
     "iopub.execute_input": "2024-06-30T02:27:46.382860Z",
     "iopub.status.busy": "2024-06-30T02:27:46.382495Z",
     "iopub.status.idle": "2024-06-30T02:27:46.385540Z",
     "shell.execute_reply": "2024-06-30T02:27:46.384976Z"
    },
    "pycharm": {
     "name": "#%%\n"
    }
   },
   "outputs": [
    {
     "name": "stdout",
     "output_type": "stream",
     "text": [
      "You can examine the data retrieved from NWIS at: https://waterservices.usgs.gov/nwis/gwlevels?startDT=1851-01-01&sites=425957088141001&format=rdb\n"
     ]
    }
   ],
   "source": [
    "# Print the URL used to retrieve the data\n",
    "print(\"You can examine the data retrieved from NWIS at: \" + data3[1].url)"
   ]
  },
  {
   "cell_type": "markdown",
   "metadata": {
    "collapsed": false,
    "pycharm": {
     "name": "#%% md\n"
    }
   },
   "source": [
    "You can also retrieve data for a site within a specified time window by specifying a start date and an end date.\n",
    "\n",
    "Example 4: Get groundwater level data for a site between a startDate and endDate."
   ]
  },
  {
   "cell_type": "code",
   "execution_count": 12,
   "metadata": {
    "collapsed": false,
    "execution": {
     "iopub.execute_input": "2024-06-30T02:27:46.387544Z",
     "iopub.status.busy": "2024-06-30T02:27:46.387364Z",
     "iopub.status.idle": "2024-06-30T02:27:46.608982Z",
     "shell.execute_reply": "2024-06-30T02:27:46.608316Z"
    },
    "pycharm": {
     "name": "#%%\n"
    }
   },
   "outputs": [
    {
     "name": "stdout",
     "output_type": "stream",
     "text": [
      "Retrieved 71 data values.\n"
     ]
    },
    {
     "name": "stderr",
     "output_type": "stream",
     "text": [
      "/home/runner/.local/lib/python3.10/site-packages/dataretrieval/utils.py:89: UserWarning: Warning: 63 incomplete dates found, consider setting datetime_index to False.\n",
      "  warnings.warn(\n"
     ]
    }
   ],
   "source": [
    "data4 = nwis.get_gwlevels(sites=site_id, start=\"1980-01-01\", end=\"2000-12-31\")\n",
    "print(\"Retrieved \" + str(len(data4[0])) + \" data values.\")\n"
   ]
  }
 ],
 "metadata": {
  "kernelspec": {
   "display_name": "Python 3",
   "language": "python",
   "name": "python3"
  },
  "language_info": {
   "codemirror_mode": {
    "name": "ipython",
    "version": 3
   },
   "file_extension": ".py",
   "mimetype": "text/x-python",
   "name": "python",
   "nbconvert_exporter": "python",
   "pygments_lexer": "ipython3",
   "version": "3.10.12"
  }
 },
 "nbformat": 4,
 "nbformat_minor": 0
}
