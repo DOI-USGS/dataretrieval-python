{
 "cells": [
  {
   "cell_type": "markdown",
   "metadata": {
    "collapsed": true,
    "pycharm": {
     "name": "#%% md\n"
    }
   },
   "source": [
    "# USGS dataretrieval Python Package `get_gwlevels()` Examples\n",
    "\n",
    "This notebook provides examples of using the Python dataretrieval package to retrieve groundwater level data for a United States  Geological Survey (USGS) monitoring site. The dataretrieval package provides a collection of functions to get data from the USGS National Water Information System (NWIS) and other online sources of hydrology and water quality data, including the United States Environmental Protection Agency (USEPA)."
   ]
  },
  {
   "cell_type": "markdown",
   "metadata": {
    "collapsed": false
   },
   "source": [
    "### Install the Package\n",
    "\n",
    "Use the following code to install the package if it doesn't exist already within your Jupyter Python environment."
   ]
  },
  {
   "cell_type": "code",
   "execution_count": 1,
   "metadata": {
    "collapsed": false,
    "execution": {
     "iopub.execute_input": "2023-02-10T17:11:31.697862Z",
     "iopub.status.busy": "2023-02-10T17:11:31.697464Z",
     "iopub.status.idle": "2023-02-10T17:11:32.940432Z",
     "shell.execute_reply": "2023-02-10T17:11:32.939371Z"
    },
    "pycharm": {
     "name": "#%%\n"
    }
   },
   "outputs": [
    {
     "name": "stdout",
     "output_type": "stream",
     "text": [
      "Defaulting to user installation because normal site-packages is not writeable\r\n"
     ]
    },
    {
     "name": "stdout",
     "output_type": "stream",
     "text": [
      "Requirement already satisfied: dataretrieval in /home/runner/.local/lib/python3.10/site-packages (1.0.1)\r\n",
      "Requirement already satisfied: typing in /home/runner/.local/lib/python3.10/site-packages (from dataretrieval) (3.7.4.3)\r\n",
      "Requirement already satisfied: requests in /usr/lib/python3/dist-packages (from dataretrieval) (2.25.1)\r\n",
      "Requirement already satisfied: pandas in /home/runner/.local/lib/python3.10/site-packages (from dataretrieval) (1.5.3)\r\n",
      "Requirement already satisfied: numpy>=1.21.0 in /home/runner/.local/lib/python3.10/site-packages (from pandas->dataretrieval) (1.24.2)\r\n",
      "Requirement already satisfied: pytz>=2020.1 in /usr/lib/python3/dist-packages (from pandas->dataretrieval) (2022.1)\r\n",
      "Requirement already satisfied: python-dateutil>=2.8.1 in /home/runner/.local/lib/python3.10/site-packages (from pandas->dataretrieval) (2.8.2)\r\n",
      "Requirement already satisfied: six>=1.5 in /usr/lib/python3/dist-packages (from python-dateutil>=2.8.1->pandas->dataretrieval) (1.16.0)\r\n"
     ]
    }
   ],
   "source": [
    "!pip install dataretrieval"
   ]
  },
  {
   "cell_type": "markdown",
   "metadata": {
    "collapsed": false
   },
   "source": [
    "Load the package so you can use it along with other packages used in this notebook."
   ]
  },
  {
   "cell_type": "code",
   "execution_count": 2,
   "metadata": {
    "collapsed": false,
    "execution": {
     "iopub.execute_input": "2023-02-10T17:11:32.944496Z",
     "iopub.status.busy": "2023-02-10T17:11:32.943875Z",
     "iopub.status.idle": "2023-02-10T17:11:33.235751Z",
     "shell.execute_reply": "2023-02-10T17:11:33.235039Z"
    },
    "pycharm": {
     "name": "#%%\n"
    }
   },
   "outputs": [],
   "source": [
    "from dataretrieval import nwis\n",
    "from IPython.display import display"
   ]
  },
  {
   "cell_type": "markdown",
   "metadata": {
    "collapsed": false
   },
   "source": [
    "### Basic Usage\n",
    "\n",
    "The dataretrieval package has several functions that allow you to retrieve data from different web services. This examples uses the `get_gwlevels()` function to retrieve groundwater level data from USGS NWIS. The following arguments are supported:\n",
    "\n",
    "Arguments (Additional parameters, if supplied, will be used as query parameters)\n",
    "\n",
    "* **sites** (string or list of strings): A list of USGS site identifiers for which to retrieve data.\n",
    "* **start** (string): The beginning date for a period for which to retrieve data. If the waterdata parameter begin_date is supplied, it will overwrite the start parameter (defaults to '1851-01-01')\n",
    "* **end** (string): The ending date for a period for which to retrieve data. If the waterdata parameter end_date is supplied, it will overwrite the end parameter."
   ]
  },
  {
   "cell_type": "markdown",
   "metadata": {
    "collapsed": false,
    "pycharm": {
     "name": "#%% md\n"
    }
   },
   "source": [
    "Example 1: Get groundwater level data for a single monitoring site."
   ]
  },
  {
   "cell_type": "code",
   "execution_count": 3,
   "metadata": {
    "collapsed": false,
    "execution": {
     "iopub.execute_input": "2023-02-10T17:11:33.239581Z",
     "iopub.status.busy": "2023-02-10T17:11:33.238851Z",
     "iopub.status.idle": "2023-02-10T17:11:33.800795Z",
     "shell.execute_reply": "2023-02-10T17:11:33.800142Z"
    },
    "pycharm": {
     "name": "#%%\n"
    }
   },
   "outputs": [
    {
     "name": "stdout",
     "output_type": "stream",
     "text": [
      "Retrieved 248 data values.\n"
     ]
    },
    {
     "name": "stderr",
     "output_type": "stream",
     "text": [
      "/home/runner/.local/lib/python3.10/site-packages/dataretrieval/utils.py:86: UserWarning: Warning: 189 incomplete dates found, consider setting datetime_index to False.\n",
      "  warnings.warn(\n"
     ]
    }
   ],
   "source": [
    "# Set the parameters needed to retrieve data\n",
    "site_id = \"434400121275801\"\n",
    "\n",
    "# Retrieve the data\n",
    "data = nwis.get_gwlevels(sites=site_id)\n",
    "print(\"Retrieved \" + str(len(data[0])) + \" data values.\")"
   ]
  },
  {
   "cell_type": "markdown",
   "metadata": {
    "collapsed": false
   },
   "source": [
    "### Interpreting the Result\n",
    "\n",
    "The result of calling the `get_gwlevels()` function is an object that contains a Pandas data frame and an associated metadata object. The Pandas data frame contains the data requested. The data frame is indexed by the dates associated with the data values.\n",
    "\n",
    "Once you've got the data frame, there's several useful things you can do to explore the data."
   ]
  },
  {
   "cell_type": "markdown",
   "metadata": {
    "collapsed": false,
    "pycharm": {
     "name": "#%% md\n"
    }
   },
   "source": [
    "Display the data frame as a table"
   ]
  },
  {
   "cell_type": "code",
   "execution_count": 4,
   "metadata": {
    "collapsed": false,
    "execution": {
     "iopub.execute_input": "2023-02-10T17:11:33.803570Z",
     "iopub.status.busy": "2023-02-10T17:11:33.803136Z",
     "iopub.status.idle": "2023-02-10T17:11:33.824471Z",
     "shell.execute_reply": "2023-02-10T17:11:33.823715Z"
    },
    "pycharm": {
     "name": "#%%\n"
    }
   },
   "outputs": [
    {
     "data": {
      "text/html": [
       "<div>\n",
       "<style scoped>\n",
       "    .dataframe tbody tr th:only-of-type {\n",
       "        vertical-align: middle;\n",
       "    }\n",
       "\n",
       "    .dataframe tbody tr th {\n",
       "        vertical-align: top;\n",
       "    }\n",
       "\n",
       "    .dataframe thead th {\n",
       "        text-align: right;\n",
       "    }\n",
       "</style>\n",
       "<table border=\"1\" class=\"dataframe\">\n",
       "  <thead>\n",
       "    <tr style=\"text-align: right;\">\n",
       "      <th></th>\n",
       "      <th>agency_cd</th>\n",
       "      <th>site_no</th>\n",
       "      <th>site_tp_cd</th>\n",
       "      <th>lev_dt</th>\n",
       "      <th>lev_tm</th>\n",
       "      <th>lev_tz_cd</th>\n",
       "      <th>lev_va</th>\n",
       "      <th>sl_lev_va</th>\n",
       "      <th>sl_datum_cd</th>\n",
       "      <th>lev_status_cd</th>\n",
       "      <th>lev_agency_cd</th>\n",
       "      <th>lev_dt_acy_cd</th>\n",
       "      <th>lev_acy_cd</th>\n",
       "      <th>lev_src_cd</th>\n",
       "      <th>lev_meth_cd</th>\n",
       "      <th>lev_age_cd</th>\n",
       "    </tr>\n",
       "    <tr>\n",
       "      <th>datetime</th>\n",
       "      <th></th>\n",
       "      <th></th>\n",
       "      <th></th>\n",
       "      <th></th>\n",
       "      <th></th>\n",
       "      <th></th>\n",
       "      <th></th>\n",
       "      <th></th>\n",
       "      <th></th>\n",
       "      <th></th>\n",
       "      <th></th>\n",
       "      <th></th>\n",
       "      <th></th>\n",
       "      <th></th>\n",
       "      <th></th>\n",
       "      <th></th>\n",
       "    </tr>\n",
       "  </thead>\n",
       "  <tbody>\n",
       "    <tr>\n",
       "      <th>1945-10-12 22:35:00+00:00</th>\n",
       "      <td>USGS</td>\n",
       "      <td>434400121275801</td>\n",
       "      <td>GW</td>\n",
       "      <td>1945-10-12</td>\n",
       "      <td>22:35</td>\n",
       "      <td>+0000</td>\n",
       "      <td>27.35</td>\n",
       "      <td>NaN</td>\n",
       "      <td>NaN</td>\n",
       "      <td>1</td>\n",
       "      <td>OR004</td>\n",
       "      <td>m</td>\n",
       "      <td>NaN</td>\n",
       "      <td>A</td>\n",
       "      <td>O</td>\n",
       "      <td>A</td>\n",
       "    </tr>\n",
       "    <tr>\n",
       "      <th>1999-06-04 18:00:00+00:00</th>\n",
       "      <td>USGS</td>\n",
       "      <td>434400121275801</td>\n",
       "      <td>GW</td>\n",
       "      <td>1999-06-04</td>\n",
       "      <td>18:00</td>\n",
       "      <td>+0000</td>\n",
       "      <td>16.78</td>\n",
       "      <td>NaN</td>\n",
       "      <td>NaN</td>\n",
       "      <td>1</td>\n",
       "      <td>NaN</td>\n",
       "      <td>m</td>\n",
       "      <td>NaN</td>\n",
       "      <td>NaN</td>\n",
       "      <td>S</td>\n",
       "      <td>A</td>\n",
       "    </tr>\n",
       "    <tr>\n",
       "      <th>1999-08-19 17:25:00+00:00</th>\n",
       "      <td>USGS</td>\n",
       "      <td>434400121275801</td>\n",
       "      <td>GW</td>\n",
       "      <td>1999-08-19</td>\n",
       "      <td>17:25</td>\n",
       "      <td>+0000</td>\n",
       "      <td>15.06</td>\n",
       "      <td>NaN</td>\n",
       "      <td>NaN</td>\n",
       "      <td>1</td>\n",
       "      <td>OR004</td>\n",
       "      <td>m</td>\n",
       "      <td>NaN</td>\n",
       "      <td>A</td>\n",
       "      <td>V</td>\n",
       "      <td>A</td>\n",
       "    </tr>\n",
       "    <tr>\n",
       "      <th>1999-11-19 18:40:00+00:00</th>\n",
       "      <td>USGS</td>\n",
       "      <td>434400121275801</td>\n",
       "      <td>GW</td>\n",
       "      <td>1999-11-19</td>\n",
       "      <td>18:40</td>\n",
       "      <td>+0000</td>\n",
       "      <td>17.62</td>\n",
       "      <td>NaN</td>\n",
       "      <td>NaN</td>\n",
       "      <td>1</td>\n",
       "      <td>NaN</td>\n",
       "      <td>m</td>\n",
       "      <td>NaN</td>\n",
       "      <td>NaN</td>\n",
       "      <td>S</td>\n",
       "      <td>A</td>\n",
       "    </tr>\n",
       "    <tr>\n",
       "      <th>2000-02-11 17:25:00+00:00</th>\n",
       "      <td>USGS</td>\n",
       "      <td>434400121275801</td>\n",
       "      <td>GW</td>\n",
       "      <td>2000-02-11</td>\n",
       "      <td>17:25</td>\n",
       "      <td>+0000</td>\n",
       "      <td>21.00</td>\n",
       "      <td>NaN</td>\n",
       "      <td>NaN</td>\n",
       "      <td>1</td>\n",
       "      <td>NaN</td>\n",
       "      <td>m</td>\n",
       "      <td>NaN</td>\n",
       "      <td>NaN</td>\n",
       "      <td>S</td>\n",
       "      <td>A</td>\n",
       "    </tr>\n",
       "    <tr>\n",
       "      <th>...</th>\n",
       "      <td>...</td>\n",
       "      <td>...</td>\n",
       "      <td>...</td>\n",
       "      <td>...</td>\n",
       "      <td>...</td>\n",
       "      <td>...</td>\n",
       "      <td>...</td>\n",
       "      <td>...</td>\n",
       "      <td>...</td>\n",
       "      <td>...</td>\n",
       "      <td>...</td>\n",
       "      <td>...</td>\n",
       "      <td>...</td>\n",
       "      <td>...</td>\n",
       "      <td>...</td>\n",
       "      <td>...</td>\n",
       "    </tr>\n",
       "    <tr>\n",
       "      <th>NaT</th>\n",
       "      <td>USGS</td>\n",
       "      <td>434400121275801</td>\n",
       "      <td>GW</td>\n",
       "      <td>1998-09-25</td>\n",
       "      <td>NaN</td>\n",
       "      <td>+0000</td>\n",
       "      <td>17.36</td>\n",
       "      <td>NaN</td>\n",
       "      <td>NaN</td>\n",
       "      <td>1</td>\n",
       "      <td>USGS</td>\n",
       "      <td>D</td>\n",
       "      <td>NaN</td>\n",
       "      <td>S</td>\n",
       "      <td>S</td>\n",
       "      <td>A</td>\n",
       "    </tr>\n",
       "    <tr>\n",
       "      <th>NaT</th>\n",
       "      <td>USGS</td>\n",
       "      <td>434400121275801</td>\n",
       "      <td>GW</td>\n",
       "      <td>1998-11-19</td>\n",
       "      <td>NaN</td>\n",
       "      <td>+0000</td>\n",
       "      <td>19.85</td>\n",
       "      <td>NaN</td>\n",
       "      <td>NaN</td>\n",
       "      <td>1</td>\n",
       "      <td>OR004</td>\n",
       "      <td>D</td>\n",
       "      <td>NaN</td>\n",
       "      <td>A</td>\n",
       "      <td>S</td>\n",
       "      <td>A</td>\n",
       "    </tr>\n",
       "    <tr>\n",
       "      <th>NaT</th>\n",
       "      <td>USGS</td>\n",
       "      <td>434400121275801</td>\n",
       "      <td>GW</td>\n",
       "      <td>1998-12-15</td>\n",
       "      <td>NaN</td>\n",
       "      <td>+0000</td>\n",
       "      <td>20.33</td>\n",
       "      <td>NaN</td>\n",
       "      <td>NaN</td>\n",
       "      <td>1</td>\n",
       "      <td>NaN</td>\n",
       "      <td>D</td>\n",
       "      <td>NaN</td>\n",
       "      <td>NaN</td>\n",
       "      <td>S</td>\n",
       "      <td>A</td>\n",
       "    </tr>\n",
       "    <tr>\n",
       "      <th>NaT</th>\n",
       "      <td>USGS</td>\n",
       "      <td>434400121275801</td>\n",
       "      <td>GW</td>\n",
       "      <td>1999-03-19</td>\n",
       "      <td>NaN</td>\n",
       "      <td>+0000</td>\n",
       "      <td>19.05</td>\n",
       "      <td>NaN</td>\n",
       "      <td>NaN</td>\n",
       "      <td>1</td>\n",
       "      <td>USGS</td>\n",
       "      <td>D</td>\n",
       "      <td>NaN</td>\n",
       "      <td>S</td>\n",
       "      <td>S</td>\n",
       "      <td>A</td>\n",
       "    </tr>\n",
       "    <tr>\n",
       "      <th>NaT</th>\n",
       "      <td>USGS</td>\n",
       "      <td>434400121275801</td>\n",
       "      <td>GW</td>\n",
       "      <td>1999-05-14</td>\n",
       "      <td>NaN</td>\n",
       "      <td>+0000</td>\n",
       "      <td>18.01</td>\n",
       "      <td>NaN</td>\n",
       "      <td>NaN</td>\n",
       "      <td>1</td>\n",
       "      <td>NaN</td>\n",
       "      <td>D</td>\n",
       "      <td>NaN</td>\n",
       "      <td>NaN</td>\n",
       "      <td>S</td>\n",
       "      <td>A</td>\n",
       "    </tr>\n",
       "  </tbody>\n",
       "</table>\n",
       "<p>248 rows × 16 columns</p>\n",
       "</div>"
      ],
      "text/plain": [
       "                          agency_cd          site_no site_tp_cd      lev_dt  \\\n",
       "datetime                                                                      \n",
       "1945-10-12 22:35:00+00:00      USGS  434400121275801         GW  1945-10-12   \n",
       "1999-06-04 18:00:00+00:00      USGS  434400121275801         GW  1999-06-04   \n",
       "1999-08-19 17:25:00+00:00      USGS  434400121275801         GW  1999-08-19   \n",
       "1999-11-19 18:40:00+00:00      USGS  434400121275801         GW  1999-11-19   \n",
       "2000-02-11 17:25:00+00:00      USGS  434400121275801         GW  2000-02-11   \n",
       "...                             ...              ...        ...         ...   \n",
       "NaT                            USGS  434400121275801         GW  1998-09-25   \n",
       "NaT                            USGS  434400121275801         GW  1998-11-19   \n",
       "NaT                            USGS  434400121275801         GW  1998-12-15   \n",
       "NaT                            USGS  434400121275801         GW  1999-03-19   \n",
       "NaT                            USGS  434400121275801         GW  1999-05-14   \n",
       "\n",
       "                          lev_tm lev_tz_cd  lev_va  sl_lev_va  sl_datum_cd  \\\n",
       "datetime                                                                     \n",
       "1945-10-12 22:35:00+00:00  22:35     +0000   27.35        NaN          NaN   \n",
       "1999-06-04 18:00:00+00:00  18:00     +0000   16.78        NaN          NaN   \n",
       "1999-08-19 17:25:00+00:00  17:25     +0000   15.06        NaN          NaN   \n",
       "1999-11-19 18:40:00+00:00  18:40     +0000   17.62        NaN          NaN   \n",
       "2000-02-11 17:25:00+00:00  17:25     +0000   21.00        NaN          NaN   \n",
       "...                          ...       ...     ...        ...          ...   \n",
       "NaT                          NaN     +0000   17.36        NaN          NaN   \n",
       "NaT                          NaN     +0000   19.85        NaN          NaN   \n",
       "NaT                          NaN     +0000   20.33        NaN          NaN   \n",
       "NaT                          NaN     +0000   19.05        NaN          NaN   \n",
       "NaT                          NaN     +0000   18.01        NaN          NaN   \n",
       "\n",
       "                          lev_status_cd lev_agency_cd lev_dt_acy_cd  \\\n",
       "datetime                                                              \n",
       "1945-10-12 22:35:00+00:00             1         OR004             m   \n",
       "1999-06-04 18:00:00+00:00             1           NaN             m   \n",
       "1999-08-19 17:25:00+00:00             1         OR004             m   \n",
       "1999-11-19 18:40:00+00:00             1           NaN             m   \n",
       "2000-02-11 17:25:00+00:00             1           NaN             m   \n",
       "...                                 ...           ...           ...   \n",
       "NaT                                   1          USGS             D   \n",
       "NaT                                   1         OR004             D   \n",
       "NaT                                   1           NaN             D   \n",
       "NaT                                   1          USGS             D   \n",
       "NaT                                   1           NaN             D   \n",
       "\n",
       "                           lev_acy_cd lev_src_cd lev_meth_cd lev_age_cd  \n",
       "datetime                                                                 \n",
       "1945-10-12 22:35:00+00:00         NaN          A           O          A  \n",
       "1999-06-04 18:00:00+00:00         NaN        NaN           S          A  \n",
       "1999-08-19 17:25:00+00:00         NaN          A           V          A  \n",
       "1999-11-19 18:40:00+00:00         NaN        NaN           S          A  \n",
       "2000-02-11 17:25:00+00:00         NaN        NaN           S          A  \n",
       "...                               ...        ...         ...        ...  \n",
       "NaT                               NaN          S           S          A  \n",
       "NaT                               NaN          A           S          A  \n",
       "NaT                               NaN        NaN           S          A  \n",
       "NaT                               NaN          S           S          A  \n",
       "NaT                               NaN        NaN           S          A  \n",
       "\n",
       "[248 rows x 16 columns]"
      ]
     },
     "metadata": {},
     "output_type": "display_data"
    }
   ],
   "source": [
    "display(data[0])"
   ]
  },
  {
   "cell_type": "markdown",
   "metadata": {
    "collapsed": false,
    "pycharm": {
     "name": "#%% md\n"
    }
   },
   "source": [
    "Show the data types of the columns in the resulting data frame."
   ]
  },
  {
   "cell_type": "code",
   "execution_count": 5,
   "metadata": {
    "collapsed": false,
    "execution": {
     "iopub.execute_input": "2023-02-10T17:11:33.827286Z",
     "iopub.status.busy": "2023-02-10T17:11:33.826860Z",
     "iopub.status.idle": "2023-02-10T17:11:33.831666Z",
     "shell.execute_reply": "2023-02-10T17:11:33.831092Z"
    },
    "pycharm": {
     "name": "#%%\n"
    }
   },
   "outputs": [
    {
     "name": "stdout",
     "output_type": "stream",
     "text": [
      "agency_cd         object\n",
      "site_no           object\n",
      "site_tp_cd        object\n",
      "lev_dt            object\n",
      "lev_tm            object\n",
      "lev_tz_cd         object\n",
      "lev_va           float64\n",
      "sl_lev_va        float64\n",
      "sl_datum_cd      float64\n",
      "lev_status_cd     object\n",
      "lev_agency_cd     object\n",
      "lev_dt_acy_cd     object\n",
      "lev_acy_cd       float64\n",
      "lev_src_cd        object\n",
      "lev_meth_cd       object\n",
      "lev_age_cd        object\n",
      "dtype: object\n"
     ]
    }
   ],
   "source": [
    "print(data[0].dtypes)"
   ]
  },
  {
   "cell_type": "markdown",
   "metadata": {
    "collapsed": false,
    "pycharm": {
     "name": "#%% md\n"
    }
   },
   "source": [
    "Get summary statistics for the daily streamflow values."
   ]
  },
  {
   "cell_type": "code",
   "execution_count": 6,
   "metadata": {
    "collapsed": false,
    "execution": {
     "iopub.execute_input": "2023-02-10T17:11:33.834238Z",
     "iopub.status.busy": "2023-02-10T17:11:33.833725Z",
     "iopub.status.idle": "2023-02-10T17:11:33.842018Z",
     "shell.execute_reply": "2023-02-10T17:11:33.841474Z"
    },
    "pycharm": {
     "name": "#%%\n"
    }
   },
   "outputs": [
    {
     "data": {
      "text/plain": [
       "count    248.000000\n",
       "mean      23.690605\n",
       "std        5.265540\n",
       "min       10.900000\n",
       "25%       20.127500\n",
       "50%       24.495000\n",
       "75%       27.375000\n",
       "max       41.630000\n",
       "Name: lev_va, dtype: float64"
      ]
     },
     "execution_count": 6,
     "metadata": {},
     "output_type": "execute_result"
    }
   ],
   "source": [
    "data[0]['lev_va'].describe()"
   ]
  },
  {
   "cell_type": "markdown",
   "metadata": {
    "collapsed": false,
    "pycharm": {
     "name": "#%% md\n"
    }
   },
   "source": [
    "Make a quick time series plot."
   ]
  },
  {
   "cell_type": "code",
   "execution_count": 7,
   "metadata": {
    "collapsed": false,
    "execution": {
     "iopub.execute_input": "2023-02-10T17:11:33.844812Z",
     "iopub.status.busy": "2023-02-10T17:11:33.844375Z",
     "iopub.status.idle": "2023-02-10T17:11:34.382241Z",
     "shell.execute_reply": "2023-02-10T17:11:34.381555Z"
    },
    "pycharm": {
     "name": "#%%\n"
    }
   },
   "outputs": [
    {
     "data": {
      "text/plain": [
       "Text(0, 0.5, 'Water Level (feet below land surface)')"
      ]
     },
     "execution_count": 7,
     "metadata": {},
     "output_type": "execute_result"
    },
    {
     "data": {
      "image/png": "[encoded data removed]",
      "text/plain": [
       "<Figure size 640x480 with 1 Axes>"
      ]
     },
     "metadata": {},
     "output_type": "display_data"
    }
   ],
   "source": [
    "ax = data[0].plot(y='lev_va')\n",
    "ax.set_xlabel('Date')\n",
    "ax.set_ylabel('Water Level (feet below land surface)')"
   ]
  },
  {
   "cell_type": "markdown",
   "metadata": {
    "collapsed": false,
    "pycharm": {
     "name": "#%% md\n"
    }
   },
   "source": [
    "The other part of the result returned from the `get_gwlevels()` function is a metadata object that contains information about the query that was executed to return the data. For example, you can access the URL that was assembled to retrieve the requested data from the USGS web service. The USGS web service responses contain a descriptive header that defines and can be helpful in interpreting the contents of the response."
   ]
  },
  {
   "cell_type": "code",
   "execution_count": 8,
   "metadata": {
    "collapsed": false,
    "execution": {
     "iopub.execute_input": "2023-02-10T17:11:34.385366Z",
     "iopub.status.busy": "2023-02-10T17:11:34.384899Z",
     "iopub.status.idle": "2023-02-10T17:11:34.389912Z",
     "shell.execute_reply": "2023-02-10T17:11:34.388973Z"
    },
    "pycharm": {
     "name": "#%%\n"
    }
   },
   "outputs": [
    {
     "name": "stdout",
     "output_type": "stream",
     "text": [
      "The query URL used to retrieve the data from  NWIS was: https://waterservices.usgs.gov/nwis/gwlevels?startDT=1851-01-01&sites=434400121275801&format=rdb\n"
     ]
    }
   ],
   "source": [
    "print(\"The query URL used to retrieve the data from  NWIS was: \" + data[1].url)"
   ]
  },
  {
   "cell_type": "markdown",
   "metadata": {
    "collapsed": false
   },
   "source": [
    "### Additional Examples\n",
    "\n",
    "You can also request data for multiple sites at the same time.\n",
    "\n",
    "Example 2: Get data for multiple sites. Site numbers are specified using a comma delimited list of strings."
   ]
  },
  {
   "cell_type": "code",
   "execution_count": 9,
   "metadata": {
    "collapsed": false,
    "execution": {
     "iopub.execute_input": "2023-02-10T17:11:34.392517Z",
     "iopub.status.busy": "2023-02-10T17:11:34.392213Z",
     "iopub.status.idle": "2023-02-10T17:11:34.550120Z",
     "shell.execute_reply": "2023-02-10T17:11:34.549554Z"
    },
    "pycharm": {
     "name": "#%%\n"
    }
   },
   "outputs": [
    {
     "name": "stdout",
     "output_type": "stream",
     "text": [
      "Retrieved 311 data values.\n"
     ]
    },
    {
     "name": "stderr",
     "output_type": "stream",
     "text": [
      "/home/runner/.local/lib/python3.10/site-packages/dataretrieval/utils.py:86: UserWarning: Warning: 207 incomplete dates found, consider setting datetime_index to False.\n",
      "  warnings.warn(\n"
     ]
    },
    {
     "data": {
      "text/html": [
       "<div>\n",
       "<style scoped>\n",
       "    .dataframe tbody tr th:only-of-type {\n",
       "        vertical-align: middle;\n",
       "    }\n",
       "\n",
       "    .dataframe tbody tr th {\n",
       "        vertical-align: top;\n",
       "    }\n",
       "\n",
       "    .dataframe thead th {\n",
       "        text-align: right;\n",
       "    }\n",
       "</style>\n",
       "<table border=\"1\" class=\"dataframe\">\n",
       "  <thead>\n",
       "    <tr style=\"text-align: right;\">\n",
       "      <th></th>\n",
       "      <th></th>\n",
       "      <th>agency_cd</th>\n",
       "      <th>site_tp_cd</th>\n",
       "      <th>lev_dt</th>\n",
       "      <th>lev_tm</th>\n",
       "      <th>lev_tz_cd</th>\n",
       "      <th>lev_va</th>\n",
       "      <th>sl_lev_va</th>\n",
       "      <th>sl_datum_cd</th>\n",
       "      <th>lev_status_cd</th>\n",
       "      <th>lev_agency_cd</th>\n",
       "      <th>lev_dt_acy_cd</th>\n",
       "      <th>lev_acy_cd</th>\n",
       "      <th>lev_src_cd</th>\n",
       "      <th>lev_meth_cd</th>\n",
       "      <th>lev_age_cd</th>\n",
       "    </tr>\n",
       "    <tr>\n",
       "      <th>site_no</th>\n",
       "      <th>datetime</th>\n",
       "      <th></th>\n",
       "      <th></th>\n",
       "      <th></th>\n",
       "      <th></th>\n",
       "      <th></th>\n",
       "      <th></th>\n",
       "      <th></th>\n",
       "      <th></th>\n",
       "      <th></th>\n",
       "      <th></th>\n",
       "      <th></th>\n",
       "      <th></th>\n",
       "      <th></th>\n",
       "      <th></th>\n",
       "      <th></th>\n",
       "    </tr>\n",
       "  </thead>\n",
       "  <tbody>\n",
       "    <tr>\n",
       "      <th rowspan=\"5\" valign=\"top\">375907091432201</th>\n",
       "      <th>2007-01-26 17:08:00+00:00</th>\n",
       "      <td>USGS</td>\n",
       "      <td>GW</td>\n",
       "      <td>2007-01-26</td>\n",
       "      <td>17:08</td>\n",
       "      <td>+0000</td>\n",
       "      <td>317.21</td>\n",
       "      <td>NaN</td>\n",
       "      <td>NaN</td>\n",
       "      <td>1</td>\n",
       "      <td>MO005</td>\n",
       "      <td>m</td>\n",
       "      <td>NaN</td>\n",
       "      <td>A</td>\n",
       "      <td>V</td>\n",
       "      <td>A</td>\n",
       "    </tr>\n",
       "    <tr>\n",
       "      <th>2007-06-11 19:30:00+00:00</th>\n",
       "      <td>USGS</td>\n",
       "      <td>GW</td>\n",
       "      <td>2007-06-11</td>\n",
       "      <td>19:30</td>\n",
       "      <td>+0000</td>\n",
       "      <td>309.32</td>\n",
       "      <td>NaN</td>\n",
       "      <td>NaN</td>\n",
       "      <td>1</td>\n",
       "      <td>MO005</td>\n",
       "      <td>m</td>\n",
       "      <td>NaN</td>\n",
       "      <td>A</td>\n",
       "      <td>T</td>\n",
       "      <td>A</td>\n",
       "    </tr>\n",
       "    <tr>\n",
       "      <th>2007-07-23 14:30:00+00:00</th>\n",
       "      <td>USGS</td>\n",
       "      <td>GW</td>\n",
       "      <td>2007-07-23</td>\n",
       "      <td>14:30</td>\n",
       "      <td>+0000</td>\n",
       "      <td>321.35</td>\n",
       "      <td>NaN</td>\n",
       "      <td>NaN</td>\n",
       "      <td>1</td>\n",
       "      <td>USGS</td>\n",
       "      <td>m</td>\n",
       "      <td>NaN</td>\n",
       "      <td>S</td>\n",
       "      <td>T</td>\n",
       "      <td>A</td>\n",
       "    </tr>\n",
       "    <tr>\n",
       "      <th>2007-09-04 20:15:00+00:00</th>\n",
       "      <td>USGS</td>\n",
       "      <td>GW</td>\n",
       "      <td>2007-09-04</td>\n",
       "      <td>20:15</td>\n",
       "      <td>+0000</td>\n",
       "      <td>326.55</td>\n",
       "      <td>NaN</td>\n",
       "      <td>NaN</td>\n",
       "      <td>1</td>\n",
       "      <td>MO005</td>\n",
       "      <td>m</td>\n",
       "      <td>NaN</td>\n",
       "      <td>A</td>\n",
       "      <td>T</td>\n",
       "      <td>A</td>\n",
       "    </tr>\n",
       "    <tr>\n",
       "      <th>2007-10-01 15:17:00+00:00</th>\n",
       "      <td>USGS</td>\n",
       "      <td>GW</td>\n",
       "      <td>2007-10-01</td>\n",
       "      <td>15:17</td>\n",
       "      <td>+0000</td>\n",
       "      <td>317.01</td>\n",
       "      <td>NaN</td>\n",
       "      <td>NaN</td>\n",
       "      <td>1</td>\n",
       "      <td>MO005</td>\n",
       "      <td>m</td>\n",
       "      <td>NaN</td>\n",
       "      <td>A</td>\n",
       "      <td>T</td>\n",
       "      <td>A</td>\n",
       "    </tr>\n",
       "    <tr>\n",
       "      <th>...</th>\n",
       "      <th>...</th>\n",
       "      <td>...</td>\n",
       "      <td>...</td>\n",
       "      <td>...</td>\n",
       "      <td>...</td>\n",
       "      <td>...</td>\n",
       "      <td>...</td>\n",
       "      <td>...</td>\n",
       "      <td>...</td>\n",
       "      <td>...</td>\n",
       "      <td>...</td>\n",
       "      <td>...</td>\n",
       "      <td>...</td>\n",
       "      <td>...</td>\n",
       "      <td>...</td>\n",
       "      <td>...</td>\n",
       "    </tr>\n",
       "    <tr>\n",
       "      <th rowspan=\"5\" valign=\"top\">434400121275801</th>\n",
       "      <th>NaT</th>\n",
       "      <td>USGS</td>\n",
       "      <td>GW</td>\n",
       "      <td>1998-09-25</td>\n",
       "      <td>NaN</td>\n",
       "      <td>+0000</td>\n",
       "      <td>17.36</td>\n",
       "      <td>NaN</td>\n",
       "      <td>NaN</td>\n",
       "      <td>1</td>\n",
       "      <td>USGS</td>\n",
       "      <td>D</td>\n",
       "      <td>NaN</td>\n",
       "      <td>S</td>\n",
       "      <td>S</td>\n",
       "      <td>A</td>\n",
       "    </tr>\n",
       "    <tr>\n",
       "      <th>NaT</th>\n",
       "      <td>USGS</td>\n",
       "      <td>GW</td>\n",
       "      <td>1998-11-19</td>\n",
       "      <td>NaN</td>\n",
       "      <td>+0000</td>\n",
       "      <td>19.85</td>\n",
       "      <td>NaN</td>\n",
       "      <td>NaN</td>\n",
       "      <td>1</td>\n",
       "      <td>OR004</td>\n",
       "      <td>D</td>\n",
       "      <td>NaN</td>\n",
       "      <td>A</td>\n",
       "      <td>S</td>\n",
       "      <td>A</td>\n",
       "    </tr>\n",
       "    <tr>\n",
       "      <th>NaT</th>\n",
       "      <td>USGS</td>\n",
       "      <td>GW</td>\n",
       "      <td>1998-12-15</td>\n",
       "      <td>NaN</td>\n",
       "      <td>+0000</td>\n",
       "      <td>20.33</td>\n",
       "      <td>NaN</td>\n",
       "      <td>NaN</td>\n",
       "      <td>1</td>\n",
       "      <td>NaN</td>\n",
       "      <td>D</td>\n",
       "      <td>NaN</td>\n",
       "      <td>NaN</td>\n",
       "      <td>S</td>\n",
       "      <td>A</td>\n",
       "    </tr>\n",
       "    <tr>\n",
       "      <th>NaT</th>\n",
       "      <td>USGS</td>\n",
       "      <td>GW</td>\n",
       "      <td>1999-03-19</td>\n",
       "      <td>NaN</td>\n",
       "      <td>+0000</td>\n",
       "      <td>19.05</td>\n",
       "      <td>NaN</td>\n",
       "      <td>NaN</td>\n",
       "      <td>1</td>\n",
       "      <td>USGS</td>\n",
       "      <td>D</td>\n",
       "      <td>NaN</td>\n",
       "      <td>S</td>\n",
       "      <td>S</td>\n",
       "      <td>A</td>\n",
       "    </tr>\n",
       "    <tr>\n",
       "      <th>NaT</th>\n",
       "      <td>USGS</td>\n",
       "      <td>GW</td>\n",
       "      <td>1999-05-14</td>\n",
       "      <td>NaN</td>\n",
       "      <td>+0000</td>\n",
       "      <td>18.01</td>\n",
       "      <td>NaN</td>\n",
       "      <td>NaN</td>\n",
       "      <td>1</td>\n",
       "      <td>NaN</td>\n",
       "      <td>D</td>\n",
       "      <td>NaN</td>\n",
       "      <td>NaN</td>\n",
       "      <td>S</td>\n",
       "      <td>A</td>\n",
       "    </tr>\n",
       "  </tbody>\n",
       "</table>\n",
       "<p>311 rows × 15 columns</p>\n",
       "</div>"
      ],
      "text/plain": [
       "                                          agency_cd site_tp_cd      lev_dt  \\\n",
       "site_no         datetime                                                     \n",
       "375907091432201 2007-01-26 17:08:00+00:00      USGS         GW  2007-01-26   \n",
       "                2007-06-11 19:30:00+00:00      USGS         GW  2007-06-11   \n",
       "                2007-07-23 14:30:00+00:00      USGS         GW  2007-07-23   \n",
       "                2007-09-04 20:15:00+00:00      USGS         GW  2007-09-04   \n",
       "                2007-10-01 15:17:00+00:00      USGS         GW  2007-10-01   \n",
       "...                                             ...        ...         ...   \n",
       "434400121275801 NaT                            USGS         GW  1998-09-25   \n",
       "                NaT                            USGS         GW  1998-11-19   \n",
       "                NaT                            USGS         GW  1998-12-15   \n",
       "                NaT                            USGS         GW  1999-03-19   \n",
       "                NaT                            USGS         GW  1999-05-14   \n",
       "\n",
       "                                          lev_tm lev_tz_cd  lev_va  sl_lev_va  \\\n",
       "site_no         datetime                                                        \n",
       "375907091432201 2007-01-26 17:08:00+00:00  17:08     +0000  317.21        NaN   \n",
       "                2007-06-11 19:30:00+00:00  19:30     +0000  309.32        NaN   \n",
       "                2007-07-23 14:30:00+00:00  14:30     +0000  321.35        NaN   \n",
       "                2007-09-04 20:15:00+00:00  20:15     +0000  326.55        NaN   \n",
       "                2007-10-01 15:17:00+00:00  15:17     +0000  317.01        NaN   \n",
       "...                                          ...       ...     ...        ...   \n",
       "434400121275801 NaT                          NaN     +0000   17.36        NaN   \n",
       "                NaT                          NaN     +0000   19.85        NaN   \n",
       "                NaT                          NaN     +0000   20.33        NaN   \n",
       "                NaT                          NaN     +0000   19.05        NaN   \n",
       "                NaT                          NaN     +0000   18.01        NaN   \n",
       "\n",
       "                                           sl_datum_cd lev_status_cd  \\\n",
       "site_no         datetime                                               \n",
       "375907091432201 2007-01-26 17:08:00+00:00          NaN             1   \n",
       "                2007-06-11 19:30:00+00:00          NaN             1   \n",
       "                2007-07-23 14:30:00+00:00          NaN             1   \n",
       "                2007-09-04 20:15:00+00:00          NaN             1   \n",
       "                2007-10-01 15:17:00+00:00          NaN             1   \n",
       "...                                                ...           ...   \n",
       "434400121275801 NaT                                NaN             1   \n",
       "                NaT                                NaN             1   \n",
       "                NaT                                NaN             1   \n",
       "                NaT                                NaN             1   \n",
       "                NaT                                NaN             1   \n",
       "\n",
       "                                          lev_agency_cd lev_dt_acy_cd  \\\n",
       "site_no         datetime                                                \n",
       "375907091432201 2007-01-26 17:08:00+00:00         MO005             m   \n",
       "                2007-06-11 19:30:00+00:00         MO005             m   \n",
       "                2007-07-23 14:30:00+00:00          USGS             m   \n",
       "                2007-09-04 20:15:00+00:00         MO005             m   \n",
       "                2007-10-01 15:17:00+00:00         MO005             m   \n",
       "...                                                 ...           ...   \n",
       "434400121275801 NaT                                USGS             D   \n",
       "                NaT                               OR004             D   \n",
       "                NaT                                 NaN             D   \n",
       "                NaT                                USGS             D   \n",
       "                NaT                                 NaN             D   \n",
       "\n",
       "                                           lev_acy_cd lev_src_cd lev_meth_cd  \\\n",
       "site_no         datetime                                                       \n",
       "375907091432201 2007-01-26 17:08:00+00:00         NaN          A           V   \n",
       "                2007-06-11 19:30:00+00:00         NaN          A           T   \n",
       "                2007-07-23 14:30:00+00:00         NaN          S           T   \n",
       "                2007-09-04 20:15:00+00:00         NaN          A           T   \n",
       "                2007-10-01 15:17:00+00:00         NaN          A           T   \n",
       "...                                               ...        ...         ...   \n",
       "434400121275801 NaT                               NaN          S           S   \n",
       "                NaT                               NaN          A           S   \n",
       "                NaT                               NaN        NaN           S   \n",
       "                NaT                               NaN          S           S   \n",
       "                NaT                               NaN        NaN           S   \n",
       "\n",
       "                                          lev_age_cd  \n",
       "site_no         datetime                              \n",
       "375907091432201 2007-01-26 17:08:00+00:00          A  \n",
       "                2007-06-11 19:30:00+00:00          A  \n",
       "                2007-07-23 14:30:00+00:00          A  \n",
       "                2007-09-04 20:15:00+00:00          A  \n",
       "                2007-10-01 15:17:00+00:00          A  \n",
       "...                                              ...  \n",
       "434400121275801 NaT                                A  \n",
       "                NaT                                A  \n",
       "                NaT                                A  \n",
       "                NaT                                A  \n",
       "                NaT                                A  \n",
       "\n",
       "[311 rows x 15 columns]"
      ]
     },
     "metadata": {},
     "output_type": "display_data"
    }
   ],
   "source": [
    "site_ids = [\"434400121275801\", \"375907091432201\"]\n",
    "data2 = nwis.get_gwlevels(sites=site_ids)\n",
    "print(\"Retrieved \" + str(len(data2[0])) + \" data values.\")\n",
    "display(data2[0])"
   ]
  },
  {
   "cell_type": "markdown",
   "metadata": {
    "collapsed": false,
    "pycharm": {
     "name": "#%% md\n"
    }
   },
   "source": [
    "Some groundwater level data have dates that include only a year or a month and year, but no day.\n",
    "\n",
    "Example 3: Retrieve groundwater level data that have dates without a day."
   ]
  },
  {
   "cell_type": "code",
   "execution_count": 10,
   "metadata": {
    "collapsed": false,
    "execution": {
     "iopub.execute_input": "2023-02-10T17:11:34.553323Z",
     "iopub.status.busy": "2023-02-10T17:11:34.552806Z",
     "iopub.status.idle": "2023-02-10T17:11:35.060127Z",
     "shell.execute_reply": "2023-02-10T17:11:35.059414Z"
    },
    "pycharm": {
     "name": "#%%\n"
    }
   },
   "outputs": [
    {
     "name": "stdout",
     "output_type": "stream",
     "text": [
      "Retrieved 34 data values.\n",
      "DatetimeIndex(['NaT', 'NaT', 'NaT', 'NaT', 'NaT', 'NaT', 'NaT', 'NaT', 'NaT',\n",
      "               'NaT', 'NaT', 'NaT', 'NaT', 'NaT', 'NaT', 'NaT', 'NaT', 'NaT',\n",
      "               'NaT', 'NaT', 'NaT', 'NaT', 'NaT', 'NaT', 'NaT', 'NaT', 'NaT',\n",
      "               'NaT', 'NaT', 'NaT', 'NaT', 'NaT', 'NaT', 'NaT'],\n",
      "              dtype='datetime64[ns, UTC]', name='datetime', freq=None)\n"
     ]
    },
    {
     "name": "stderr",
     "output_type": "stream",
     "text": [
      "/home/runner/.local/lib/python3.10/site-packages/dataretrieval/utils.py:86: UserWarning: Warning: 34 incomplete dates found, consider setting datetime_index to False.\n",
      "  warnings.warn(\n"
     ]
    }
   ],
   "source": [
    "data3 = nwis.get_gwlevels(sites=\"425957088141001\")\n",
    "print(\"Retrieved \" + str(len(data3[0])) + \" data values.\")\n",
    "\n",
    "# Print the date/time index values, which show up as NaT because\n",
    "# the dates can't be converted to a date/time data type\n",
    "print(data3[0].index)"
   ]
  },
  {
   "cell_type": "markdown",
   "metadata": {
    "collapsed": false,
    "pycharm": {
     "name": "#%% md\n"
    }
   },
   "source": [
    "If you want to see the USGS RDB (delimited text) version of the data just retrieved, you can get the URL for the request that was sent to the USGS web service."
   ]
  },
  {
   "cell_type": "code",
   "execution_count": 11,
   "metadata": {
    "collapsed": false,
    "execution": {
     "iopub.execute_input": "2023-02-10T17:11:35.062869Z",
     "iopub.status.busy": "2023-02-10T17:11:35.062423Z",
     "iopub.status.idle": "2023-02-10T17:11:35.067659Z",
     "shell.execute_reply": "2023-02-10T17:11:35.066530Z"
    },
    "pycharm": {
     "name": "#%%\n"
    }
   },
   "outputs": [
    {
     "name": "stdout",
     "output_type": "stream",
     "text": [
      "You can examine the data retrieved from NWIS at: https://waterservices.usgs.gov/nwis/gwlevels?startDT=1851-01-01&sites=425957088141001&format=rdb\n"
     ]
    }
   ],
   "source": [
    "# Print the URL used to retrieve the data\n",
    "print(\"You can examine the data retrieved from NWIS at: \" + data3[1].url)"
   ]
  },
  {
   "cell_type": "markdown",
   "metadata": {
    "collapsed": false,
    "pycharm": {
     "name": "#%% md\n"
    }
   },
   "source": [
    "You can also retrieve data for a site within a specified time window by specifying a start date and an end date.\n",
    "\n",
    "Example 4: Get groundwater level data for a site between a startDate and endDate."
   ]
  },
  {
   "cell_type": "code",
   "execution_count": 12,
   "metadata": {
    "collapsed": false,
    "execution": {
     "iopub.execute_input": "2023-02-10T17:11:35.070095Z",
     "iopub.status.busy": "2023-02-10T17:11:35.069748Z",
     "iopub.status.idle": "2023-02-10T17:11:35.190308Z",
     "shell.execute_reply": "2023-02-10T17:11:35.189560Z"
    },
    "pycharm": {
     "name": "#%%\n"
    }
   },
   "outputs": [
    {
     "name": "stdout",
     "output_type": "stream",
     "text": [
      "Retrieved 71 data values.\n"
     ]
    },
    {
     "name": "stderr",
     "output_type": "stream",
     "text": [
      "/home/runner/.local/lib/python3.10/site-packages/dataretrieval/utils.py:86: UserWarning: Warning: 63 incomplete dates found, consider setting datetime_index to False.\n",
      "  warnings.warn(\n"
     ]
    }
   ],
   "source": [
    "data4 = nwis.get_gwlevels(sites=site_id, start=\"1980-01-01\", end=\"2000-12-31\")\n",
    "print(\"Retrieved \" + str(len(data4[0])) + \" data values.\")\n"
   ]
  }
 ],
 "metadata": {
  "kernelspec": {
   "display_name": "Python 3",
   "language": "python",
   "name": "python3"
  },
  "language_info": {
   "codemirror_mode": {
    "name": "ipython",
    "version": 3
   },
   "file_extension": ".py",
   "mimetype": "text/x-python",
   "name": "python",
   "nbconvert_exporter": "python",
   "pygments_lexer": "ipython3",
   "version": "3.10.6"
  }
 },
 "nbformat": 4,
 "nbformat_minor": 0
}
