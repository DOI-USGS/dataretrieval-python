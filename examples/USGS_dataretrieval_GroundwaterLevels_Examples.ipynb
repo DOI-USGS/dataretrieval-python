{
 "cells": [
  {
   "cell_type": "markdown",
   "metadata": {
    "collapsed": true,
    "pycharm": {
     "name": "#%% md\n"
    }
   },
   "source": [
    "# USGS dataretrieval Python Package `get_gwlevels()` Examples\n",
    "\n",
    "This notebook provides examples of using the Python dataretrieval package to retrieve groundwater level data for a United States  Geological Survey (USGS) monitoring site. The dataretrieval package provides a collection of functions to get data from the USGS National Water Information System (NWIS) and other online sources of hydrology and water quality data, including the United States Environmental Protection Agency (USEPA)."
   ]
  },
  {
   "cell_type": "markdown",
   "metadata": {
    "collapsed": false
   },
   "source": [
    "### Install the Package\n",
    "\n",
    "Use the following code to install the package if it doesn't exist already within your Jupyter Python environment."
   ]
  },
  {
   "cell_type": "code",
   "execution_count": 1,
   "metadata": {
    "collapsed": false,
    "execution": {
     "iopub.execute_input": "2024-08-08T02:57:04.389559Z",
     "iopub.status.busy": "2024-08-08T02:57:04.389380Z",
     "iopub.status.idle": "2024-08-08T02:57:05.139834Z",
     "shell.execute_reply": "2024-08-08T02:57:05.139212Z"
    },
    "pycharm": {
     "name": "#%%\n"
    }
   },
   "outputs": [
    {
     "name": "stdout",
     "output_type": "stream",
     "text": [
      "Defaulting to user installation because normal site-packages is not writeable\r\n"
     ]
    },
    {
     "name": "stdout",
     "output_type": "stream",
     "text": [
      "Requirement already satisfied: dataretrieval in /home/runner/.local/lib/python3.10/site-packages (0.1.dev1+gc9fbab8)\r\n",
      "Requirement already satisfied: requests in /home/runner/.local/lib/python3.10/site-packages (from dataretrieval) (2.32.3)\r\n",
      "Requirement already satisfied: pandas==2.* in /home/runner/.local/lib/python3.10/site-packages (from dataretrieval) (2.2.2)\r\n"
     ]
    },
    {
     "name": "stdout",
     "output_type": "stream",
     "text": [
      "Requirement already satisfied: numpy>=1.22.4 in /home/runner/.local/lib/python3.10/site-packages (from pandas==2.*->dataretrieval) (2.0.1)\r\n",
      "Requirement already satisfied: python-dateutil>=2.8.2 in /home/runner/.local/lib/python3.10/site-packages (from pandas==2.*->dataretrieval) (2.9.0.post0)\r\n",
      "Requirement already satisfied: pytz>=2020.1 in /usr/lib/python3/dist-packages (from pandas==2.*->dataretrieval) (2022.1)\r\n",
      "Requirement already satisfied: tzdata>=2022.7 in /home/runner/.local/lib/python3.10/site-packages (from pandas==2.*->dataretrieval) (2024.1)\r\n",
      "Requirement already satisfied: charset-normalizer<4,>=2 in /home/runner/.local/lib/python3.10/site-packages (from requests->dataretrieval) (3.3.2)\r\n",
      "Requirement already satisfied: idna<4,>=2.5 in /usr/lib/python3/dist-packages (from requests->dataretrieval) (3.3)\r\n",
      "Requirement already satisfied: urllib3<3,>=1.21.1 in /usr/lib/python3/dist-packages (from requests->dataretrieval) (1.26.5)\r\n",
      "Requirement already satisfied: certifi>=2017.4.17 in /usr/lib/python3/dist-packages (from requests->dataretrieval) (2020.6.20)\r\n",
      "Requirement already satisfied: six>=1.5 in /usr/lib/python3/dist-packages (from python-dateutil>=2.8.2->pandas==2.*->dataretrieval) (1.16.0)\r\n"
     ]
    }
   ],
   "source": [
    "!pip install dataretrieval"
   ]
  },
  {
   "cell_type": "markdown",
   "metadata": {
    "collapsed": false
   },
   "source": [
    "Load the package so you can use it along with other packages used in this notebook."
   ]
  },
  {
   "cell_type": "code",
   "execution_count": 2,
   "metadata": {
    "collapsed": false,
    "execution": {
     "iopub.execute_input": "2024-08-08T02:57:05.142657Z",
     "iopub.status.busy": "2024-08-08T02:57:05.142253Z",
     "iopub.status.idle": "2024-08-08T02:57:05.430775Z",
     "shell.execute_reply": "2024-08-08T02:57:05.430245Z"
    },
    "pycharm": {
     "name": "#%%\n"
    }
   },
   "outputs": [],
   "source": [
    "from dataretrieval import nwis\n",
    "from IPython.display import display"
   ]
  },
  {
   "cell_type": "markdown",
   "metadata": {
    "collapsed": false
   },
   "source": [
    "### Basic Usage\n",
    "\n",
    "The dataretrieval package has several functions that allow you to retrieve data from different web services. This examples uses the `get_gwlevels()` function to retrieve groundwater level data from USGS NWIS. The following arguments are supported:\n",
    "\n",
    "Arguments (Additional parameters, if supplied, will be used as query parameters)\n",
    "\n",
    "* **sites** (string or list of strings): A list of USGS site identifiers for which to retrieve data.\n",
    "* **start** (string): The beginning date for a period for which to retrieve data. If the waterdata parameter begin_date is supplied, it will overwrite the start parameter (defaults to '1851-01-01')\n",
    "* **end** (string): The ending date for a period for which to retrieve data. If the waterdata parameter end_date is supplied, it will overwrite the end parameter."
   ]
  },
  {
   "cell_type": "markdown",
   "metadata": {
    "collapsed": false,
    "pycharm": {
     "name": "#%% md\n"
    }
   },
   "source": [
    "Example 1: Get groundwater level data for a single monitoring site."
   ]
  },
  {
   "cell_type": "code",
   "execution_count": 3,
   "metadata": {
    "collapsed": false,
    "execution": {
     "iopub.execute_input": "2024-08-08T02:57:05.433638Z",
     "iopub.status.busy": "2024-08-08T02:57:05.433201Z",
     "iopub.status.idle": "2024-08-08T02:57:05.947104Z",
     "shell.execute_reply": "2024-08-08T02:57:05.946553Z"
    },
    "pycharm": {
     "name": "#%%\n"
    }
   },
   "outputs": [
    {
     "name": "stdout",
     "output_type": "stream",
     "text": [
      "Retrieved 744 data values.\n"
     ]
    },
    {
     "name": "stderr",
     "output_type": "stream",
     "text": [
      "/home/runner/.local/lib/python3.10/site-packages/dataretrieval/utils.py:89: UserWarning: Warning: 567 incomplete dates found, consider setting datetime_index to False.\n",
      "  warnings.warn(\n"
     ]
    }
   ],
   "source": [
    "# Set the parameters needed to retrieve data\n",
    "site_id = \"434400121275801\"\n",
    "\n",
    "# Retrieve the data\n",
    "data = nwis.get_gwlevels(sites=site_id)\n",
    "print(\"Retrieved \" + str(len(data[0])) + \" data values.\")"
   ]
  },
  {
   "cell_type": "markdown",
   "metadata": {
    "collapsed": false
   },
   "source": [
    "### Interpreting the Result\n",
    "\n",
    "The result of calling the `get_gwlevels()` function is an object that contains a Pandas data frame and an associated metadata object. The Pandas data frame contains the data requested. The data frame is indexed by the dates associated with the data values.\n",
    "\n",
    "Once you've got the data frame, there's several useful things you can do to explore the data."
   ]
  },
  {
   "cell_type": "markdown",
   "metadata": {
    "collapsed": false,
    "pycharm": {
     "name": "#%% md\n"
    }
   },
   "source": [
    "Display the data frame as a table"
   ]
  },
  {
   "cell_type": "code",
   "execution_count": 4,
   "metadata": {
    "collapsed": false,
    "execution": {
     "iopub.execute_input": "2024-08-08T02:57:05.949229Z",
     "iopub.status.busy": "2024-08-08T02:57:05.949047Z",
     "iopub.status.idle": "2024-08-08T02:57:05.964261Z",
     "shell.execute_reply": "2024-08-08T02:57:05.963808Z"
    },
    "pycharm": {
     "name": "#%%\n"
    }
   },
   "outputs": [
    {
     "data": {
      "text/html": [
       "<div>\n",
       "<style scoped>\n",
       "    .dataframe tbody tr th:only-of-type {\n",
       "        vertical-align: middle;\n",
       "    }\n",
       "\n",
       "    .dataframe tbody tr th {\n",
       "        vertical-align: top;\n",
       "    }\n",
       "\n",
       "    .dataframe thead th {\n",
       "        text-align: right;\n",
       "    }\n",
       "</style>\n",
       "<table border=\"1\" class=\"dataframe\">\n",
       "  <thead>\n",
       "    <tr style=\"text-align: right;\">\n",
       "      <th></th>\n",
       "      <th>agency_cd</th>\n",
       "      <th>site_no</th>\n",
       "      <th>site_tp_cd</th>\n",
       "      <th>lev_dt</th>\n",
       "      <th>lev_tm</th>\n",
       "      <th>lev_tz_cd</th>\n",
       "      <th>lev_va</th>\n",
       "      <th>sl_lev_va</th>\n",
       "      <th>sl_datum_cd</th>\n",
       "      <th>lev_status_cd</th>\n",
       "      <th>lev_agency_cd</th>\n",
       "      <th>lev_dt_acy_cd</th>\n",
       "      <th>lev_acy_cd</th>\n",
       "      <th>lev_src_cd</th>\n",
       "      <th>lev_meth_cd</th>\n",
       "      <th>lev_age_cd</th>\n",
       "      <th>parameter_cd</th>\n",
       "    </tr>\n",
       "    <tr>\n",
       "      <th>datetime</th>\n",
       "      <th></th>\n",
       "      <th></th>\n",
       "      <th></th>\n",
       "      <th></th>\n",
       "      <th></th>\n",
       "      <th></th>\n",
       "      <th></th>\n",
       "      <th></th>\n",
       "      <th></th>\n",
       "      <th></th>\n",
       "      <th></th>\n",
       "      <th></th>\n",
       "      <th></th>\n",
       "      <th></th>\n",
       "      <th></th>\n",
       "      <th></th>\n",
       "      <th></th>\n",
       "    </tr>\n",
       "  </thead>\n",
       "  <tbody>\n",
       "    <tr>\n",
       "      <th>1945-10-12 22:35:00+00:00</th>\n",
       "      <td>USGS</td>\n",
       "      <td>434400121275801</td>\n",
       "      <td>GW</td>\n",
       "      <td>1945-10-12</td>\n",
       "      <td>22:35</td>\n",
       "      <td>+0000</td>\n",
       "      <td>NaN</td>\n",
       "      <td>4192.65</td>\n",
       "      <td>NGVD29</td>\n",
       "      <td>1</td>\n",
       "      <td>USGS</td>\n",
       "      <td>m</td>\n",
       "      <td>2</td>\n",
       "      <td>S</td>\n",
       "      <td>O</td>\n",
       "      <td>A</td>\n",
       "      <td>62610</td>\n",
       "    </tr>\n",
       "    <tr>\n",
       "      <th>1945-10-12 22:35:00+00:00</th>\n",
       "      <td>USGS</td>\n",
       "      <td>434400121275801</td>\n",
       "      <td>GW</td>\n",
       "      <td>1945-10-12</td>\n",
       "      <td>22:35</td>\n",
       "      <td>+0000</td>\n",
       "      <td>NaN</td>\n",
       "      <td>4196.67</td>\n",
       "      <td>NAVD88</td>\n",
       "      <td>1</td>\n",
       "      <td>USGS</td>\n",
       "      <td>m</td>\n",
       "      <td>2</td>\n",
       "      <td>S</td>\n",
       "      <td>O</td>\n",
       "      <td>A</td>\n",
       "      <td>62611</td>\n",
       "    </tr>\n",
       "    <tr>\n",
       "      <th>1945-10-12 22:35:00+00:00</th>\n",
       "      <td>USGS</td>\n",
       "      <td>434400121275801</td>\n",
       "      <td>GW</td>\n",
       "      <td>1945-10-12</td>\n",
       "      <td>22:35</td>\n",
       "      <td>+0000</td>\n",
       "      <td>27.35</td>\n",
       "      <td>NaN</td>\n",
       "      <td>NaN</td>\n",
       "      <td>1</td>\n",
       "      <td>USGS</td>\n",
       "      <td>m</td>\n",
       "      <td>2</td>\n",
       "      <td>S</td>\n",
       "      <td>O</td>\n",
       "      <td>A</td>\n",
       "      <td>72019</td>\n",
       "    </tr>\n",
       "    <tr>\n",
       "      <th>1999-06-04 18:00:00+00:00</th>\n",
       "      <td>USGS</td>\n",
       "      <td>434400121275801</td>\n",
       "      <td>GW</td>\n",
       "      <td>1999-06-04</td>\n",
       "      <td>18:00</td>\n",
       "      <td>+0000</td>\n",
       "      <td>NaN</td>\n",
       "      <td>4203.22</td>\n",
       "      <td>NGVD29</td>\n",
       "      <td>1</td>\n",
       "      <td>USGS</td>\n",
       "      <td>m</td>\n",
       "      <td>2</td>\n",
       "      <td>S</td>\n",
       "      <td>S</td>\n",
       "      <td>A</td>\n",
       "      <td>62610</td>\n",
       "    </tr>\n",
       "    <tr>\n",
       "      <th>1999-06-04 18:00:00+00:00</th>\n",
       "      <td>USGS</td>\n",
       "      <td>434400121275801</td>\n",
       "      <td>GW</td>\n",
       "      <td>1999-06-04</td>\n",
       "      <td>18:00</td>\n",
       "      <td>+0000</td>\n",
       "      <td>NaN</td>\n",
       "      <td>4207.24</td>\n",
       "      <td>NAVD88</td>\n",
       "      <td>1</td>\n",
       "      <td>USGS</td>\n",
       "      <td>m</td>\n",
       "      <td>2</td>\n",
       "      <td>S</td>\n",
       "      <td>S</td>\n",
       "      <td>A</td>\n",
       "      <td>62611</td>\n",
       "    </tr>\n",
       "    <tr>\n",
       "      <th>...</th>\n",
       "      <td>...</td>\n",
       "      <td>...</td>\n",
       "      <td>...</td>\n",
       "      <td>...</td>\n",
       "      <td>...</td>\n",
       "      <td>...</td>\n",
       "      <td>...</td>\n",
       "      <td>...</td>\n",
       "      <td>...</td>\n",
       "      <td>...</td>\n",
       "      <td>...</td>\n",
       "      <td>...</td>\n",
       "      <td>...</td>\n",
       "      <td>...</td>\n",
       "      <td>...</td>\n",
       "      <td>...</td>\n",
       "      <td>...</td>\n",
       "    </tr>\n",
       "    <tr>\n",
       "      <th>NaT</th>\n",
       "      <td>USGS</td>\n",
       "      <td>434400121275801</td>\n",
       "      <td>GW</td>\n",
       "      <td>1999-03-19</td>\n",
       "      <td>NaN</td>\n",
       "      <td>NaN</td>\n",
       "      <td>NaN</td>\n",
       "      <td>4204.97</td>\n",
       "      <td>NAVD88</td>\n",
       "      <td>1</td>\n",
       "      <td>NaN</td>\n",
       "      <td>D</td>\n",
       "      <td>2</td>\n",
       "      <td>NaN</td>\n",
       "      <td>S</td>\n",
       "      <td>A</td>\n",
       "      <td>62611</td>\n",
       "    </tr>\n",
       "    <tr>\n",
       "      <th>NaT</th>\n",
       "      <td>USGS</td>\n",
       "      <td>434400121275801</td>\n",
       "      <td>GW</td>\n",
       "      <td>1999-03-19</td>\n",
       "      <td>NaN</td>\n",
       "      <td>NaN</td>\n",
       "      <td>19.05</td>\n",
       "      <td>NaN</td>\n",
       "      <td>NaN</td>\n",
       "      <td>1</td>\n",
       "      <td>NaN</td>\n",
       "      <td>D</td>\n",
       "      <td>2</td>\n",
       "      <td>NaN</td>\n",
       "      <td>S</td>\n",
       "      <td>A</td>\n",
       "      <td>72019</td>\n",
       "    </tr>\n",
       "    <tr>\n",
       "      <th>NaT</th>\n",
       "      <td>USGS</td>\n",
       "      <td>434400121275801</td>\n",
       "      <td>GW</td>\n",
       "      <td>1999-05-14</td>\n",
       "      <td>NaN</td>\n",
       "      <td>NaN</td>\n",
       "      <td>NaN</td>\n",
       "      <td>4201.99</td>\n",
       "      <td>NGVD29</td>\n",
       "      <td>1</td>\n",
       "      <td>USGS</td>\n",
       "      <td>D</td>\n",
       "      <td>2</td>\n",
       "      <td>S</td>\n",
       "      <td>S</td>\n",
       "      <td>A</td>\n",
       "      <td>62610</td>\n",
       "    </tr>\n",
       "    <tr>\n",
       "      <th>NaT</th>\n",
       "      <td>USGS</td>\n",
       "      <td>434400121275801</td>\n",
       "      <td>GW</td>\n",
       "      <td>1999-05-14</td>\n",
       "      <td>NaN</td>\n",
       "      <td>NaN</td>\n",
       "      <td>NaN</td>\n",
       "      <td>4206.01</td>\n",
       "      <td>NAVD88</td>\n",
       "      <td>1</td>\n",
       "      <td>USGS</td>\n",
       "      <td>D</td>\n",
       "      <td>2</td>\n",
       "      <td>S</td>\n",
       "      <td>S</td>\n",
       "      <td>A</td>\n",
       "      <td>62611</td>\n",
       "    </tr>\n",
       "    <tr>\n",
       "      <th>NaT</th>\n",
       "      <td>USGS</td>\n",
       "      <td>434400121275801</td>\n",
       "      <td>GW</td>\n",
       "      <td>1999-05-14</td>\n",
       "      <td>NaN</td>\n",
       "      <td>NaN</td>\n",
       "      <td>18.01</td>\n",
       "      <td>NaN</td>\n",
       "      <td>NaN</td>\n",
       "      <td>1</td>\n",
       "      <td>USGS</td>\n",
       "      <td>D</td>\n",
       "      <td>2</td>\n",
       "      <td>S</td>\n",
       "      <td>S</td>\n",
       "      <td>A</td>\n",
       "      <td>72019</td>\n",
       "    </tr>\n",
       "  </tbody>\n",
       "</table>\n",
       "<p>744 rows × 17 columns</p>\n",
       "</div>"
      ],
      "text/plain": [
       "                          agency_cd          site_no site_tp_cd      lev_dt  \\\n",
       "datetime                                                                      \n",
       "1945-10-12 22:35:00+00:00      USGS  434400121275801         GW  1945-10-12   \n",
       "1945-10-12 22:35:00+00:00      USGS  434400121275801         GW  1945-10-12   \n",
       "1945-10-12 22:35:00+00:00      USGS  434400121275801         GW  1945-10-12   \n",
       "1999-06-04 18:00:00+00:00      USGS  434400121275801         GW  1999-06-04   \n",
       "1999-06-04 18:00:00+00:00      USGS  434400121275801         GW  1999-06-04   \n",
       "...                             ...              ...        ...         ...   \n",
       "NaT                            USGS  434400121275801         GW  1999-03-19   \n",
       "NaT                            USGS  434400121275801         GW  1999-03-19   \n",
       "NaT                            USGS  434400121275801         GW  1999-05-14   \n",
       "NaT                            USGS  434400121275801         GW  1999-05-14   \n",
       "NaT                            USGS  434400121275801         GW  1999-05-14   \n",
       "\n",
       "                          lev_tm lev_tz_cd  lev_va  sl_lev_va sl_datum_cd  \\\n",
       "datetime                                                                    \n",
       "1945-10-12 22:35:00+00:00  22:35     +0000     NaN    4192.65      NGVD29   \n",
       "1945-10-12 22:35:00+00:00  22:35     +0000     NaN    4196.67      NAVD88   \n",
       "1945-10-12 22:35:00+00:00  22:35     +0000   27.35        NaN         NaN   \n",
       "1999-06-04 18:00:00+00:00  18:00     +0000     NaN    4203.22      NGVD29   \n",
       "1999-06-04 18:00:00+00:00  18:00     +0000     NaN    4207.24      NAVD88   \n",
       "...                          ...       ...     ...        ...         ...   \n",
       "NaT                          NaN       NaN     NaN    4204.97      NAVD88   \n",
       "NaT                          NaN       NaN   19.05        NaN         NaN   \n",
       "NaT                          NaN       NaN     NaN    4201.99      NGVD29   \n",
       "NaT                          NaN       NaN     NaN    4206.01      NAVD88   \n",
       "NaT                          NaN       NaN   18.01        NaN         NaN   \n",
       "\n",
       "                          lev_status_cd lev_agency_cd lev_dt_acy_cd  \\\n",
       "datetime                                                              \n",
       "1945-10-12 22:35:00+00:00             1          USGS             m   \n",
       "1945-10-12 22:35:00+00:00             1          USGS             m   \n",
       "1945-10-12 22:35:00+00:00             1          USGS             m   \n",
       "1999-06-04 18:00:00+00:00             1          USGS             m   \n",
       "1999-06-04 18:00:00+00:00             1          USGS             m   \n",
       "...                                 ...           ...           ...   \n",
       "NaT                                   1           NaN             D   \n",
       "NaT                                   1           NaN             D   \n",
       "NaT                                   1          USGS             D   \n",
       "NaT                                   1          USGS             D   \n",
       "NaT                                   1          USGS             D   \n",
       "\n",
       "                           lev_acy_cd lev_src_cd lev_meth_cd lev_age_cd  \\\n",
       "datetime                                                                  \n",
       "1945-10-12 22:35:00+00:00           2          S           O          A   \n",
       "1945-10-12 22:35:00+00:00           2          S           O          A   \n",
       "1945-10-12 22:35:00+00:00           2          S           O          A   \n",
       "1999-06-04 18:00:00+00:00           2          S           S          A   \n",
       "1999-06-04 18:00:00+00:00           2          S           S          A   \n",
       "...                               ...        ...         ...        ...   \n",
       "NaT                                 2        NaN           S          A   \n",
       "NaT                                 2        NaN           S          A   \n",
       "NaT                                 2          S           S          A   \n",
       "NaT                                 2          S           S          A   \n",
       "NaT                                 2          S           S          A   \n",
       "\n",
       "                          parameter_cd  \n",
       "datetime                                \n",
       "1945-10-12 22:35:00+00:00        62610  \n",
       "1945-10-12 22:35:00+00:00        62611  \n",
       "1945-10-12 22:35:00+00:00        72019  \n",
       "1999-06-04 18:00:00+00:00        62610  \n",
       "1999-06-04 18:00:00+00:00        62611  \n",
       "...                                ...  \n",
       "NaT                              62611  \n",
       "NaT                              72019  \n",
       "NaT                              62610  \n",
       "NaT                              62611  \n",
       "NaT                              72019  \n",
       "\n",
       "[744 rows x 17 columns]"
      ]
     },
     "metadata": {},
     "output_type": "display_data"
    }
   ],
   "source": [
    "display(data[0])"
   ]
  },
  {
   "cell_type": "markdown",
   "metadata": {
    "collapsed": false,
    "pycharm": {
     "name": "#%% md\n"
    }
   },
   "source": [
    "Show the data types of the columns in the resulting data frame."
   ]
  },
  {
   "cell_type": "code",
   "execution_count": 5,
   "metadata": {
    "collapsed": false,
    "execution": {
     "iopub.execute_input": "2024-08-08T02:57:05.966521Z",
     "iopub.status.busy": "2024-08-08T02:57:05.966046Z",
     "iopub.status.idle": "2024-08-08T02:57:05.969744Z",
     "shell.execute_reply": "2024-08-08T02:57:05.969287Z"
    },
    "pycharm": {
     "name": "#%%\n"
    }
   },
   "outputs": [
    {
     "name": "stdout",
     "output_type": "stream",
     "text": [
      "agency_cd         object\n",
      "site_no           object\n",
      "site_tp_cd        object\n",
      "lev_dt            object\n",
      "lev_tm            object\n",
      "lev_tz_cd         object\n",
      "lev_va           float64\n",
      "sl_lev_va        float64\n",
      "sl_datum_cd       object\n",
      "lev_status_cd     object\n",
      "lev_agency_cd     object\n",
      "lev_dt_acy_cd     object\n",
      "lev_acy_cd         int64\n",
      "lev_src_cd        object\n",
      "lev_meth_cd       object\n",
      "lev_age_cd        object\n",
      "parameter_cd      object\n",
      "dtype: object\n"
     ]
    }
   ],
   "source": [
    "print(data[0].dtypes)"
   ]
  },
  {
   "cell_type": "markdown",
   "metadata": {
    "collapsed": false,
    "pycharm": {
     "name": "#%% md\n"
    }
   },
   "source": [
    "Get summary statistics for the daily streamflow values."
   ]
  },
  {
   "cell_type": "code",
   "execution_count": 6,
   "metadata": {
    "collapsed": false,
    "execution": {
     "iopub.execute_input": "2024-08-08T02:57:05.971875Z",
     "iopub.status.busy": "2024-08-08T02:57:05.971525Z",
     "iopub.status.idle": "2024-08-08T02:57:05.977066Z",
     "shell.execute_reply": "2024-08-08T02:57:05.976597Z"
    },
    "pycharm": {
     "name": "#%%\n"
    }
   },
   "outputs": [
    {
     "data": {
      "text/plain": [
       "count    248.000000\n",
       "mean      23.690605\n",
       "std        5.265540\n",
       "min       10.900000\n",
       "25%       20.127500\n",
       "50%       24.495000\n",
       "75%       27.375000\n",
       "max       41.630000\n",
       "Name: lev_va, dtype: float64"
      ]
     },
     "execution_count": 6,
     "metadata": {},
     "output_type": "execute_result"
    }
   ],
   "source": [
    "data[0]['lev_va'].describe()"
   ]
  },
  {
   "cell_type": "markdown",
   "metadata": {
    "collapsed": false,
    "pycharm": {
     "name": "#%% md\n"
    }
   },
   "source": [
    "Make a quick time series plot."
   ]
  },
  {
   "cell_type": "code",
   "execution_count": 7,
   "metadata": {
    "collapsed": false,
    "execution": {
     "iopub.execute_input": "2024-08-08T02:57:05.979137Z",
     "iopub.status.busy": "2024-08-08T02:57:05.978796Z",
     "iopub.status.idle": "2024-08-08T02:57:06.360773Z",
     "shell.execute_reply": "2024-08-08T02:57:06.360225Z"
    },
    "pycharm": {
     "name": "#%%\n"
    }
   },
   "outputs": [
    {
     "data": {
      "text/plain": [
       "Text(0, 0.5, 'Water Level (feet below land surface)')"
      ]
     },
     "execution_count": 7,
     "metadata": {},
     "output_type": "execute_result"
    },
    {
     "data": {
      "image/png": "[encoded data removed]",
      "text/plain": [
       "<Figure size 640x480 with 1 Axes>"
      ]
     },
     "metadata": {},
     "output_type": "display_data"
    }
   ],
   "source": [
    "ax = data[0].plot(x = 'lev_dt', y='lev_va')\n",
    "ax.set_xlabel('Date')\n",
    "ax.set_ylabel('Water Level (feet below land surface)')"
   ]
  },
  {
   "cell_type": "markdown",
   "metadata": {
    "collapsed": false,
    "pycharm": {
     "name": "#%% md\n"
    }
   },
   "source": [
    "The other part of the result returned from the `get_gwlevels()` function is a metadata object that contains information about the query that was executed to return the data. For example, you can access the URL that was assembled to retrieve the requested data from the USGS web service. The USGS web service responses contain a descriptive header that defines and can be helpful in interpreting the contents of the response."
   ]
  },
  {
   "cell_type": "code",
   "execution_count": 8,
   "metadata": {
    "collapsed": false,
    "execution": {
     "iopub.execute_input": "2024-08-08T02:57:06.362971Z",
     "iopub.status.busy": "2024-08-08T02:57:06.362751Z",
     "iopub.status.idle": "2024-08-08T02:57:06.366137Z",
     "shell.execute_reply": "2024-08-08T02:57:06.365641Z"
    },
    "pycharm": {
     "name": "#%%\n"
    }
   },
   "outputs": [
    {
     "name": "stdout",
     "output_type": "stream",
     "text": [
      "The query URL used to retrieve the data from  NWIS was: https://nwis.waterdata.usgs.gov/nwis/gwlevels?format=rdb&begin_date=1851-01-01&site_no=434400121275801\n"
     ]
    }
   ],
   "source": [
    "print(\"The query URL used to retrieve the data from  NWIS was: \" + data[1].url)"
   ]
  },
  {
   "cell_type": "markdown",
   "metadata": {
    "collapsed": false
   },
   "source": [
    "### Additional Examples\n",
    "\n",
    "You can also request data for multiple sites at the same time.\n",
    "\n",
    "Example 2: Get data for multiple sites. Site numbers are specified using a comma delimited list of strings."
   ]
  },
  {
   "cell_type": "code",
   "execution_count": 9,
   "metadata": {
    "collapsed": false,
    "execution": {
     "iopub.execute_input": "2024-08-08T02:57:06.368226Z",
     "iopub.status.busy": "2024-08-08T02:57:06.367876Z",
     "iopub.status.idle": "2024-08-08T02:57:06.945450Z",
     "shell.execute_reply": "2024-08-08T02:57:06.944862Z"
    },
    "pycharm": {
     "name": "#%%\n"
    }
   },
   "outputs": [
    {
     "name": "stdout",
     "output_type": "stream",
     "text": [
      "Retrieved 933 data values.\n"
     ]
    },
    {
     "name": "stderr",
     "output_type": "stream",
     "text": [
      "/home/runner/.local/lib/python3.10/site-packages/dataretrieval/utils.py:89: UserWarning: Warning: 621 incomplete dates found, consider setting datetime_index to False.\n",
      "  warnings.warn(\n"
     ]
    },
    {
     "data": {
      "text/html": [
       "<div>\n",
       "<style scoped>\n",
       "    .dataframe tbody tr th:only-of-type {\n",
       "        vertical-align: middle;\n",
       "    }\n",
       "\n",
       "    .dataframe tbody tr th {\n",
       "        vertical-align: top;\n",
       "    }\n",
       "\n",
       "    .dataframe thead th {\n",
       "        text-align: right;\n",
       "    }\n",
       "</style>\n",
       "<table border=\"1\" class=\"dataframe\">\n",
       "  <thead>\n",
       "    <tr style=\"text-align: right;\">\n",
       "      <th></th>\n",
       "      <th></th>\n",
       "      <th>agency_cd</th>\n",
       "      <th>site_tp_cd</th>\n",
       "      <th>lev_dt</th>\n",
       "      <th>lev_tm</th>\n",
       "      <th>lev_tz_cd</th>\n",
       "      <th>lev_va</th>\n",
       "      <th>sl_lev_va</th>\n",
       "      <th>sl_datum_cd</th>\n",
       "      <th>lev_status_cd</th>\n",
       "      <th>lev_agency_cd</th>\n",
       "      <th>lev_dt_acy_cd</th>\n",
       "      <th>lev_acy_cd</th>\n",
       "      <th>lev_src_cd</th>\n",
       "      <th>lev_meth_cd</th>\n",
       "      <th>lev_age_cd</th>\n",
       "      <th>parameter_cd</th>\n",
       "    </tr>\n",
       "    <tr>\n",
       "      <th>site_no</th>\n",
       "      <th>datetime</th>\n",
       "      <th></th>\n",
       "      <th></th>\n",
       "      <th></th>\n",
       "      <th></th>\n",
       "      <th></th>\n",
       "      <th></th>\n",
       "      <th></th>\n",
       "      <th></th>\n",
       "      <th></th>\n",
       "      <th></th>\n",
       "      <th></th>\n",
       "      <th></th>\n",
       "      <th></th>\n",
       "      <th></th>\n",
       "      <th></th>\n",
       "      <th></th>\n",
       "    </tr>\n",
       "  </thead>\n",
       "  <tbody>\n",
       "    <tr>\n",
       "      <th rowspan=\"5\" valign=\"top\">375907091432201</th>\n",
       "      <th>2007-01-26 17:08:00+00:00</th>\n",
       "      <td>USGS</td>\n",
       "      <td>GW</td>\n",
       "      <td>2007-01-26</td>\n",
       "      <td>17:08</td>\n",
       "      <td>+0000</td>\n",
       "      <td>NaN</td>\n",
       "      <td>871.79</td>\n",
       "      <td>NGVD29</td>\n",
       "      <td>1</td>\n",
       "      <td>USGS</td>\n",
       "      <td>m</td>\n",
       "      <td>2</td>\n",
       "      <td>S</td>\n",
       "      <td>V</td>\n",
       "      <td>A</td>\n",
       "      <td>62610</td>\n",
       "    </tr>\n",
       "    <tr>\n",
       "      <th>2007-01-26 17:08:00+00:00</th>\n",
       "      <td>USGS</td>\n",
       "      <td>GW</td>\n",
       "      <td>2007-01-26</td>\n",
       "      <td>17:08</td>\n",
       "      <td>+0000</td>\n",
       "      <td>NaN</td>\n",
       "      <td>871.93</td>\n",
       "      <td>NAVD88</td>\n",
       "      <td>1</td>\n",
       "      <td>USGS</td>\n",
       "      <td>m</td>\n",
       "      <td>2</td>\n",
       "      <td>S</td>\n",
       "      <td>V</td>\n",
       "      <td>A</td>\n",
       "      <td>62611</td>\n",
       "    </tr>\n",
       "    <tr>\n",
       "      <th>2007-01-26 17:08:00+00:00</th>\n",
       "      <td>USGS</td>\n",
       "      <td>GW</td>\n",
       "      <td>2007-01-26</td>\n",
       "      <td>17:08</td>\n",
       "      <td>+0000</td>\n",
       "      <td>317.21</td>\n",
       "      <td>NaN</td>\n",
       "      <td>NaN</td>\n",
       "      <td>1</td>\n",
       "      <td>USGS</td>\n",
       "      <td>m</td>\n",
       "      <td>2</td>\n",
       "      <td>S</td>\n",
       "      <td>V</td>\n",
       "      <td>A</td>\n",
       "      <td>72019</td>\n",
       "    </tr>\n",
       "    <tr>\n",
       "      <th>2007-06-11 19:30:00+00:00</th>\n",
       "      <td>USGS</td>\n",
       "      <td>GW</td>\n",
       "      <td>2007-06-11</td>\n",
       "      <td>19:30</td>\n",
       "      <td>+0000</td>\n",
       "      <td>NaN</td>\n",
       "      <td>879.68</td>\n",
       "      <td>NGVD29</td>\n",
       "      <td>1</td>\n",
       "      <td>MO005</td>\n",
       "      <td>m</td>\n",
       "      <td>2</td>\n",
       "      <td>A</td>\n",
       "      <td>T</td>\n",
       "      <td>A</td>\n",
       "      <td>62610</td>\n",
       "    </tr>\n",
       "    <tr>\n",
       "      <th>2007-06-11 19:30:00+00:00</th>\n",
       "      <td>USGS</td>\n",
       "      <td>GW</td>\n",
       "      <td>2007-06-11</td>\n",
       "      <td>19:30</td>\n",
       "      <td>+0000</td>\n",
       "      <td>NaN</td>\n",
       "      <td>879.82</td>\n",
       "      <td>NAVD88</td>\n",
       "      <td>1</td>\n",
       "      <td>MO005</td>\n",
       "      <td>m</td>\n",
       "      <td>2</td>\n",
       "      <td>A</td>\n",
       "      <td>T</td>\n",
       "      <td>A</td>\n",
       "      <td>62611</td>\n",
       "    </tr>\n",
       "    <tr>\n",
       "      <th>...</th>\n",
       "      <th>...</th>\n",
       "      <td>...</td>\n",
       "      <td>...</td>\n",
       "      <td>...</td>\n",
       "      <td>...</td>\n",
       "      <td>...</td>\n",
       "      <td>...</td>\n",
       "      <td>...</td>\n",
       "      <td>...</td>\n",
       "      <td>...</td>\n",
       "      <td>...</td>\n",
       "      <td>...</td>\n",
       "      <td>...</td>\n",
       "      <td>...</td>\n",
       "      <td>...</td>\n",
       "      <td>...</td>\n",
       "      <td>...</td>\n",
       "    </tr>\n",
       "    <tr>\n",
       "      <th rowspan=\"5\" valign=\"top\">434400121275801</th>\n",
       "      <th>NaT</th>\n",
       "      <td>USGS</td>\n",
       "      <td>GW</td>\n",
       "      <td>1999-03-19</td>\n",
       "      <td>NaN</td>\n",
       "      <td>NaN</td>\n",
       "      <td>NaN</td>\n",
       "      <td>4204.97</td>\n",
       "      <td>NAVD88</td>\n",
       "      <td>1</td>\n",
       "      <td>NaN</td>\n",
       "      <td>D</td>\n",
       "      <td>2</td>\n",
       "      <td>NaN</td>\n",
       "      <td>S</td>\n",
       "      <td>A</td>\n",
       "      <td>62611</td>\n",
       "    </tr>\n",
       "    <tr>\n",
       "      <th>NaT</th>\n",
       "      <td>USGS</td>\n",
       "      <td>GW</td>\n",
       "      <td>1999-03-19</td>\n",
       "      <td>NaN</td>\n",
       "      <td>NaN</td>\n",
       "      <td>19.05</td>\n",
       "      <td>NaN</td>\n",
       "      <td>NaN</td>\n",
       "      <td>1</td>\n",
       "      <td>NaN</td>\n",
       "      <td>D</td>\n",
       "      <td>2</td>\n",
       "      <td>NaN</td>\n",
       "      <td>S</td>\n",
       "      <td>A</td>\n",
       "      <td>72019</td>\n",
       "    </tr>\n",
       "    <tr>\n",
       "      <th>NaT</th>\n",
       "      <td>USGS</td>\n",
       "      <td>GW</td>\n",
       "      <td>1999-05-14</td>\n",
       "      <td>NaN</td>\n",
       "      <td>NaN</td>\n",
       "      <td>NaN</td>\n",
       "      <td>4201.99</td>\n",
       "      <td>NGVD29</td>\n",
       "      <td>1</td>\n",
       "      <td>USGS</td>\n",
       "      <td>D</td>\n",
       "      <td>2</td>\n",
       "      <td>S</td>\n",
       "      <td>S</td>\n",
       "      <td>A</td>\n",
       "      <td>62610</td>\n",
       "    </tr>\n",
       "    <tr>\n",
       "      <th>NaT</th>\n",
       "      <td>USGS</td>\n",
       "      <td>GW</td>\n",
       "      <td>1999-05-14</td>\n",
       "      <td>NaN</td>\n",
       "      <td>NaN</td>\n",
       "      <td>NaN</td>\n",
       "      <td>4206.01</td>\n",
       "      <td>NAVD88</td>\n",
       "      <td>1</td>\n",
       "      <td>USGS</td>\n",
       "      <td>D</td>\n",
       "      <td>2</td>\n",
       "      <td>S</td>\n",
       "      <td>S</td>\n",
       "      <td>A</td>\n",
       "      <td>62611</td>\n",
       "    </tr>\n",
       "    <tr>\n",
       "      <th>NaT</th>\n",
       "      <td>USGS</td>\n",
       "      <td>GW</td>\n",
       "      <td>1999-05-14</td>\n",
       "      <td>NaN</td>\n",
       "      <td>NaN</td>\n",
       "      <td>18.01</td>\n",
       "      <td>NaN</td>\n",
       "      <td>NaN</td>\n",
       "      <td>1</td>\n",
       "      <td>USGS</td>\n",
       "      <td>D</td>\n",
       "      <td>2</td>\n",
       "      <td>S</td>\n",
       "      <td>S</td>\n",
       "      <td>A</td>\n",
       "      <td>72019</td>\n",
       "    </tr>\n",
       "  </tbody>\n",
       "</table>\n",
       "<p>933 rows × 16 columns</p>\n",
       "</div>"
      ],
      "text/plain": [
       "                                          agency_cd site_tp_cd      lev_dt  \\\n",
       "site_no         datetime                                                     \n",
       "375907091432201 2007-01-26 17:08:00+00:00      USGS         GW  2007-01-26   \n",
       "                2007-01-26 17:08:00+00:00      USGS         GW  2007-01-26   \n",
       "                2007-01-26 17:08:00+00:00      USGS         GW  2007-01-26   \n",
       "                2007-06-11 19:30:00+00:00      USGS         GW  2007-06-11   \n",
       "                2007-06-11 19:30:00+00:00      USGS         GW  2007-06-11   \n",
       "...                                             ...        ...         ...   \n",
       "434400121275801 NaT                            USGS         GW  1999-03-19   \n",
       "                NaT                            USGS         GW  1999-03-19   \n",
       "                NaT                            USGS         GW  1999-05-14   \n",
       "                NaT                            USGS         GW  1999-05-14   \n",
       "                NaT                            USGS         GW  1999-05-14   \n",
       "\n",
       "                                          lev_tm lev_tz_cd  lev_va  sl_lev_va  \\\n",
       "site_no         datetime                                                        \n",
       "375907091432201 2007-01-26 17:08:00+00:00  17:08     +0000     NaN     871.79   \n",
       "                2007-01-26 17:08:00+00:00  17:08     +0000     NaN     871.93   \n",
       "                2007-01-26 17:08:00+00:00  17:08     +0000  317.21        NaN   \n",
       "                2007-06-11 19:30:00+00:00  19:30     +0000     NaN     879.68   \n",
       "                2007-06-11 19:30:00+00:00  19:30     +0000     NaN     879.82   \n",
       "...                                          ...       ...     ...        ...   \n",
       "434400121275801 NaT                          NaN       NaN     NaN    4204.97   \n",
       "                NaT                          NaN       NaN   19.05        NaN   \n",
       "                NaT                          NaN       NaN     NaN    4201.99   \n",
       "                NaT                          NaN       NaN     NaN    4206.01   \n",
       "                NaT                          NaN       NaN   18.01        NaN   \n",
       "\n",
       "                                          sl_datum_cd lev_status_cd  \\\n",
       "site_no         datetime                                              \n",
       "375907091432201 2007-01-26 17:08:00+00:00      NGVD29             1   \n",
       "                2007-01-26 17:08:00+00:00      NAVD88             1   \n",
       "                2007-01-26 17:08:00+00:00         NaN             1   \n",
       "                2007-06-11 19:30:00+00:00      NGVD29             1   \n",
       "                2007-06-11 19:30:00+00:00      NAVD88             1   \n",
       "...                                               ...           ...   \n",
       "434400121275801 NaT                            NAVD88             1   \n",
       "                NaT                               NaN             1   \n",
       "                NaT                            NGVD29             1   \n",
       "                NaT                            NAVD88             1   \n",
       "                NaT                               NaN             1   \n",
       "\n",
       "                                          lev_agency_cd lev_dt_acy_cd  \\\n",
       "site_no         datetime                                                \n",
       "375907091432201 2007-01-26 17:08:00+00:00          USGS             m   \n",
       "                2007-01-26 17:08:00+00:00          USGS             m   \n",
       "                2007-01-26 17:08:00+00:00          USGS             m   \n",
       "                2007-06-11 19:30:00+00:00         MO005             m   \n",
       "                2007-06-11 19:30:00+00:00         MO005             m   \n",
       "...                                                 ...           ...   \n",
       "434400121275801 NaT                                 NaN             D   \n",
       "                NaT                                 NaN             D   \n",
       "                NaT                                USGS             D   \n",
       "                NaT                                USGS             D   \n",
       "                NaT                                USGS             D   \n",
       "\n",
       "                                          lev_acy_cd lev_src_cd lev_meth_cd  \\\n",
       "site_no         datetime                                                      \n",
       "375907091432201 2007-01-26 17:08:00+00:00          2          S           V   \n",
       "                2007-01-26 17:08:00+00:00          2          S           V   \n",
       "                2007-01-26 17:08:00+00:00          2          S           V   \n",
       "                2007-06-11 19:30:00+00:00          2          A           T   \n",
       "                2007-06-11 19:30:00+00:00          2          A           T   \n",
       "...                                              ...        ...         ...   \n",
       "434400121275801 NaT                                2        NaN           S   \n",
       "                NaT                                2        NaN           S   \n",
       "                NaT                                2          S           S   \n",
       "                NaT                                2          S           S   \n",
       "                NaT                                2          S           S   \n",
       "\n",
       "                                          lev_age_cd parameter_cd  \n",
       "site_no         datetime                                           \n",
       "375907091432201 2007-01-26 17:08:00+00:00          A        62610  \n",
       "                2007-01-26 17:08:00+00:00          A        62611  \n",
       "                2007-01-26 17:08:00+00:00          A        72019  \n",
       "                2007-06-11 19:30:00+00:00          A        62610  \n",
       "                2007-06-11 19:30:00+00:00          A        62611  \n",
       "...                                              ...          ...  \n",
       "434400121275801 NaT                                A        62611  \n",
       "                NaT                                A        72019  \n",
       "                NaT                                A        62610  \n",
       "                NaT                                A        62611  \n",
       "                NaT                                A        72019  \n",
       "\n",
       "[933 rows x 16 columns]"
      ]
     },
     "metadata": {},
     "output_type": "display_data"
    }
   ],
   "source": [
    "site_ids = [\"434400121275801\", \"375907091432201\"]\n",
    "data2 = nwis.get_gwlevels(sites=site_ids)\n",
    "print(\"Retrieved \" + str(len(data2[0])) + \" data values.\")\n",
    "display(data2[0])"
   ]
  },
  {
   "cell_type": "markdown",
   "metadata": {
    "collapsed": false,
    "pycharm": {
     "name": "#%% md\n"
    }
   },
   "source": [
    "Some groundwater level data have dates that include only a year or a month and year, but no day.\n",
    "\n",
    "Example 3: Retrieve groundwater level data that have dates without a day."
   ]
  },
  {
   "cell_type": "code",
   "execution_count": 10,
   "metadata": {
    "collapsed": false,
    "execution": {
     "iopub.execute_input": "2024-08-08T02:57:06.947738Z",
     "iopub.status.busy": "2024-08-08T02:57:06.947384Z",
     "iopub.status.idle": "2024-08-08T02:57:07.611843Z",
     "shell.execute_reply": "2024-08-08T02:57:07.611287Z"
    },
    "pycharm": {
     "name": "#%%\n"
    }
   },
   "outputs": [
    {
     "name": "stdout",
     "output_type": "stream",
     "text": [
      "Retrieved 102 data values.\n",
      "DatetimeIndex(['NaT', 'NaT', 'NaT', 'NaT', 'NaT', 'NaT', 'NaT', 'NaT', 'NaT',\n",
      "               'NaT',\n",
      "               ...\n",
      "               'NaT', 'NaT', 'NaT', 'NaT', 'NaT', 'NaT', 'NaT', 'NaT', 'NaT',\n",
      "               'NaT'],\n",
      "              dtype='datetime64[ns, UTC]', name='datetime', length=102, freq=None)\n"
     ]
    },
    {
     "name": "stderr",
     "output_type": "stream",
     "text": [
      "/home/runner/.local/lib/python3.10/site-packages/dataretrieval/utils.py:89: UserWarning: Warning: 102 incomplete dates found, consider setting datetime_index to False.\n",
      "  warnings.warn(\n"
     ]
    }
   ],
   "source": [
    "data3 = nwis.get_gwlevels(sites=\"425957088141001\")\n",
    "print(\"Retrieved \" + str(len(data3[0])) + \" data values.\")\n",
    "\n",
    "# Print the date/time index values, which show up as NaT because\n",
    "# the dates can't be converted to a date/time data type\n",
    "print(data3[0].index)"
   ]
  },
  {
   "cell_type": "markdown",
   "metadata": {
    "collapsed": false,
    "pycharm": {
     "name": "#%% md\n"
    }
   },
   "source": [
    "If you want to see the USGS RDB (delimited text) version of the data just retrieved, you can get the URL for the request that was sent to the USGS web service."
   ]
  },
  {
   "cell_type": "code",
   "execution_count": 11,
   "metadata": {
    "collapsed": false,
    "execution": {
     "iopub.execute_input": "2024-08-08T02:57:07.614009Z",
     "iopub.status.busy": "2024-08-08T02:57:07.613656Z",
     "iopub.status.idle": "2024-08-08T02:57:07.616606Z",
     "shell.execute_reply": "2024-08-08T02:57:07.616049Z"
    },
    "pycharm": {
     "name": "#%%\n"
    }
   },
   "outputs": [
    {
     "name": "stdout",
     "output_type": "stream",
     "text": [
      "You can examine the data retrieved from NWIS at: https://nwis.waterdata.usgs.gov/nwis/gwlevels?format=rdb&begin_date=1851-01-01&site_no=425957088141001\n"
     ]
    }
   ],
   "source": [
    "# Print the URL used to retrieve the data\n",
    "print(\"You can examine the data retrieved from NWIS at: \" + data3[1].url)"
   ]
  },
  {
   "cell_type": "markdown",
   "metadata": {
    "collapsed": false,
    "pycharm": {
     "name": "#%% md\n"
    }
   },
   "source": [
    "You can also retrieve data for a site within a specified time window by specifying a start date and an end date.\n",
    "\n",
    "Example 4: Get groundwater level data for a site between a startDate and endDate."
   ]
  },
  {
   "cell_type": "code",
   "execution_count": 12,
   "metadata": {
    "collapsed": false,
    "execution": {
     "iopub.execute_input": "2024-08-08T02:57:07.618698Z",
     "iopub.status.busy": "2024-08-08T02:57:07.618347Z",
     "iopub.status.idle": "2024-08-08T02:57:08.104981Z",
     "shell.execute_reply": "2024-08-08T02:57:08.104414Z"
    },
    "pycharm": {
     "name": "#%%\n"
    }
   },
   "outputs": [
    {
     "name": "stdout",
     "output_type": "stream",
     "text": [
      "Retrieved 213 data values.\n"
     ]
    },
    {
     "name": "stderr",
     "output_type": "stream",
     "text": [
      "/home/runner/.local/lib/python3.10/site-packages/dataretrieval/utils.py:89: UserWarning: Warning: 189 incomplete dates found, consider setting datetime_index to False.\n",
      "  warnings.warn(\n"
     ]
    }
   ],
   "source": [
    "data4 = nwis.get_gwlevels(sites=site_id, start=\"1980-01-01\", end=\"2000-12-31\")\n",
    "print(\"Retrieved \" + str(len(data4[0])) + \" data values.\")\n"
   ]
  }
 ],
 "metadata": {
  "kernelspec": {
   "display_name": "Python 3",
   "language": "python",
   "name": "python3"
  },
  "language_info": {
   "codemirror_mode": {
    "name": "ipython",
    "version": 3
   },
   "file_extension": ".py",
   "mimetype": "text/x-python",
   "name": "python",
   "nbconvert_exporter": "python",
   "pygments_lexer": "ipython3",
   "version": "3.10.12"
  }
 },
 "nbformat": 4,
 "nbformat_minor": 0
}
