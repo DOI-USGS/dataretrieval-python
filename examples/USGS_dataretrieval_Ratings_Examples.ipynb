{
 "cells": [
  {
   "cell_type": "markdown",
   "metadata": {
    "collapsed": false
   },
   "source": [
    "# USGS dataretrieval Python Package `get_ratings()` Examples\n",
    "\n",
    "This notebook provides examples of using the Python dataretrieval package to retrieve rating curve data for a United States Geological Survey (USGS) streamflow gage. The dataretrieval package provides a collection of functions to get data from the USGS National Water Information System (NWIS) and other online sources of hydrology and water quality data, including the United States Environmental Protection Agency (USEPA)."
   ]
  },
  {
   "cell_type": "markdown",
   "metadata": {
    "collapsed": false
   },
   "source": [
    "### Install the Package\n",
    "\n",
    "Use the following code to install the package if it doesn't exist already within your Jupyter Python environment."
   ]
  },
  {
   "cell_type": "code",
   "execution_count": 1,
   "metadata": {
    "collapsed": false,
    "execution": {
     "iopub.execute_input": "2024-07-19T16:00:29.686720Z",
     "iopub.status.busy": "2024-07-19T16:00:29.686292Z",
     "iopub.status.idle": "2024-07-19T16:00:30.391615Z",
     "shell.execute_reply": "2024-07-19T16:00:30.390996Z"
    },
    "pycharm": {
     "name": "#%%\n"
    }
   },
   "outputs": [
    {
     "name": "stdout",
     "output_type": "stream",
     "text": [
      "Defaulting to user installation because normal site-packages is not writeable\r\n"
     ]
    },
    {
     "name": "stdout",
     "output_type": "stream",
     "text": [
      "Requirement already satisfied: dataretrieval in /home/runner/.local/lib/python3.10/site-packages (0.1.dev1+g64a575d)\r\n",
      "Requirement already satisfied: requests in /home/runner/.local/lib/python3.10/site-packages (from dataretrieval) (2.32.3)\r\n",
      "Requirement already satisfied: pandas==2.* in /home/runner/.local/lib/python3.10/site-packages (from dataretrieval) (2.2.2)\r\n"
     ]
    },
    {
     "name": "stdout",
     "output_type": "stream",
     "text": [
      "Requirement already satisfied: numpy>=1.22.4 in /home/runner/.local/lib/python3.10/site-packages (from pandas==2.*->dataretrieval) (2.0.0)\r\n",
      "Requirement already satisfied: python-dateutil>=2.8.2 in /home/runner/.local/lib/python3.10/site-packages (from pandas==2.*->dataretrieval) (2.9.0.post0)\r\n",
      "Requirement already satisfied: pytz>=2020.1 in /usr/lib/python3/dist-packages (from pandas==2.*->dataretrieval) (2022.1)\r\n",
      "Requirement already satisfied: tzdata>=2022.7 in /home/runner/.local/lib/python3.10/site-packages (from pandas==2.*->dataretrieval) (2024.1)\r\n",
      "Requirement already satisfied: charset-normalizer<4,>=2 in /home/runner/.local/lib/python3.10/site-packages (from requests->dataretrieval) (3.3.2)\r\n",
      "Requirement already satisfied: idna<4,>=2.5 in /usr/lib/python3/dist-packages (from requests->dataretrieval) (3.3)\r\n",
      "Requirement already satisfied: urllib3<3,>=1.21.1 in /usr/lib/python3/dist-packages (from requests->dataretrieval) (1.26.5)\r\n",
      "Requirement already satisfied: certifi>=2017.4.17 in /usr/lib/python3/dist-packages (from requests->dataretrieval) (2020.6.20)\r\n",
      "Requirement already satisfied: six>=1.5 in /usr/lib/python3/dist-packages (from python-dateutil>=2.8.2->pandas==2.*->dataretrieval) (1.16.0)\r\n"
     ]
    }
   ],
   "source": [
    "!pip install dataretrieval"
   ]
  },
  {
   "cell_type": "markdown",
   "metadata": {
    "collapsed": false
   },
   "source": [
    "Load the package so you can use it along with other packages used in this notebook."
   ]
  },
  {
   "cell_type": "code",
   "execution_count": 2,
   "metadata": {
    "collapsed": false,
    "execution": {
     "iopub.execute_input": "2024-07-19T16:00:30.394892Z",
     "iopub.status.busy": "2024-07-19T16:00:30.394290Z",
     "iopub.status.idle": "2024-07-19T16:00:30.694130Z",
     "shell.execute_reply": "2024-07-19T16:00:30.693596Z"
    },
    "pycharm": {
     "name": "#%%\n"
    }
   },
   "outputs": [],
   "source": [
    "from dataretrieval import nwis\n",
    "from IPython.display import display"
   ]
  },
  {
   "cell_type": "markdown",
   "metadata": {
    "collapsed": false
   },
   "source": [
    "### Basic Usage\n",
    "\n",
    "The dataretrieval package has several functions that allow you to retrieve data from different web services. This example uses the `get_ratings()` function to retrieve rating curve data for a monitoring site from USGS NWIS. The following arguments are available:\n",
    "\n",
    "Arguments (Additional arguments, if supplied, will be used as query parameters)\n",
    "\n",
    "* **site** (string): A USGS site number.  This is usually an 8 digit number as a string. If the nwis parameter site_no is supplied, it will overwrite the site parameter.\n",
    "* **base** (string): Can be \"base\", \"corr\", or \"exsa\"\n",
    "* **county** (string): County IDs from county lookup or \"ALL\"\n",
    "* **categories** (Listlike): List or comma delimited string of Two-letter category abbreviations\n",
    "\n",
    "NOTE: Not all active USGS streamflow gages have traditional rating curves that relate stage to flow."
   ]
  },
  {
   "cell_type": "markdown",
   "metadata": {
    "collapsed": false,
    "pycharm": {
     "name": "#%% md\n"
    }
   },
   "source": [
    "Example 1: Get rating data for an NWIS Site"
   ]
  },
  {
   "cell_type": "code",
   "execution_count": 3,
   "metadata": {
    "collapsed": true,
    "execution": {
     "iopub.execute_input": "2024-07-19T16:00:30.696743Z",
     "iopub.status.busy": "2024-07-19T16:00:30.696457Z",
     "iopub.status.idle": "2024-07-19T16:00:30.817425Z",
     "shell.execute_reply": "2024-07-19T16:00:30.816806Z"
    }
   },
   "outputs": [
    {
     "name": "stdout",
     "output_type": "stream",
     "text": [
      "Retrieved 414 data values.\n"
     ]
    }
   ],
   "source": [
    "# Specify the USGS site number/code\n",
    "site_id = \"10109000\"\n",
    "\n",
    "# Get the rating curve data\n",
    "ratingData = nwis.get_ratings(site=site_id, file_type=\"exsa\")\n",
    "print(\"Retrieved \" + str(len(ratingData[0])) + \" data values.\")"
   ]
  },
  {
   "cell_type": "markdown",
   "metadata": {
    "collapsed": false,
    "pycharm": {
     "name": "#%% md\n"
    }
   },
   "source": [
    "### Interpreting the Result\n",
    "\n",
    "The result of calling the `get_ratings()` function is an object that contains a Pandas data frame object and an associated metadata object. The Pandas data frame contains the rating curve data for the requested site.\n",
    "\n",
    "Once you've got the data frame, there's several useful things you can do to explore the data. You can execute the following code to display the data frame as a table.\n",
    "\n",
    "If the \"type\" parameter in the request has a value of \"base,\" then the columns in the data frame are as follows:\n",
    "* INDEP - typically the gage height in feet\n",
    "* DEP - typically the streamflow in cubic feet per second\n",
    "* STOR - where an \"*\" indicates that the pair are a fixed point of the rating curve\n",
    "\n",
    "If the \"type\" parameter is specified as \"exsa,\" then an additional column called SHIFT is included that indicates the current shift in the rating for that value of INDEP.\n",
    "\n",
    "If the \"type\" parameter is specified as \"corr,\" then the columns are as follows:\n",
    "* INDEP - typically gage height in feet\n",
    "* CORR - the correction for that value\n",
    "* CORRINDEP - the corrected value for CORR"
   ]
  },
  {
   "cell_type": "code",
   "execution_count": 4,
   "metadata": {
    "collapsed": false,
    "execution": {
     "iopub.execute_input": "2024-07-19T16:00:30.819834Z",
     "iopub.status.busy": "2024-07-19T16:00:30.819442Z",
     "iopub.status.idle": "2024-07-19T16:00:30.831531Z",
     "shell.execute_reply": "2024-07-19T16:00:30.831055Z"
    },
    "pycharm": {
     "name": "#%%\n"
    }
   },
   "outputs": [
    {
     "data": {
      "text/html": [
       "<div>\n",
       "<style scoped>\n",
       "    .dataframe tbody tr th:only-of-type {\n",
       "        vertical-align: middle;\n",
       "    }\n",
       "\n",
       "    .dataframe tbody tr th {\n",
       "        vertical-align: top;\n",
       "    }\n",
       "\n",
       "    .dataframe thead th {\n",
       "        text-align: right;\n",
       "    }\n",
       "</style>\n",
       "<table border=\"1\" class=\"dataframe\">\n",
       "  <thead>\n",
       "    <tr style=\"text-align: right;\">\n",
       "      <th></th>\n",
       "      <th>INDEP</th>\n",
       "      <th>SHIFT</th>\n",
       "      <th>DEP</th>\n",
       "      <th>STOR</th>\n",
       "    </tr>\n",
       "  </thead>\n",
       "  <tbody>\n",
       "    <tr>\n",
       "      <th>0</th>\n",
       "      <td>1.72</td>\n",
       "      <td>-0.02</td>\n",
       "      <td>7.46</td>\n",
       "      <td>NaN</td>\n",
       "    </tr>\n",
       "    <tr>\n",
       "      <th>1</th>\n",
       "      <td>1.73</td>\n",
       "      <td>-0.02</td>\n",
       "      <td>7.87</td>\n",
       "      <td>NaN</td>\n",
       "    </tr>\n",
       "    <tr>\n",
       "      <th>2</th>\n",
       "      <td>1.74</td>\n",
       "      <td>-0.02</td>\n",
       "      <td>8.29</td>\n",
       "      <td>NaN</td>\n",
       "    </tr>\n",
       "    <tr>\n",
       "      <th>3</th>\n",
       "      <td>1.75</td>\n",
       "      <td>-0.02</td>\n",
       "      <td>8.73</td>\n",
       "      <td>NaN</td>\n",
       "    </tr>\n",
       "    <tr>\n",
       "      <th>4</th>\n",
       "      <td>1.76</td>\n",
       "      <td>-0.02</td>\n",
       "      <td>9.18</td>\n",
       "      <td>NaN</td>\n",
       "    </tr>\n",
       "    <tr>\n",
       "      <th>...</th>\n",
       "      <td>...</td>\n",
       "      <td>...</td>\n",
       "      <td>...</td>\n",
       "      <td>...</td>\n",
       "    </tr>\n",
       "    <tr>\n",
       "      <th>409</th>\n",
       "      <td>5.81</td>\n",
       "      <td>0.00</td>\n",
       "      <td>2175.11</td>\n",
       "      <td>NaN</td>\n",
       "    </tr>\n",
       "    <tr>\n",
       "      <th>410</th>\n",
       "      <td>5.82</td>\n",
       "      <td>0.00</td>\n",
       "      <td>2186.34</td>\n",
       "      <td>NaN</td>\n",
       "    </tr>\n",
       "    <tr>\n",
       "      <th>411</th>\n",
       "      <td>5.83</td>\n",
       "      <td>0.00</td>\n",
       "      <td>2197.61</td>\n",
       "      <td>NaN</td>\n",
       "    </tr>\n",
       "    <tr>\n",
       "      <th>412</th>\n",
       "      <td>5.84</td>\n",
       "      <td>0.00</td>\n",
       "      <td>2208.91</td>\n",
       "      <td>NaN</td>\n",
       "    </tr>\n",
       "    <tr>\n",
       "      <th>413</th>\n",
       "      <td>5.85</td>\n",
       "      <td>0.00</td>\n",
       "      <td>2220.24</td>\n",
       "      <td>*</td>\n",
       "    </tr>\n",
       "  </tbody>\n",
       "</table>\n",
       "<p>414 rows × 4 columns</p>\n",
       "</div>"
      ],
      "text/plain": [
       "     INDEP  SHIFT      DEP STOR\n",
       "0     1.72  -0.02     7.46  NaN\n",
       "1     1.73  -0.02     7.87  NaN\n",
       "2     1.74  -0.02     8.29  NaN\n",
       "3     1.75  -0.02     8.73  NaN\n",
       "4     1.76  -0.02     9.18  NaN\n",
       "..     ...    ...      ...  ...\n",
       "409   5.81   0.00  2175.11  NaN\n",
       "410   5.82   0.00  2186.34  NaN\n",
       "411   5.83   0.00  2197.61  NaN\n",
       "412   5.84   0.00  2208.91  NaN\n",
       "413   5.85   0.00  2220.24    *\n",
       "\n",
       "[414 rows x 4 columns]"
      ]
     },
     "metadata": {},
     "output_type": "display_data"
    }
   ],
   "source": [
    "display(ratingData[0])"
   ]
  },
  {
   "cell_type": "markdown",
   "metadata": {
    "collapsed": false,
    "pycharm": {
     "name": "#%% md\n"
    }
   },
   "source": [
    "Show the data types of the columns in the resulting data frame"
   ]
  },
  {
   "cell_type": "code",
   "execution_count": 5,
   "metadata": {
    "collapsed": false,
    "execution": {
     "iopub.execute_input": "2024-07-19T16:00:30.833778Z",
     "iopub.status.busy": "2024-07-19T16:00:30.833418Z",
     "iopub.status.idle": "2024-07-19T16:00:30.836853Z",
     "shell.execute_reply": "2024-07-19T16:00:30.836221Z"
    },
    "pycharm": {
     "name": "#%%\n"
    }
   },
   "outputs": [
    {
     "name": "stdout",
     "output_type": "stream",
     "text": [
      "INDEP    float64\n",
      "SHIFT    float64\n",
      "DEP      float64\n",
      "STOR      object\n",
      "dtype: object\n"
     ]
    }
   ],
   "source": [
    "print(ratingData[0].dtypes)"
   ]
  },
  {
   "cell_type": "markdown",
   "metadata": {
    "collapsed": false,
    "pycharm": {
     "name": "#%% md\n"
    }
   },
   "source": [
    "The other part of the result returned from the `get_ratings()` function is a metadata object that contains information about the query that was executed to return the data. For example, you can access the URL that was assembled to retrieve the requested data from the USGS web service. The USGS web service responses contain a descriptive header that defines and can be helpful in interpreting the contents of the response."
   ]
  },
  {
   "cell_type": "code",
   "execution_count": 6,
   "metadata": {
    "collapsed": false,
    "execution": {
     "iopub.execute_input": "2024-07-19T16:00:30.839086Z",
     "iopub.status.busy": "2024-07-19T16:00:30.838733Z",
     "iopub.status.idle": "2024-07-19T16:00:30.841776Z",
     "shell.execute_reply": "2024-07-19T16:00:30.841203Z"
    },
    "pycharm": {
     "name": "#%%\n"
    }
   },
   "outputs": [
    {
     "name": "stdout",
     "output_type": "stream",
     "text": [
      "The query URL used to retrieve the data from NWIS was: https://nwis.waterdata.usgs.gov/nwisweb/get_ratings/?site_no=10109000&file_type=exsa\n"
     ]
    }
   ],
   "source": [
    "print(\"The query URL used to retrieve the data from NWIS was: \" + ratingData[1].url)"
   ]
  },
  {
   "cell_type": "markdown",
   "metadata": {
    "collapsed": false,
    "pycharm": {
     "name": "#%% md\n"
    }
   },
   "source": [
    "Example 2: Get rating data for a different NWIS site by changing the site_id"
   ]
  },
  {
   "cell_type": "code",
   "execution_count": 7,
   "metadata": {
    "collapsed": false,
    "execution": {
     "iopub.execute_input": "2024-07-19T16:00:30.843964Z",
     "iopub.status.busy": "2024-07-19T16:00:30.843620Z",
     "iopub.status.idle": "2024-07-19T16:00:30.961707Z",
     "shell.execute_reply": "2024-07-19T16:00:30.961087Z"
    },
    "pycharm": {
     "name": "#%%\n"
    }
   },
   "outputs": [
    {
     "name": "stdout",
     "output_type": "stream",
     "text": [
      "Retrieved 11 data values.\n"
     ]
    }
   ],
   "source": [
    "site_id = '01594440'\n",
    "data = nwis.get_ratings(site=site_id, file_type=\"base\")\n",
    "print(\"Retrieved \" + str(len(data[0])) + \" data values.\")"
   ]
  }
 ],
 "metadata": {
  "kernelspec": {
   "display_name": "Python 3",
   "language": "python",
   "name": "python3"
  },
  "language_info": {
   "codemirror_mode": {
    "name": "ipython",
    "version": 3
   },
   "file_extension": ".py",
   "mimetype": "text/x-python",
   "name": "python",
   "nbconvert_exporter": "python",
   "pygments_lexer": "ipython3",
   "version": "3.10.12"
  }
 },
 "nbformat": 4,
 "nbformat_minor": 0
}
