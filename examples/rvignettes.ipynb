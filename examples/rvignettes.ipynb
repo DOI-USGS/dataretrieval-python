{
 "cells": [
  {
   "cell_type": "markdown",
   "metadata": {},
   "source": [
    "# Python Equivalents to R Vignette Examples"
   ]
  },
  {
   "cell_type": "code",
   "execution_count": 1,
   "metadata": {
    "execution": {
     "iopub.execute_input": "2024-07-19T16:01:09.042894Z",
     "iopub.status.busy": "2024-07-19T16:01:09.042714Z",
     "iopub.status.idle": "2024-07-19T16:01:09.335786Z",
     "shell.execute_reply": "2024-07-19T16:01:09.335132Z"
    }
   },
   "outputs": [],
   "source": [
    "from dataretrieval import nwis\n",
    "from dataretrieval import wqp"
   ]
  },
  {
   "cell_type": "markdown",
   "metadata": {},
   "source": [
    "The dataRetrieval package was created as a python equivalent to the R dataRetrieval tool.\n",
    "\n",
    "The following shows python equivalents for methods outlined in the R dataRetrieval Vignette with the equivalent R code in comments"
   ]
  },
  {
   "cell_type": "code",
   "execution_count": 2,
   "metadata": {
    "execution": {
     "iopub.execute_input": "2024-07-19T16:01:09.338826Z",
     "iopub.status.busy": "2024-07-19T16:01:09.338321Z",
     "iopub.status.idle": "2024-07-19T16:01:12.068354Z",
     "shell.execute_reply": "2024-07-19T16:01:12.067771Z"
    }
   },
   "outputs": [
    {
     "name": "stderr",
     "output_type": "stream",
     "text": [
      "/home/runner/.local/lib/python3.10/site-packages/dataretrieval/nwis.py:194: UserWarning: WARNING: Starting in March 2024, the NWIS qw data endpoint is retiring and no longer receives updates. For more information, refer to https://waterdata.usgs.gov.nwis/qwdata and https://doi-usgs.github.io/dataRetrieval/articles/Status.html or email CompTools@usgs.gov.\n",
      "  warnings.warn(('WARNING: Starting in March 2024, the NWIS qw data endpoint is '\n"
     ]
    }
   ],
   "source": [
    "'''\n",
    "library(dataRetrieval)\n",
    "# Choptank River near Greensboro, MD\n",
    "siteNumber <- \"01491000\"\n",
    "ChoptankInfo <- readNWISsite(siteNumber)\n",
    "parameterCd <- \"00060\"\n",
    "\n",
    "#Raw daily data:\n",
    "rawDailyData <- readNWISdv(siteNumber,parameterCd,\n",
    "                      \"1980-01-01\",\"2010-01-01\")\n",
    "\n",
    "# Sample data Nitrate:\n",
    "parameterCd <- \"00618\"\n",
    "qwData <- readNWISqw(siteNumber,parameterCd,\n",
    "                      \"1980-01-01\",\"2010-01-01\")\n",
    "\n",
    "pCode <- readNWISpCode(parameterCd)\n",
    "'''\n",
    "\n",
    "# Choptank River near Greensboro, MD\n",
    "siteNumber = '01491000'\n",
    "chop_tank_info, md = nwis.get_info(sites=siteNumber)\n",
    "parameterCd = '00060'\n",
    "\n",
    "# raw daily data\n",
    "rawDailyData, md = nwis.get_dv(sites=siteNumber, parameterCd=parameterCd, start=\"1980-01-01\", end=\"2010-01-01\")\n",
    "\n",
    "# sample data Nitrate:\n",
    "parameterCd = \"00618\"\n",
    "qwData, md = nwis.get_qwdata(sites=siteNumber, parameterCd=parameterCd, start=\"1980-01-01\", end=\"2010-01-01\")\n",
    "\n",
    "pCode, md = nwis.get_pmcodes(parameterCd=parameterCd)"
   ]
  },
  {
   "cell_type": "code",
   "execution_count": 3,
   "metadata": {
    "execution": {
     "iopub.execute_input": "2024-07-19T16:01:12.070964Z",
     "iopub.status.busy": "2024-07-19T16:01:12.070595Z",
     "iopub.status.idle": "2024-07-19T16:01:12.438532Z",
     "shell.execute_reply": "2024-07-19T16:01:12.437934Z"
    }
   },
   "outputs": [],
   "source": [
    "'''\n",
    "{r getSite, echo=TRUE, eval=FALSE}\n",
    "siteNumbers <- c(\"01491000\",\"01645000\")\n",
    "siteINFO <- readNWISsite(siteNumbers)\n",
    "'''\n",
    "siteNumbers = [\"01491000\",\"01645000\"]\n",
    "siteINFO, md = nwis.get_iv(sites=siteNumbers)"
   ]
  },
  {
   "cell_type": "code",
   "execution_count": 4,
   "metadata": {
    "execution": {
     "iopub.execute_input": "2024-07-19T16:01:12.441087Z",
     "iopub.status.busy": "2024-07-19T16:01:12.440903Z",
     "iopub.status.idle": "2024-07-19T16:01:12.624422Z",
     "shell.execute_reply": "2024-07-19T16:01:12.623888Z"
    }
   },
   "outputs": [],
   "source": [
    "'''\n",
    "# Continuing from the previous example:\n",
    "# This pulls out just the daily, mean data:\n",
    "dailyDataAvailable <- whatNWISdata(siteNumbers,\n",
    "                    service=\"dv\", statCd=\"00003\")\n",
    "'''\n",
    "\n",
    "dailyDataAvailable, md = nwis.get_dv(sites=siteNumbers, statCd=\"00003\")"
   ]
  },
  {
   "cell_type": "code",
   "execution_count": 5,
   "metadata": {
    "execution": {
     "iopub.execute_input": "2024-07-19T16:01:12.627162Z",
     "iopub.status.busy": "2024-07-19T16:01:12.626819Z",
     "iopub.status.idle": "2024-07-19T16:01:12.879967Z",
     "shell.execute_reply": "2024-07-19T16:01:12.879349Z"
    },
    "pycharm": {
     "is_executing": false
    }
   },
   "outputs": [],
   "source": [
    "'''\n",
    "# Using defaults:\n",
    "parameterCd <- \"00618\" \n",
    "parameterINFO <- readNWISpCode(parameterCd)\n",
    "'''\n",
    "\n",
    "pCode, md = nwis.get_pmcodes(parameterCd=\"00618\")"
   ]
  },
  {
   "cell_type": "code",
   "execution_count": 6,
   "metadata": {
    "execution": {
     "iopub.execute_input": "2024-07-19T16:01:12.882601Z",
     "iopub.status.busy": "2024-07-19T16:01:12.882408Z",
     "iopub.status.idle": "2024-07-19T16:01:13.063668Z",
     "shell.execute_reply": "2024-07-19T16:01:13.063071Z"
    }
   },
   "outputs": [],
   "source": [
    "'''\n",
    "# Choptank River near Greensboro, MD:\n",
    "siteNumber <- \"01491000\"\n",
    "parameterCd <- \"00060\"  # Discharge\n",
    "startDate <- \"2009-10-01\"  \n",
    "endDate <- \"2012-09-30\" \n",
    "\n",
    "discharge <- readNWISdv(siteNumber, \n",
    "                    parameterCd, startDate, endDate)\n",
    "'''\n",
    "# Choptank River near Greensboro, MD:\n",
    "siteNumber = \"01491000\"\n",
    "parameterCd = \"00060\"  # Discharge\n",
    "startDate = \"2009-10-01\"  \n",
    "endDate = \"2012-09-30\" \n",
    "\n",
    "discharge, md = nwis.get_dv(sites=siteNumber, parameterCd=parameterCd, start=startDate, end=endDate)"
   ]
  },
  {
   "cell_type": "code",
   "execution_count": 7,
   "metadata": {
    "execution": {
     "iopub.execute_input": "2024-07-19T16:01:13.066313Z",
     "iopub.status.busy": "2024-07-19T16:01:13.065959Z",
     "iopub.status.idle": "2024-07-19T16:01:13.444316Z",
     "shell.execute_reply": "2024-07-19T16:01:13.443650Z"
    }
   },
   "outputs": [],
   "source": [
    "'''\n",
    "siteNumber <- \"01491000\"\n",
    "parameterCd <- c(\"00010\",\"00060\")  # Temperature and discharge\n",
    "statCd <- c(\"00001\",\"00003\")  # Mean and maximum\n",
    "startDate <- \"2012-01-01\"\n",
    "endDate <- \"2012-05-01\"\n",
    "\n",
    "temperatureAndFlow <- readNWISdv(siteNumber, parameterCd, \n",
    "        startDate, endDate, statCd=statCd)\n",
    "'''\n",
    "siteNumber = \"01491000\"\n",
    "parameterCd = [\"00010\",\"00060\"]  # Temperature and discharge\n",
    "statCd = [\"00001\",\"00003\"]  # Mean and maximum\n",
    "startDate = \"2012-01-01\"\n",
    "endDate = \"2012-05-01\"\n",
    "\n",
    "temperatureAndFlow, md = nwis.get_dv(sites=siteNumber, parameterCd=parameterCd,\n",
    "                                     start=startDate, end=endDate, statCd=statCd)"
   ]
  },
  {
   "cell_type": "code",
   "execution_count": 8,
   "metadata": {
    "execution": {
     "iopub.execute_input": "2024-07-19T16:01:13.446898Z",
     "iopub.status.busy": "2024-07-19T16:01:13.446712Z",
     "iopub.status.idle": "2024-07-19T16:01:13.711410Z",
     "shell.execute_reply": "2024-07-19T16:01:13.710751Z"
    }
   },
   "outputs": [],
   "source": [
    "'''\n",
    "parameterCd <- \"00060\"  # Discharge\n",
    "startDate <- \"2012-05-12\" \n",
    "endDate <- \"2012-05-13\" \n",
    "dischargeUnit <- readNWISuv(siteNumber, parameterCd, \n",
    "        startDate, endDate)\n",
    "'''\n",
    "siteNumber = \"01491000\"\n",
    "parameterCd = \"00060\"  # Discharge\n",
    "startDate = \"2012-05-12\" \n",
    "endDate = \"2012-05-13\" \n",
    "dischargeUnit, md = nwis.get_iv(sites=siteNumber, parameterCd=parameterCd,\n",
    "                            start=startDate, end=endDate)"
   ]
  },
  {
   "cell_type": "code",
   "execution_count": 9,
   "metadata": {
    "execution": {
     "iopub.execute_input": "2024-07-19T16:01:13.714181Z",
     "iopub.status.busy": "2024-07-19T16:01:13.713801Z",
     "iopub.status.idle": "2024-07-19T16:01:15.305404Z",
     "shell.execute_reply": "2024-07-19T16:01:15.304821Z"
    }
   },
   "outputs": [
    {
     "name": "stderr",
     "output_type": "stream",
     "text": [
      "/home/runner/.local/lib/python3.10/site-packages/dataretrieval/nwis.py:194: UserWarning: WARNING: Starting in March 2024, the NWIS qw data endpoint is retiring and no longer receives updates. For more information, refer to https://waterdata.usgs.gov.nwis/qwdata and https://doi-usgs.github.io/dataRetrieval/articles/Status.html or email CompTools@usgs.gov.\n",
      "  warnings.warn(('WARNING: Starting in March 2024, the NWIS qw data endpoint is '\n"
     ]
    }
   ],
   "source": [
    "'''\n",
    "# Dissolved Nitrate parameter codes:\n",
    "parameterCd <- c(\"00618\",\"71851\")\n",
    "startDate <- \"1985-10-01\"\n",
    "endDate <- \"2012-09-30\"\n",
    "dfLong <- readNWISqw(siteNumber, parameterCd, \n",
    "      startDate, endDate)\n",
    "# Or the wide return:\n",
    "dfWide <- readNWISqw(siteNumber, parameterCd,\n",
    "      startDate, endDate, reshape=TRUE)\n",
    "'''\n",
    "siteNumber = \"01491000\"\n",
    "parameterCd = [\"00618\",\"71851\"]\n",
    "startDate = \"1985-10-01\"\n",
    "endDate = \"2012-09-30\"\n",
    "dfLong, md = nwis.get_qwdata(sites=siteNumber, parameterCd=parameterCd,\n",
    "                             start=startDate, end=endDate)"
   ]
  },
  {
   "cell_type": "code",
   "execution_count": 10,
   "metadata": {
    "execution": {
     "iopub.execute_input": "2024-07-19T16:01:15.307969Z",
     "iopub.status.busy": "2024-07-19T16:01:15.307598Z",
     "iopub.status.idle": "2024-07-19T16:01:15.470612Z",
     "shell.execute_reply": "2024-07-19T16:01:15.469995Z"
    }
   },
   "outputs": [
    {
     "name": "stderr",
     "output_type": "stream",
     "text": [
      "/home/runner/.local/lib/python3.10/site-packages/dataretrieval/utils.py:89: UserWarning: Warning: 189 incomplete dates found, consider setting datetime_index to False.\n",
      "  warnings.warn(\n"
     ]
    }
   ],
   "source": [
    "'''\n",
    "siteNumber <- \"434400121275801\"\n",
    "groundWater <- readNWISgwl(siteNumber)\n",
    "'''\n",
    "siteNumber = \"434400121275801\"\n",
    "groundWater, md = nwis.get_gwlevels(sites=siteNumber)"
   ]
  },
  {
   "cell_type": "code",
   "execution_count": 11,
   "metadata": {
    "execution": {
     "iopub.execute_input": "2024-07-19T16:01:15.473052Z",
     "iopub.status.busy": "2024-07-19T16:01:15.472674Z",
     "iopub.status.idle": "2024-07-19T16:01:15.813610Z",
     "shell.execute_reply": "2024-07-19T16:01:15.813037Z"
    }
   },
   "outputs": [],
   "source": [
    "'''\n",
    "siteNumber <- '01594440'\n",
    "peakData <- readNWISpeak(siteNumber)\n",
    "'''\n",
    "siteNumber = '01594440'\n",
    "peakData, md = nwis.get_discharge_peaks(sites=siteNumber)"
   ]
  },
  {
   "cell_type": "code",
   "execution_count": 12,
   "metadata": {
    "execution": {
     "iopub.execute_input": "2024-07-19T16:01:15.816289Z",
     "iopub.status.busy": "2024-07-19T16:01:15.815891Z",
     "iopub.status.idle": "2024-07-19T16:01:15.942248Z",
     "shell.execute_reply": "2024-07-19T16:01:15.941671Z"
    }
   },
   "outputs": [],
   "source": [
    "'''\n",
    "ratingData <- readNWISrating(siteNumber, \"base\")\n",
    "attr(ratingData, \"RATING\")\n",
    "'''\n",
    "ratings_data, md = nwis.get_ratings(site='01594440', file_type=\"base\")"
   ]
  },
  {
   "cell_type": "code",
   "execution_count": 13,
   "metadata": {
    "execution": {
     "iopub.execute_input": "2024-07-19T16:01:15.944797Z",
     "iopub.status.busy": "2024-07-19T16:01:15.944609Z",
     "iopub.status.idle": "2024-07-19T16:01:16.287002Z",
     "shell.execute_reply": "2024-07-19T16:01:16.286415Z"
    }
   },
   "outputs": [],
   "source": [
    "'''surfaceData <- readNWISmeas(siteNumber)'''\n",
    "siteNumber = '01594440'\n",
    "surface_data, md = nwis.get_discharge_measurements(sites=siteNumber)"
   ]
  },
  {
   "cell_type": "code",
   "execution_count": 14,
   "metadata": {
    "execution": {
     "iopub.execute_input": "2024-07-19T16:01:16.289504Z",
     "iopub.status.busy": "2024-07-19T16:01:16.289316Z",
     "iopub.status.idle": "2024-07-19T16:01:18.033395Z",
     "shell.execute_reply": "2024-07-19T16:01:18.032794Z"
    }
   },
   "outputs": [],
   "source": [
    "'''\n",
    "allegheny <- readNWISuse(stateCd = \"Pennsylvania\",\n",
    "                         countyCd = \"Allegheny\")\n",
    "national <- readNWISuse(stateCd = NULL, \n",
    "                        countyCd = NULL, \n",
    "                        transform = TRUE)\n",
    "'''\n",
    "allegheny, md = nwis.get_water_use(state=\"PA\", counties=\"003\")\n",
    "\n",
    "national, md = nwis.get_water_use()"
   ]
  },
  {
   "cell_type": "code",
   "execution_count": 15,
   "metadata": {
    "execution": {
     "iopub.execute_input": "2024-07-19T16:01:18.035840Z",
     "iopub.status.busy": "2024-07-19T16:01:18.035649Z",
     "iopub.status.idle": "2024-07-19T16:01:18.432356Z",
     "shell.execute_reply": "2024-07-19T16:01:18.431775Z"
    }
   },
   "outputs": [],
   "source": [
    "'''\n",
    "discharge_stats <- readNWISstat(siteNumbers=c(\"02319394\"),\n",
    "                   parameterCd=c(\"00060\"),\n",
    "                   statReportType=\"annual\") \n",
    "'''\n",
    "discharge_stats, md = nwis.get_stats(sites='02319394', parameterCd=\"00060\", statReportType='annual', statTypeCd='all')"
   ]
  },
  {
   "cell_type": "code",
   "execution_count": 16,
   "metadata": {
    "execution": {
     "iopub.execute_input": "2024-07-19T16:01:18.434926Z",
     "iopub.status.busy": "2024-07-19T16:01:18.434733Z",
     "iopub.status.idle": "2024-07-19T16:01:18.437331Z",
     "shell.execute_reply": "2024-07-19T16:01:18.436821Z"
    }
   },
   "outputs": [],
   "source": [
    "# '''\n",
    "# specificCond <- readWQPqw('WIDNR_WQX-10032762',\n",
    "#                           'Specific conductance',\n",
    "#                           '2011-05-01','2011-09-30')\n",
    "# '''\n",
    "# specific_cond, md = wqp.get_results(siteid='WIDNR_WQX-10032762',\n",
    "#                           characteristicName = 'Specific conductance',\n",
    "#                           startDateLo='2011-05-01', startDateHi='2011-09-30')"
   ]
  },
  {
   "cell_type": "code",
   "execution_count": 17,
   "metadata": {
    "execution": {
     "iopub.execute_input": "2024-07-19T16:01:18.439466Z",
     "iopub.status.busy": "2024-07-19T16:01:18.439070Z",
     "iopub.status.idle": "2024-07-19T16:01:18.441564Z",
     "shell.execute_reply": "2024-07-19T16:01:18.441045Z"
    }
   },
   "outputs": [],
   "source": [
    "# '''\n",
    "# dischargeWI <- readNWISdata(service=\"dv\",\n",
    "#                            stateCd=\"WI\",\n",
    "#                            parameterCd=\"00060\",\n",
    "#                            drainAreaMin=\"50\",\n",
    "#                            statCd=\"00003\")\n",
    "# '''\n",
    "# dischargeWI, md = nwis.get_dv(stateCd=\"WI\", parameterCd=\"00060\", drainAreaMin=\"50\", statCd=\"00003\")"
   ]
  },
  {
   "cell_type": "code",
   "execution_count": 18,
   "metadata": {
    "execution": {
     "iopub.execute_input": "2024-07-19T16:01:18.443454Z",
     "iopub.status.busy": "2024-07-19T16:01:18.443281Z",
     "iopub.status.idle": "2024-07-19T16:01:18.445739Z",
     "shell.execute_reply": "2024-07-19T16:01:18.445278Z"
    }
   },
   "outputs": [],
   "source": [
    "# '''\n",
    "# sitesNJ <- whatWQPsites(statecode=\"US:34\",\n",
    "#                        characteristicName=\"Chloride\")\n",
    "# '''\n",
    "# sitesNJ, md = wqp.what_sites(statecode=\"US:34\", characteristicName=\"Chloride\")"
   ]
  },
  {
   "cell_type": "code",
   "execution_count": 19,
   "metadata": {
    "execution": {
     "iopub.execute_input": "2024-07-19T16:01:18.447864Z",
     "iopub.status.busy": "2024-07-19T16:01:18.447523Z",
     "iopub.status.idle": "2024-07-19T16:01:18.449916Z",
     "shell.execute_reply": "2024-07-19T16:01:18.449460Z"
    }
   },
   "outputs": [],
   "source": [
    "# '''\n",
    "# dataPH <- readWQPdata(statecode=\"US:55\", \n",
    "#                  characteristicName=\"pH\")\n",
    "# '''\n",
    "# dataPH, md = wqp.what_sites(statecode=\"US:55\", characteristicName=\"pH\")"
   ]
  },
  {
   "cell_type": "code",
   "execution_count": 20,
   "metadata": {
    "execution": {
     "iopub.execute_input": "2024-07-19T16:01:18.451977Z",
     "iopub.status.busy": "2024-07-19T16:01:18.451635Z",
     "iopub.status.idle": "2024-07-19T16:01:18.454031Z",
     "shell.execute_reply": "2024-07-19T16:01:18.453568Z"
    }
   },
   "outputs": [],
   "source": [
    "# '''\n",
    "# type <- \"Stream\"\n",
    "# sites <- whatWQPdata(countycode=\"US:55:025\",siteType=type)\n",
    "# '''\n",
    "# streamType = \"Stream\"\n",
    "# sites, md = wqp.get_results(countycode=\"US:55:025\", siteType=streamType)"
   ]
  },
  {
   "cell_type": "code",
   "execution_count": 21,
   "metadata": {
    "execution": {
     "iopub.execute_input": "2024-07-19T16:01:18.456034Z",
     "iopub.status.busy": "2024-07-19T16:01:18.455693Z",
     "iopub.status.idle": "2024-07-19T16:01:18.597890Z",
     "shell.execute_reply": "2024-07-19T16:01:18.597267Z"
    }
   },
   "outputs": [
    {
     "name": "stderr",
     "output_type": "stream",
     "text": [
      "/home/runner/.local/lib/python3.10/site-packages/dataretrieval/wqp.py:549: UserWarning: USGS discrete water quality data availability and format are changing. Beginning in March 2024 the data obtained from legacy profiles will not include new USGS data or recent updates to existing data. To view the status of changes in data availability and code functionality, visit: https://doi-usgs.github.io/dataRetrieval/articles/Status.html. If you have additional questions about these changes, email CompTools@usgs.gov.\n",
      "  warnings.warn(\n"
     ]
    }
   ],
   "source": [
    "'''site <- whatWQPsamples(siteid=\"USGS-01594440\")'''\n",
    "\n",
    "site, md = wqp.what_sites(siteid=\"USGS-01594440\")"
   ]
  },
  {
   "cell_type": "code",
   "execution_count": 22,
   "metadata": {
    "collapsed": false,
    "execution": {
     "iopub.execute_input": "2024-07-19T16:01:18.600358Z",
     "iopub.status.busy": "2024-07-19T16:01:18.599996Z",
     "iopub.status.idle": "2024-07-19T16:01:18.726052Z",
     "shell.execute_reply": "2024-07-19T16:01:18.725461Z"
    },
    "pycharm": {
     "name": "#%%\n"
    }
   },
   "outputs": [
    {
     "name": "stderr",
     "output_type": "stream",
     "text": [
      "/home/runner/.local/lib/python3.10/site-packages/dataretrieval/wqp.py:549: UserWarning: USGS discrete water quality data availability and format are changing. Beginning in March 2024 the data obtained from legacy profiles will not include new USGS data or recent updates to existing data. To view the status of changes in data availability and code functionality, visit: https://doi-usgs.github.io/dataRetrieval/articles/Status.html. If you have additional questions about these changes, email CompTools@usgs.gov.\n",
      "  warnings.warn(\n"
     ]
    }
   ],
   "source": [
    "'''\n",
    "type <- \"Stream\"\n",
    "sites <- whatWQPmetrics(countycode=\"US:55:025\",siteType=type)\n",
    "'''\n",
    "streamType = \"Stream\"\n",
    "sites, md = wqp.what_sites(countycode=\"US:55:025\",siteType=streamType)"
   ]
  },
  {
   "cell_type": "markdown",
   "metadata": {},
   "source": [
    "# Embedded Metadata\n",
    "\n",
    "All service methods return the DataFrame containing requested data and Metadata as a tuple.  Note, a call using get_record will only return the DataFrame to remain compatible with previous usage.\n",
    "\n",
    "\n",
    "```\n",
    "national, md = nwis.get_water_use()\n",
    "```\n",
    "\n",
    "md is an object with the following attributes\n",
    "\n",
    "```\n",
    "Metadata\n",
    "    url # the resulting url to query usgs\n",
    "    query_time # the time it took to query usgs\n",
    "    site_info # a method to call site_info with the site parameters supplied\n",
    "    header # any headers attached to the response object\n",
    "```"
   ]
  },
  {
   "cell_type": "markdown",
   "metadata": {},
   "source": []
  }
 ],
 "metadata": {
  "kernelspec": {
   "display_name": "Python 3.8.13 ('py38')",
   "language": "python",
   "name": "python3"
  },
  "language_info": {
   "codemirror_mode": {
    "name": "ipython",
    "version": 3
   },
   "file_extension": ".py",
   "mimetype": "text/x-python",
   "name": "python",
   "nbconvert_exporter": "python",
   "pygments_lexer": "ipython3",
   "version": "3.10.12"
  },
  "vscode": {
   "interpreter": {
    "hash": "2da9d245c691c2995f0592d1f809d130e15c1d01d60d03d4ca8d56ea51bb4095"
   }
  }
 },
 "nbformat": 4,
 "nbformat_minor": 2
}
