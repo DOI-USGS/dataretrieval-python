{
 "cells": [
  {
   "cell_type": "markdown",
   "metadata": {},
   "source": [
    "# Python Equivalents to R Vignette Examples"
   ]
  },
  {
   "cell_type": "code",
   "execution_count": 1,
   "metadata": {
    "execution": {
     "iopub.execute_input": "2023-03-30T19:29:58.786175Z",
     "iopub.status.busy": "2023-03-30T19:29:58.785555Z",
     "iopub.status.idle": "2023-03-30T19:29:59.080364Z",
     "shell.execute_reply": "2023-03-30T19:29:59.079696Z"
    }
   },
   "outputs": [
    {
     "name": "stderr",
     "output_type": "stream",
     "text": [
      "/home/runner/.local/lib/python3.10/site-packages/dataretrieval/nadp.py:44: UserWarning: GDAL not installed. Some functions will not work.\n",
      "  warnings.warn('GDAL not installed. Some functions will not work.')\n"
     ]
    }
   ],
   "source": [
    "from dataretrieval import nwis\n",
    "from dataretrieval import wqp"
   ]
  },
  {
   "cell_type": "markdown",
   "metadata": {},
   "source": [
    "The dataRetrieval package was created as a python equivalent to the R dataRetrieval tool.\n",
    "\n",
    "The following shows python equivalents for methods outlined in the R dataRetrieval Vignette with the equivalent R code in comments"
   ]
  },
  {
   "cell_type": "code",
   "execution_count": 2,
   "metadata": {
    "execution": {
     "iopub.execute_input": "2023-03-30T19:29:59.083780Z",
     "iopub.status.busy": "2023-03-30T19:29:59.083273Z",
     "iopub.status.idle": "2023-03-30T19:30:01.791908Z",
     "shell.execute_reply": "2023-03-30T19:30:01.791198Z"
    }
   },
   "outputs": [],
   "source": [
    "'''\n",
    "library(dataRetrieval)\n",
    "# Choptank River near Greensboro, MD\n",
    "siteNumber <- \"01491000\"\n",
    "ChoptankInfo <- readNWISsite(siteNumber)\n",
    "parameterCd <- \"00060\"\n",
    "\n",
    "#Raw daily data:\n",
    "rawDailyData <- readNWISdv(siteNumber,parameterCd,\n",
    "                      \"1980-01-01\",\"2010-01-01\")\n",
    "\n",
    "# Sample data Nitrate:\n",
    "parameterCd <- \"00618\"\n",
    "qwData <- readNWISqw(siteNumber,parameterCd,\n",
    "                      \"1980-01-01\",\"2010-01-01\")\n",
    "\n",
    "pCode <- readNWISpCode(parameterCd)\n",
    "'''\n",
    "\n",
    "# Choptank River near Greensboro, MD\n",
    "siteNumber = '01491000'\n",
    "chop_tank_info, md = nwis.get_info(sites=siteNumber)\n",
    "parameterCd = '00060'\n",
    "\n",
    "# raw daily data\n",
    "rawDailyData, md = nwis.get_dv(sites=siteNumber, parameterCd=parameterCd, start=\"1980-01-01\", end=\"2010-01-01\")\n",
    "\n",
    "# sample data Nitrate:\n",
    "parameterCd = \"00618\"\n",
    "qwData, md = nwis.get_qwdata(sites=siteNumber, parameterCd=parameterCd, start=\"1980-01-01\", end=\"2010-01-01\")\n",
    "\n",
    "pCode, md = nwis.get_pmcodes(parameterCd=parameterCd)"
   ]
  },
  {
   "cell_type": "code",
   "execution_count": 3,
   "metadata": {
    "execution": {
     "iopub.execute_input": "2023-03-30T19:30:01.795180Z",
     "iopub.status.busy": "2023-03-30T19:30:01.794922Z",
     "iopub.status.idle": "2023-03-30T19:30:02.077254Z",
     "shell.execute_reply": "2023-03-30T19:30:02.076531Z"
    }
   },
   "outputs": [],
   "source": [
    "'''\n",
    "{r getSite, echo=TRUE, eval=FALSE}\n",
    "siteNumbers <- c(\"01491000\",\"01645000\")\n",
    "siteINFO <- readNWISsite(siteNumbers)\n",
    "'''\n",
    "siteNumbers = [\"01491000\",\"01645000\"]\n",
    "siteINFO, md = nwis.get_iv(sites=siteNumbers)"
   ]
  },
  {
   "cell_type": "code",
   "execution_count": 4,
   "metadata": {
    "execution": {
     "iopub.execute_input": "2023-03-30T19:30:02.080387Z",
     "iopub.status.busy": "2023-03-30T19:30:02.080002Z",
     "iopub.status.idle": "2023-03-30T19:30:02.566680Z",
     "shell.execute_reply": "2023-03-30T19:30:02.565962Z"
    }
   },
   "outputs": [],
   "source": [
    "'''\n",
    "# Continuing from the previous example:\n",
    "# This pulls out just the daily, mean data:\n",
    "dailyDataAvailable <- whatNWISdata(siteNumbers,\n",
    "                    service=\"dv\", statCd=\"00003\")\n",
    "'''\n",
    "\n",
    "dailyDataAvailable, md = nwis.get_dv(sites=siteNumbers, statCd=\"00003\")"
   ]
  },
  {
   "cell_type": "code",
   "execution_count": 5,
   "metadata": {
    "execution": {
     "iopub.execute_input": "2023-03-30T19:30:02.569765Z",
     "iopub.status.busy": "2023-03-30T19:30:02.569527Z",
     "iopub.status.idle": "2023-03-30T19:30:02.965558Z",
     "shell.execute_reply": "2023-03-30T19:30:02.964785Z"
    },
    "pycharm": {
     "is_executing": false
    }
   },
   "outputs": [],
   "source": [
    "'''\n",
    "# Using defaults:\n",
    "parameterCd <- \"00618\" \n",
    "parameterINFO <- readNWISpCode(parameterCd)\n",
    "'''\n",
    "\n",
    "pCode, md = nwis.get_pmcodes(parameterCd=\"00618\")"
   ]
  },
  {
   "cell_type": "code",
   "execution_count": 6,
   "metadata": {
    "execution": {
     "iopub.execute_input": "2023-03-30T19:30:02.968716Z",
     "iopub.status.busy": "2023-03-30T19:30:02.968358Z",
     "iopub.status.idle": "2023-03-30T19:30:03.247818Z",
     "shell.execute_reply": "2023-03-30T19:30:03.247113Z"
    }
   },
   "outputs": [],
   "source": [
    "'''\n",
    "# Choptank River near Greensboro, MD:\n",
    "siteNumber <- \"01491000\"\n",
    "parameterCd <- \"00060\"  # Discharge\n",
    "startDate <- \"2009-10-01\"  \n",
    "endDate <- \"2012-09-30\" \n",
    "\n",
    "discharge <- readNWISdv(siteNumber, \n",
    "                    parameterCd, startDate, endDate)\n",
    "'''\n",
    "# Choptank River near Greensboro, MD:\n",
    "siteNumber = \"01491000\"\n",
    "parameterCd = \"00060\"  # Discharge\n",
    "startDate = \"2009-10-01\"  \n",
    "endDate = \"2012-09-30\" \n",
    "\n",
    "discharge, md = nwis.get_dv(sites=siteNumber, parameterCd=parameterCd, start=startDate, end=endDate)"
   ]
  },
  {
   "cell_type": "code",
   "execution_count": 7,
   "metadata": {
    "execution": {
     "iopub.execute_input": "2023-03-30T19:30:03.250735Z",
     "iopub.status.busy": "2023-03-30T19:30:03.250359Z",
     "iopub.status.idle": "2023-03-30T19:30:03.726591Z",
     "shell.execute_reply": "2023-03-30T19:30:03.725731Z"
    }
   },
   "outputs": [],
   "source": [
    "'''\n",
    "siteNumber <- \"01491000\"\n",
    "parameterCd <- c(\"00010\",\"00060\")  # Temperature and discharge\n",
    "statCd <- c(\"00001\",\"00003\")  # Mean and maximum\n",
    "startDate <- \"2012-01-01\"\n",
    "endDate <- \"2012-05-01\"\n",
    "\n",
    "temperatureAndFlow <- readNWISdv(siteNumber, parameterCd, \n",
    "        startDate, endDate, statCd=statCd)\n",
    "'''\n",
    "siteNumber = \"01491000\"\n",
    "parameterCd = [\"00010\",\"00060\"]  # Temperature and discharge\n",
    "statCd = [\"00001\",\"00003\"]  # Mean and maximum\n",
    "startDate = \"2012-01-01\"\n",
    "endDate = \"2012-05-01\"\n",
    "\n",
    "temperatureAndFlow, md = nwis.get_dv(sites=siteNumber, parameterCd=parameterCd,\n",
    "                                     start=startDate, end=endDate, statCd=statCd)"
   ]
  },
  {
   "cell_type": "code",
   "execution_count": 8,
   "metadata": {
    "execution": {
     "iopub.execute_input": "2023-03-30T19:30:03.729710Z",
     "iopub.status.busy": "2023-03-30T19:30:03.729328Z",
     "iopub.status.idle": "2023-03-30T19:30:04.105975Z",
     "shell.execute_reply": "2023-03-30T19:30:04.105328Z"
    }
   },
   "outputs": [],
   "source": [
    "'''\n",
    "parameterCd <- \"00060\"  # Discharge\n",
    "startDate <- \"2012-05-12\" \n",
    "endDate <- \"2012-05-13\" \n",
    "dischargeUnit <- readNWISuv(siteNumber, parameterCd, \n",
    "        startDate, endDate)\n",
    "'''\n",
    "siteNumber = \"01491000\"\n",
    "parameterCd = \"00060\"  # Discharge\n",
    "startDate = \"2012-05-12\" \n",
    "endDate = \"2012-05-13\" \n",
    "dischargeUnit, md = nwis.get_iv(sites=siteNumber, parameterCd=parameterCd,\n",
    "                            start=startDate, end=endDate)"
   ]
  },
  {
   "cell_type": "code",
   "execution_count": 9,
   "metadata": {
    "execution": {
     "iopub.execute_input": "2023-03-30T19:30:04.109156Z",
     "iopub.status.busy": "2023-03-30T19:30:04.108757Z",
     "iopub.status.idle": "2023-03-30T19:30:05.792187Z",
     "shell.execute_reply": "2023-03-30T19:30:05.791462Z"
    }
   },
   "outputs": [],
   "source": [
    "'''\n",
    "# Dissolved Nitrate parameter codes:\n",
    "parameterCd <- c(\"00618\",\"71851\")\n",
    "startDate <- \"1985-10-01\"\n",
    "endDate <- \"2012-09-30\"\n",
    "dfLong <- readNWISqw(siteNumber, parameterCd, \n",
    "      startDate, endDate)\n",
    "# Or the wide return:\n",
    "dfWide <- readNWISqw(siteNumber, parameterCd,\n",
    "      startDate, endDate, reshape=TRUE)\n",
    "'''\n",
    "siteNumber = \"01491000\"\n",
    "parameterCd = [\"00618\",\"71851\"]\n",
    "startDate = \"1985-10-01\"\n",
    "endDate = \"2012-09-30\"\n",
    "dfLong, md = nwis.get_qwdata(sites=siteNumber, parameterCd=parameterCd,\n",
    "                             start=startDate, end=endDate)"
   ]
  },
  {
   "cell_type": "code",
   "execution_count": 10,
   "metadata": {
    "execution": {
     "iopub.execute_input": "2023-03-30T19:30:05.795691Z",
     "iopub.status.busy": "2023-03-30T19:30:05.795045Z",
     "iopub.status.idle": "2023-03-30T19:30:06.246937Z",
     "shell.execute_reply": "2023-03-30T19:30:06.246149Z"
    }
   },
   "outputs": [
    {
     "name": "stderr",
     "output_type": "stream",
     "text": [
      "/home/runner/.local/lib/python3.10/site-packages/dataretrieval/utils.py:87: UserWarning: Warning: 189 incomplete dates found, consider setting datetime_index to False.\n",
      "  warnings.warn(\n"
     ]
    }
   ],
   "source": [
    "'''\n",
    "siteNumber <- \"434400121275801\"\n",
    "groundWater <- readNWISgwl(siteNumber)\n",
    "'''\n",
    "siteNumber = \"434400121275801\"\n",
    "groundWater, md = nwis.get_gwlevels(sites=siteNumber)"
   ]
  },
  {
   "cell_type": "code",
   "execution_count": 11,
   "metadata": {
    "execution": {
     "iopub.execute_input": "2023-03-30T19:30:06.249876Z",
     "iopub.status.busy": "2023-03-30T19:30:06.249367Z",
     "iopub.status.idle": "2023-03-30T19:30:06.562641Z",
     "shell.execute_reply": "2023-03-30T19:30:06.561980Z"
    }
   },
   "outputs": [],
   "source": [
    "'''\n",
    "siteNumber <- '01594440'\n",
    "peakData <- readNWISpeak(siteNumber)\n",
    "'''\n",
    "siteNumber = '01594440'\n",
    "peakData, md = nwis.get_discharge_peaks(sites=siteNumber)"
   ]
  },
  {
   "cell_type": "code",
   "execution_count": 12,
   "metadata": {
    "execution": {
     "iopub.execute_input": "2023-03-30T19:30:06.565747Z",
     "iopub.status.busy": "2023-03-30T19:30:06.565356Z",
     "iopub.status.idle": "2023-03-30T19:30:06.682915Z",
     "shell.execute_reply": "2023-03-30T19:30:06.682229Z"
    }
   },
   "outputs": [],
   "source": [
    "'''\n",
    "ratingData <- readNWISrating(siteNumber, \"base\")\n",
    "attr(ratingData, \"RATING\")\n",
    "'''\n",
    "ratings_data, md = nwis.get_ratings(site='01594440', file_type=\"base\")"
   ]
  },
  {
   "cell_type": "code",
   "execution_count": 13,
   "metadata": {
    "execution": {
     "iopub.execute_input": "2023-03-30T19:30:06.686460Z",
     "iopub.status.busy": "2023-03-30T19:30:06.685785Z",
     "iopub.status.idle": "2023-03-30T19:30:07.369035Z",
     "shell.execute_reply": "2023-03-30T19:30:07.368299Z"
    }
   },
   "outputs": [],
   "source": [
    "'''surfaceData <- readNWISmeas(siteNumber)'''\n",
    "siteNumber = '01594440'\n",
    "surface_data, md = nwis.get_discharge_measurements(sites=siteNumber)"
   ]
  },
  {
   "cell_type": "code",
   "execution_count": 14,
   "metadata": {
    "execution": {
     "iopub.execute_input": "2023-03-30T19:30:07.372506Z",
     "iopub.status.busy": "2023-03-30T19:30:07.371945Z",
     "iopub.status.idle": "2023-03-30T19:30:09.084617Z",
     "shell.execute_reply": "2023-03-30T19:30:09.083894Z"
    }
   },
   "outputs": [],
   "source": [
    "'''\n",
    "allegheny <- readNWISuse(stateCd = \"Pennsylvania\",\n",
    "                         countyCd = \"Allegheny\")\n",
    "national <- readNWISuse(stateCd = NULL, \n",
    "                        countyCd = NULL, \n",
    "                        transform = TRUE)\n",
    "'''\n",
    "allegheny, md = nwis.get_water_use(state=\"PA\", counties=\"003\")\n",
    "\n",
    "national, md = nwis.get_water_use()"
   ]
  },
  {
   "cell_type": "code",
   "execution_count": 15,
   "metadata": {
    "execution": {
     "iopub.execute_input": "2023-03-30T19:30:09.088116Z",
     "iopub.status.busy": "2023-03-30T19:30:09.087629Z",
     "iopub.status.idle": "2023-03-30T19:30:09.274440Z",
     "shell.execute_reply": "2023-03-30T19:30:09.273788Z"
    }
   },
   "outputs": [],
   "source": [
    "'''\n",
    "discharge_stats <- readNWISstat(siteNumbers=c(\"02319394\"),\n",
    "                   parameterCd=c(\"00060\"),\n",
    "                   statReportType=\"annual\") \n",
    "'''\n",
    "discharge_stats, md = nwis.get_stats(sites='02319394', parameterCd=\"00060\", statReportType='annual', statTypeCd='all')"
   ]
  },
  {
   "cell_type": "code",
   "execution_count": 16,
   "metadata": {
    "execution": {
     "iopub.execute_input": "2023-03-30T19:30:09.278048Z",
     "iopub.status.busy": "2023-03-30T19:30:09.277381Z",
     "iopub.status.idle": "2023-03-30T19:30:09.281246Z",
     "shell.execute_reply": "2023-03-30T19:30:09.280581Z"
    }
   },
   "outputs": [],
   "source": [
    "# '''\n",
    "# specificCond <- readWQPqw('WIDNR_WQX-10032762',\n",
    "#                           'Specific conductance',\n",
    "#                           '2011-05-01','2011-09-30')\n",
    "# '''\n",
    "# specific_cond, md = wqp.get_results(siteid='WIDNR_WQX-10032762',\n",
    "#                           characteristicName = 'Specific conductance',\n",
    "#                           startDateLo='2011-05-01', startDateHi='2011-09-30')"
   ]
  },
  {
   "cell_type": "code",
   "execution_count": 17,
   "metadata": {
    "execution": {
     "iopub.execute_input": "2023-03-30T19:30:09.283747Z",
     "iopub.status.busy": "2023-03-30T19:30:09.283357Z",
     "iopub.status.idle": "2023-03-30T19:30:09.286885Z",
     "shell.execute_reply": "2023-03-30T19:30:09.286329Z"
    }
   },
   "outputs": [],
   "source": [
    "# '''\n",
    "# dischargeWI <- readNWISdata(service=\"dv\",\n",
    "#                            stateCd=\"WI\",\n",
    "#                            parameterCd=\"00060\",\n",
    "#                            drainAreaMin=\"50\",\n",
    "#                            statCd=\"00003\")\n",
    "# '''\n",
    "# dischargeWI, md = nwis.get_dv(stateCd=\"WI\", parameterCd=\"00060\", drainAreaMin=\"50\", statCd=\"00003\")"
   ]
  },
  {
   "cell_type": "code",
   "execution_count": 18,
   "metadata": {
    "execution": {
     "iopub.execute_input": "2023-03-30T19:30:09.288978Z",
     "iopub.status.busy": "2023-03-30T19:30:09.288777Z",
     "iopub.status.idle": "2023-03-30T19:30:09.291510Z",
     "shell.execute_reply": "2023-03-30T19:30:09.290908Z"
    }
   },
   "outputs": [],
   "source": [
    "# '''\n",
    "# sitesNJ <- whatWQPsites(statecode=\"US:34\",\n",
    "#                        characteristicName=\"Chloride\")\n",
    "# '''\n",
    "# sitesNJ, md = wqp.what_sites(statecode=\"US:34\", characteristicName=\"Chloride\")"
   ]
  },
  {
   "cell_type": "code",
   "execution_count": 19,
   "metadata": {
    "execution": {
     "iopub.execute_input": "2023-03-30T19:30:09.293840Z",
     "iopub.status.busy": "2023-03-30T19:30:09.293455Z",
     "iopub.status.idle": "2023-03-30T19:30:09.296264Z",
     "shell.execute_reply": "2023-03-30T19:30:09.295666Z"
    }
   },
   "outputs": [],
   "source": [
    "# '''\n",
    "# dataPH <- readWQPdata(statecode=\"US:55\", \n",
    "#                  characteristicName=\"pH\")\n",
    "# '''\n",
    "# dataPH, md = wqp.what_sites(statecode=\"US:55\", characteristicName=\"pH\")"
   ]
  },
  {
   "cell_type": "code",
   "execution_count": 20,
   "metadata": {
    "execution": {
     "iopub.execute_input": "2023-03-30T19:30:09.298556Z",
     "iopub.status.busy": "2023-03-30T19:30:09.298170Z",
     "iopub.status.idle": "2023-03-30T19:30:09.300884Z",
     "shell.execute_reply": "2023-03-30T19:30:09.300297Z"
    }
   },
   "outputs": [],
   "source": [
    "# '''\n",
    "# type <- \"Stream\"\n",
    "# sites <- whatWQPdata(countycode=\"US:55:025\",siteType=type)\n",
    "# '''\n",
    "# streamType = \"Stream\"\n",
    "# sites, md = wqp.get_results(countycode=\"US:55:025\", siteType=streamType)"
   ]
  },
  {
   "cell_type": "code",
   "execution_count": 21,
   "metadata": {
    "execution": {
     "iopub.execute_input": "2023-03-30T19:30:09.303265Z",
     "iopub.status.busy": "2023-03-30T19:30:09.302885Z",
     "iopub.status.idle": "2023-03-30T19:30:09.590502Z",
     "shell.execute_reply": "2023-03-30T19:30:09.589797Z"
    }
   },
   "outputs": [],
   "source": [
    "'''site <- whatWQPsamples(siteid=\"USGS-01594440\")'''\n",
    "\n",
    "site, md = wqp.what_sites(siteid=\"USGS-01594440\")"
   ]
  },
  {
   "cell_type": "code",
   "execution_count": 22,
   "metadata": {
    "collapsed": false,
    "execution": {
     "iopub.execute_input": "2023-03-30T19:30:09.593387Z",
     "iopub.status.busy": "2023-03-30T19:30:09.593009Z",
     "iopub.status.idle": "2023-03-30T19:30:09.704947Z",
     "shell.execute_reply": "2023-03-30T19:30:09.704275Z"
    },
    "pycharm": {
     "name": "#%%\n"
    }
   },
   "outputs": [],
   "source": [
    "'''\n",
    "type <- \"Stream\"\n",
    "sites <- whatWQPmetrics(countycode=\"US:55:025\",siteType=type)\n",
    "'''\n",
    "streamType = \"Stream\"\n",
    "sites, md = wqp.what_sites(countycode=\"US:55:025\",siteType=streamType)"
   ]
  },
  {
   "cell_type": "markdown",
   "metadata": {},
   "source": [
    "# Embedded Metadata\n",
    "\n",
    "All service methods return the DataFrame containing requested data and Metadata as a tuple.  Note, a call using get_record will only return the DataFrame to remain compatible with previous usage.\n",
    "\n",
    "\n",
    "```\n",
    "national, md = nwis.get_water_use()\n",
    "```\n",
    "\n",
    "md is an object with the following attributes\n",
    "\n",
    "```\n",
    "Metadata\n",
    "    url # the resulting url to query usgs\n",
    "    query_time # the time it took to query usgs\n",
    "    site_info # a method to call site_info with the site parameters supplied\n",
    "    header # any headers attached to the response object\n",
    "```"
   ]
  },
  {
   "cell_type": "markdown",
   "metadata": {},
   "source": []
  }
 ],
 "metadata": {
  "kernelspec": {
   "display_name": "Python 3.8.13 ('py38')",
   "language": "python",
   "name": "python3"
  },
  "language_info": {
   "codemirror_mode": {
    "name": "ipython",
    "version": 3
   },
   "file_extension": ".py",
   "mimetype": "text/x-python",
   "name": "python",
   "nbconvert_exporter": "python",
   "pygments_lexer": "ipython3",
   "version": "3.10.6"
  },
  "vscode": {
   "interpreter": {
    "hash": "2da9d245c691c2995f0592d1f809d130e15c1d01d60d03d4ca8d56ea51bb4095"
   }
  }
 },
 "nbformat": 4,
 "nbformat_minor": 2
}
