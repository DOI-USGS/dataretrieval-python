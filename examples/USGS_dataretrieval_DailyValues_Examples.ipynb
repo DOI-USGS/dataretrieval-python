{
 "cells": [
  {
   "cell_type": "markdown",
   "metadata": {},
   "source": [
    "# USGS dataretrieval Python Package `get_dv()` Examples\n",
    "\n",
    "This notebook provides examples of using the Python dataretrieval package to retrieve daily streamflow data for a United States Geological Survey (USGS) monitoring site. The dataretrieval package provides a collection of functions to get data from the USGS National Water Information System (NWIS) and other online sources of hydrology and water quality data, including the United States Environmental Protection Agency (USEPA)."
   ]
  },
  {
   "cell_type": "markdown",
   "metadata": {},
   "source": [
    "### Install the Package\n",
    "\n",
    "Use the following code to install the package if it doesn't exist already within your Jupyter Python environment."
   ]
  },
  {
   "cell_type": "code",
   "execution_count": 1,
   "metadata": {
    "execution": {
     "iopub.execute_input": "2025-05-06T20:10:36.377042Z",
     "iopub.status.busy": "2025-05-06T20:10:36.376843Z",
     "iopub.status.idle": "2025-05-06T20:10:37.032766Z",
     "shell.execute_reply": "2025-05-06T20:10:37.032164Z"
    },
    "pycharm": {
     "is_executing": true,
     "name": "#%%\n"
    }
   },
   "outputs": [
    {
     "name": "stdout",
     "output_type": "stream",
     "text": [
      "Defaulting to user installation because normal site-packages is not writeable\r\n"
     ]
    },
    {
     "name": "stdout",
     "output_type": "stream",
     "text": [
      "Requirement already satisfied: dataretrieval in /home/runner/.local/lib/python3.12/site-packages (0.1.dev1+g4b3a3e8)\r\n",
      "Requirement already satisfied: requests in /usr/lib/python3/dist-packages (from dataretrieval) (2.31.0)\r\n",
      "Requirement already satisfied: pandas==2.* in /home/runner/.local/lib/python3.12/site-packages (from dataretrieval) (2.2.3)\r\n",
      "Requirement already satisfied: numpy>=1.26.0 in /home/runner/.local/lib/python3.12/site-packages (from pandas==2.*->dataretrieval) (2.2.5)\r\n",
      "Requirement already satisfied: python-dateutil>=2.8.2 in /usr/lib/python3/dist-packages (from pandas==2.*->dataretrieval) (2.8.2)\r\n",
      "Requirement already satisfied: pytz>=2020.1 in /usr/lib/python3/dist-packages (from pandas==2.*->dataretrieval) (2024.1)\r\n",
      "Requirement already satisfied: tzdata>=2022.7 in /home/runner/.local/lib/python3.12/site-packages (from pandas==2.*->dataretrieval) (2025.2)\r\n"
     ]
    }
   ],
   "source": [
    "!pip install dataretrieval"
   ]
  },
  {
   "cell_type": "markdown",
   "metadata": {},
   "source": [
    "Load the package so you can use it along with other packages used in this notebook."
   ]
  },
  {
   "cell_type": "code",
   "execution_count": 2,
   "metadata": {
    "execution": {
     "iopub.execute_input": "2025-05-06T20:10:37.034779Z",
     "iopub.status.busy": "2025-05-06T20:10:37.034585Z",
     "iopub.status.idle": "2025-05-06T20:10:37.349461Z",
     "shell.execute_reply": "2025-05-06T20:10:37.349013Z"
    },
    "pycharm": {
     "name": "#%%\n"
    }
   },
   "outputs": [],
   "source": [
    "from dataretrieval import nwis\n",
    "from IPython.display import display"
   ]
  },
  {
   "cell_type": "markdown",
   "metadata": {},
   "source": [
    "### Basic Usage\n",
    "\n",
    "The dataretrieval package has several functions that allow you to retrieve data from different web services. This examples uses the `get_dv()` function to retrieve daily streamflow data for a USGS monitoring site from NWIS. The following arguments are supported:\n",
    "\n",
    "Arguments (Additional arguments, if supplied, will be used as query parameters)\n",
    "\n",
    "* **sites** (string or list of strings): A list of USGS site identifiers for which to retrieve data.\n",
    "* **parameterCd** (list of strings): A list of USGS parameter codes for which to retrieve data.\n",
    "* **statCd** (list of strings): A list of USGS statistic codes for which to retrieve data.\n",
    "* **start** (string): The beginning date for a period for which to retrieve data. If the waterdata parameter startDT is supplied, it will overwrite the start parameter.\n",
    "* **end** (string): The ending date for a period for which to retrieve data. If the waterdata parameter endDT is supplied, it will overwrite the end parameter."
   ]
  },
  {
   "cell_type": "markdown",
   "metadata": {
    "collapsed": false,
    "pycharm": {
     "name": "#%% md\n"
    }
   },
   "source": [
    "Example 1: Get daily value data for a specific parameter at a single USGS NWIS monitoring site between a begin and end date."
   ]
  },
  {
   "cell_type": "code",
   "execution_count": 3,
   "metadata": {
    "execution": {
     "iopub.execute_input": "2025-05-06T20:10:37.351490Z",
     "iopub.status.busy": "2025-05-06T20:10:37.351246Z",
     "iopub.status.idle": "2025-05-06T20:10:37.456704Z",
     "shell.execute_reply": "2025-05-06T20:10:37.456219Z"
    },
    "pycharm": {
     "name": "#%%\n"
    }
   },
   "outputs": [
    {
     "name": "stdout",
     "output_type": "stream",
     "text": [
      "Retrieved 365 data values.\n"
     ]
    }
   ],
   "source": [
    "# Set the parameters needed to retrieve data\n",
    "siteNumber = \"10109000\" # LOGAN RIVER ABOVE STATE DAM, NEAR LOGAN, UT\n",
    "parameterCode = \"00060\" # Discharge\n",
    "startDate = \"2020-10-01\"\n",
    "endDate = \"2021-09-30\"\n",
    "\n",
    "# Retrieve the data\n",
    "dailyStreamflow = nwis.get_dv(sites=siteNumber, parameterCd=parameterCode, start=startDate, end=endDate) \n",
    "print(\"Retrieved \" + str(len(dailyStreamflow[0])) + \" data values.\")"
   ]
  },
  {
   "cell_type": "markdown",
   "metadata": {},
   "source": [
    "### Interpreting the Result\n",
    "\n",
    "The result of calling the `get_dv()` function is an object that contains a Pandas data frame object and an associated metadata object. The Pandas data frame contains the daily values for the observed variable and time period requested. The data frame is indexed by the dates associated with the data values.\n",
    "\n",
    "Once you've got the data frame, there's several useful things you can do to explore the data."
   ]
  },
  {
   "cell_type": "code",
   "execution_count": 4,
   "metadata": {
    "execution": {
     "iopub.execute_input": "2025-05-06T20:10:37.458397Z",
     "iopub.status.busy": "2025-05-06T20:10:37.458225Z",
     "iopub.status.idle": "2025-05-06T20:10:37.468065Z",
     "shell.execute_reply": "2025-05-06T20:10:37.467625Z"
    },
    "pycharm": {
     "name": "#%%\n"
    }
   },
   "outputs": [
    {
     "data": {
      "text/html": [
       "<div>\n",
       "<style scoped>\n",
       "    .dataframe tbody tr th:only-of-type {\n",
       "        vertical-align: middle;\n",
       "    }\n",
       "\n",
       "    .dataframe tbody tr th {\n",
       "        vertical-align: top;\n",
       "    }\n",
       "\n",
       "    .dataframe thead th {\n",
       "        text-align: right;\n",
       "    }\n",
       "</style>\n",
       "<table border=\"1\" class=\"dataframe\">\n",
       "  <thead>\n",
       "    <tr style=\"text-align: right;\">\n",
       "      <th></th>\n",
       "      <th>site_no</th>\n",
       "      <th>00060_Mean</th>\n",
       "      <th>00060_Mean_cd</th>\n",
       "    </tr>\n",
       "    <tr>\n",
       "      <th>datetime</th>\n",
       "      <th></th>\n",
       "      <th></th>\n",
       "      <th></th>\n",
       "    </tr>\n",
       "  </thead>\n",
       "  <tbody>\n",
       "    <tr>\n",
       "      <th>2020-10-01 00:00:00+00:00</th>\n",
       "      <td>10109000</td>\n",
       "      <td>88.8</td>\n",
       "      <td>A</td>\n",
       "    </tr>\n",
       "    <tr>\n",
       "      <th>2020-10-02 00:00:00+00:00</th>\n",
       "      <td>10109000</td>\n",
       "      <td>90.5</td>\n",
       "      <td>A</td>\n",
       "    </tr>\n",
       "    <tr>\n",
       "      <th>2020-10-03 00:00:00+00:00</th>\n",
       "      <td>10109000</td>\n",
       "      <td>92.7</td>\n",
       "      <td>A</td>\n",
       "    </tr>\n",
       "    <tr>\n",
       "      <th>2020-10-04 00:00:00+00:00</th>\n",
       "      <td>10109000</td>\n",
       "      <td>91.8</td>\n",
       "      <td>A</td>\n",
       "    </tr>\n",
       "    <tr>\n",
       "      <th>2020-10-05 00:00:00+00:00</th>\n",
       "      <td>10109000</td>\n",
       "      <td>91.0</td>\n",
       "      <td>A</td>\n",
       "    </tr>\n",
       "    <tr>\n",
       "      <th>...</th>\n",
       "      <td>...</td>\n",
       "      <td>...</td>\n",
       "      <td>...</td>\n",
       "    </tr>\n",
       "    <tr>\n",
       "      <th>2021-09-26 00:00:00+00:00</th>\n",
       "      <td>10109000</td>\n",
       "      <td>54.2</td>\n",
       "      <td>A</td>\n",
       "    </tr>\n",
       "    <tr>\n",
       "      <th>2021-09-27 00:00:00+00:00</th>\n",
       "      <td>10109000</td>\n",
       "      <td>54.5</td>\n",
       "      <td>A</td>\n",
       "    </tr>\n",
       "    <tr>\n",
       "      <th>2021-09-28 00:00:00+00:00</th>\n",
       "      <td>10109000</td>\n",
       "      <td>54.1</td>\n",
       "      <td>A</td>\n",
       "    </tr>\n",
       "    <tr>\n",
       "      <th>2021-09-29 00:00:00+00:00</th>\n",
       "      <td>10109000</td>\n",
       "      <td>53.5</td>\n",
       "      <td>A</td>\n",
       "    </tr>\n",
       "    <tr>\n",
       "      <th>2021-09-30 00:00:00+00:00</th>\n",
       "      <td>10109000</td>\n",
       "      <td>54.0</td>\n",
       "      <td>A</td>\n",
       "    </tr>\n",
       "  </tbody>\n",
       "</table>\n",
       "<p>365 rows × 3 columns</p>\n",
       "</div>"
      ],
      "text/plain": [
       "                            site_no  00060_Mean 00060_Mean_cd\n",
       "datetime                                                     \n",
       "2020-10-01 00:00:00+00:00  10109000        88.8             A\n",
       "2020-10-02 00:00:00+00:00  10109000        90.5             A\n",
       "2020-10-03 00:00:00+00:00  10109000        92.7             A\n",
       "2020-10-04 00:00:00+00:00  10109000        91.8             A\n",
       "2020-10-05 00:00:00+00:00  10109000        91.0             A\n",
       "...                             ...         ...           ...\n",
       "2021-09-26 00:00:00+00:00  10109000        54.2             A\n",
       "2021-09-27 00:00:00+00:00  10109000        54.5             A\n",
       "2021-09-28 00:00:00+00:00  10109000        54.1             A\n",
       "2021-09-29 00:00:00+00:00  10109000        53.5             A\n",
       "2021-09-30 00:00:00+00:00  10109000        54.0             A\n",
       "\n",
       "[365 rows x 3 columns]"
      ]
     },
     "metadata": {},
     "output_type": "display_data"
    }
   ],
   "source": [
    "# Display the data frame as a table\n",
    "display(dailyStreamflow[0])"
   ]
  },
  {
   "cell_type": "markdown",
   "metadata": {
    "collapsed": false,
    "pycharm": {
     "name": "#%% md\n"
    }
   },
   "source": [
    "Show the data types of the columns in the resulting data frame."
   ]
  },
  {
   "cell_type": "code",
   "execution_count": 5,
   "metadata": {
    "collapsed": false,
    "execution": {
     "iopub.execute_input": "2025-05-06T20:10:37.469570Z",
     "iopub.status.busy": "2025-05-06T20:10:37.469399Z",
     "iopub.status.idle": "2025-05-06T20:10:37.472706Z",
     "shell.execute_reply": "2025-05-06T20:10:37.472305Z"
    },
    "pycharm": {
     "name": "#%%\n"
    }
   },
   "outputs": [
    {
     "name": "stdout",
     "output_type": "stream",
     "text": [
      "site_no           object\n",
      "00060_Mean       float64\n",
      "00060_Mean_cd     object\n",
      "dtype: object\n"
     ]
    }
   ],
   "source": [
    "print(dailyStreamflow[0].dtypes)"
   ]
  },
  {
   "cell_type": "markdown",
   "metadata": {
    "pycharm": {
     "name": "#%% md\n"
    }
   },
   "source": [
    "Get summary statistics for the daily streamflow values."
   ]
  },
  {
   "cell_type": "code",
   "execution_count": 6,
   "metadata": {
    "collapsed": false,
    "execution": {
     "iopub.execute_input": "2025-05-06T20:10:37.474126Z",
     "iopub.status.busy": "2025-05-06T20:10:37.473963Z",
     "iopub.status.idle": "2025-05-06T20:10:37.480750Z",
     "shell.execute_reply": "2025-05-06T20:10:37.480356Z"
    },
    "pycharm": {
     "name": "#%%\n"
    }
   },
   "outputs": [
    {
     "data": {
      "text/html": [
       "<div>\n",
       "<style scoped>\n",
       "    .dataframe tbody tr th:only-of-type {\n",
       "        vertical-align: middle;\n",
       "    }\n",
       "\n",
       "    .dataframe tbody tr th {\n",
       "        vertical-align: top;\n",
       "    }\n",
       "\n",
       "    .dataframe thead th {\n",
       "        text-align: right;\n",
       "    }\n",
       "</style>\n",
       "<table border=\"1\" class=\"dataframe\">\n",
       "  <thead>\n",
       "    <tr style=\"text-align: right;\">\n",
       "      <th></th>\n",
       "      <th>00060_Mean</th>\n",
       "    </tr>\n",
       "  </thead>\n",
       "  <tbody>\n",
       "    <tr>\n",
       "      <th>count</th>\n",
       "      <td>365.000000</td>\n",
       "    </tr>\n",
       "    <tr>\n",
       "      <th>mean</th>\n",
       "      <td>95.795616</td>\n",
       "    </tr>\n",
       "    <tr>\n",
       "      <th>std</th>\n",
       "      <td>41.146872</td>\n",
       "    </tr>\n",
       "    <tr>\n",
       "      <th>min</th>\n",
       "      <td>45.900000</td>\n",
       "    </tr>\n",
       "    <tr>\n",
       "      <th>25%</th>\n",
       "      <td>75.200000</td>\n",
       "    </tr>\n",
       "    <tr>\n",
       "      <th>50%</th>\n",
       "      <td>85.800000</td>\n",
       "    </tr>\n",
       "    <tr>\n",
       "      <th>75%</th>\n",
       "      <td>106.000000</td>\n",
       "    </tr>\n",
       "    <tr>\n",
       "      <th>max</th>\n",
       "      <td>271.000000</td>\n",
       "    </tr>\n",
       "  </tbody>\n",
       "</table>\n",
       "</div>"
      ],
      "text/plain": [
       "       00060_Mean\n",
       "count  365.000000\n",
       "mean    95.795616\n",
       "std     41.146872\n",
       "min     45.900000\n",
       "25%     75.200000\n",
       "50%     85.800000\n",
       "75%    106.000000\n",
       "max    271.000000"
      ]
     },
     "execution_count": 6,
     "metadata": {},
     "output_type": "execute_result"
    }
   ],
   "source": [
    "dailyStreamflow[0].describe()"
   ]
  },
  {
   "cell_type": "markdown",
   "metadata": {
    "pycharm": {
     "name": "#%% md\n"
    }
   },
   "source": [
    "Make a quick time series plot."
   ]
  },
  {
   "cell_type": "code",
   "execution_count": 7,
   "metadata": {
    "collapsed": false,
    "execution": {
     "iopub.execute_input": "2025-05-06T20:10:37.482229Z",
     "iopub.status.busy": "2025-05-06T20:10:37.482065Z",
     "iopub.status.idle": "2025-05-06T20:10:38.036972Z",
     "shell.execute_reply": "2025-05-06T20:10:38.036414Z"
    },
    "pycharm": {
     "name": "#%%\n"
    }
   },
   "outputs": [
    {
     "data": {
      "text/plain": [
       "Text(0, 0.5, 'Streamflow (cfs)')"
      ]
     },
     "execution_count": 7,
     "metadata": {},
     "output_type": "execute_result"
    },
    {
     "data": {
      "image/png": "[encoded data removed]",
      "text/plain": [
       "<Figure size 640x480 with 1 Axes>"
      ]
     },
     "metadata": {},
     "output_type": "display_data"
    }
   ],
   "source": [
    "ax = dailyStreamflow[0].plot(y='00060_Mean')\n",
    "ax.set_xlabel('Date')\n",
    "ax.set_ylabel('Streamflow (cfs)')"
   ]
  },
  {
   "cell_type": "markdown",
   "metadata": {},
   "source": [
    "The other part of the result returned from the `get_dv()` function is a metadata object that contains information about the query that was executed to return the data. For example, you can access the URL that was assembled to retrieve the requested data from the USGS web service. The USGS web service responses contain a descriptive header that defines and can be helpful in interpreting the contents of the response."
   ]
  },
  {
   "cell_type": "code",
   "execution_count": 8,
   "metadata": {
    "execution": {
     "iopub.execute_input": "2025-05-06T20:10:38.038893Z",
     "iopub.status.busy": "2025-05-06T20:10:38.038478Z",
     "iopub.status.idle": "2025-05-06T20:10:38.041661Z",
     "shell.execute_reply": "2025-05-06T20:10:38.041252Z"
    },
    "pycharm": {
     "name": "#%%\n"
    }
   },
   "outputs": [
    {
     "name": "stdout",
     "output_type": "stream",
     "text": [
      "The query URL used to retrieve the data from NWIS was: https://waterservices.usgs.gov/nwis/dv?format=json&parameterCd=00060&startDT=2020-10-01&endDT=2021-09-30&sites=10109000\n"
     ]
    }
   ],
   "source": [
    "print(\"The query URL used to retrieve the data from NWIS was: \" + dailyStreamflow[1].url)"
   ]
  },
  {
   "cell_type": "markdown",
   "metadata": {
    "pycharm": {
     "name": "#%% md\n"
    }
   },
   "source": [
    "### Additional Examples\n",
    "\n",
    "Example 2: Get daily mean and max discharge and temperature values for a site between a begin and end date.\n",
    "\n",
    "Parameter Code: 00010 = temperature, 00060 = discharge\n",
    "See https://help.waterdata.usgs.gov/codes-and-parameters/parameters\n",
    "\n",
    "Statistic Code: 00001 = Maximum, 00003 = Mean\n",
    "See https://help.waterdata.usgs.gov/stat_code\n",
    "\n",
    "NOTE: There's not full overlap in the availability of data for temperature and discharge for both statistics at this site. When data for one statistic is not available, a \"NaN\" value is returned in the data frame."
   ]
  },
  {
   "cell_type": "code",
   "execution_count": 9,
   "metadata": {
    "execution": {
     "iopub.execute_input": "2025-05-06T20:10:38.043172Z",
     "iopub.status.busy": "2025-05-06T20:10:38.043005Z",
     "iopub.status.idle": "2025-05-06T20:10:38.170122Z",
     "shell.execute_reply": "2025-05-06T20:10:38.169613Z"
    },
    "pycharm": {
     "name": "#%%\n"
    }
   },
   "outputs": [
    {
     "data": {
      "text/html": [
       "<div>\n",
       "<style scoped>\n",
       "    .dataframe tbody tr th:only-of-type {\n",
       "        vertical-align: middle;\n",
       "    }\n",
       "\n",
       "    .dataframe tbody tr th {\n",
       "        vertical-align: top;\n",
       "    }\n",
       "\n",
       "    .dataframe thead th {\n",
       "        text-align: right;\n",
       "    }\n",
       "</style>\n",
       "<table border=\"1\" class=\"dataframe\">\n",
       "  <thead>\n",
       "    <tr style=\"text-align: right;\">\n",
       "      <th></th>\n",
       "      <th>site_no</th>\n",
       "      <th>00010_Maximum</th>\n",
       "      <th>00010_Maximum_cd</th>\n",
       "      <th>00010_Mean</th>\n",
       "      <th>00010_Mean_cd</th>\n",
       "      <th>00060_Mean</th>\n",
       "      <th>00060_Mean_cd</th>\n",
       "    </tr>\n",
       "    <tr>\n",
       "      <th>datetime</th>\n",
       "      <th></th>\n",
       "      <th></th>\n",
       "      <th></th>\n",
       "      <th></th>\n",
       "      <th></th>\n",
       "      <th></th>\n",
       "      <th></th>\n",
       "    </tr>\n",
       "  </thead>\n",
       "  <tbody>\n",
       "    <tr>\n",
       "      <th>2020-10-01 00:00:00+00:00</th>\n",
       "      <td>04085427</td>\n",
       "      <td>NaN</td>\n",
       "      <td>NaN</td>\n",
       "      <td>NaN</td>\n",
       "      <td>NaN</td>\n",
       "      <td>96.2</td>\n",
       "      <td>A</td>\n",
       "    </tr>\n",
       "    <tr>\n",
       "      <th>2020-10-02 00:00:00+00:00</th>\n",
       "      <td>04085427</td>\n",
       "      <td>NaN</td>\n",
       "      <td>NaN</td>\n",
       "      <td>NaN</td>\n",
       "      <td>NaN</td>\n",
       "      <td>90.4</td>\n",
       "      <td>A</td>\n",
       "    </tr>\n",
       "    <tr>\n",
       "      <th>2020-10-03 00:00:00+00:00</th>\n",
       "      <td>04085427</td>\n",
       "      <td>NaN</td>\n",
       "      <td>NaN</td>\n",
       "      <td>NaN</td>\n",
       "      <td>NaN</td>\n",
       "      <td>84.7</td>\n",
       "      <td>A</td>\n",
       "    </tr>\n",
       "    <tr>\n",
       "      <th>2020-10-04 00:00:00+00:00</th>\n",
       "      <td>04085427</td>\n",
       "      <td>NaN</td>\n",
       "      <td>NaN</td>\n",
       "      <td>NaN</td>\n",
       "      <td>NaN</td>\n",
       "      <td>84.9</td>\n",
       "      <td>A</td>\n",
       "    </tr>\n",
       "    <tr>\n",
       "      <th>2020-10-05 00:00:00+00:00</th>\n",
       "      <td>04085427</td>\n",
       "      <td>NaN</td>\n",
       "      <td>NaN</td>\n",
       "      <td>NaN</td>\n",
       "      <td>NaN</td>\n",
       "      <td>93.4</td>\n",
       "      <td>A</td>\n",
       "    </tr>\n",
       "    <tr>\n",
       "      <th>...</th>\n",
       "      <td>...</td>\n",
       "      <td>...</td>\n",
       "      <td>...</td>\n",
       "      <td>...</td>\n",
       "      <td>...</td>\n",
       "      <td>...</td>\n",
       "      <td>...</td>\n",
       "    </tr>\n",
       "    <tr>\n",
       "      <th>2021-09-26 00:00:00+00:00</th>\n",
       "      <td>04085427</td>\n",
       "      <td>17.4</td>\n",
       "      <td>A</td>\n",
       "      <td>15.9</td>\n",
       "      <td>A</td>\n",
       "      <td>127.0</td>\n",
       "      <td>A</td>\n",
       "    </tr>\n",
       "    <tr>\n",
       "      <th>2021-09-27 00:00:00+00:00</th>\n",
       "      <td>04085427</td>\n",
       "      <td>18.4</td>\n",
       "      <td>A</td>\n",
       "      <td>16.8</td>\n",
       "      <td>A</td>\n",
       "      <td>110.0</td>\n",
       "      <td>A</td>\n",
       "    </tr>\n",
       "    <tr>\n",
       "      <th>2021-09-28 00:00:00+00:00</th>\n",
       "      <td>04085427</td>\n",
       "      <td>18.1</td>\n",
       "      <td>A</td>\n",
       "      <td>16.1</td>\n",
       "      <td>A</td>\n",
       "      <td>100.0</td>\n",
       "      <td>A</td>\n",
       "    </tr>\n",
       "    <tr>\n",
       "      <th>2021-09-29 00:00:00+00:00</th>\n",
       "      <td>04085427</td>\n",
       "      <td>18.4</td>\n",
       "      <td>A</td>\n",
       "      <td>16.2</td>\n",
       "      <td>A</td>\n",
       "      <td>96.2</td>\n",
       "      <td>A</td>\n",
       "    </tr>\n",
       "    <tr>\n",
       "      <th>2021-09-30 00:00:00+00:00</th>\n",
       "      <td>04085427</td>\n",
       "      <td>19.0</td>\n",
       "      <td>A</td>\n",
       "      <td>16.9</td>\n",
       "      <td>A</td>\n",
       "      <td>92.9</td>\n",
       "      <td>A</td>\n",
       "    </tr>\n",
       "  </tbody>\n",
       "</table>\n",
       "<p>365 rows × 7 columns</p>\n",
       "</div>"
      ],
      "text/plain": [
       "                            site_no  00010_Maximum 00010_Maximum_cd  \\\n",
       "datetime                                                              \n",
       "2020-10-01 00:00:00+00:00  04085427            NaN              NaN   \n",
       "2020-10-02 00:00:00+00:00  04085427            NaN              NaN   \n",
       "2020-10-03 00:00:00+00:00  04085427            NaN              NaN   \n",
       "2020-10-04 00:00:00+00:00  04085427            NaN              NaN   \n",
       "2020-10-05 00:00:00+00:00  04085427            NaN              NaN   \n",
       "...                             ...            ...              ...   \n",
       "2021-09-26 00:00:00+00:00  04085427           17.4                A   \n",
       "2021-09-27 00:00:00+00:00  04085427           18.4                A   \n",
       "2021-09-28 00:00:00+00:00  04085427           18.1                A   \n",
       "2021-09-29 00:00:00+00:00  04085427           18.4                A   \n",
       "2021-09-30 00:00:00+00:00  04085427           19.0                A   \n",
       "\n",
       "                           00010_Mean 00010_Mean_cd  00060_Mean 00060_Mean_cd  \n",
       "datetime                                                                       \n",
       "2020-10-01 00:00:00+00:00         NaN           NaN        96.2             A  \n",
       "2020-10-02 00:00:00+00:00         NaN           NaN        90.4             A  \n",
       "2020-10-03 00:00:00+00:00         NaN           NaN        84.7             A  \n",
       "2020-10-04 00:00:00+00:00         NaN           NaN        84.9             A  \n",
       "2020-10-05 00:00:00+00:00         NaN           NaN        93.4             A  \n",
       "...                               ...           ...         ...           ...  \n",
       "2021-09-26 00:00:00+00:00        15.9             A       127.0             A  \n",
       "2021-09-27 00:00:00+00:00        16.8             A       110.0             A  \n",
       "2021-09-28 00:00:00+00:00        16.1             A       100.0             A  \n",
       "2021-09-29 00:00:00+00:00        16.2             A        96.2             A  \n",
       "2021-09-30 00:00:00+00:00        16.9             A        92.9             A  \n",
       "\n",
       "[365 rows x 7 columns]"
      ]
     },
     "metadata": {},
     "output_type": "display_data"
    }
   ],
   "source": [
    "siteID = \"04085427\"\n",
    "dailyQAndT = nwis.get_dv(sites=siteID, parameterCd=[\"00010\", \"00060\"],\n",
    "                         start=startDate, end=endDate,\n",
    "                         statCd=[\"00001\", \"00003\"])\n",
    "display(dailyQAndT[0])"
   ]
  },
  {
   "cell_type": "markdown",
   "metadata": {},
   "source": [
    "Example 3: Get daily mean and max discharge and temperature values for multiple sites between a begin and end date"
   ]
  },
  {
   "cell_type": "code",
   "execution_count": 10,
   "metadata": {
    "execution": {
     "iopub.execute_input": "2025-05-06T20:10:38.171843Z",
     "iopub.status.busy": "2025-05-06T20:10:38.171647Z",
     "iopub.status.idle": "2025-05-06T20:10:38.302036Z",
     "shell.execute_reply": "2025-05-06T20:10:38.301553Z"
    },
    "pycharm": {
     "name": "#%%\n"
    }
   },
   "outputs": [
    {
     "data": {
      "text/html": [
       "<div>\n",
       "<style scoped>\n",
       "    .dataframe tbody tr th:only-of-type {\n",
       "        vertical-align: middle;\n",
       "    }\n",
       "\n",
       "    .dataframe tbody tr th {\n",
       "        vertical-align: top;\n",
       "    }\n",
       "\n",
       "    .dataframe thead th {\n",
       "        text-align: right;\n",
       "    }\n",
       "</style>\n",
       "<table border=\"1\" class=\"dataframe\">\n",
       "  <thead>\n",
       "    <tr style=\"text-align: right;\">\n",
       "      <th></th>\n",
       "      <th></th>\n",
       "      <th>00010_discontinued_Maximum</th>\n",
       "      <th>00010_discontinued_Maximum_cd</th>\n",
       "      <th>00010_discontinued_Mean</th>\n",
       "      <th>00010_discontinued_Mean_cd</th>\n",
       "      <th>00060_Mean</th>\n",
       "      <th>00060_Mean_cd</th>\n",
       "    </tr>\n",
       "    <tr>\n",
       "      <th>site_no</th>\n",
       "      <th>datetime</th>\n",
       "      <th></th>\n",
       "      <th></th>\n",
       "      <th></th>\n",
       "      <th></th>\n",
       "      <th></th>\n",
       "      <th></th>\n",
       "    </tr>\n",
       "  </thead>\n",
       "  <tbody>\n",
       "    <tr>\n",
       "      <th rowspan=\"5\" valign=\"top\">01491000</th>\n",
       "      <th>2012-01-01 00:00:00+00:00</th>\n",
       "      <td>8.4</td>\n",
       "      <td>A</td>\n",
       "      <td>7.7</td>\n",
       "      <td>A</td>\n",
       "      <td>205.0</td>\n",
       "      <td>A</td>\n",
       "    </tr>\n",
       "    <tr>\n",
       "      <th>2012-01-02 00:00:00+00:00</th>\n",
       "      <td>8.5</td>\n",
       "      <td>A</td>\n",
       "      <td>7.3</td>\n",
       "      <td>A</td>\n",
       "      <td>193.0</td>\n",
       "      <td>A</td>\n",
       "    </tr>\n",
       "    <tr>\n",
       "      <th>2012-01-03 00:00:00+00:00</th>\n",
       "      <td>6.0</td>\n",
       "      <td>A</td>\n",
       "      <td>4.6</td>\n",
       "      <td>A</td>\n",
       "      <td>180.0</td>\n",
       "      <td>A</td>\n",
       "    </tr>\n",
       "    <tr>\n",
       "      <th>2012-01-04 00:00:00+00:00</th>\n",
       "      <td>3.0</td>\n",
       "      <td>A</td>\n",
       "      <td>1.8</td>\n",
       "      <td>A</td>\n",
       "      <td>162.0</td>\n",
       "      <td>A</td>\n",
       "    </tr>\n",
       "    <tr>\n",
       "      <th>2012-01-05 00:00:00+00:00</th>\n",
       "      <td>2.9</td>\n",
       "      <td>A</td>\n",
       "      <td>2.3</td>\n",
       "      <td>A</td>\n",
       "      <td>155.0</td>\n",
       "      <td>A</td>\n",
       "    </tr>\n",
       "    <tr>\n",
       "      <th>...</th>\n",
       "      <th>...</th>\n",
       "      <td>...</td>\n",
       "      <td>...</td>\n",
       "      <td>...</td>\n",
       "      <td>...</td>\n",
       "      <td>...</td>\n",
       "      <td>...</td>\n",
       "    </tr>\n",
       "    <tr>\n",
       "      <th rowspan=\"5\" valign=\"top\">01645000</th>\n",
       "      <th>2012-06-26 00:00:00+00:00</th>\n",
       "      <td>NaN</td>\n",
       "      <td>NaN</td>\n",
       "      <td>NaN</td>\n",
       "      <td>NaN</td>\n",
       "      <td>56.3</td>\n",
       "      <td>A</td>\n",
       "    </tr>\n",
       "    <tr>\n",
       "      <th>2012-06-27 00:00:00+00:00</th>\n",
       "      <td>NaN</td>\n",
       "      <td>NaN</td>\n",
       "      <td>NaN</td>\n",
       "      <td>NaN</td>\n",
       "      <td>54.8</td>\n",
       "      <td>A</td>\n",
       "    </tr>\n",
       "    <tr>\n",
       "      <th>2012-06-28 00:00:00+00:00</th>\n",
       "      <td>NaN</td>\n",
       "      <td>NaN</td>\n",
       "      <td>NaN</td>\n",
       "      <td>NaN</td>\n",
       "      <td>53.6</td>\n",
       "      <td>A</td>\n",
       "    </tr>\n",
       "    <tr>\n",
       "      <th>2012-06-29 00:00:00+00:00</th>\n",
       "      <td>NaN</td>\n",
       "      <td>NaN</td>\n",
       "      <td>NaN</td>\n",
       "      <td>NaN</td>\n",
       "      <td>53.1</td>\n",
       "      <td>A</td>\n",
       "    </tr>\n",
       "    <tr>\n",
       "      <th>2012-06-30 00:00:00+00:00</th>\n",
       "      <td>NaN</td>\n",
       "      <td>NaN</td>\n",
       "      <td>NaN</td>\n",
       "      <td>NaN</td>\n",
       "      <td>129.0</td>\n",
       "      <td>A</td>\n",
       "    </tr>\n",
       "  </tbody>\n",
       "</table>\n",
       "<p>364 rows × 6 columns</p>\n",
       "</div>"
      ],
      "text/plain": [
       "                                    00010_discontinued_Maximum  \\\n",
       "site_no  datetime                                                \n",
       "01491000 2012-01-01 00:00:00+00:00                         8.4   \n",
       "         2012-01-02 00:00:00+00:00                         8.5   \n",
       "         2012-01-03 00:00:00+00:00                         6.0   \n",
       "         2012-01-04 00:00:00+00:00                         3.0   \n",
       "         2012-01-05 00:00:00+00:00                         2.9   \n",
       "...                                                        ...   \n",
       "01645000 2012-06-26 00:00:00+00:00                         NaN   \n",
       "         2012-06-27 00:00:00+00:00                         NaN   \n",
       "         2012-06-28 00:00:00+00:00                         NaN   \n",
       "         2012-06-29 00:00:00+00:00                         NaN   \n",
       "         2012-06-30 00:00:00+00:00                         NaN   \n",
       "\n",
       "                                   00010_discontinued_Maximum_cd  \\\n",
       "site_no  datetime                                                  \n",
       "01491000 2012-01-01 00:00:00+00:00                             A   \n",
       "         2012-01-02 00:00:00+00:00                             A   \n",
       "         2012-01-03 00:00:00+00:00                             A   \n",
       "         2012-01-04 00:00:00+00:00                             A   \n",
       "         2012-01-05 00:00:00+00:00                             A   \n",
       "...                                                          ...   \n",
       "01645000 2012-06-26 00:00:00+00:00                           NaN   \n",
       "         2012-06-27 00:00:00+00:00                           NaN   \n",
       "         2012-06-28 00:00:00+00:00                           NaN   \n",
       "         2012-06-29 00:00:00+00:00                           NaN   \n",
       "         2012-06-30 00:00:00+00:00                           NaN   \n",
       "\n",
       "                                    00010_discontinued_Mean  \\\n",
       "site_no  datetime                                             \n",
       "01491000 2012-01-01 00:00:00+00:00                      7.7   \n",
       "         2012-01-02 00:00:00+00:00                      7.3   \n",
       "         2012-01-03 00:00:00+00:00                      4.6   \n",
       "         2012-01-04 00:00:00+00:00                      1.8   \n",
       "         2012-01-05 00:00:00+00:00                      2.3   \n",
       "...                                                     ...   \n",
       "01645000 2012-06-26 00:00:00+00:00                      NaN   \n",
       "         2012-06-27 00:00:00+00:00                      NaN   \n",
       "         2012-06-28 00:00:00+00:00                      NaN   \n",
       "         2012-06-29 00:00:00+00:00                      NaN   \n",
       "         2012-06-30 00:00:00+00:00                      NaN   \n",
       "\n",
       "                                   00010_discontinued_Mean_cd  00060_Mean  \\\n",
       "site_no  datetime                                                           \n",
       "01491000 2012-01-01 00:00:00+00:00                          A       205.0   \n",
       "         2012-01-02 00:00:00+00:00                          A       193.0   \n",
       "         2012-01-03 00:00:00+00:00                          A       180.0   \n",
       "         2012-01-04 00:00:00+00:00                          A       162.0   \n",
       "         2012-01-05 00:00:00+00:00                          A       155.0   \n",
       "...                                                       ...         ...   \n",
       "01645000 2012-06-26 00:00:00+00:00                        NaN        56.3   \n",
       "         2012-06-27 00:00:00+00:00                        NaN        54.8   \n",
       "         2012-06-28 00:00:00+00:00                        NaN        53.6   \n",
       "         2012-06-29 00:00:00+00:00                        NaN        53.1   \n",
       "         2012-06-30 00:00:00+00:00                        NaN       129.0   \n",
       "\n",
       "                                   00060_Mean_cd  \n",
       "site_no  datetime                                 \n",
       "01491000 2012-01-01 00:00:00+00:00             A  \n",
       "         2012-01-02 00:00:00+00:00             A  \n",
       "         2012-01-03 00:00:00+00:00             A  \n",
       "         2012-01-04 00:00:00+00:00             A  \n",
       "         2012-01-05 00:00:00+00:00             A  \n",
       "...                                          ...  \n",
       "01645000 2012-06-26 00:00:00+00:00             A  \n",
       "         2012-06-27 00:00:00+00:00             A  \n",
       "         2012-06-28 00:00:00+00:00             A  \n",
       "         2012-06-29 00:00:00+00:00             A  \n",
       "         2012-06-30 00:00:00+00:00             A  \n",
       "\n",
       "[364 rows x 6 columns]"
      ]
     },
     "metadata": {},
     "output_type": "display_data"
    }
   ],
   "source": [
    "dailyMultiSites = nwis.get_dv(sites=[\"01491000\", \"01645000\"], parameterCd=[\"00010\", \"00060\"],\n",
    "                              start=\"2012-01-01\", end=\"2012-06-30\", statCd=[\"00001\",\"00003\"])\n",
    "display(dailyMultiSites[0])"
   ]
  },
  {
   "cell_type": "markdown",
   "metadata": {},
   "source": [
    "The following example is the same as the previous example but with multi index turned off (multi_index=False)"
   ]
  },
  {
   "cell_type": "code",
   "execution_count": 11,
   "metadata": {
    "execution": {
     "iopub.execute_input": "2025-05-06T20:10:38.303722Z",
     "iopub.status.busy": "2025-05-06T20:10:38.303532Z",
     "iopub.status.idle": "2025-05-06T20:10:38.803790Z",
     "shell.execute_reply": "2025-05-06T20:10:38.803276Z"
    }
   },
   "outputs": [
    {
     "data": {
      "text/html": [
       "<div>\n",
       "<style scoped>\n",
       "    .dataframe tbody tr th:only-of-type {\n",
       "        vertical-align: middle;\n",
       "    }\n",
       "\n",
       "    .dataframe tbody tr th {\n",
       "        vertical-align: top;\n",
       "    }\n",
       "\n",
       "    .dataframe thead th {\n",
       "        text-align: right;\n",
       "    }\n",
       "</style>\n",
       "<table border=\"1\" class=\"dataframe\">\n",
       "  <thead>\n",
       "    <tr style=\"text-align: right;\">\n",
       "      <th></th>\n",
       "      <th>site_no</th>\n",
       "      <th>00010_discontinued_Maximum</th>\n",
       "      <th>00010_discontinued_Maximum_cd</th>\n",
       "      <th>00010_discontinued_Mean</th>\n",
       "      <th>00010_discontinued_Mean_cd</th>\n",
       "      <th>00060_Mean</th>\n",
       "      <th>00060_Mean_cd</th>\n",
       "    </tr>\n",
       "    <tr>\n",
       "      <th>datetime</th>\n",
       "      <th></th>\n",
       "      <th></th>\n",
       "      <th></th>\n",
       "      <th></th>\n",
       "      <th></th>\n",
       "      <th></th>\n",
       "      <th></th>\n",
       "    </tr>\n",
       "  </thead>\n",
       "  <tbody>\n",
       "    <tr>\n",
       "      <th>2012-01-01 00:00:00+00:00</th>\n",
       "      <td>01491000</td>\n",
       "      <td>8.4</td>\n",
       "      <td>A</td>\n",
       "      <td>7.7</td>\n",
       "      <td>A</td>\n",
       "      <td>205.00</td>\n",
       "      <td>A</td>\n",
       "    </tr>\n",
       "    <tr>\n",
       "      <th>2012-01-01 00:00:00+00:00</th>\n",
       "      <td>01645000</td>\n",
       "      <td>NaN</td>\n",
       "      <td>NaN</td>\n",
       "      <td>NaN</td>\n",
       "      <td>NaN</td>\n",
       "      <td>175.00</td>\n",
       "      <td>A</td>\n",
       "    </tr>\n",
       "    <tr>\n",
       "      <th>2012-01-02 00:00:00+00:00</th>\n",
       "      <td>01645000</td>\n",
       "      <td>NaN</td>\n",
       "      <td>NaN</td>\n",
       "      <td>NaN</td>\n",
       "      <td>NaN</td>\n",
       "      <td>168.00</td>\n",
       "      <td>A</td>\n",
       "    </tr>\n",
       "    <tr>\n",
       "      <th>2012-01-02 00:00:00+00:00</th>\n",
       "      <td>01491000</td>\n",
       "      <td>8.5</td>\n",
       "      <td>A</td>\n",
       "      <td>7.3</td>\n",
       "      <td>A</td>\n",
       "      <td>193.00</td>\n",
       "      <td>A</td>\n",
       "    </tr>\n",
       "    <tr>\n",
       "      <th>2012-01-03 00:00:00+00:00</th>\n",
       "      <td>01491000</td>\n",
       "      <td>6.0</td>\n",
       "      <td>A</td>\n",
       "      <td>4.6</td>\n",
       "      <td>A</td>\n",
       "      <td>180.00</td>\n",
       "      <td>A</td>\n",
       "    </tr>\n",
       "    <tr>\n",
       "      <th>...</th>\n",
       "      <td>...</td>\n",
       "      <td>...</td>\n",
       "      <td>...</td>\n",
       "      <td>...</td>\n",
       "      <td>...</td>\n",
       "      <td>...</td>\n",
       "      <td>...</td>\n",
       "    </tr>\n",
       "    <tr>\n",
       "      <th>2012-06-28 00:00:00+00:00</th>\n",
       "      <td>01491000</td>\n",
       "      <td>NaN</td>\n",
       "      <td>NaN</td>\n",
       "      <td>NaN</td>\n",
       "      <td>NaN</td>\n",
       "      <td>12.10</td>\n",
       "      <td>A</td>\n",
       "    </tr>\n",
       "    <tr>\n",
       "      <th>2012-06-29 00:00:00+00:00</th>\n",
       "      <td>01645000</td>\n",
       "      <td>NaN</td>\n",
       "      <td>NaN</td>\n",
       "      <td>NaN</td>\n",
       "      <td>NaN</td>\n",
       "      <td>53.10</td>\n",
       "      <td>A</td>\n",
       "    </tr>\n",
       "    <tr>\n",
       "      <th>2012-06-29 00:00:00+00:00</th>\n",
       "      <td>01491000</td>\n",
       "      <td>NaN</td>\n",
       "      <td>NaN</td>\n",
       "      <td>NaN</td>\n",
       "      <td>NaN</td>\n",
       "      <td>8.58</td>\n",
       "      <td>A</td>\n",
       "    </tr>\n",
       "    <tr>\n",
       "      <th>2012-06-30 00:00:00+00:00</th>\n",
       "      <td>01491000</td>\n",
       "      <td>NaN</td>\n",
       "      <td>NaN</td>\n",
       "      <td>NaN</td>\n",
       "      <td>NaN</td>\n",
       "      <td>7.15</td>\n",
       "      <td>A</td>\n",
       "    </tr>\n",
       "    <tr>\n",
       "      <th>2012-06-30 00:00:00+00:00</th>\n",
       "      <td>01645000</td>\n",
       "      <td>NaN</td>\n",
       "      <td>NaN</td>\n",
       "      <td>NaN</td>\n",
       "      <td>NaN</td>\n",
       "      <td>129.00</td>\n",
       "      <td>A</td>\n",
       "    </tr>\n",
       "  </tbody>\n",
       "</table>\n",
       "<p>364 rows × 7 columns</p>\n",
       "</div>"
      ],
      "text/plain": [
       "                            site_no  00010_discontinued_Maximum  \\\n",
       "datetime                                                          \n",
       "2012-01-01 00:00:00+00:00  01491000                         8.4   \n",
       "2012-01-01 00:00:00+00:00  01645000                         NaN   \n",
       "2012-01-02 00:00:00+00:00  01645000                         NaN   \n",
       "2012-01-02 00:00:00+00:00  01491000                         8.5   \n",
       "2012-01-03 00:00:00+00:00  01491000                         6.0   \n",
       "...                             ...                         ...   \n",
       "2012-06-28 00:00:00+00:00  01491000                         NaN   \n",
       "2012-06-29 00:00:00+00:00  01645000                         NaN   \n",
       "2012-06-29 00:00:00+00:00  01491000                         NaN   \n",
       "2012-06-30 00:00:00+00:00  01491000                         NaN   \n",
       "2012-06-30 00:00:00+00:00  01645000                         NaN   \n",
       "\n",
       "                          00010_discontinued_Maximum_cd  \\\n",
       "datetime                                                  \n",
       "2012-01-01 00:00:00+00:00                             A   \n",
       "2012-01-01 00:00:00+00:00                           NaN   \n",
       "2012-01-02 00:00:00+00:00                           NaN   \n",
       "2012-01-02 00:00:00+00:00                             A   \n",
       "2012-01-03 00:00:00+00:00                             A   \n",
       "...                                                 ...   \n",
       "2012-06-28 00:00:00+00:00                           NaN   \n",
       "2012-06-29 00:00:00+00:00                           NaN   \n",
       "2012-06-29 00:00:00+00:00                           NaN   \n",
       "2012-06-30 00:00:00+00:00                           NaN   \n",
       "2012-06-30 00:00:00+00:00                           NaN   \n",
       "\n",
       "                           00010_discontinued_Mean 00010_discontinued_Mean_cd  \\\n",
       "datetime                                                                        \n",
       "2012-01-01 00:00:00+00:00                      7.7                          A   \n",
       "2012-01-01 00:00:00+00:00                      NaN                        NaN   \n",
       "2012-01-02 00:00:00+00:00                      NaN                        NaN   \n",
       "2012-01-02 00:00:00+00:00                      7.3                          A   \n",
       "2012-01-03 00:00:00+00:00                      4.6                          A   \n",
       "...                                            ...                        ...   \n",
       "2012-06-28 00:00:00+00:00                      NaN                        NaN   \n",
       "2012-06-29 00:00:00+00:00                      NaN                        NaN   \n",
       "2012-06-29 00:00:00+00:00                      NaN                        NaN   \n",
       "2012-06-30 00:00:00+00:00                      NaN                        NaN   \n",
       "2012-06-30 00:00:00+00:00                      NaN                        NaN   \n",
       "\n",
       "                           00060_Mean 00060_Mean_cd  \n",
       "datetime                                             \n",
       "2012-01-01 00:00:00+00:00      205.00             A  \n",
       "2012-01-01 00:00:00+00:00      175.00             A  \n",
       "2012-01-02 00:00:00+00:00      168.00             A  \n",
       "2012-01-02 00:00:00+00:00      193.00             A  \n",
       "2012-01-03 00:00:00+00:00      180.00             A  \n",
       "...                               ...           ...  \n",
       "2012-06-28 00:00:00+00:00       12.10             A  \n",
       "2012-06-29 00:00:00+00:00       53.10             A  \n",
       "2012-06-29 00:00:00+00:00        8.58             A  \n",
       "2012-06-30 00:00:00+00:00        7.15             A  \n",
       "2012-06-30 00:00:00+00:00      129.00             A  \n",
       "\n",
       "[364 rows x 7 columns]"
      ]
     },
     "metadata": {},
     "output_type": "display_data"
    }
   ],
   "source": [
    "dailyMultiSites = nwis.get_dv(sites=[\"01491000\", \"01645000\"], parameterCd=[\"00010\", \"00060\"],\n",
    "                              start=\"2012-01-01\", end=\"2012-06-30\", statCd=[\"00001\",\"00003\"],\n",
    "                              multi_index=False)\n",
    "display(dailyMultiSites[0])"
   ]
  },
  {
   "cell_type": "markdown",
   "metadata": {},
   "source": [
    "Example 4: Test for a site that is not active - returns an empty DataFrame."
   ]
  },
  {
   "cell_type": "code",
   "execution_count": 12,
   "metadata": {
    "execution": {
     "iopub.execute_input": "2025-05-06T20:10:38.805469Z",
     "iopub.status.busy": "2025-05-06T20:10:38.805279Z",
     "iopub.status.idle": "2025-05-06T20:10:39.215676Z",
     "shell.execute_reply": "2025-05-06T20:10:39.215241Z"
    },
    "pycharm": {
     "name": "#%%\n"
    }
   },
   "outputs": [
    {
     "data": {
      "text/html": [
       "<div>\n",
       "<style scoped>\n",
       "    .dataframe tbody tr th:only-of-type {\n",
       "        vertical-align: middle;\n",
       "    }\n",
       "\n",
       "    .dataframe tbody tr th {\n",
       "        vertical-align: top;\n",
       "    }\n",
       "\n",
       "    .dataframe thead th {\n",
       "        text-align: right;\n",
       "    }\n",
       "</style>\n",
       "<table border=\"1\" class=\"dataframe\">\n",
       "  <thead>\n",
       "    <tr style=\"text-align: right;\">\n",
       "      <th></th>\n",
       "      <th>site_no</th>\n",
       "    </tr>\n",
       "    <tr>\n",
       "      <th>datetime</th>\n",
       "      <th></th>\n",
       "    </tr>\n",
       "  </thead>\n",
       "  <tbody>\n",
       "  </tbody>\n",
       "</table>\n",
       "</div>"
      ],
      "text/plain": [
       "Empty DataFrame\n",
       "Columns: [site_no]\n",
       "Index: []"
      ]
     },
     "metadata": {},
     "output_type": "display_data"
    }
   ],
   "source": [
    "siteID = \"05212700\"\n",
    "notActive = nwis.get_dv(sites=siteID, parameterCd=\"00060\", start=\"2014-01-01\", end=\"2014-01-07\")\n",
    "display(notActive[0])"
   ]
  }
 ],
 "metadata": {
  "kernelspec": {
   "display_name": "Python 3",
   "language": "python",
   "name": "python3"
  },
  "language_info": {
   "codemirror_mode": {
    "name": "ipython",
    "version": 3
   },
   "file_extension": ".py",
   "mimetype": "text/x-python",
   "name": "python",
   "nbconvert_exporter": "python",
   "pygments_lexer": "ipython3",
   "version": "3.12.3"
  }
 },
 "nbformat": 4,
 "nbformat_minor": 1
}
