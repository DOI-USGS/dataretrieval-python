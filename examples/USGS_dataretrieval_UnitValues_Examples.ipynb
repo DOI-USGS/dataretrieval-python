{
 "cells": [
  {
   "cell_type": "markdown",
   "metadata": {
    "pycharm": {
     "name": "#%% md\n"
    }
   },
   "source": [
    "# USGS dataretrieval Python Package `get_iv()` Examples\n",
    "\n",
    "This notebook provides examples of using the Python dataretrieval package to retrieve instantaneous values data for a United States Geological Survey (USGS) monitoring site. The dataretrieval package provides a collection of functions to get data from the USGS National Water Information System (NWIS) and other online sources of hydrology and water quality data, including the United States Environmental Protection Agency (USEPA)."
   ]
  },
  {
   "cell_type": "markdown",
   "metadata": {},
   "source": [
    "### Install the Package\n",
    "\n",
    "Use the following code to install the package if it doesn't exist already within your Jupyter Python environment."
   ]
  },
  {
   "cell_type": "code",
   "execution_count": 1,
   "metadata": {
    "collapsed": false,
    "execution": {
     "iopub.execute_input": "2025-05-06T20:11:16.001069Z",
     "iopub.status.busy": "2025-05-06T20:11:16.000678Z",
     "iopub.status.idle": "2025-05-06T20:11:16.653724Z",
     "shell.execute_reply": "2025-05-06T20:11:16.653117Z"
    },
    "jupyter": {
     "outputs_hidden": false
    },
    "pycharm": {
     "name": "#%%\n"
    }
   },
   "outputs": [
    {
     "name": "stdout",
     "output_type": "stream",
     "text": [
      "Defaulting to user installation because normal site-packages is not writeable\r\n"
     ]
    },
    {
     "name": "stdout",
     "output_type": "stream",
     "text": [
      "Requirement already satisfied: dataretrieval in /home/runner/.local/lib/python3.12/site-packages (0.1.dev1+g4b3a3e8)\r\n",
      "Requirement already satisfied: requests in /usr/lib/python3/dist-packages (from dataretrieval) (2.31.0)\r\n",
      "Requirement already satisfied: pandas==2.* in /home/runner/.local/lib/python3.12/site-packages (from dataretrieval) (2.2.3)\r\n",
      "Requirement already satisfied: numpy>=1.26.0 in /home/runner/.local/lib/python3.12/site-packages (from pandas==2.*->dataretrieval) (2.2.5)\r\n",
      "Requirement already satisfied: python-dateutil>=2.8.2 in /usr/lib/python3/dist-packages (from pandas==2.*->dataretrieval) (2.8.2)\r\n",
      "Requirement already satisfied: pytz>=2020.1 in /usr/lib/python3/dist-packages (from pandas==2.*->dataretrieval) (2024.1)\r\n",
      "Requirement already satisfied: tzdata>=2022.7 in /home/runner/.local/lib/python3.12/site-packages (from pandas==2.*->dataretrieval) (2025.2)\r\n"
     ]
    }
   ],
   "source": [
    "!pip install dataretrieval"
   ]
  },
  {
   "cell_type": "markdown",
   "metadata": {},
   "source": [
    "Load the package so you can use it along with other packages used in this notebook."
   ]
  },
  {
   "cell_type": "code",
   "execution_count": 2,
   "metadata": {
    "collapsed": false,
    "execution": {
     "iopub.execute_input": "2025-05-06T20:11:16.655689Z",
     "iopub.status.busy": "2025-05-06T20:11:16.655500Z",
     "iopub.status.idle": "2025-05-06T20:11:16.954645Z",
     "shell.execute_reply": "2025-05-06T20:11:16.954182Z"
    },
    "jupyter": {
     "outputs_hidden": false
    },
    "pycharm": {
     "name": "#%%\n"
    }
   },
   "outputs": [],
   "source": [
    "from dataretrieval import nwis\n",
    "from IPython.display import display\n",
    "from datetime import date"
   ]
  },
  {
   "cell_type": "markdown",
   "metadata": {},
   "source": [
    "### Basic Usage\n",
    "\n",
    "The dataretrieval package has several functions that allow you to retrieve data from different web services. This example uses the `get_iv()` function to retrieve instantaneous streamflow data for a USGS monitoring site from NWIS. The following arguments are supported:\n",
    "\n",
    "* **sites** (string or list of strings): A list of USGS site identifiers for which to retrieve data.\n",
    "* **parameterCd** (string or list of strings): A list of USGS parameter codes for which to retrieve data.\n",
    "* **start** (string): The beginning date for a period for which to retrieve data. If the waterdata parameter startDt is supplied, it will overwrite the start parameter.\n",
    "* **end** (string): The ending date for a period for which to retrieve data. If the waterdata parameter endDt is supplied, it will overwrite the end parameter."
   ]
  },
  {
   "cell_type": "markdown",
   "metadata": {},
   "source": [
    "#### Example 1: Get unit value data for a specific parameter at a USGS NWIS monitoring site between a begin and end date"
   ]
  },
  {
   "cell_type": "code",
   "execution_count": 3,
   "metadata": {
    "collapsed": false,
    "execution": {
     "iopub.execute_input": "2025-05-06T20:11:16.956681Z",
     "iopub.status.busy": "2025-05-06T20:11:16.956347Z",
     "iopub.status.idle": "2025-05-06T20:11:17.451796Z",
     "shell.execute_reply": "2025-05-06T20:11:17.451293Z"
    },
    "jupyter": {
     "outputs_hidden": false
    },
    "pycharm": {
     "name": "#%%\n"
    }
   },
   "outputs": [
    {
     "name": "stdout",
     "output_type": "stream",
     "text": [
      "Retrieved 2880 data values.\n"
     ]
    }
   ],
   "source": [
    "# Set the parameters needed for the web service call\n",
    "siteID = '10109000'  # LOGAN RIVER ABOVE STATE DAM, NEAR LOGAN, UT\n",
    "parameterCode = '00060'  # Discharge\n",
    "startDate = '2021-09-01'\n",
    "endDate = '2021-09-30'\n",
    "\n",
    "# Get the data\n",
    "discharge = nwis.get_iv(sites=siteID, parameterCd=parameterCode, start=startDate, end=endDate)\n",
    "print('Retrieved ' + str(len(discharge[0])) + ' data values.')"
   ]
  },
  {
   "cell_type": "markdown",
   "metadata": {},
   "source": [
    "### Interpreting the Result\n",
    "\n",
    "The result of calling the `get_iv()` function is an object that contains a Pandas data frame object and an associated metadata object. The Pandas data frame contains the values for the observed variable and time period requested. The data frame is indexed by the dates associated with the data values.\n",
    "\n",
    "Once you've got the data frame, there's several useful things you can do to explore the data."
   ]
  },
  {
   "cell_type": "code",
   "execution_count": 4,
   "metadata": {
    "collapsed": false,
    "execution": {
     "iopub.execute_input": "2025-05-06T20:11:17.453709Z",
     "iopub.status.busy": "2025-05-06T20:11:17.453268Z",
     "iopub.status.idle": "2025-05-06T20:11:17.463345Z",
     "shell.execute_reply": "2025-05-06T20:11:17.462947Z"
    },
    "jupyter": {
     "outputs_hidden": false
    },
    "pycharm": {
     "name": "#%%\n"
    }
   },
   "outputs": [
    {
     "data": {
      "text/html": [
       "<div>\n",
       "<style scoped>\n",
       "    .dataframe tbody tr th:only-of-type {\n",
       "        vertical-align: middle;\n",
       "    }\n",
       "\n",
       "    .dataframe tbody tr th {\n",
       "        vertical-align: top;\n",
       "    }\n",
       "\n",
       "    .dataframe thead th {\n",
       "        text-align: right;\n",
       "    }\n",
       "</style>\n",
       "<table border=\"1\" class=\"dataframe\">\n",
       "  <thead>\n",
       "    <tr style=\"text-align: right;\">\n",
       "      <th></th>\n",
       "      <th>site_no</th>\n",
       "      <th>00060</th>\n",
       "      <th>00060_cd</th>\n",
       "    </tr>\n",
       "    <tr>\n",
       "      <th>datetime</th>\n",
       "      <th></th>\n",
       "      <th></th>\n",
       "      <th></th>\n",
       "    </tr>\n",
       "  </thead>\n",
       "  <tbody>\n",
       "    <tr>\n",
       "      <th>2021-09-01 06:00:00+00:00</th>\n",
       "      <td>10109000</td>\n",
       "      <td>55.9</td>\n",
       "      <td>A</td>\n",
       "    </tr>\n",
       "    <tr>\n",
       "      <th>2021-09-01 06:15:00+00:00</th>\n",
       "      <td>10109000</td>\n",
       "      <td>55.9</td>\n",
       "      <td>A</td>\n",
       "    </tr>\n",
       "    <tr>\n",
       "      <th>2021-09-01 06:30:00+00:00</th>\n",
       "      <td>10109000</td>\n",
       "      <td>55.9</td>\n",
       "      <td>A</td>\n",
       "    </tr>\n",
       "    <tr>\n",
       "      <th>2021-09-01 06:45:00+00:00</th>\n",
       "      <td>10109000</td>\n",
       "      <td>55.9</td>\n",
       "      <td>A</td>\n",
       "    </tr>\n",
       "    <tr>\n",
       "      <th>2021-09-01 07:00:00+00:00</th>\n",
       "      <td>10109000</td>\n",
       "      <td>55.9</td>\n",
       "      <td>A</td>\n",
       "    </tr>\n",
       "    <tr>\n",
       "      <th>...</th>\n",
       "      <td>...</td>\n",
       "      <td>...</td>\n",
       "      <td>...</td>\n",
       "    </tr>\n",
       "    <tr>\n",
       "      <th>2021-10-01 04:45:00+00:00</th>\n",
       "      <td>10109000</td>\n",
       "      <td>53.2</td>\n",
       "      <td>A</td>\n",
       "    </tr>\n",
       "    <tr>\n",
       "      <th>2021-10-01 05:00:00+00:00</th>\n",
       "      <td>10109000</td>\n",
       "      <td>53.2</td>\n",
       "      <td>A</td>\n",
       "    </tr>\n",
       "    <tr>\n",
       "      <th>2021-10-01 05:15:00+00:00</th>\n",
       "      <td>10109000</td>\n",
       "      <td>53.2</td>\n",
       "      <td>A</td>\n",
       "    </tr>\n",
       "    <tr>\n",
       "      <th>2021-10-01 05:30:00+00:00</th>\n",
       "      <td>10109000</td>\n",
       "      <td>54.6</td>\n",
       "      <td>A</td>\n",
       "    </tr>\n",
       "    <tr>\n",
       "      <th>2021-10-01 05:45:00+00:00</th>\n",
       "      <td>10109000</td>\n",
       "      <td>54.6</td>\n",
       "      <td>A</td>\n",
       "    </tr>\n",
       "  </tbody>\n",
       "</table>\n",
       "<p>2880 rows × 3 columns</p>\n",
       "</div>"
      ],
      "text/plain": [
       "                            site_no  00060 00060_cd\n",
       "datetime                                           \n",
       "2021-09-01 06:00:00+00:00  10109000   55.9        A\n",
       "2021-09-01 06:15:00+00:00  10109000   55.9        A\n",
       "2021-09-01 06:30:00+00:00  10109000   55.9        A\n",
       "2021-09-01 06:45:00+00:00  10109000   55.9        A\n",
       "2021-09-01 07:00:00+00:00  10109000   55.9        A\n",
       "...                             ...    ...      ...\n",
       "2021-10-01 04:45:00+00:00  10109000   53.2        A\n",
       "2021-10-01 05:00:00+00:00  10109000   53.2        A\n",
       "2021-10-01 05:15:00+00:00  10109000   53.2        A\n",
       "2021-10-01 05:30:00+00:00  10109000   54.6        A\n",
       "2021-10-01 05:45:00+00:00  10109000   54.6        A\n",
       "\n",
       "[2880 rows x 3 columns]"
      ]
     },
     "metadata": {},
     "output_type": "display_data"
    }
   ],
   "source": [
    "# Display the data frame as a table\n",
    "display(discharge[0])"
   ]
  },
  {
   "cell_type": "markdown",
   "metadata": {},
   "source": [
    "Show the data types of the columns in the resulting data frame."
   ]
  },
  {
   "cell_type": "code",
   "execution_count": 5,
   "metadata": {
    "collapsed": false,
    "execution": {
     "iopub.execute_input": "2025-05-06T20:11:17.465078Z",
     "iopub.status.busy": "2025-05-06T20:11:17.464744Z",
     "iopub.status.idle": "2025-05-06T20:11:17.468250Z",
     "shell.execute_reply": "2025-05-06T20:11:17.467740Z"
    },
    "jupyter": {
     "outputs_hidden": false
    },
    "pycharm": {
     "name": "#%%\n"
    }
   },
   "outputs": [
    {
     "name": "stdout",
     "output_type": "stream",
     "text": [
      "site_no      object\n",
      "00060       float64\n",
      "00060_cd     object\n",
      "dtype: object\n"
     ]
    }
   ],
   "source": [
    "print(discharge[0].dtypes)"
   ]
  },
  {
   "cell_type": "markdown",
   "metadata": {},
   "source": [
    "Get summary statistics for the daily streamflow values."
   ]
  },
  {
   "cell_type": "code",
   "execution_count": 6,
   "metadata": {
    "collapsed": false,
    "execution": {
     "iopub.execute_input": "2025-05-06T20:11:17.469993Z",
     "iopub.status.busy": "2025-05-06T20:11:17.469656Z",
     "iopub.status.idle": "2025-05-06T20:11:17.477133Z",
     "shell.execute_reply": "2025-05-06T20:11:17.476697Z"
    },
    "jupyter": {
     "outputs_hidden": false
    },
    "pycharm": {
     "name": "#%%\n"
    }
   },
   "outputs": [
    {
     "data": {
      "text/html": [
       "<div>\n",
       "<style scoped>\n",
       "    .dataframe tbody tr th:only-of-type {\n",
       "        vertical-align: middle;\n",
       "    }\n",
       "\n",
       "    .dataframe tbody tr th {\n",
       "        vertical-align: top;\n",
       "    }\n",
       "\n",
       "    .dataframe thead th {\n",
       "        text-align: right;\n",
       "    }\n",
       "</style>\n",
       "<table border=\"1\" class=\"dataframe\">\n",
       "  <thead>\n",
       "    <tr style=\"text-align: right;\">\n",
       "      <th></th>\n",
       "      <th>00060</th>\n",
       "    </tr>\n",
       "  </thead>\n",
       "  <tbody>\n",
       "    <tr>\n",
       "      <th>count</th>\n",
       "      <td>2880.000000</td>\n",
       "    </tr>\n",
       "    <tr>\n",
       "      <th>mean</th>\n",
       "      <td>51.630243</td>\n",
       "    </tr>\n",
       "    <tr>\n",
       "      <th>std</th>\n",
       "      <td>4.127915</td>\n",
       "    </tr>\n",
       "    <tr>\n",
       "      <th>min</th>\n",
       "      <td>24.400000</td>\n",
       "    </tr>\n",
       "    <tr>\n",
       "      <th>25%</th>\n",
       "      <td>49.100000</td>\n",
       "    </tr>\n",
       "    <tr>\n",
       "      <th>50%</th>\n",
       "      <td>53.200000</td>\n",
       "    </tr>\n",
       "    <tr>\n",
       "      <th>75%</th>\n",
       "      <td>54.500000</td>\n",
       "    </tr>\n",
       "    <tr>\n",
       "      <th>max</th>\n",
       "      <td>76.400000</td>\n",
       "    </tr>\n",
       "  </tbody>\n",
       "</table>\n",
       "</div>"
      ],
      "text/plain": [
       "             00060\n",
       "count  2880.000000\n",
       "mean     51.630243\n",
       "std       4.127915\n",
       "min      24.400000\n",
       "25%      49.100000\n",
       "50%      53.200000\n",
       "75%      54.500000\n",
       "max      76.400000"
      ]
     },
     "execution_count": 6,
     "metadata": {},
     "output_type": "execute_result"
    }
   ],
   "source": [
    "discharge[0].describe()"
   ]
  },
  {
   "cell_type": "markdown",
   "metadata": {},
   "source": [
    "Make a quick time series plot."
   ]
  },
  {
   "cell_type": "code",
   "execution_count": 7,
   "metadata": {
    "collapsed": false,
    "execution": {
     "iopub.execute_input": "2025-05-06T20:11:17.478741Z",
     "iopub.status.busy": "2025-05-06T20:11:17.478575Z",
     "iopub.status.idle": "2025-05-06T20:11:18.017698Z",
     "shell.execute_reply": "2025-05-06T20:11:18.017158Z"
    },
    "jupyter": {
     "outputs_hidden": false
    },
    "pycharm": {
     "name": "#%%\n"
    }
   },
   "outputs": [
    {
     "data": {
      "text/plain": [
       "Text(0, 0.5, 'Streamflow (cfs)')"
      ]
     },
     "execution_count": 7,
     "metadata": {},
     "output_type": "execute_result"
    },
    {
     "data": {
      "image/png": "[encoded data removed]",
      "text/plain": [
       "<Figure size 640x480 with 1 Axes>"
      ]
     },
     "metadata": {},
     "output_type": "display_data"
    }
   ],
   "source": [
    "ax = discharge[0].plot(y='00060')\n",
    "ax.set_xlabel('Date')\n",
    "ax.set_ylabel('Streamflow (cfs)')"
   ]
  },
  {
   "cell_type": "markdown",
   "metadata": {},
   "source": [
    "The other part of the result returned from the `get_iv()` function is a metadata object that contains information about the query that was executed to return the data. For example, you can access the URL that was assembled to retrieve the requested data from the USGS web service. The USGS web service responses contain a descriptive header that defines and can be helpful in interpreting the contents of the response."
   ]
  },
  {
   "cell_type": "code",
   "execution_count": 8,
   "metadata": {
    "collapsed": false,
    "execution": {
     "iopub.execute_input": "2025-05-06T20:11:18.019677Z",
     "iopub.status.busy": "2025-05-06T20:11:18.019272Z",
     "iopub.status.idle": "2025-05-06T20:11:18.022491Z",
     "shell.execute_reply": "2025-05-06T20:11:18.022077Z"
    },
    "jupyter": {
     "outputs_hidden": false
    },
    "pycharm": {
     "name": "#%%\n"
    }
   },
   "outputs": [
    {
     "name": "stdout",
     "output_type": "stream",
     "text": [
      "The query URL used to retrieve the data from NWIS was: https://nwis.waterservices.usgs.gov/nwis/iv/?format=json&parameterCd=00060&startDT=2021-09-01&endDT=2021-09-30&sites=10109000\n"
     ]
    }
   ],
   "source": [
    "print('The query URL used to retrieve the data from NWIS was: ' + discharge[1].url)"
   ]
  },
  {
   "cell_type": "markdown",
   "metadata": {},
   "source": [
    "### Additional Examples\n",
    "\n",
    "#### Example 2: Get unit values for an individual site and parameter between a start and end date.\n",
    "\n",
    "NOTE: By default, start and end date are evaluated as local time, and the result is returned with the timestamps in the local time of the monitoring site."
   ]
  },
  {
   "cell_type": "code",
   "execution_count": 9,
   "metadata": {
    "collapsed": false,
    "execution": {
     "iopub.execute_input": "2025-05-06T20:11:18.023981Z",
     "iopub.status.busy": "2025-05-06T20:11:18.023796Z",
     "iopub.status.idle": "2025-05-06T20:11:18.356652Z",
     "shell.execute_reply": "2025-05-06T20:11:18.356232Z"
    },
    "jupyter": {
     "outputs_hidden": false
    },
    "pycharm": {
     "name": "#%%\n"
    }
   },
   "outputs": [
    {
     "name": "stdout",
     "output_type": "stream",
     "text": [
      "Retrieved 96 data values.\n"
     ]
    },
    {
     "data": {
      "text/html": [
       "<div>\n",
       "<style scoped>\n",
       "    .dataframe tbody tr th:only-of-type {\n",
       "        vertical-align: middle;\n",
       "    }\n",
       "\n",
       "    .dataframe tbody tr th {\n",
       "        vertical-align: top;\n",
       "    }\n",
       "\n",
       "    .dataframe thead th {\n",
       "        text-align: right;\n",
       "    }\n",
       "</style>\n",
       "<table border=\"1\" class=\"dataframe\">\n",
       "  <thead>\n",
       "    <tr style=\"text-align: right;\">\n",
       "      <th></th>\n",
       "      <th>site_no</th>\n",
       "      <th>00060</th>\n",
       "      <th>00060_cd</th>\n",
       "    </tr>\n",
       "    <tr>\n",
       "      <th>datetime</th>\n",
       "      <th></th>\n",
       "      <th></th>\n",
       "      <th></th>\n",
       "    </tr>\n",
       "  </thead>\n",
       "  <tbody>\n",
       "    <tr>\n",
       "      <th>2014-10-10 05:00:00+00:00</th>\n",
       "      <td>05114000</td>\n",
       "      <td>478.0</td>\n",
       "      <td>A</td>\n",
       "    </tr>\n",
       "    <tr>\n",
       "      <th>2014-10-10 05:15:00+00:00</th>\n",
       "      <td>05114000</td>\n",
       "      <td>478.0</td>\n",
       "      <td>A</td>\n",
       "    </tr>\n",
       "    <tr>\n",
       "      <th>2014-10-10 05:30:00+00:00</th>\n",
       "      <td>05114000</td>\n",
       "      <td>478.0</td>\n",
       "      <td>A</td>\n",
       "    </tr>\n",
       "    <tr>\n",
       "      <th>2014-10-10 05:45:00+00:00</th>\n",
       "      <td>05114000</td>\n",
       "      <td>478.0</td>\n",
       "      <td>A</td>\n",
       "    </tr>\n",
       "    <tr>\n",
       "      <th>2014-10-10 06:00:00+00:00</th>\n",
       "      <td>05114000</td>\n",
       "      <td>478.0</td>\n",
       "      <td>A</td>\n",
       "    </tr>\n",
       "    <tr>\n",
       "      <th>...</th>\n",
       "      <td>...</td>\n",
       "      <td>...</td>\n",
       "      <td>...</td>\n",
       "    </tr>\n",
       "    <tr>\n",
       "      <th>2014-10-11 03:45:00+00:00</th>\n",
       "      <td>05114000</td>\n",
       "      <td>480.0</td>\n",
       "      <td>A</td>\n",
       "    </tr>\n",
       "    <tr>\n",
       "      <th>2014-10-11 04:00:00+00:00</th>\n",
       "      <td>05114000</td>\n",
       "      <td>480.0</td>\n",
       "      <td>A</td>\n",
       "    </tr>\n",
       "    <tr>\n",
       "      <th>2014-10-11 04:15:00+00:00</th>\n",
       "      <td>05114000</td>\n",
       "      <td>480.0</td>\n",
       "      <td>A</td>\n",
       "    </tr>\n",
       "    <tr>\n",
       "      <th>2014-10-11 04:30:00+00:00</th>\n",
       "      <td>05114000</td>\n",
       "      <td>480.0</td>\n",
       "      <td>A</td>\n",
       "    </tr>\n",
       "    <tr>\n",
       "      <th>2014-10-11 04:45:00+00:00</th>\n",
       "      <td>05114000</td>\n",
       "      <td>480.0</td>\n",
       "      <td>A</td>\n",
       "    </tr>\n",
       "  </tbody>\n",
       "</table>\n",
       "<p>96 rows × 3 columns</p>\n",
       "</div>"
      ],
      "text/plain": [
       "                            site_no  00060 00060_cd\n",
       "datetime                                           \n",
       "2014-10-10 05:00:00+00:00  05114000  478.0        A\n",
       "2014-10-10 05:15:00+00:00  05114000  478.0        A\n",
       "2014-10-10 05:30:00+00:00  05114000  478.0        A\n",
       "2014-10-10 05:45:00+00:00  05114000  478.0        A\n",
       "2014-10-10 06:00:00+00:00  05114000  478.0        A\n",
       "...                             ...    ...      ...\n",
       "2014-10-11 03:45:00+00:00  05114000  480.0        A\n",
       "2014-10-11 04:00:00+00:00  05114000  480.0        A\n",
       "2014-10-11 04:15:00+00:00  05114000  480.0        A\n",
       "2014-10-11 04:30:00+00:00  05114000  480.0        A\n",
       "2014-10-11 04:45:00+00:00  05114000  480.0        A\n",
       "\n",
       "[96 rows x 3 columns]"
      ]
     },
     "metadata": {},
     "output_type": "display_data"
    }
   ],
   "source": [
    "site_id = '05114000'\n",
    "startDate = '2014-10-10'\n",
    "endDate = '2014-10-10'\n",
    "\n",
    "discharge2 = nwis.get_iv(sites=site_id, parameterCd=parameterCode, start=startDate, end=endDate)\n",
    "print('Retrieved ' + str(len(discharge2[0])) + ' data values.')\n",
    "display(discharge2[0])"
   ]
  },
  {
   "cell_type": "markdown",
   "metadata": {
    "pycharm": {
     "name": "#%% md\n"
    }
   },
   "source": [
    "#### Example 3: Get unit values for an individual site for today"
   ]
  },
  {
   "cell_type": "code",
   "execution_count": 10,
   "metadata": {
    "collapsed": false,
    "execution": {
     "iopub.execute_input": "2025-05-06T20:11:18.358271Z",
     "iopub.status.busy": "2025-05-06T20:11:18.358097Z",
     "iopub.status.idle": "2025-05-06T20:11:18.457328Z",
     "shell.execute_reply": "2025-05-06T20:11:18.456883Z"
    },
    "jupyter": {
     "outputs_hidden": false
    },
    "pycharm": {
     "name": "#%%\n"
    }
   },
   "outputs": [
    {
     "name": "stdout",
     "output_type": "stream",
     "text": [
      "Retrieved 57 data values.\n"
     ]
    },
    {
     "data": {
      "text/html": [
       "<div>\n",
       "<style scoped>\n",
       "    .dataframe tbody tr th:only-of-type {\n",
       "        vertical-align: middle;\n",
       "    }\n",
       "\n",
       "    .dataframe tbody tr th {\n",
       "        vertical-align: top;\n",
       "    }\n",
       "\n",
       "    .dataframe thead th {\n",
       "        text-align: right;\n",
       "    }\n",
       "</style>\n",
       "<table border=\"1\" class=\"dataframe\">\n",
       "  <thead>\n",
       "    <tr style=\"text-align: right;\">\n",
       "      <th></th>\n",
       "      <th>site_no</th>\n",
       "      <th>00060</th>\n",
       "      <th>00060_cd</th>\n",
       "    </tr>\n",
       "    <tr>\n",
       "      <th>datetime</th>\n",
       "      <th></th>\n",
       "      <th></th>\n",
       "      <th></th>\n",
       "    </tr>\n",
       "  </thead>\n",
       "  <tbody>\n",
       "    <tr>\n",
       "      <th>2025-05-06 05:00:00+00:00</th>\n",
       "      <td>05114000</td>\n",
       "      <td>13.9</td>\n",
       "      <td>P</td>\n",
       "    </tr>\n",
       "    <tr>\n",
       "      <th>2025-05-06 05:15:00+00:00</th>\n",
       "      <td>05114000</td>\n",
       "      <td>14.2</td>\n",
       "      <td>P</td>\n",
       "    </tr>\n",
       "    <tr>\n",
       "      <th>2025-05-06 05:30:00+00:00</th>\n",
       "      <td>05114000</td>\n",
       "      <td>14.1</td>\n",
       "      <td>P</td>\n",
       "    </tr>\n",
       "    <tr>\n",
       "      <th>2025-05-06 05:45:00+00:00</th>\n",
       "      <td>05114000</td>\n",
       "      <td>13.9</td>\n",
       "      <td>P</td>\n",
       "    </tr>\n",
       "    <tr>\n",
       "      <th>2025-05-06 06:00:00+00:00</th>\n",
       "      <td>05114000</td>\n",
       "      <td>14.1</td>\n",
       "      <td>P</td>\n",
       "    </tr>\n",
       "    <tr>\n",
       "      <th>2025-05-06 06:15:00+00:00</th>\n",
       "      <td>05114000</td>\n",
       "      <td>13.8</td>\n",
       "      <td>P</td>\n",
       "    </tr>\n",
       "    <tr>\n",
       "      <th>2025-05-06 06:30:00+00:00</th>\n",
       "      <td>05114000</td>\n",
       "      <td>13.8</td>\n",
       "      <td>P</td>\n",
       "    </tr>\n",
       "    <tr>\n",
       "      <th>2025-05-06 06:45:00+00:00</th>\n",
       "      <td>05114000</td>\n",
       "      <td>13.9</td>\n",
       "      <td>P</td>\n",
       "    </tr>\n",
       "    <tr>\n",
       "      <th>2025-05-06 07:00:00+00:00</th>\n",
       "      <td>05114000</td>\n",
       "      <td>13.7</td>\n",
       "      <td>P</td>\n",
       "    </tr>\n",
       "    <tr>\n",
       "      <th>2025-05-06 07:15:00+00:00</th>\n",
       "      <td>05114000</td>\n",
       "      <td>13.9</td>\n",
       "      <td>P</td>\n",
       "    </tr>\n",
       "    <tr>\n",
       "      <th>2025-05-06 07:30:00+00:00</th>\n",
       "      <td>05114000</td>\n",
       "      <td>13.8</td>\n",
       "      <td>P</td>\n",
       "    </tr>\n",
       "    <tr>\n",
       "      <th>2025-05-06 07:45:00+00:00</th>\n",
       "      <td>05114000</td>\n",
       "      <td>14.0</td>\n",
       "      <td>P</td>\n",
       "    </tr>\n",
       "    <tr>\n",
       "      <th>2025-05-06 08:00:00+00:00</th>\n",
       "      <td>05114000</td>\n",
       "      <td>14.0</td>\n",
       "      <td>P</td>\n",
       "    </tr>\n",
       "    <tr>\n",
       "      <th>2025-05-06 08:15:00+00:00</th>\n",
       "      <td>05114000</td>\n",
       "      <td>13.8</td>\n",
       "      <td>P</td>\n",
       "    </tr>\n",
       "    <tr>\n",
       "      <th>2025-05-06 08:30:00+00:00</th>\n",
       "      <td>05114000</td>\n",
       "      <td>13.7</td>\n",
       "      <td>P</td>\n",
       "    </tr>\n",
       "    <tr>\n",
       "      <th>2025-05-06 08:45:00+00:00</th>\n",
       "      <td>05114000</td>\n",
       "      <td>13.6</td>\n",
       "      <td>P</td>\n",
       "    </tr>\n",
       "    <tr>\n",
       "      <th>2025-05-06 09:00:00+00:00</th>\n",
       "      <td>05114000</td>\n",
       "      <td>13.9</td>\n",
       "      <td>P</td>\n",
       "    </tr>\n",
       "    <tr>\n",
       "      <th>2025-05-06 09:15:00+00:00</th>\n",
       "      <td>05114000</td>\n",
       "      <td>13.7</td>\n",
       "      <td>P</td>\n",
       "    </tr>\n",
       "    <tr>\n",
       "      <th>2025-05-06 09:30:00+00:00</th>\n",
       "      <td>05114000</td>\n",
       "      <td>14.0</td>\n",
       "      <td>P</td>\n",
       "    </tr>\n",
       "    <tr>\n",
       "      <th>2025-05-06 09:45:00+00:00</th>\n",
       "      <td>05114000</td>\n",
       "      <td>13.7</td>\n",
       "      <td>P</td>\n",
       "    </tr>\n",
       "    <tr>\n",
       "      <th>2025-05-06 10:00:00+00:00</th>\n",
       "      <td>05114000</td>\n",
       "      <td>13.8</td>\n",
       "      <td>P</td>\n",
       "    </tr>\n",
       "    <tr>\n",
       "      <th>2025-05-06 10:15:00+00:00</th>\n",
       "      <td>05114000</td>\n",
       "      <td>14.1</td>\n",
       "      <td>P</td>\n",
       "    </tr>\n",
       "    <tr>\n",
       "      <th>2025-05-06 10:30:00+00:00</th>\n",
       "      <td>05114000</td>\n",
       "      <td>14.0</td>\n",
       "      <td>P</td>\n",
       "    </tr>\n",
       "    <tr>\n",
       "      <th>2025-05-06 10:45:00+00:00</th>\n",
       "      <td>05114000</td>\n",
       "      <td>13.8</td>\n",
       "      <td>P</td>\n",
       "    </tr>\n",
       "    <tr>\n",
       "      <th>2025-05-06 11:00:00+00:00</th>\n",
       "      <td>05114000</td>\n",
       "      <td>13.8</td>\n",
       "      <td>P</td>\n",
       "    </tr>\n",
       "    <tr>\n",
       "      <th>2025-05-06 11:15:00+00:00</th>\n",
       "      <td>05114000</td>\n",
       "      <td>14.0</td>\n",
       "      <td>P</td>\n",
       "    </tr>\n",
       "    <tr>\n",
       "      <th>2025-05-06 11:30:00+00:00</th>\n",
       "      <td>05114000</td>\n",
       "      <td>14.1</td>\n",
       "      <td>P</td>\n",
       "    </tr>\n",
       "    <tr>\n",
       "      <th>2025-05-06 11:45:00+00:00</th>\n",
       "      <td>05114000</td>\n",
       "      <td>14.1</td>\n",
       "      <td>P</td>\n",
       "    </tr>\n",
       "    <tr>\n",
       "      <th>2025-05-06 12:00:00+00:00</th>\n",
       "      <td>05114000</td>\n",
       "      <td>13.9</td>\n",
       "      <td>P</td>\n",
       "    </tr>\n",
       "    <tr>\n",
       "      <th>2025-05-06 12:15:00+00:00</th>\n",
       "      <td>05114000</td>\n",
       "      <td>14.0</td>\n",
       "      <td>P</td>\n",
       "    </tr>\n",
       "    <tr>\n",
       "      <th>2025-05-06 12:30:00+00:00</th>\n",
       "      <td>05114000</td>\n",
       "      <td>13.8</td>\n",
       "      <td>P</td>\n",
       "    </tr>\n",
       "    <tr>\n",
       "      <th>2025-05-06 12:45:00+00:00</th>\n",
       "      <td>05114000</td>\n",
       "      <td>14.1</td>\n",
       "      <td>P</td>\n",
       "    </tr>\n",
       "    <tr>\n",
       "      <th>2025-05-06 13:00:00+00:00</th>\n",
       "      <td>05114000</td>\n",
       "      <td>13.9</td>\n",
       "      <td>P</td>\n",
       "    </tr>\n",
       "    <tr>\n",
       "      <th>2025-05-06 13:15:00+00:00</th>\n",
       "      <td>05114000</td>\n",
       "      <td>13.8</td>\n",
       "      <td>P</td>\n",
       "    </tr>\n",
       "    <tr>\n",
       "      <th>2025-05-06 13:30:00+00:00</th>\n",
       "      <td>05114000</td>\n",
       "      <td>13.9</td>\n",
       "      <td>P</td>\n",
       "    </tr>\n",
       "    <tr>\n",
       "      <th>2025-05-06 13:45:00+00:00</th>\n",
       "      <td>05114000</td>\n",
       "      <td>13.9</td>\n",
       "      <td>P</td>\n",
       "    </tr>\n",
       "    <tr>\n",
       "      <th>2025-05-06 14:00:00+00:00</th>\n",
       "      <td>05114000</td>\n",
       "      <td>13.7</td>\n",
       "      <td>P</td>\n",
       "    </tr>\n",
       "    <tr>\n",
       "      <th>2025-05-06 14:15:00+00:00</th>\n",
       "      <td>05114000</td>\n",
       "      <td>14.2</td>\n",
       "      <td>P</td>\n",
       "    </tr>\n",
       "    <tr>\n",
       "      <th>2025-05-06 14:30:00+00:00</th>\n",
       "      <td>05114000</td>\n",
       "      <td>13.9</td>\n",
       "      <td>P</td>\n",
       "    </tr>\n",
       "    <tr>\n",
       "      <th>2025-05-06 14:45:00+00:00</th>\n",
       "      <td>05114000</td>\n",
       "      <td>14.1</td>\n",
       "      <td>P</td>\n",
       "    </tr>\n",
       "    <tr>\n",
       "      <th>2025-05-06 15:00:00+00:00</th>\n",
       "      <td>05114000</td>\n",
       "      <td>13.9</td>\n",
       "      <td>P</td>\n",
       "    </tr>\n",
       "    <tr>\n",
       "      <th>2025-05-06 15:15:00+00:00</th>\n",
       "      <td>05114000</td>\n",
       "      <td>13.7</td>\n",
       "      <td>P</td>\n",
       "    </tr>\n",
       "    <tr>\n",
       "      <th>2025-05-06 15:30:00+00:00</th>\n",
       "      <td>05114000</td>\n",
       "      <td>14.1</td>\n",
       "      <td>P</td>\n",
       "    </tr>\n",
       "    <tr>\n",
       "      <th>2025-05-06 15:45:00+00:00</th>\n",
       "      <td>05114000</td>\n",
       "      <td>13.5</td>\n",
       "      <td>P</td>\n",
       "    </tr>\n",
       "    <tr>\n",
       "      <th>2025-05-06 16:00:00+00:00</th>\n",
       "      <td>05114000</td>\n",
       "      <td>13.6</td>\n",
       "      <td>P</td>\n",
       "    </tr>\n",
       "    <tr>\n",
       "      <th>2025-05-06 16:15:00+00:00</th>\n",
       "      <td>05114000</td>\n",
       "      <td>13.4</td>\n",
       "      <td>P</td>\n",
       "    </tr>\n",
       "    <tr>\n",
       "      <th>2025-05-06 16:30:00+00:00</th>\n",
       "      <td>05114000</td>\n",
       "      <td>13.6</td>\n",
       "      <td>P</td>\n",
       "    </tr>\n",
       "    <tr>\n",
       "      <th>2025-05-06 16:45:00+00:00</th>\n",
       "      <td>05114000</td>\n",
       "      <td>13.8</td>\n",
       "      <td>P</td>\n",
       "    </tr>\n",
       "    <tr>\n",
       "      <th>2025-05-06 17:00:00+00:00</th>\n",
       "      <td>05114000</td>\n",
       "      <td>13.6</td>\n",
       "      <td>P</td>\n",
       "    </tr>\n",
       "    <tr>\n",
       "      <th>2025-05-06 17:15:00+00:00</th>\n",
       "      <td>05114000</td>\n",
       "      <td>13.3</td>\n",
       "      <td>P</td>\n",
       "    </tr>\n",
       "    <tr>\n",
       "      <th>2025-05-06 17:30:00+00:00</th>\n",
       "      <td>05114000</td>\n",
       "      <td>13.3</td>\n",
       "      <td>P</td>\n",
       "    </tr>\n",
       "    <tr>\n",
       "      <th>2025-05-06 17:45:00+00:00</th>\n",
       "      <td>05114000</td>\n",
       "      <td>13.3</td>\n",
       "      <td>P</td>\n",
       "    </tr>\n",
       "    <tr>\n",
       "      <th>2025-05-06 18:00:00+00:00</th>\n",
       "      <td>05114000</td>\n",
       "      <td>13.3</td>\n",
       "      <td>P</td>\n",
       "    </tr>\n",
       "    <tr>\n",
       "      <th>2025-05-06 18:15:00+00:00</th>\n",
       "      <td>05114000</td>\n",
       "      <td>13.3</td>\n",
       "      <td>P</td>\n",
       "    </tr>\n",
       "    <tr>\n",
       "      <th>2025-05-06 18:30:00+00:00</th>\n",
       "      <td>05114000</td>\n",
       "      <td>13.4</td>\n",
       "      <td>P</td>\n",
       "    </tr>\n",
       "    <tr>\n",
       "      <th>2025-05-06 18:45:00+00:00</th>\n",
       "      <td>05114000</td>\n",
       "      <td>13.3</td>\n",
       "      <td>P</td>\n",
       "    </tr>\n",
       "    <tr>\n",
       "      <th>2025-05-06 19:00:00+00:00</th>\n",
       "      <td>05114000</td>\n",
       "      <td>13.0</td>\n",
       "      <td>P</td>\n",
       "    </tr>\n",
       "  </tbody>\n",
       "</table>\n",
       "</div>"
      ],
      "text/plain": [
       "                            site_no  00060 00060_cd\n",
       "datetime                                           \n",
       "2025-05-06 05:00:00+00:00  05114000   13.9        P\n",
       "2025-05-06 05:15:00+00:00  05114000   14.2        P\n",
       "2025-05-06 05:30:00+00:00  05114000   14.1        P\n",
       "2025-05-06 05:45:00+00:00  05114000   13.9        P\n",
       "2025-05-06 06:00:00+00:00  05114000   14.1        P\n",
       "2025-05-06 06:15:00+00:00  05114000   13.8        P\n",
       "2025-05-06 06:30:00+00:00  05114000   13.8        P\n",
       "2025-05-06 06:45:00+00:00  05114000   13.9        P\n",
       "2025-05-06 07:00:00+00:00  05114000   13.7        P\n",
       "2025-05-06 07:15:00+00:00  05114000   13.9        P\n",
       "2025-05-06 07:30:00+00:00  05114000   13.8        P\n",
       "2025-05-06 07:45:00+00:00  05114000   14.0        P\n",
       "2025-05-06 08:00:00+00:00  05114000   14.0        P\n",
       "2025-05-06 08:15:00+00:00  05114000   13.8        P\n",
       "2025-05-06 08:30:00+00:00  05114000   13.7        P\n",
       "2025-05-06 08:45:00+00:00  05114000   13.6        P\n",
       "2025-05-06 09:00:00+00:00  05114000   13.9        P\n",
       "2025-05-06 09:15:00+00:00  05114000   13.7        P\n",
       "2025-05-06 09:30:00+00:00  05114000   14.0        P\n",
       "2025-05-06 09:45:00+00:00  05114000   13.7        P\n",
       "2025-05-06 10:00:00+00:00  05114000   13.8        P\n",
       "2025-05-06 10:15:00+00:00  05114000   14.1        P\n",
       "2025-05-06 10:30:00+00:00  05114000   14.0        P\n",
       "2025-05-06 10:45:00+00:00  05114000   13.8        P\n",
       "2025-05-06 11:00:00+00:00  05114000   13.8        P\n",
       "2025-05-06 11:15:00+00:00  05114000   14.0        P\n",
       "2025-05-06 11:30:00+00:00  05114000   14.1        P\n",
       "2025-05-06 11:45:00+00:00  05114000   14.1        P\n",
       "2025-05-06 12:00:00+00:00  05114000   13.9        P\n",
       "2025-05-06 12:15:00+00:00  05114000   14.0        P\n",
       "2025-05-06 12:30:00+00:00  05114000   13.8        P\n",
       "2025-05-06 12:45:00+00:00  05114000   14.1        P\n",
       "2025-05-06 13:00:00+00:00  05114000   13.9        P\n",
       "2025-05-06 13:15:00+00:00  05114000   13.8        P\n",
       "2025-05-06 13:30:00+00:00  05114000   13.9        P\n",
       "2025-05-06 13:45:00+00:00  05114000   13.9        P\n",
       "2025-05-06 14:00:00+00:00  05114000   13.7        P\n",
       "2025-05-06 14:15:00+00:00  05114000   14.2        P\n",
       "2025-05-06 14:30:00+00:00  05114000   13.9        P\n",
       "2025-05-06 14:45:00+00:00  05114000   14.1        P\n",
       "2025-05-06 15:00:00+00:00  05114000   13.9        P\n",
       "2025-05-06 15:15:00+00:00  05114000   13.7        P\n",
       "2025-05-06 15:30:00+00:00  05114000   14.1        P\n",
       "2025-05-06 15:45:00+00:00  05114000   13.5        P\n",
       "2025-05-06 16:00:00+00:00  05114000   13.6        P\n",
       "2025-05-06 16:15:00+00:00  05114000   13.4        P\n",
       "2025-05-06 16:30:00+00:00  05114000   13.6        P\n",
       "2025-05-06 16:45:00+00:00  05114000   13.8        P\n",
       "2025-05-06 17:00:00+00:00  05114000   13.6        P\n",
       "2025-05-06 17:15:00+00:00  05114000   13.3        P\n",
       "2025-05-06 17:30:00+00:00  05114000   13.3        P\n",
       "2025-05-06 17:45:00+00:00  05114000   13.3        P\n",
       "2025-05-06 18:00:00+00:00  05114000   13.3        P\n",
       "2025-05-06 18:15:00+00:00  05114000   13.3        P\n",
       "2025-05-06 18:30:00+00:00  05114000   13.4        P\n",
       "2025-05-06 18:45:00+00:00  05114000   13.3        P\n",
       "2025-05-06 19:00:00+00:00  05114000   13.0        P"
      ]
     },
     "metadata": {},
     "output_type": "display_data"
    }
   ],
   "source": [
    "today = str(date.today())\n",
    "discharge_today = nwis.get_iv(sites=site_id, parameterCd=parameterCode, start=today, end=today)\n",
    "print('Retrieved ' + str(len(discharge_today[0])) + ' data values.')\n",
    "display(discharge_today[0])"
   ]
  },
  {
   "cell_type": "markdown",
   "metadata": {
    "pycharm": {
     "name": "#%% md\n"
    }
   },
   "source": [
    "#### Example 4: Retrieve data using UTC times\n",
    "\n",
    "NOTE: Adding 'Z' to the input time parameters indicates that they are in UTC rather than local time. The time stamps associated with the data returned are still in the local time of the USGS monitoring site."
   ]
  },
  {
   "cell_type": "code",
   "execution_count": 11,
   "metadata": {
    "collapsed": false,
    "execution": {
     "iopub.execute_input": "2025-05-06T20:11:18.458902Z",
     "iopub.status.busy": "2025-05-06T20:11:18.458733Z",
     "iopub.status.idle": "2025-05-06T20:11:18.966971Z",
     "shell.execute_reply": "2025-05-06T20:11:18.966444Z"
    },
    "jupyter": {
     "outputs_hidden": false
    },
    "pycharm": {
     "name": "#%%\n"
    }
   },
   "outputs": [
    {
     "name": "stdout",
     "output_type": "stream",
     "text": [
      "Retrieved 96 data values.\n"
     ]
    },
    {
     "data": {
      "text/html": [
       "<div>\n",
       "<style scoped>\n",
       "    .dataframe tbody tr th:only-of-type {\n",
       "        vertical-align: middle;\n",
       "    }\n",
       "\n",
       "    .dataframe tbody tr th {\n",
       "        vertical-align: top;\n",
       "    }\n",
       "\n",
       "    .dataframe thead th {\n",
       "        text-align: right;\n",
       "    }\n",
       "</style>\n",
       "<table border=\"1\" class=\"dataframe\">\n",
       "  <thead>\n",
       "    <tr style=\"text-align: right;\">\n",
       "      <th></th>\n",
       "      <th>site_no</th>\n",
       "      <th>00060</th>\n",
       "      <th>00060_cd</th>\n",
       "    </tr>\n",
       "    <tr>\n",
       "      <th>datetime</th>\n",
       "      <th></th>\n",
       "      <th></th>\n",
       "      <th></th>\n",
       "    </tr>\n",
       "  </thead>\n",
       "  <tbody>\n",
       "    <tr>\n",
       "      <th>2014-10-10 00:00:00+00:00</th>\n",
       "      <td>05114000</td>\n",
       "      <td>481.0</td>\n",
       "      <td>A</td>\n",
       "    </tr>\n",
       "    <tr>\n",
       "      <th>2014-10-10 00:15:00+00:00</th>\n",
       "      <td>05114000</td>\n",
       "      <td>481.0</td>\n",
       "      <td>A</td>\n",
       "    </tr>\n",
       "    <tr>\n",
       "      <th>2014-10-10 00:30:00+00:00</th>\n",
       "      <td>05114000</td>\n",
       "      <td>480.0</td>\n",
       "      <td>A</td>\n",
       "    </tr>\n",
       "    <tr>\n",
       "      <th>2014-10-10 00:45:00+00:00</th>\n",
       "      <td>05114000</td>\n",
       "      <td>480.0</td>\n",
       "      <td>A</td>\n",
       "    </tr>\n",
       "    <tr>\n",
       "      <th>2014-10-10 01:00:00+00:00</th>\n",
       "      <td>05114000</td>\n",
       "      <td>480.0</td>\n",
       "      <td>A</td>\n",
       "    </tr>\n",
       "    <tr>\n",
       "      <th>...</th>\n",
       "      <td>...</td>\n",
       "      <td>...</td>\n",
       "      <td>...</td>\n",
       "    </tr>\n",
       "    <tr>\n",
       "      <th>2014-10-10 22:45:00+00:00</th>\n",
       "      <td>05114000</td>\n",
       "      <td>478.0</td>\n",
       "      <td>A</td>\n",
       "    </tr>\n",
       "    <tr>\n",
       "      <th>2014-10-10 23:00:00+00:00</th>\n",
       "      <td>05114000</td>\n",
       "      <td>478.0</td>\n",
       "      <td>A</td>\n",
       "    </tr>\n",
       "    <tr>\n",
       "      <th>2014-10-10 23:15:00+00:00</th>\n",
       "      <td>05114000</td>\n",
       "      <td>478.0</td>\n",
       "      <td>A</td>\n",
       "    </tr>\n",
       "    <tr>\n",
       "      <th>2014-10-10 23:30:00+00:00</th>\n",
       "      <td>05114000</td>\n",
       "      <td>478.0</td>\n",
       "      <td>A</td>\n",
       "    </tr>\n",
       "    <tr>\n",
       "      <th>2014-10-10 23:45:00+00:00</th>\n",
       "      <td>05114000</td>\n",
       "      <td>478.0</td>\n",
       "      <td>A</td>\n",
       "    </tr>\n",
       "  </tbody>\n",
       "</table>\n",
       "<p>96 rows × 3 columns</p>\n",
       "</div>"
      ],
      "text/plain": [
       "                            site_no  00060 00060_cd\n",
       "datetime                                           \n",
       "2014-10-10 00:00:00+00:00  05114000  481.0        A\n",
       "2014-10-10 00:15:00+00:00  05114000  481.0        A\n",
       "2014-10-10 00:30:00+00:00  05114000  480.0        A\n",
       "2014-10-10 00:45:00+00:00  05114000  480.0        A\n",
       "2014-10-10 01:00:00+00:00  05114000  480.0        A\n",
       "...                             ...    ...      ...\n",
       "2014-10-10 22:45:00+00:00  05114000  478.0        A\n",
       "2014-10-10 23:00:00+00:00  05114000  478.0        A\n",
       "2014-10-10 23:15:00+00:00  05114000  478.0        A\n",
       "2014-10-10 23:30:00+00:00  05114000  478.0        A\n",
       "2014-10-10 23:45:00+00:00  05114000  478.0        A\n",
       "\n",
       "[96 rows x 3 columns]"
      ]
     },
     "metadata": {},
     "output_type": "display_data"
    }
   ],
   "source": [
    "discharge_UTC = nwis.get_iv(sites=site_id, parameterCd=parameterCode,\n",
    "                            start='2014-10-10T00:00Z', end='2014-10-10T23:59Z')\n",
    "print('Retrieved ' + str(len(discharge_UTC[0])) + ' data values.')\n",
    "display(discharge_UTC[0])"
   ]
  },
  {
   "cell_type": "markdown",
   "metadata": {
    "pycharm": {
     "name": "#%% md\n"
    }
   },
   "source": [
    "#### Example 5: Get unit values for two sites, for a single parameter, between a start and end date"
   ]
  },
  {
   "cell_type": "code",
   "execution_count": 12,
   "metadata": {
    "collapsed": false,
    "execution": {
     "iopub.execute_input": "2025-05-06T20:11:18.968715Z",
     "iopub.status.busy": "2025-05-06T20:11:18.968393Z",
     "iopub.status.idle": "2025-05-06T20:11:19.161476Z",
     "shell.execute_reply": "2025-05-06T20:11:19.160957Z"
    },
    "jupyter": {
     "outputs_hidden": false
    },
    "pycharm": {
     "name": "#%%\n"
    }
   },
   "outputs": [
    {
     "name": "stdout",
     "output_type": "stream",
     "text": [
      "Retrieved 192 data values.\n"
     ]
    },
    {
     "data": {
      "text/html": [
       "<div>\n",
       "<style scoped>\n",
       "    .dataframe tbody tr th:only-of-type {\n",
       "        vertical-align: middle;\n",
       "    }\n",
       "\n",
       "    .dataframe tbody tr th {\n",
       "        vertical-align: top;\n",
       "    }\n",
       "\n",
       "    .dataframe thead th {\n",
       "        text-align: right;\n",
       "    }\n",
       "</style>\n",
       "<table border=\"1\" class=\"dataframe\">\n",
       "  <thead>\n",
       "    <tr style=\"text-align: right;\">\n",
       "      <th></th>\n",
       "      <th></th>\n",
       "      <th>00060</th>\n",
       "      <th>00060_cd</th>\n",
       "    </tr>\n",
       "    <tr>\n",
       "      <th>site_no</th>\n",
       "      <th>datetime</th>\n",
       "      <th></th>\n",
       "      <th></th>\n",
       "    </tr>\n",
       "  </thead>\n",
       "  <tbody>\n",
       "    <tr>\n",
       "      <th rowspan=\"5\" valign=\"top\">04024000</th>\n",
       "      <th>2013-10-01 05:00:00+00:00</th>\n",
       "      <td>567.0</td>\n",
       "      <td>A</td>\n",
       "    </tr>\n",
       "    <tr>\n",
       "      <th>2013-10-01 05:15:00+00:00</th>\n",
       "      <td>567.0</td>\n",
       "      <td>A</td>\n",
       "    </tr>\n",
       "    <tr>\n",
       "      <th>2013-10-01 05:30:00+00:00</th>\n",
       "      <td>567.0</td>\n",
       "      <td>A</td>\n",
       "    </tr>\n",
       "    <tr>\n",
       "      <th>2013-10-01 05:45:00+00:00</th>\n",
       "      <td>567.0</td>\n",
       "      <td>A</td>\n",
       "    </tr>\n",
       "    <tr>\n",
       "      <th>2013-10-01 06:00:00+00:00</th>\n",
       "      <td>567.0</td>\n",
       "      <td>A</td>\n",
       "    </tr>\n",
       "    <tr>\n",
       "      <th>...</th>\n",
       "      <th>...</th>\n",
       "      <td>...</td>\n",
       "      <td>...</td>\n",
       "    </tr>\n",
       "    <tr>\n",
       "      <th rowspan=\"5\" valign=\"top\">04024430</th>\n",
       "      <th>2013-10-02 03:45:00+00:00</th>\n",
       "      <td>59.5</td>\n",
       "      <td>A</td>\n",
       "    </tr>\n",
       "    <tr>\n",
       "      <th>2013-10-02 04:00:00+00:00</th>\n",
       "      <td>59.5</td>\n",
       "      <td>A</td>\n",
       "    </tr>\n",
       "    <tr>\n",
       "      <th>2013-10-02 04:15:00+00:00</th>\n",
       "      <td>59.5</td>\n",
       "      <td>A</td>\n",
       "    </tr>\n",
       "    <tr>\n",
       "      <th>2013-10-02 04:30:00+00:00</th>\n",
       "      <td>59.5</td>\n",
       "      <td>A</td>\n",
       "    </tr>\n",
       "    <tr>\n",
       "      <th>2013-10-02 04:45:00+00:00</th>\n",
       "      <td>59.5</td>\n",
       "      <td>A</td>\n",
       "    </tr>\n",
       "  </tbody>\n",
       "</table>\n",
       "<p>192 rows × 2 columns</p>\n",
       "</div>"
      ],
      "text/plain": [
       "                                    00060 00060_cd\n",
       "site_no  datetime                                 \n",
       "04024000 2013-10-01 05:00:00+00:00  567.0        A\n",
       "         2013-10-01 05:15:00+00:00  567.0        A\n",
       "         2013-10-01 05:30:00+00:00  567.0        A\n",
       "         2013-10-01 05:45:00+00:00  567.0        A\n",
       "         2013-10-01 06:00:00+00:00  567.0        A\n",
       "...                                   ...      ...\n",
       "04024430 2013-10-02 03:45:00+00:00   59.5        A\n",
       "         2013-10-02 04:00:00+00:00   59.5        A\n",
       "         2013-10-02 04:15:00+00:00   59.5        A\n",
       "         2013-10-02 04:30:00+00:00   59.5        A\n",
       "         2013-10-02 04:45:00+00:00   59.5        A\n",
       "\n",
       "[192 rows x 2 columns]"
      ]
     },
     "metadata": {},
     "output_type": "display_data"
    }
   ],
   "source": [
    "discharge_multisite = nwis.get_iv(sites=['04024430', '04024000'], parameterCd=parameterCode,\n",
    "                                  start='2013-10-01', end='2013-10-01')\n",
    "print('Retrieved ' + str(len(discharge_multisite[0])) + ' data values.')\n",
    "display(discharge_multisite[0])"
   ]
  },
  {
   "cell_type": "markdown",
   "metadata": {},
   "source": [
    "The following example is the same as the previous example but with multi index turned off (multi_index=False)"
   ]
  },
  {
   "cell_type": "code",
   "execution_count": 13,
   "metadata": {
    "execution": {
     "iopub.execute_input": "2025-05-06T20:11:19.163358Z",
     "iopub.status.busy": "2025-05-06T20:11:19.162909Z",
     "iopub.status.idle": "2025-05-06T20:11:19.614782Z",
     "shell.execute_reply": "2025-05-06T20:11:19.614347Z"
    }
   },
   "outputs": [
    {
     "name": "stdout",
     "output_type": "stream",
     "text": [
      "Retrieved 192 data values.\n"
     ]
    },
    {
     "data": {
      "text/html": [
       "<div>\n",
       "<style scoped>\n",
       "    .dataframe tbody tr th:only-of-type {\n",
       "        vertical-align: middle;\n",
       "    }\n",
       "\n",
       "    .dataframe tbody tr th {\n",
       "        vertical-align: top;\n",
       "    }\n",
       "\n",
       "    .dataframe thead th {\n",
       "        text-align: right;\n",
       "    }\n",
       "</style>\n",
       "<table border=\"1\" class=\"dataframe\">\n",
       "  <thead>\n",
       "    <tr style=\"text-align: right;\">\n",
       "      <th></th>\n",
       "      <th>site_no</th>\n",
       "      <th>00060</th>\n",
       "      <th>00060_cd</th>\n",
       "    </tr>\n",
       "    <tr>\n",
       "      <th>datetime</th>\n",
       "      <th></th>\n",
       "      <th></th>\n",
       "      <th></th>\n",
       "    </tr>\n",
       "  </thead>\n",
       "  <tbody>\n",
       "    <tr>\n",
       "      <th>2013-10-01 05:00:00+00:00</th>\n",
       "      <td>04024000</td>\n",
       "      <td>567.0</td>\n",
       "      <td>A</td>\n",
       "    </tr>\n",
       "    <tr>\n",
       "      <th>2013-10-01 05:00:00+00:00</th>\n",
       "      <td>04024430</td>\n",
       "      <td>61.3</td>\n",
       "      <td>A</td>\n",
       "    </tr>\n",
       "    <tr>\n",
       "      <th>2013-10-01 05:15:00+00:00</th>\n",
       "      <td>04024430</td>\n",
       "      <td>60.4</td>\n",
       "      <td>A</td>\n",
       "    </tr>\n",
       "    <tr>\n",
       "      <th>2013-10-01 05:15:00+00:00</th>\n",
       "      <td>04024000</td>\n",
       "      <td>567.0</td>\n",
       "      <td>A</td>\n",
       "    </tr>\n",
       "    <tr>\n",
       "      <th>2013-10-01 05:30:00+00:00</th>\n",
       "      <td>04024430</td>\n",
       "      <td>60.4</td>\n",
       "      <td>A</td>\n",
       "    </tr>\n",
       "    <tr>\n",
       "      <th>...</th>\n",
       "      <td>...</td>\n",
       "      <td>...</td>\n",
       "      <td>...</td>\n",
       "    </tr>\n",
       "    <tr>\n",
       "      <th>2013-10-02 04:15:00+00:00</th>\n",
       "      <td>04024000</td>\n",
       "      <td>592.0</td>\n",
       "      <td>A</td>\n",
       "    </tr>\n",
       "    <tr>\n",
       "      <th>2013-10-02 04:30:00+00:00</th>\n",
       "      <td>04024430</td>\n",
       "      <td>59.5</td>\n",
       "      <td>A</td>\n",
       "    </tr>\n",
       "    <tr>\n",
       "      <th>2013-10-02 04:30:00+00:00</th>\n",
       "      <td>04024000</td>\n",
       "      <td>592.0</td>\n",
       "      <td>A</td>\n",
       "    </tr>\n",
       "    <tr>\n",
       "      <th>2013-10-02 04:45:00+00:00</th>\n",
       "      <td>04024000</td>\n",
       "      <td>592.0</td>\n",
       "      <td>A</td>\n",
       "    </tr>\n",
       "    <tr>\n",
       "      <th>2013-10-02 04:45:00+00:00</th>\n",
       "      <td>04024430</td>\n",
       "      <td>59.5</td>\n",
       "      <td>A</td>\n",
       "    </tr>\n",
       "  </tbody>\n",
       "</table>\n",
       "<p>192 rows × 3 columns</p>\n",
       "</div>"
      ],
      "text/plain": [
       "                            site_no  00060 00060_cd\n",
       "datetime                                           \n",
       "2013-10-01 05:00:00+00:00  04024000  567.0        A\n",
       "2013-10-01 05:00:00+00:00  04024430   61.3        A\n",
       "2013-10-01 05:15:00+00:00  04024430   60.4        A\n",
       "2013-10-01 05:15:00+00:00  04024000  567.0        A\n",
       "2013-10-01 05:30:00+00:00  04024430   60.4        A\n",
       "...                             ...    ...      ...\n",
       "2013-10-02 04:15:00+00:00  04024000  592.0        A\n",
       "2013-10-02 04:30:00+00:00  04024430   59.5        A\n",
       "2013-10-02 04:30:00+00:00  04024000  592.0        A\n",
       "2013-10-02 04:45:00+00:00  04024000  592.0        A\n",
       "2013-10-02 04:45:00+00:00  04024430   59.5        A\n",
       "\n",
       "[192 rows x 3 columns]"
      ]
     },
     "metadata": {},
     "output_type": "display_data"
    }
   ],
   "source": [
    "discharge_multisite = nwis.get_iv(sites=['04024430', '04024000'], parameterCd=parameterCode,\n",
    "                                  start='2013-10-01', end='2013-10-01', multi_index=False)\n",
    "print('Retrieved ' + str(len(discharge_multisite[0])) + ' data values.')\n",
    "display(discharge_multisite[0])"
   ]
  }
 ],
 "metadata": {
  "kernelspec": {
   "display_name": "Python 3 (ipykernel)",
   "language": "python",
   "name": "python3"
  },
  "language_info": {
   "codemirror_mode": {
    "name": "ipython",
    "version": 3
   },
   "file_extension": ".py",
   "mimetype": "text/x-python",
   "name": "python",
   "nbconvert_exporter": "python",
   "pygments_lexer": "ipython3",
   "version": "3.12.3"
  }
 },
 "nbformat": 4,
 "nbformat_minor": 4
}
