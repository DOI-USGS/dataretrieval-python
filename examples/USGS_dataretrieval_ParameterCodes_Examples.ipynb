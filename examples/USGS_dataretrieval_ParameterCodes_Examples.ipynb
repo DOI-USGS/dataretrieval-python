{
 "cells": [
  {
   "cell_type": "markdown",
   "metadata": {
    "collapsed": true,
    "pycharm": {
     "name": "#%% md\n"
    }
   },
   "source": [
    "# USGS dataretrieval Python Package `get_pmcodes()` Examples\n",
    "\n",
    "This notebook provides examples of using the Python dataretrieval package to retrieve information about USGS parameter codes from NWIS. The dataretrieval package provides a collection of functions to get data from the USGS National Water Information System (NWIS) and other online sources of hydrology and water quality data, including the United States Environmental Protection Agency (USEPA).\n",
    "\n",
    "For more information about USGS NWIS parameter codes, see:\n",
    "https://help.waterdata.usgs.gov/codes-and-parameters/parameters"
   ]
  },
  {
   "cell_type": "markdown",
   "metadata": {
    "collapsed": false
   },
   "source": [
    "### Install the Package\n",
    "\n",
    "Use the following code to install the package if it doesn't exist already within your Jupyter Python environment."
   ]
  },
  {
   "cell_type": "code",
   "execution_count": 1,
   "metadata": {
    "collapsed": false,
    "execution": {
     "iopub.execute_input": "2024-07-19T16:00:23.104185Z",
     "iopub.status.busy": "2024-07-19T16:00:23.104004Z",
     "iopub.status.idle": "2024-07-19T16:00:23.809883Z",
     "shell.execute_reply": "2024-07-19T16:00:23.809193Z"
    },
    "pycharm": {
     "name": "#%%\n"
    }
   },
   "outputs": [
    {
     "name": "stdout",
     "output_type": "stream",
     "text": [
      "Defaulting to user installation because normal site-packages is not writeable\r\n"
     ]
    },
    {
     "name": "stdout",
     "output_type": "stream",
     "text": [
      "Requirement already satisfied: dataretrieval in /home/runner/.local/lib/python3.10/site-packages (0.1.dev1+g64a575d)\r\n",
      "Requirement already satisfied: requests in /home/runner/.local/lib/python3.10/site-packages (from dataretrieval) (2.32.3)\r\n",
      "Requirement already satisfied: pandas==2.* in /home/runner/.local/lib/python3.10/site-packages (from dataretrieval) (2.2.2)\r\n"
     ]
    },
    {
     "name": "stdout",
     "output_type": "stream",
     "text": [
      "Requirement already satisfied: numpy>=1.22.4 in /home/runner/.local/lib/python3.10/site-packages (from pandas==2.*->dataretrieval) (2.0.0)\r\n",
      "Requirement already satisfied: python-dateutil>=2.8.2 in /home/runner/.local/lib/python3.10/site-packages (from pandas==2.*->dataretrieval) (2.9.0.post0)\r\n",
      "Requirement already satisfied: pytz>=2020.1 in /usr/lib/python3/dist-packages (from pandas==2.*->dataretrieval) (2022.1)\r\n",
      "Requirement already satisfied: tzdata>=2022.7 in /home/runner/.local/lib/python3.10/site-packages (from pandas==2.*->dataretrieval) (2024.1)\r\n",
      "Requirement already satisfied: charset-normalizer<4,>=2 in /home/runner/.local/lib/python3.10/site-packages (from requests->dataretrieval) (3.3.2)\r\n",
      "Requirement already satisfied: idna<4,>=2.5 in /usr/lib/python3/dist-packages (from requests->dataretrieval) (3.3)\r\n",
      "Requirement already satisfied: urllib3<3,>=1.21.1 in /usr/lib/python3/dist-packages (from requests->dataretrieval) (1.26.5)\r\n",
      "Requirement already satisfied: certifi>=2017.4.17 in /usr/lib/python3/dist-packages (from requests->dataretrieval) (2020.6.20)\r\n",
      "Requirement already satisfied: six>=1.5 in /usr/lib/python3/dist-packages (from python-dateutil>=2.8.2->pandas==2.*->dataretrieval) (1.16.0)\r\n"
     ]
    }
   ],
   "source": [
    "!pip install dataretrieval"
   ]
  },
  {
   "cell_type": "markdown",
   "metadata": {
    "collapsed": false
   },
   "source": [
    "Load the package so you can use it along with other packages used in this notebook."
   ]
  },
  {
   "cell_type": "code",
   "execution_count": 2,
   "metadata": {
    "collapsed": false,
    "execution": {
     "iopub.execute_input": "2024-07-19T16:00:23.812798Z",
     "iopub.status.busy": "2024-07-19T16:00:23.812371Z",
     "iopub.status.idle": "2024-07-19T16:00:24.121628Z",
     "shell.execute_reply": "2024-07-19T16:00:24.121056Z"
    },
    "pycharm": {
     "name": "#%%\n"
    }
   },
   "outputs": [],
   "source": [
    "from dataretrieval import nwis\n",
    "from IPython.display import display"
   ]
  },
  {
   "cell_type": "markdown",
   "metadata": {
    "collapsed": false
   },
   "source": [
    "### Basic Usage\n",
    "\n",
    "The dataretrieval package has several functions that allow you to retrieve data from different web services. This examples uses the `get_pmcodes()` function to retrieve information about parameter codes (i.e., observed variables) from NWIS. The following arguments are supported:\n",
    "\n",
    "Arguments (Additional arguments, if supplied, will be used as query parameters)\n",
    "\n",
    "* **parameterCd** (string): A string containing the parameter code for which information is to be retrieved."
   ]
  },
  {
   "cell_type": "markdown",
   "metadata": {
    "collapsed": false
   },
   "source": [
    "Example 1: Retrieve information for a set of USGS NWIS parameter codes."
   ]
  },
  {
   "cell_type": "code",
   "execution_count": 3,
   "metadata": {
    "collapsed": false,
    "execution": {
     "iopub.execute_input": "2024-07-19T16:00:24.124424Z",
     "iopub.status.busy": "2024-07-19T16:00:24.123979Z",
     "iopub.status.idle": "2024-07-19T16:00:24.429504Z",
     "shell.execute_reply": "2024-07-19T16:00:24.428852Z"
    },
    "pycharm": {
     "name": "#%%\n"
    }
   },
   "outputs": [
    {
     "name": "stdout",
     "output_type": "stream",
     "text": [
      "Retrieved information about 1 parameter code.\n"
     ]
    }
   ],
   "source": [
    "parameter_codes = nwis.get_pmcodes(['00400'])\n",
    "print(\"Retrieved information about \" + str(len(parameter_codes[0])) + \" parameter code.\")"
   ]
  },
  {
   "cell_type": "markdown",
   "metadata": {
    "collapsed": false
   },
   "source": [
    "### Interpreting the Result\n",
    "\n",
    "The result of calling the `get_pmcodes()` function is an object that contains a Pandas data frame object and an associated metadata object. The Pandas data frame contains the parameter code information requested.\n",
    "\n",
    "Once you've got the data frame, you can explore the data."
   ]
  },
  {
   "cell_type": "code",
   "execution_count": 4,
   "metadata": {
    "collapsed": false,
    "execution": {
     "iopub.execute_input": "2024-07-19T16:00:24.432063Z",
     "iopub.status.busy": "2024-07-19T16:00:24.431677Z",
     "iopub.status.idle": "2024-07-19T16:00:24.444532Z",
     "shell.execute_reply": "2024-07-19T16:00:24.443997Z"
    },
    "pycharm": {
     "name": "#%%\n"
    }
   },
   "outputs": [
    {
     "data": {
      "text/html": [
       "<div>\n",
       "<style scoped>\n",
       "    .dataframe tbody tr th:only-of-type {\n",
       "        vertical-align: middle;\n",
       "    }\n",
       "\n",
       "    .dataframe tbody tr th {\n",
       "        vertical-align: top;\n",
       "    }\n",
       "\n",
       "    .dataframe thead th {\n",
       "        text-align: right;\n",
       "    }\n",
       "</style>\n",
       "<table border=\"1\" class=\"dataframe\">\n",
       "  <thead>\n",
       "    <tr style=\"text-align: right;\">\n",
       "      <th></th>\n",
       "      <th>parameter_cd</th>\n",
       "      <th>group</th>\n",
       "      <th>parm_nm</th>\n",
       "      <th>epa_equivalence</th>\n",
       "      <th>result_statistical_basis</th>\n",
       "      <th>result_time_basis</th>\n",
       "      <th>result_weight_basis</th>\n",
       "      <th>result_particle_size_basis</th>\n",
       "      <th>result_sample_fraction</th>\n",
       "      <th>result_temperature_basis</th>\n",
       "      <th>CASRN</th>\n",
       "      <th>SRSName</th>\n",
       "      <th>parm_unit</th>\n",
       "    </tr>\n",
       "  </thead>\n",
       "  <tbody>\n",
       "    <tr>\n",
       "      <th>0</th>\n",
       "      <td>00400</td>\n",
       "      <td>Physical</td>\n",
       "      <td>pH, water, unfiltered, field, standard units</td>\n",
       "      <td>Agree</td>\n",
       "      <td>NaN</td>\n",
       "      <td>NaN</td>\n",
       "      <td>NaN</td>\n",
       "      <td>NaN</td>\n",
       "      <td>Total</td>\n",
       "      <td>NaN</td>\n",
       "      <td></td>\n",
       "      <td>pH</td>\n",
       "      <td>std units</td>\n",
       "    </tr>\n",
       "  </tbody>\n",
       "</table>\n",
       "</div>"
      ],
      "text/plain": [
       "  parameter_cd     group                                       parm_nm  \\\n",
       "0        00400  Physical  pH, water, unfiltered, field, standard units   \n",
       "\n",
       "  epa_equivalence  result_statistical_basis  result_time_basis  \\\n",
       "0           Agree                       NaN                NaN   \n",
       "\n",
       "   result_weight_basis  result_particle_size_basis result_sample_fraction  \\\n",
       "0                  NaN                         NaN                  Total   \n",
       "\n",
       "   result_temperature_basis CASRN SRSName  parm_unit  \n",
       "0                       NaN            pH  std units  "
      ]
     },
     "metadata": {},
     "output_type": "display_data"
    }
   ],
   "source": [
    "# Display the data frame as a table\n",
    "display(parameter_codes[0])\n"
   ]
  }
 ],
 "metadata": {
  "kernelspec": {
   "display_name": "Python 3",
   "language": "python",
   "name": "python3"
  },
  "language_info": {
   "codemirror_mode": {
    "name": "ipython",
    "version": 3
   },
   "file_extension": ".py",
   "mimetype": "text/x-python",
   "name": "python",
   "nbconvert_exporter": "python",
   "pygments_lexer": "ipython3",
   "version": "3.10.12"
  }
 },
 "nbformat": 4,
 "nbformat_minor": 0
}
