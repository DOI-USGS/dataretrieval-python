{
 "cells": [
  {
   "cell_type": "markdown",
   "metadata": {
    "pycharm": {
     "name": "#%% md\n"
    }
   },
   "source": [
    "# USGS dataretrieval Python Package `get_stats()` Examples\n",
    "\n",
    "This notebook provides examples of using the Python dataretrieval package to retrieve statistics for observed variables at a United States Geological Survey (USGS) monitoring site. The dataretrieval package provides a collection of functions to get data from the USGS National Water Information System (NWIS) and other online sources of hydrology and water quality data, including the United States Environmental Protection Agency (USEPA)."
   ]
  },
  {
   "cell_type": "markdown",
   "metadata": {},
   "source": [
    "### Install the Package\n",
    "\n",
    "Use the following code to install the package if it doesn't exist already within your Jupyter Python environment."
   ]
  },
  {
   "cell_type": "code",
   "execution_count": 1,
   "metadata": {
    "collapsed": false,
    "execution": {
     "iopub.execute_input": "2024-09-17T21:43:16.571663Z",
     "iopub.status.busy": "2024-09-17T21:43:16.571462Z",
     "iopub.status.idle": "2024-09-17T21:43:17.335565Z",
     "shell.execute_reply": "2024-09-17T21:43:17.334865Z"
    },
    "jupyter": {
     "outputs_hidden": false
    },
    "pycharm": {
     "name": "#%%\n"
    }
   },
   "outputs": [
    {
     "name": "stdout",
     "output_type": "stream",
     "text": [
      "Defaulting to user installation because normal site-packages is not writeable\r\n"
     ]
    },
    {
     "name": "stdout",
     "output_type": "stream",
     "text": [
      "Requirement already satisfied: dataretrieval in /home/runner/.local/lib/python3.10/site-packages (0.1.dev1+g9f09525)\r\n"
     ]
    },
    {
     "name": "stdout",
     "output_type": "stream",
     "text": [
      "Requirement already satisfied: requests in /home/runner/.local/lib/python3.10/site-packages (from dataretrieval) (2.32.3)\r\n",
      "Requirement already satisfied: pandas==2.* in /home/runner/.local/lib/python3.10/site-packages (from dataretrieval) (2.2.2)\r\n",
      "Requirement already satisfied: numpy>=1.22.4 in /home/runner/.local/lib/python3.10/site-packages (from pandas==2.*->dataretrieval) (2.1.1)\r\n",
      "Requirement already satisfied: python-dateutil>=2.8.2 in /home/runner/.local/lib/python3.10/site-packages (from pandas==2.*->dataretrieval) (2.9.0.post0)\r\n",
      "Requirement already satisfied: pytz>=2020.1 in /usr/lib/python3/dist-packages (from pandas==2.*->dataretrieval) (2022.1)\r\n",
      "Requirement already satisfied: tzdata>=2022.7 in /home/runner/.local/lib/python3.10/site-packages (from pandas==2.*->dataretrieval) (2024.1)\r\n",
      "Requirement already satisfied: charset-normalizer<4,>=2 in /home/runner/.local/lib/python3.10/site-packages (from requests->dataretrieval) (3.3.2)\r\n",
      "Requirement already satisfied: idna<4,>=2.5 in /usr/lib/python3/dist-packages (from requests->dataretrieval) (3.3)\r\n",
      "Requirement already satisfied: urllib3<3,>=1.21.1 in /usr/lib/python3/dist-packages (from requests->dataretrieval) (1.26.5)\r\n",
      "Requirement already satisfied: certifi>=2017.4.17 in /usr/lib/python3/dist-packages (from requests->dataretrieval) (2020.6.20)\r\n",
      "Requirement already satisfied: six>=1.5 in /usr/lib/python3/dist-packages (from python-dateutil>=2.8.2->pandas==2.*->dataretrieval) (1.16.0)\r\n"
     ]
    }
   ],
   "source": [
    "!pip install dataretrieval"
   ]
  },
  {
   "cell_type": "markdown",
   "metadata": {},
   "source": [
    "Load the package so you can use it along with other packages used in this notebook."
   ]
  },
  {
   "cell_type": "code",
   "execution_count": 2,
   "metadata": {
    "collapsed": false,
    "execution": {
     "iopub.execute_input": "2024-09-17T21:43:17.338027Z",
     "iopub.status.busy": "2024-09-17T21:43:17.337549Z",
     "iopub.status.idle": "2024-09-17T21:43:17.690690Z",
     "shell.execute_reply": "2024-09-17T21:43:17.690100Z"
    },
    "jupyter": {
     "outputs_hidden": false
    },
    "pycharm": {
     "name": "#%%\n"
    }
   },
   "outputs": [],
   "source": [
    "from dataretrieval import nwis\n",
    "from IPython.display import display\n",
    "from matplotlib import ticker"
   ]
  },
  {
   "cell_type": "markdown",
   "metadata": {},
   "source": [
    "### Basic Usage\n",
    "\n",
    "The dataretrieval package has several functions that allow you to retrieve data from different web services. This examples uses the `get_stats()` function to retrieve statistics for observed variable(s) for a USGS monitoring site from USGS NWIS. The following arguments are available:\n",
    "\n",
    "Arguments (Additional parameters, if supplied, will be used as query parameters).\n",
    "\n",
    "* **sites** (string or list of strings): A string or list of strings contining the USGS site identifiers for which to retrive data.\n",
    "* **parameterCd** (string or list of strings): A list of USGS parameter codes for which to retrieve data.\n",
    "* **statReportType** (string): The aggregation period for which statistics should be reported. Can be specified as 'daily' (default), 'monthly', or 'annual'.\n",
    "* **statTypeCd** (string): The type of statistic to be returned in the result. Can be specified as 'all', 'mean', 'max', 'min', or 'median'"
   ]
  },
  {
   "cell_type": "markdown",
   "metadata": {},
   "source": [
    "#### Example 1: Get all of the annual mean discharge data for a single site"
   ]
  },
  {
   "cell_type": "code",
   "execution_count": 3,
   "metadata": {
    "collapsed": false,
    "execution": {
     "iopub.execute_input": "2024-09-17T21:43:17.693242Z",
     "iopub.status.busy": "2024-09-17T21:43:17.692725Z",
     "iopub.status.idle": "2024-09-17T21:43:18.129295Z",
     "shell.execute_reply": "2024-09-17T21:43:18.128737Z"
    },
    "jupyter": {
     "outputs_hidden": false
    },
    "pycharm": {
     "name": "#%%\n"
    }
   },
   "outputs": [
    {
     "name": "stdout",
     "output_type": "stream",
     "text": [
      "Retrieved 20 data values.\n"
     ]
    }
   ],
   "source": [
    "# Set the parameters needed to retrieve data\n",
    "siteNumber = \"02319394\"\n",
    "parameterCode = \"00060\" # Discharge\n",
    "\n",
    "# Retrieve the statistics\n",
    "x1 = nwis.get_stats(sites=siteNumber, parameterCd=parameterCode, statReportType=\"annual\")\n",
    "print(\"Retrieved \" + str(len(x1[0])) + \" data values.\")"
   ]
  },
  {
   "cell_type": "markdown",
   "metadata": {},
   "source": [
    "### Interpreting the Result\n",
    "\n",
    "The result of calling the `get_stats()` function is an object that contains a Pandas data frame object and an associated metadata object. The Pandas data frame contains the statistics values for the site and observed variable requested.\n",
    "\n",
    "Once you've got the data frame, there's several useful things you can do to explore the data."
   ]
  },
  {
   "cell_type": "code",
   "execution_count": 4,
   "metadata": {
    "collapsed": false,
    "execution": {
     "iopub.execute_input": "2024-09-17T21:43:18.131338Z",
     "iopub.status.busy": "2024-09-17T21:43:18.130911Z",
     "iopub.status.idle": "2024-09-17T21:43:18.142666Z",
     "shell.execute_reply": "2024-09-17T21:43:18.142204Z"
    },
    "jupyter": {
     "outputs_hidden": false
    },
    "pycharm": {
     "name": "#%%\n"
    }
   },
   "outputs": [
    {
     "data": {
      "text/html": [
       "<div>\n",
       "<style scoped>\n",
       "    .dataframe tbody tr th:only-of-type {\n",
       "        vertical-align: middle;\n",
       "    }\n",
       "\n",
       "    .dataframe tbody tr th {\n",
       "        vertical-align: top;\n",
       "    }\n",
       "\n",
       "    .dataframe thead th {\n",
       "        text-align: right;\n",
       "    }\n",
       "</style>\n",
       "<table border=\"1\" class=\"dataframe\">\n",
       "  <thead>\n",
       "    <tr style=\"text-align: right;\">\n",
       "      <th></th>\n",
       "      <th>agency_cd</th>\n",
       "      <th>site_no</th>\n",
       "      <th>parameter_cd</th>\n",
       "      <th>ts_id</th>\n",
       "      <th>loc_web_ds</th>\n",
       "      <th>year_nu</th>\n",
       "      <th>mean_va</th>\n",
       "      <th>count_nu</th>\n",
       "    </tr>\n",
       "  </thead>\n",
       "  <tbody>\n",
       "    <tr>\n",
       "      <th>0</th>\n",
       "      <td>USGS</td>\n",
       "      <td>02319394</td>\n",
       "      <td>00060</td>\n",
       "      <td>26452</td>\n",
       "      <td>NaN</td>\n",
       "      <td>2001</td>\n",
       "      <td>1404.0</td>\n",
       "      <td>365</td>\n",
       "    </tr>\n",
       "    <tr>\n",
       "      <th>1</th>\n",
       "      <td>USGS</td>\n",
       "      <td>02319394</td>\n",
       "      <td>00060</td>\n",
       "      <td>26452</td>\n",
       "      <td>NaN</td>\n",
       "      <td>2002</td>\n",
       "      <td>795.9</td>\n",
       "      <td>365</td>\n",
       "    </tr>\n",
       "    <tr>\n",
       "      <th>2</th>\n",
       "      <td>USGS</td>\n",
       "      <td>02319394</td>\n",
       "      <td>00060</td>\n",
       "      <td>26452</td>\n",
       "      <td>NaN</td>\n",
       "      <td>2003</td>\n",
       "      <td>3395.0</td>\n",
       "      <td>365</td>\n",
       "    </tr>\n",
       "    <tr>\n",
       "      <th>3</th>\n",
       "      <td>USGS</td>\n",
       "      <td>02319394</td>\n",
       "      <td>00060</td>\n",
       "      <td>26452</td>\n",
       "      <td>NaN</td>\n",
       "      <td>2004</td>\n",
       "      <td>2471.0</td>\n",
       "      <td>366</td>\n",
       "    </tr>\n",
       "    <tr>\n",
       "      <th>4</th>\n",
       "      <td>USGS</td>\n",
       "      <td>02319394</td>\n",
       "      <td>00060</td>\n",
       "      <td>26452</td>\n",
       "      <td>NaN</td>\n",
       "      <td>2005</td>\n",
       "      <td>3764.0</td>\n",
       "      <td>365</td>\n",
       "    </tr>\n",
       "    <tr>\n",
       "      <th>5</th>\n",
       "      <td>USGS</td>\n",
       "      <td>02319394</td>\n",
       "      <td>00060</td>\n",
       "      <td>26452</td>\n",
       "      <td>NaN</td>\n",
       "      <td>2006</td>\n",
       "      <td>1029.0</td>\n",
       "      <td>365</td>\n",
       "    </tr>\n",
       "    <tr>\n",
       "      <th>6</th>\n",
       "      <td>USGS</td>\n",
       "      <td>02319394</td>\n",
       "      <td>00060</td>\n",
       "      <td>26452</td>\n",
       "      <td>NaN</td>\n",
       "      <td>2007</td>\n",
       "      <td>688.5</td>\n",
       "      <td>365</td>\n",
       "    </tr>\n",
       "    <tr>\n",
       "      <th>7</th>\n",
       "      <td>USGS</td>\n",
       "      <td>02319394</td>\n",
       "      <td>00060</td>\n",
       "      <td>26452</td>\n",
       "      <td>NaN</td>\n",
       "      <td>2008</td>\n",
       "      <td>2186.0</td>\n",
       "      <td>366</td>\n",
       "    </tr>\n",
       "    <tr>\n",
       "      <th>8</th>\n",
       "      <td>USGS</td>\n",
       "      <td>02319394</td>\n",
       "      <td>00060</td>\n",
       "      <td>26452</td>\n",
       "      <td>NaN</td>\n",
       "      <td>2009</td>\n",
       "      <td>2620.0</td>\n",
       "      <td>365</td>\n",
       "    </tr>\n",
       "    <tr>\n",
       "      <th>9</th>\n",
       "      <td>USGS</td>\n",
       "      <td>02319394</td>\n",
       "      <td>00060</td>\n",
       "      <td>26452</td>\n",
       "      <td>NaN</td>\n",
       "      <td>2012</td>\n",
       "      <td>784.3</td>\n",
       "      <td>366</td>\n",
       "    </tr>\n",
       "    <tr>\n",
       "      <th>10</th>\n",
       "      <td>USGS</td>\n",
       "      <td>02319394</td>\n",
       "      <td>00060</td>\n",
       "      <td>26452</td>\n",
       "      <td>NaN</td>\n",
       "      <td>2013</td>\n",
       "      <td>2929.0</td>\n",
       "      <td>365</td>\n",
       "    </tr>\n",
       "    <tr>\n",
       "      <th>11</th>\n",
       "      <td>USGS</td>\n",
       "      <td>02319394</td>\n",
       "      <td>00060</td>\n",
       "      <td>26452</td>\n",
       "      <td>NaN</td>\n",
       "      <td>2014</td>\n",
       "      <td>2847.0</td>\n",
       "      <td>365</td>\n",
       "    </tr>\n",
       "    <tr>\n",
       "      <th>12</th>\n",
       "      <td>USGS</td>\n",
       "      <td>02319394</td>\n",
       "      <td>00060</td>\n",
       "      <td>26452</td>\n",
       "      <td>NaN</td>\n",
       "      <td>2015</td>\n",
       "      <td>2258.0</td>\n",
       "      <td>365</td>\n",
       "    </tr>\n",
       "    <tr>\n",
       "      <th>13</th>\n",
       "      <td>USGS</td>\n",
       "      <td>02319394</td>\n",
       "      <td>00060</td>\n",
       "      <td>26452</td>\n",
       "      <td>NaN</td>\n",
       "      <td>2016</td>\n",
       "      <td>2125.0</td>\n",
       "      <td>366</td>\n",
       "    </tr>\n",
       "    <tr>\n",
       "      <th>14</th>\n",
       "      <td>USGS</td>\n",
       "      <td>02319394</td>\n",
       "      <td>00060</td>\n",
       "      <td>26452</td>\n",
       "      <td>NaN</td>\n",
       "      <td>2017</td>\n",
       "      <td>1215.0</td>\n",
       "      <td>365</td>\n",
       "    </tr>\n",
       "    <tr>\n",
       "      <th>15</th>\n",
       "      <td>USGS</td>\n",
       "      <td>02319394</td>\n",
       "      <td>00060</td>\n",
       "      <td>26452</td>\n",
       "      <td>NaN</td>\n",
       "      <td>2018</td>\n",
       "      <td>1961.0</td>\n",
       "      <td>365</td>\n",
       "    </tr>\n",
       "    <tr>\n",
       "      <th>16</th>\n",
       "      <td>USGS</td>\n",
       "      <td>02319394</td>\n",
       "      <td>00060</td>\n",
       "      <td>26452</td>\n",
       "      <td>NaN</td>\n",
       "      <td>2019</td>\n",
       "      <td>1684.0</td>\n",
       "      <td>365</td>\n",
       "    </tr>\n",
       "    <tr>\n",
       "      <th>17</th>\n",
       "      <td>USGS</td>\n",
       "      <td>02319394</td>\n",
       "      <td>00060</td>\n",
       "      <td>26452</td>\n",
       "      <td>NaN</td>\n",
       "      <td>2020</td>\n",
       "      <td>1665.0</td>\n",
       "      <td>366</td>\n",
       "    </tr>\n",
       "    <tr>\n",
       "      <th>18</th>\n",
       "      <td>USGS</td>\n",
       "      <td>02319394</td>\n",
       "      <td>00060</td>\n",
       "      <td>26452</td>\n",
       "      <td>NaN</td>\n",
       "      <td>2021</td>\n",
       "      <td>3582.0</td>\n",
       "      <td>365</td>\n",
       "    </tr>\n",
       "    <tr>\n",
       "      <th>19</th>\n",
       "      <td>USGS</td>\n",
       "      <td>02319394</td>\n",
       "      <td>00060</td>\n",
       "      <td>26452</td>\n",
       "      <td>NaN</td>\n",
       "      <td>2022</td>\n",
       "      <td>1801.0</td>\n",
       "      <td>365</td>\n",
       "    </tr>\n",
       "  </tbody>\n",
       "</table>\n",
       "</div>"
      ],
      "text/plain": [
       "   agency_cd   site_no parameter_cd  ts_id  loc_web_ds  year_nu  mean_va  \\\n",
       "0       USGS  02319394        00060  26452         NaN     2001   1404.0   \n",
       "1       USGS  02319394        00060  26452         NaN     2002    795.9   \n",
       "2       USGS  02319394        00060  26452         NaN     2003   3395.0   \n",
       "3       USGS  02319394        00060  26452         NaN     2004   2471.0   \n",
       "4       USGS  02319394        00060  26452         NaN     2005   3764.0   \n",
       "5       USGS  02319394        00060  26452         NaN     2006   1029.0   \n",
       "6       USGS  02319394        00060  26452         NaN     2007    688.5   \n",
       "7       USGS  02319394        00060  26452         NaN     2008   2186.0   \n",
       "8       USGS  02319394        00060  26452         NaN     2009   2620.0   \n",
       "9       USGS  02319394        00060  26452         NaN     2012    784.3   \n",
       "10      USGS  02319394        00060  26452         NaN     2013   2929.0   \n",
       "11      USGS  02319394        00060  26452         NaN     2014   2847.0   \n",
       "12      USGS  02319394        00060  26452         NaN     2015   2258.0   \n",
       "13      USGS  02319394        00060  26452         NaN     2016   2125.0   \n",
       "14      USGS  02319394        00060  26452         NaN     2017   1215.0   \n",
       "15      USGS  02319394        00060  26452         NaN     2018   1961.0   \n",
       "16      USGS  02319394        00060  26452         NaN     2019   1684.0   \n",
       "17      USGS  02319394        00060  26452         NaN     2020   1665.0   \n",
       "18      USGS  02319394        00060  26452         NaN     2021   3582.0   \n",
       "19      USGS  02319394        00060  26452         NaN     2022   1801.0   \n",
       "\n",
       "    count_nu  \n",
       "0        365  \n",
       "1        365  \n",
       "2        365  \n",
       "3        366  \n",
       "4        365  \n",
       "5        365  \n",
       "6        365  \n",
       "7        366  \n",
       "8        365  \n",
       "9        366  \n",
       "10       365  \n",
       "11       365  \n",
       "12       365  \n",
       "13       366  \n",
       "14       365  \n",
       "15       365  \n",
       "16       365  \n",
       "17       366  \n",
       "18       365  \n",
       "19       365  "
      ]
     },
     "metadata": {},
     "output_type": "display_data"
    }
   ],
   "source": [
    "# Display the data frame as a table\n",
    "display(x1[0])"
   ]
  },
  {
   "cell_type": "markdown",
   "metadata": {},
   "source": [
    "Show the data types of the columns in the resulting data frame."
   ]
  },
  {
   "cell_type": "code",
   "execution_count": 5,
   "metadata": {
    "collapsed": false,
    "execution": {
     "iopub.execute_input": "2024-09-17T21:43:18.144540Z",
     "iopub.status.busy": "2024-09-17T21:43:18.144164Z",
     "iopub.status.idle": "2024-09-17T21:43:18.147513Z",
     "shell.execute_reply": "2024-09-17T21:43:18.147055Z"
    },
    "jupyter": {
     "outputs_hidden": false
    },
    "pycharm": {
     "name": "#%%\n"
    }
   },
   "outputs": [
    {
     "name": "stdout",
     "output_type": "stream",
     "text": [
      "agency_cd        object\n",
      "site_no          object\n",
      "parameter_cd     object\n",
      "ts_id             int64\n",
      "loc_web_ds      float64\n",
      "year_nu           int64\n",
      "mean_va         float64\n",
      "count_nu          int64\n",
      "dtype: object\n"
     ]
    }
   ],
   "source": [
    "print(x1[0].dtypes)"
   ]
  },
  {
   "cell_type": "markdown",
   "metadata": {},
   "source": [
    "Make a quick time series plot of the annual mean values."
   ]
  },
  {
   "cell_type": "code",
   "execution_count": 6,
   "metadata": {
    "collapsed": false,
    "execution": {
     "iopub.execute_input": "2024-09-17T21:43:18.149304Z",
     "iopub.status.busy": "2024-09-17T21:43:18.148972Z",
     "iopub.status.idle": "2024-09-17T21:43:18.486448Z",
     "shell.execute_reply": "2024-09-17T21:43:18.485775Z"
    },
    "jupyter": {
     "outputs_hidden": false
    },
    "pycharm": {
     "name": "#%%\n"
    }
   },
   "outputs": [
    {
     "data": {
      "text/plain": [
       "Text(0, 0.5, 'Annual mean discharge (cfs)')"
      ]
     },
     "execution_count": 6,
     "metadata": {},
     "output_type": "execute_result"
    },
    {
     "data": {
      "image/png": "[encoded data removed]",
      "text/plain": [
       "<Figure size 640x480 with 1 Axes>"
      ]
     },
     "metadata": {},
     "output_type": "display_data"
    }
   ],
   "source": [
    "ax = x1[0].plot(x='year_nu', y='mean_va')\n",
    "ax.xaxis.set_major_formatter(ticker.FormatStrFormatter('%d'))\n",
    "ax.set_xlabel('Year')\n",
    "ax.set_ylabel('Annual mean discharge (cfs)')"
   ]
  },
  {
   "cell_type": "markdown",
   "metadata": {},
   "source": [
    "The other part of the result returned from the `get_stats()` function is a metadata object that contains information about the query that was executed to return the data. For example, you can access the URL that was assembled to retrieve the requested data from the USGS web service. The USGS web service responses contain a descriptive header that defines and can be helpful in interpreting the contents of the response."
   ]
  },
  {
   "cell_type": "code",
   "execution_count": 7,
   "metadata": {
    "collapsed": false,
    "execution": {
     "iopub.execute_input": "2024-09-17T21:43:18.488514Z",
     "iopub.status.busy": "2024-09-17T21:43:18.488097Z",
     "iopub.status.idle": "2024-09-17T21:43:18.491104Z",
     "shell.execute_reply": "2024-09-17T21:43:18.490614Z"
    },
    "jupyter": {
     "outputs_hidden": false
    },
    "pycharm": {
     "name": "#%%\n"
    }
   },
   "outputs": [
    {
     "name": "stdout",
     "output_type": "stream",
     "text": [
      "The query URL used to retrieve the data from NWIS was: https://waterservices.usgs.gov/nwis/stat?sites=02319394&parameterCd=00060&statReportType=annual&format=rdb\n"
     ]
    }
   ],
   "source": [
    "print(\"The query URL used to retrieve the data from NWIS was: \" + x1[1].url)"
   ]
  },
  {
   "cell_type": "markdown",
   "metadata": {},
   "source": [
    "### Additional Examples"
   ]
  },
  {
   "cell_type": "markdown",
   "metadata": {
    "pycharm": {
     "name": "#%% md\n"
    }
   },
   "source": [
    "#### Example 2: Get all of the annual mean discharge data for two sites\n",
    "\n",
    "Note: Passing multiple parameters (temperature and flow) looks like it returns only what is available (in this example flow, 00060)"
   ]
  },
  {
   "cell_type": "code",
   "execution_count": 8,
   "metadata": {
    "collapsed": false,
    "execution": {
     "iopub.execute_input": "2024-09-17T21:43:18.492892Z",
     "iopub.status.busy": "2024-09-17T21:43:18.492541Z",
     "iopub.status.idle": "2024-09-17T21:43:19.232916Z",
     "shell.execute_reply": "2024-09-17T21:43:19.232303Z"
    },
    "jupyter": {
     "outputs_hidden": false
    },
    "pycharm": {
     "name": "#%%\n"
    }
   },
   "outputs": [
    {
     "data": {
      "text/html": [
       "<div>\n",
       "<style scoped>\n",
       "    .dataframe tbody tr th:only-of-type {\n",
       "        vertical-align: middle;\n",
       "    }\n",
       "\n",
       "    .dataframe tbody tr th {\n",
       "        vertical-align: top;\n",
       "    }\n",
       "\n",
       "    .dataframe thead th {\n",
       "        text-align: right;\n",
       "    }\n",
       "</style>\n",
       "<table border=\"1\" class=\"dataframe\">\n",
       "  <thead>\n",
       "    <tr style=\"text-align: right;\">\n",
       "      <th></th>\n",
       "      <th>agency_cd</th>\n",
       "      <th>site_no</th>\n",
       "      <th>parameter_cd</th>\n",
       "      <th>ts_id</th>\n",
       "      <th>loc_web_ds</th>\n",
       "      <th>year_nu</th>\n",
       "      <th>mean_va</th>\n",
       "      <th>count_nu</th>\n",
       "    </tr>\n",
       "  </thead>\n",
       "  <tbody>\n",
       "    <tr>\n",
       "      <th>0</th>\n",
       "      <td>USGS</td>\n",
       "      <td>02171500</td>\n",
       "      <td>00010</td>\n",
       "      <td>306223</td>\n",
       "      <td>NaN</td>\n",
       "      <td>2023</td>\n",
       "      <td>20.12</td>\n",
       "      <td>365</td>\n",
       "    </tr>\n",
       "    <tr>\n",
       "      <th>1</th>\n",
       "      <td>USGS</td>\n",
       "      <td>02171500</td>\n",
       "      <td>00060</td>\n",
       "      <td>125737</td>\n",
       "      <td>NaN</td>\n",
       "      <td>1943</td>\n",
       "      <td>3026.00</td>\n",
       "      <td>365</td>\n",
       "    </tr>\n",
       "    <tr>\n",
       "      <th>2</th>\n",
       "      <td>USGS</td>\n",
       "      <td>02171500</td>\n",
       "      <td>00060</td>\n",
       "      <td>125737</td>\n",
       "      <td>NaN</td>\n",
       "      <td>1944</td>\n",
       "      <td>3966.00</td>\n",
       "      <td>366</td>\n",
       "    </tr>\n",
       "    <tr>\n",
       "      <th>3</th>\n",
       "      <td>USGS</td>\n",
       "      <td>02171500</td>\n",
       "      <td>00060</td>\n",
       "      <td>125737</td>\n",
       "      <td>NaN</td>\n",
       "      <td>1945</td>\n",
       "      <td>2577.00</td>\n",
       "      <td>365</td>\n",
       "    </tr>\n",
       "    <tr>\n",
       "      <th>4</th>\n",
       "      <td>USGS</td>\n",
       "      <td>02171500</td>\n",
       "      <td>00060</td>\n",
       "      <td>125737</td>\n",
       "      <td>NaN</td>\n",
       "      <td>1946</td>\n",
       "      <td>3274.00</td>\n",
       "      <td>365</td>\n",
       "    </tr>\n",
       "    <tr>\n",
       "      <th>...</th>\n",
       "      <td>...</td>\n",
       "      <td>...</td>\n",
       "      <td>...</td>\n",
       "      <td>...</td>\n",
       "      <td>...</td>\n",
       "      <td>...</td>\n",
       "      <td>...</td>\n",
       "      <td>...</td>\n",
       "    </tr>\n",
       "    <tr>\n",
       "      <th>91</th>\n",
       "      <td>USGS</td>\n",
       "      <td>02319394</td>\n",
       "      <td>00060</td>\n",
       "      <td>26452</td>\n",
       "      <td>NaN</td>\n",
       "      <td>2018</td>\n",
       "      <td>1961.00</td>\n",
       "      <td>365</td>\n",
       "    </tr>\n",
       "    <tr>\n",
       "      <th>92</th>\n",
       "      <td>USGS</td>\n",
       "      <td>02319394</td>\n",
       "      <td>00060</td>\n",
       "      <td>26452</td>\n",
       "      <td>NaN</td>\n",
       "      <td>2019</td>\n",
       "      <td>1684.00</td>\n",
       "      <td>365</td>\n",
       "    </tr>\n",
       "    <tr>\n",
       "      <th>93</th>\n",
       "      <td>USGS</td>\n",
       "      <td>02319394</td>\n",
       "      <td>00060</td>\n",
       "      <td>26452</td>\n",
       "      <td>NaN</td>\n",
       "      <td>2020</td>\n",
       "      <td>1665.00</td>\n",
       "      <td>366</td>\n",
       "    </tr>\n",
       "    <tr>\n",
       "      <th>94</th>\n",
       "      <td>USGS</td>\n",
       "      <td>02319394</td>\n",
       "      <td>00060</td>\n",
       "      <td>26452</td>\n",
       "      <td>NaN</td>\n",
       "      <td>2021</td>\n",
       "      <td>3582.00</td>\n",
       "      <td>365</td>\n",
       "    </tr>\n",
       "    <tr>\n",
       "      <th>95</th>\n",
       "      <td>USGS</td>\n",
       "      <td>02319394</td>\n",
       "      <td>00060</td>\n",
       "      <td>26452</td>\n",
       "      <td>NaN</td>\n",
       "      <td>2022</td>\n",
       "      <td>1801.00</td>\n",
       "      <td>365</td>\n",
       "    </tr>\n",
       "  </tbody>\n",
       "</table>\n",
       "<p>96 rows × 8 columns</p>\n",
       "</div>"
      ],
      "text/plain": [
       "   agency_cd   site_no parameter_cd   ts_id  loc_web_ds  year_nu  mean_va  \\\n",
       "0       USGS  02171500        00010  306223         NaN     2023    20.12   \n",
       "1       USGS  02171500        00060  125737         NaN     1943  3026.00   \n",
       "2       USGS  02171500        00060  125737         NaN     1944  3966.00   \n",
       "3       USGS  02171500        00060  125737         NaN     1945  2577.00   \n",
       "4       USGS  02171500        00060  125737         NaN     1946  3274.00   \n",
       "..       ...       ...          ...     ...         ...      ...      ...   \n",
       "91      USGS  02319394        00060   26452         NaN     2018  1961.00   \n",
       "92      USGS  02319394        00060   26452         NaN     2019  1684.00   \n",
       "93      USGS  02319394        00060   26452         NaN     2020  1665.00   \n",
       "94      USGS  02319394        00060   26452         NaN     2021  3582.00   \n",
       "95      USGS  02319394        00060   26452         NaN     2022  1801.00   \n",
       "\n",
       "    count_nu  \n",
       "0        365  \n",
       "1        365  \n",
       "2        366  \n",
       "3        365  \n",
       "4        365  \n",
       "..       ...  \n",
       "91       365  \n",
       "92       365  \n",
       "93       366  \n",
       "94       365  \n",
       "95       365  \n",
       "\n",
       "[96 rows x 8 columns]"
      ]
     },
     "metadata": {},
     "output_type": "display_data"
    }
   ],
   "source": [
    "x2 = nwis.get_stats(sites=[\"02319394\", \"02171500\"], parameterCd=[\"00010\", \"00060\"],\n",
    "                    statReportType=\"annual\")\n",
    "display(x2[0])"
   ]
  },
  {
   "cell_type": "markdown",
   "metadata": {
    "pycharm": {
     "name": "#%% md\n"
    }
   },
   "source": [
    "#### Example 3: Request daily mean and median values for temperature and discharge for a site for years between 2000 and 2007\n",
    "\n",
    "NOTE: The startDt and endDt parameters are not directly supported by this function but are turned into query parameters in the request to USGS NWIS, which means that they can be used to limit the time window requested."
   ]
  },
  {
   "cell_type": "code",
   "execution_count": 9,
   "metadata": {
    "collapsed": false,
    "execution": {
     "iopub.execute_input": "2024-09-17T21:43:19.235019Z",
     "iopub.status.busy": "2024-09-17T21:43:19.234596Z",
     "iopub.status.idle": "2024-09-17T21:43:19.370763Z",
     "shell.execute_reply": "2024-09-17T21:43:19.370138Z"
    },
    "jupyter": {
     "outputs_hidden": false
    },
    "pycharm": {
     "name": "#%%\n"
    }
   },
   "outputs": [
    {
     "data": {
      "text/html": [
       "<div>\n",
       "<style scoped>\n",
       "    .dataframe tbody tr th:only-of-type {\n",
       "        vertical-align: middle;\n",
       "    }\n",
       "\n",
       "    .dataframe tbody tr th {\n",
       "        vertical-align: top;\n",
       "    }\n",
       "\n",
       "    .dataframe thead th {\n",
       "        text-align: right;\n",
       "    }\n",
       "</style>\n",
       "<table border=\"1\" class=\"dataframe\">\n",
       "  <thead>\n",
       "    <tr style=\"text-align: right;\">\n",
       "      <th></th>\n",
       "      <th>agency_cd</th>\n",
       "      <th>site_no</th>\n",
       "      <th>parameter_cd</th>\n",
       "      <th>ts_id</th>\n",
       "      <th>loc_web_ds</th>\n",
       "      <th>month_nu</th>\n",
       "      <th>day_nu</th>\n",
       "      <th>begin_yr</th>\n",
       "      <th>end_yr</th>\n",
       "      <th>count_nu</th>\n",
       "      <th>mean_va</th>\n",
       "      <th>p50_va</th>\n",
       "    </tr>\n",
       "  </thead>\n",
       "  <tbody>\n",
       "    <tr>\n",
       "      <th>0</th>\n",
       "      <td>USGS</td>\n",
       "      <td>02171500</td>\n",
       "      <td>00010</td>\n",
       "      <td>306223</td>\n",
       "      <td>NaN</td>\n",
       "      <td>1</td>\n",
       "      <td>1</td>\n",
       "      <td>2006</td>\n",
       "      <td>2006</td>\n",
       "      <td>1</td>\n",
       "      <td>9.5</td>\n",
       "      <td>9.5</td>\n",
       "    </tr>\n",
       "    <tr>\n",
       "      <th>1</th>\n",
       "      <td>USGS</td>\n",
       "      <td>02171500</td>\n",
       "      <td>00010</td>\n",
       "      <td>306223</td>\n",
       "      <td>NaN</td>\n",
       "      <td>1</td>\n",
       "      <td>2</td>\n",
       "      <td>2006</td>\n",
       "      <td>2006</td>\n",
       "      <td>1</td>\n",
       "      <td>9.7</td>\n",
       "      <td>9.7</td>\n",
       "    </tr>\n",
       "    <tr>\n",
       "      <th>2</th>\n",
       "      <td>USGS</td>\n",
       "      <td>02171500</td>\n",
       "      <td>00010</td>\n",
       "      <td>306223</td>\n",
       "      <td>NaN</td>\n",
       "      <td>1</td>\n",
       "      <td>3</td>\n",
       "      <td>2006</td>\n",
       "      <td>2006</td>\n",
       "      <td>1</td>\n",
       "      <td>10.3</td>\n",
       "      <td>10.3</td>\n",
       "    </tr>\n",
       "    <tr>\n",
       "      <th>3</th>\n",
       "      <td>USGS</td>\n",
       "      <td>02171500</td>\n",
       "      <td>00010</td>\n",
       "      <td>306223</td>\n",
       "      <td>NaN</td>\n",
       "      <td>1</td>\n",
       "      <td>4</td>\n",
       "      <td>2006</td>\n",
       "      <td>2006</td>\n",
       "      <td>1</td>\n",
       "      <td>10.1</td>\n",
       "      <td>10.1</td>\n",
       "    </tr>\n",
       "    <tr>\n",
       "      <th>4</th>\n",
       "      <td>USGS</td>\n",
       "      <td>02171500</td>\n",
       "      <td>00010</td>\n",
       "      <td>306223</td>\n",
       "      <td>NaN</td>\n",
       "      <td>1</td>\n",
       "      <td>5</td>\n",
       "      <td>2006</td>\n",
       "      <td>2006</td>\n",
       "      <td>1</td>\n",
       "      <td>10.3</td>\n",
       "      <td>10.3</td>\n",
       "    </tr>\n",
       "    <tr>\n",
       "      <th>...</th>\n",
       "      <td>...</td>\n",
       "      <td>...</td>\n",
       "      <td>...</td>\n",
       "      <td>...</td>\n",
       "      <td>...</td>\n",
       "      <td>...</td>\n",
       "      <td>...</td>\n",
       "      <td>...</td>\n",
       "      <td>...</td>\n",
       "      <td>...</td>\n",
       "      <td>...</td>\n",
       "      <td>...</td>\n",
       "    </tr>\n",
       "    <tr>\n",
       "      <th>708</th>\n",
       "      <td>USGS</td>\n",
       "      <td>02171500</td>\n",
       "      <td>00060</td>\n",
       "      <td>125737</td>\n",
       "      <td>NaN</td>\n",
       "      <td>12</td>\n",
       "      <td>27</td>\n",
       "      <td>2001</td>\n",
       "      <td>2008</td>\n",
       "      <td>8</td>\n",
       "      <td>631.0</td>\n",
       "      <td>628.0</td>\n",
       "    </tr>\n",
       "    <tr>\n",
       "      <th>709</th>\n",
       "      <td>USGS</td>\n",
       "      <td>02171500</td>\n",
       "      <td>00060</td>\n",
       "      <td>125737</td>\n",
       "      <td>NaN</td>\n",
       "      <td>12</td>\n",
       "      <td>28</td>\n",
       "      <td>2001</td>\n",
       "      <td>2008</td>\n",
       "      <td>8</td>\n",
       "      <td>616.0</td>\n",
       "      <td>626.0</td>\n",
       "    </tr>\n",
       "    <tr>\n",
       "      <th>710</th>\n",
       "      <td>USGS</td>\n",
       "      <td>02171500</td>\n",
       "      <td>00060</td>\n",
       "      <td>125737</td>\n",
       "      <td>NaN</td>\n",
       "      <td>12</td>\n",
       "      <td>29</td>\n",
       "      <td>2001</td>\n",
       "      <td>2008</td>\n",
       "      <td>8</td>\n",
       "      <td>605.0</td>\n",
       "      <td>624.0</td>\n",
       "    </tr>\n",
       "    <tr>\n",
       "      <th>711</th>\n",
       "      <td>USGS</td>\n",
       "      <td>02171500</td>\n",
       "      <td>00060</td>\n",
       "      <td>125737</td>\n",
       "      <td>NaN</td>\n",
       "      <td>12</td>\n",
       "      <td>30</td>\n",
       "      <td>2001</td>\n",
       "      <td>2008</td>\n",
       "      <td>8</td>\n",
       "      <td>610.0</td>\n",
       "      <td>629.0</td>\n",
       "    </tr>\n",
       "    <tr>\n",
       "      <th>712</th>\n",
       "      <td>USGS</td>\n",
       "      <td>02171500</td>\n",
       "      <td>00060</td>\n",
       "      <td>125737</td>\n",
       "      <td>NaN</td>\n",
       "      <td>12</td>\n",
       "      <td>31</td>\n",
       "      <td>2001</td>\n",
       "      <td>2008</td>\n",
       "      <td>7</td>\n",
       "      <td>589.0</td>\n",
       "      <td>621.0</td>\n",
       "    </tr>\n",
       "  </tbody>\n",
       "</table>\n",
       "<p>713 rows × 12 columns</p>\n",
       "</div>"
      ],
      "text/plain": [
       "    agency_cd   site_no parameter_cd   ts_id  loc_web_ds  month_nu  day_nu  \\\n",
       "0        USGS  02171500        00010  306223         NaN         1       1   \n",
       "1        USGS  02171500        00010  306223         NaN         1       2   \n",
       "2        USGS  02171500        00010  306223         NaN         1       3   \n",
       "3        USGS  02171500        00010  306223         NaN         1       4   \n",
       "4        USGS  02171500        00010  306223         NaN         1       5   \n",
       "..        ...       ...          ...     ...         ...       ...     ...   \n",
       "708      USGS  02171500        00060  125737         NaN        12      27   \n",
       "709      USGS  02171500        00060  125737         NaN        12      28   \n",
       "710      USGS  02171500        00060  125737         NaN        12      29   \n",
       "711      USGS  02171500        00060  125737         NaN        12      30   \n",
       "712      USGS  02171500        00060  125737         NaN        12      31   \n",
       "\n",
       "     begin_yr  end_yr  count_nu  mean_va  p50_va  \n",
       "0        2006    2006         1      9.5     9.5  \n",
       "1        2006    2006         1      9.7     9.7  \n",
       "2        2006    2006         1     10.3    10.3  \n",
       "3        2006    2006         1     10.1    10.1  \n",
       "4        2006    2006         1     10.3    10.3  \n",
       "..        ...     ...       ...      ...     ...  \n",
       "708      2001    2008         8    631.0   628.0  \n",
       "709      2001    2008         8    616.0   626.0  \n",
       "710      2001    2008         8    605.0   624.0  \n",
       "711      2001    2008         8    610.0   629.0  \n",
       "712      2001    2008         7    589.0   621.0  \n",
       "\n",
       "[713 rows x 12 columns]"
      ]
     },
     "metadata": {},
     "output_type": "display_data"
    }
   ],
   "source": [
    "x3 = nwis.get_stats(sites=\"02171500\", parameterCd=[\"00010\", \"00060\"],\n",
    "                    statReportType=\"daily\", statTypeCd=[\"mean\", \"median\"],\n",
    "                    startDt=\"2000\", endDt=\"2007\")\n",
    "display(x3[0])"
   ]
  },
  {
   "cell_type": "code",
   "execution_count": null,
   "metadata": {},
   "outputs": [],
   "source": []
  }
 ],
 "metadata": {
  "kernelspec": {
   "display_name": "Python 3 (ipykernel)",
   "language": "python",
   "name": "python3"
  },
  "language_info": {
   "codemirror_mode": {
    "name": "ipython",
    "version": 3
   },
   "file_extension": ".py",
   "mimetype": "text/x-python",
   "name": "python",
   "nbconvert_exporter": "python",
   "pygments_lexer": "ipython3",
   "version": "3.10.12"
  }
 },
 "nbformat": 4,
 "nbformat_minor": 4
}
