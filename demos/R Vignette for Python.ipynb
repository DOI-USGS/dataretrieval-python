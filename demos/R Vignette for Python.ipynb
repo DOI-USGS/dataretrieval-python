{
 "cells": [
  {
   "cell_type": "code",
   "execution_count": 1,
   "metadata": {
    "pycharm": {
     "is_executing": false
    }
   },
   "outputs": [],
   "source": [
    "#! pip install --upgrade git+https://github.com/sblack-usu/dataretrieval\n",
    "from dataretrieval import nwis"
   ]
  },
  {
   "cell_type": "markdown",
   "metadata": {},
   "source": [
    "The dataRetrieval package was created to simplify the process of loading hydrologic data into the R environment. It is designed to retrieve the major data types of U.S. Geological Survey (USGS) hydrologic data that are available on the Web, as well as data from the Water Quality Portal (WQP), which currently houses water quality data from the Environmental Protection Agency (EPA), U.S. Department of Agriculture (USDA), and USGS. Direct USGS data is obtained from a service called the National Water Information System (NWIS).\n",
    "\n",
    "For information on getting started in R and installing the package, see Getting Started. Any use of trade, firm, or product names is for descriptive purposes only and does not imply endorsement by the U.S. Government.\n",
    "\n",
    "A quick workflow for USGS dataRetrieval functions:"
   ]
  },
  {
   "cell_type": "code",
   "execution_count": 2,
   "metadata": {
    "pycharm": {
     "is_executing": false
    }
   },
   "outputs": [],
   "source": [
    "'''\n",
    "library(dataRetrieval)\n",
    "# Choptank River near Greensboro, MD\n",
    "siteNumber <- \"01491000\" \n",
    "ChoptankInfo <- readNWISsite(siteNumber)\n",
    "parameterCd <- \"00060\"\n",
    "\n",
    "#Raw daily data:\n",
    "rawDailyData <- readNWISdv(siteNumber,parameterCd,\n",
    "                      \"1980-01-01\",\"2010-01-01\")\n",
    "\n",
    "# Sample data Nitrate:\n",
    "parameterCd <- \"00618\"\n",
    "qwData <- readNWISqw(siteNumber,parameterCd,\n",
    "                      \"1980-01-01\",\"2010-01-01\")\n",
    "\n",
    "pCode <- readNWISpCode(parameterCd)\n",
    "'''\n",
    "\n",
    "# Choptank River near Greensboro, MD\n",
    "siteNumber = '01491000'\n",
    "chop_tank_info = nwis.get_record(sites=siteNumber, service='site')\n",
    "parameterCd = '00060'\n",
    "\n",
    "# raw daily data\n",
    "rawDailyData = nwis.get_record(sites=siteNumber, service='dv', parameterCd=parameterCd, start=\"1980-01-01\", end=\"2010-01-01\")\n",
    "\n",
    "# sample data Nitrate:\n",
    "parameterCd = \"00618\"\n",
    "qwData = nwis.get_record(sites=siteNumber, service='qwdata', parameterCd=parameterCd, start=\"1980-01-01\", end=\"2010-01-01\")\n",
    "\n",
    "pCode = nwis.get_record(service='pmcodes', parameterCd=parameterCd)"
   ]
  },
  {
   "cell_type": "markdown",
   "metadata": {},
   "source": [
    "TODO - table of dataretrieval functions"
   ]
  },
  {
   "cell_type": "markdown",
   "metadata": {},
   "source": [
    "# USGS Web Retrievals TODO link up or remove links\n",
    "\n",
    "In this section, examples of National Water Information System (NWIS) retrievals show how to get raw data into R. This data includes [site information](#site-information), measured [parameter information](#parameter-information), historical [daily values](#daily-data), [unit values](#unit-data) (which include real-time data but can also include other sensor data stored at regular time intervals), [water quality data](#water-quality-data), [groundwater level data](#groundwater-level-data), [peak flow data](#peak-flow-data), [rating curve data](#rating-curve-data),  [surface-water measurement data](#surface-water-measurement-data), [water use data](#water-use-data), and [statistics data](#statistics-data). The section [Embedded Metadata](#embedded-metadata) shows instructions for getting metadata that is attached to each returned data frame.\n",
    "\n",
    "The USGS organizes hydrologic data in a standard structure.  Streamgages are located throughout the United States, and each streamgage has a unique ID (referred in this document and throughout the `dataRetrieval` package as `siteNumber`).  Often (but not always), these ID's are 8 digits for surface-water sites and 15 digits for groundwater sites.  The first step to finding data is discovering this `siteNumber`. There are many ways to do this, one is the [National Water Information System: Mapper](https://maps.waterdata.usgs.gov/mapper/index.html).\n",
    "\n",
    "Once the `siteNumber` is known, the next required input for USGS data retrievals is the \"parameter code\".  This is a 5-digit code that specifies the measured parameter being requested.  For example, parameter code 00631 represents \"Nitrate plus nitrite, water, filtered, milligrams per liter as nitrogen\", with units of \"mg/l as N\". \n",
    "\n",
    "Not every station will measure all parameters. A short list of commonly measured parameters is shown in Table 2.\n",
    "\n",
    "### TODO table here\n",
    "\n",
    "Two output columns that may not be obvious are \"srsname\" and \"casrn\". Srsname stands for \"Substance Registry Services\". More information on the srs name can be found [here](http://ofmpub.epa.gov/sor_internet/registry/substreg/home/overview/home.do).\n",
    "\n",
    "Casrn stands for \"Chemical Abstracts Service (CAS) Registry Number\". More information on CAS can be found [here](http://www.cas.org/content/chemical-substances/faqs).\n",
    "\n",
    "For unit values data (sensor data measured at regular time intervals such as 15 minutes or hourly), knowing the parameter code and `siteNumber` is enough to make a request for data.  For most variables that are measured on a continuous basis, the USGS also stores the historical data as daily values.  These daily values are statistical summaries of the continuous data, e.g. maximum, minimum, mean, or median. The different statistics are specified by a 5-digit statistics code.  \n",
    "\n",
    "Some common codes are shown in Table 3.\n",
    "\n",
    "### TODO table here\n",
    "\n",
    "Examples for using these site numbers, parameter codes, and statistic codes will be presented in subsequent sections.\n",
    "\n",
    "There are occasions where NWIS values are not reported as numbers, instead there might be text describing a certain event such as “Ice”. Any value that cannot be converted to a number will be reported as NA in this package (not including remark code columns), unless the user sets an argument convertType to FALSE. In that case, the data is returned as a data frame that is entirely character columns."
   ]
  },
  {
   "cell_type": "markdown",
   "metadata": {},
   "source": [
    "## Site Information\n",
    "\n",
    "\n",
    "### readNWISsite\n",
    "\n",
    "Use the `readNWISsite` function to obtain all of the information available for a particular USGS site (or sites) such as full station name, drainage area, latitude, and longitude. `readNWISsite` can also access information about multiple sites with a vector input."
   ]
  },
  {
   "cell_type": "code",
   "execution_count": 3,
   "metadata": {},
   "outputs": [],
   "source": [
    "'''{r getSite, echo=TRUE, eval=FALSE}\n",
    "siteNumbers <- c(\"01491000\",\"01645000\") \n",
    "siteINFO <- readNWISsite(siteNumbers)\n",
    "'''\n",
    "siteNumbers = [\"01491000\",\"01645000\"]\n",
    "siteINFO = nwis.get_record(sites=siteNumbers)"
   ]
  },
  {
   "cell_type": "markdown",
   "metadata": {},
   "source": [
    "Site information is obtained from:\n",
    "[https://waterservices.usgs.gov/rest/Site-Test-Tool.html](https://waterservices.usgs.gov/rest/Site-Test-Tool.html)\n",
    "\n",
    "Information on the returned data can be found with the `comment` function as described in the [Metadata](#embedded-metadata) section.\n"
   ]
  },
  {
   "cell_type": "code",
   "execution_count": null,
   "metadata": {},
   "outputs": [],
   "source": [
    "'''comment(siteINFO)'''\n",
    "#TODO implement Metadata"
   ]
  },
  {
   "cell_type": "markdown",
   "metadata": {},
   "source": [
    "### whatNWISdata\n",
    "\n",
    "To discover what data is available for a particular USGS site, including measured parameters, period of record, and number of samples (count), use the `whatNWISdata` function. It is possible to limit the retrieval information to a subset of services. The possible choices for services are: \"dv\" (daily values), \"uv\", or \"iv\" (unit values), \"qw\" (water-quality), \"sv\" (sites visits), \"pk\" (peak measurements), \"gw\" (groundwater levels), \"ad\" (sites included in USGS Annual Water Data Reports External Link), \"aw\" (sites monitored by the USGS Active Groundwater Level Network External Link), and \"id\" (historical instantaneous values).\n",
    "\n",
    "In the following example, we limit the retrieved data to only daily data. The default for \"service\" is `all`, which returns all of the available data for that site. Likewise, there are arguments for parameter code (`parameterCd`) and statistic code (`statCd`) to filter the results. The default for both is to return all possible values (`all`). The returned `count_nu` for \"uv\" data is the count of days with returned data, not the actual count of returned values.\n"
   ]
  },
  {
   "cell_type": "code",
   "execution_count": null,
   "metadata": {},
   "outputs": [],
   "source": [
    "'''\n",
    "# Continuing from the previous example:\n",
    "# This pulls out just the daily, mean data:\n",
    "dailyDataAvailable <- whatNWISdata(siteNumbers,\n",
    "                    service=\"dv\", statCd=\"00003\")\n",
    "'''\n",
    "\n",
    "dailyDataAvailable = nwis.get_record(sites=siteNumbers, service=\"dv\", statCd=\"00003\")"
   ]
  },
  {
   "cell_type": "markdown",
   "metadata": {},
   "source": [
    "### TODO build table\n"
   ]
  },
  {
   "cell_type": "markdown",
   "metadata": {},
   "source": [
    "## Parameter Information\n",
    "\n",
    "To obtain all of the available information concerning a measured parameter (or multiple parameters), use the `readNWISpCode` function:\n"
   ]
  },
  {
   "cell_type": "code",
   "execution_count": 5,
   "metadata": {
    "pycharm": {
     "is_executing": false
    }
   },
   "outputs": [
    {
     "data": {
      "text/plain": "   parameter_cd parameter_group_nm       casrn  srsname parameter_units\n0           618           Nutrient  14797-55-8  Nitrate       mg/l as N",
      "text/html": "<div>\n<style scoped>\n    .dataframe tbody tr th:only-of-type {\n        vertical-align: middle;\n    }\n\n    .dataframe tbody tr th {\n        vertical-align: top;\n    }\n\n    .dataframe thead th {\n        text-align: right;\n    }\n</style>\n<table border=\"1\" class=\"dataframe\">\n  <thead>\n    <tr style=\"text-align: right;\">\n      <th></th>\n      <th>parameter_cd</th>\n      <th>parameter_group_nm</th>\n      <th>casrn</th>\n      <th>srsname</th>\n      <th>parameter_units</th>\n    </tr>\n  </thead>\n  <tbody>\n    <tr>\n      <th>0</th>\n      <td>618</td>\n      <td>Nutrient</td>\n      <td>14797-55-8</td>\n      <td>Nitrate</td>\n      <td>mg/l as N</td>\n    </tr>\n  </tbody>\n</table>\n</div>"
     },
     "metadata": {},
     "output_type": "execute_result",
     "execution_count": 5
    }
   ],
   "source": [
    "'''\n",
    "# Using defaults:\n",
    "parameterCd <- \"00618\" \n",
    "parameterINFO <- readNWISpCode(parameterCd)\n",
    "'''\n",
    "\n",
    "pCode = nwis.get_record(service='pmcodes', parameterCd=\"00618\")"
   ]
  },
  {
   "cell_type": "markdown",
   "metadata": {},
   "source": [
    "## Daily Data\n",
    "\n",
    "To obtain daily records of USGS data, use the `readNWISdv` function. The arguments for this function are `siteNumber`, `parameterCd`, `startDate`, `endDate`, and `statCd` (defaults to \"00003\").  If you want to use the default values, you do not need to list them in the function call. Daily data is pulled from [https://waterservices.usgs.gov/rest/DV-Test-Tool.html](https://waterservices.usgs.gov/rest/DV-Test-Tool.html).\n",
    "\n",
    "The dates (start and end) must be in the format \"YYYY-MM-DD\" (note: the user must include the quotes).  Setting the start date to \"\" (no space) will prompt the program to ask for the earliest date, and setting the end date to \"\" (no space) will prompt for the latest available date.\n"
   ]
  },
  {
   "cell_type": "code",
   "execution_count": 10,
   "metadata": {},
   "outputs": [],
   "source": [
    "'''\n",
    "# Choptank River near Greensboro, MD:\n",
    "siteNumber <- \"01491000\"\n",
    "parameterCd <- \"00060\"  # Discharge\n",
    "startDate <- \"2009-10-01\"  \n",
    "endDate <- \"2012-09-30\" \n",
    "\n",
    "discharge <- readNWISdv(siteNumber, \n",
    "                    parameterCd, startDate, endDate)\n",
    "'''\n",
    "# Choptank River near Greensboro, MD:\n",
    "siteNumber = \"01491000\"\n",
    "parameterCd = \"00060\"  # Discharge\n",
    "startDate = \"2009-10-01\"  \n",
    "endDate = \"2012-09-30\" \n",
    "\n",
    "discharge = nwis.get_record(sites=siteNumber, service='dv',\n",
    "                    parameterCd=parameterCd, start=startDate, end=endDate)"
   ]
  },
  {
   "cell_type": "markdown",
   "metadata": {},
   "source": [
    "The column \"datetime\" in the returned data frame is automatically imported as a variable of class \"Date\" in R. Each requested parameter has a value and remark code column.  The names of these columns depend on the requested parameter and stat code combinations. USGS daily value qualification codes are often \"A\" (approved for publication) or \"P\" (provisional data subject to revision). \n",
    "\n",
    "Another example would be a request for mean and maximum daily temperature and discharge in early 2012:\n"
   ]
  },
  {
   "cell_type": "code",
   "execution_count": null,
   "metadata": {},
   "outputs": [],
   "source": [
    "'''\n",
    "siteNumber <- \"01491000\"\n",
    "parameterCd <- c(\"00010\",\"00060\")  # Temperature and discharge\n",
    "statCd <- c(\"00001\",\"00003\")  # Mean and maximum\n",
    "startDate <- \"2012-01-01\"\n",
    "endDate <- \"2012-05-01\"\n",
    "\n",
    "temperatureAndFlow <- readNWISdv(siteNumber, parameterCd, \n",
    "        startDate, endDate, statCd=statCd)\n",
    "'''\n",
    "siteNumber = \"01491000\"\n",
    "parameterCd = [\"00010\",\"00060\"]  # Temperature and discharge\n",
    "statCd = [\"00001\",\"00003\"]  # Mean and maximum\n",
    "startDate = \"2012-01-01\"\n",
    "endDate = \"2012-05-01\"\n",
    "\n",
    "temperatureAndFlow = nwis.get_record(sites=siteNumber, service='dv', parameterCd=parameterCd, \n",
    "        start=startDate, end=endDate, statCd=statCd)"
   ]
  },
  {
   "cell_type": "markdown",
   "metadata": {},
   "source": [
    "The column names can be shortened and simplified using the `renameNWISColumns` function.  This is not necessary, but may streamline subsequent data analysis and presentation. Site information, daily statistic information, and measured parameter information is attached to the data frame as attributes. This is discussed further in the [metadata](#embedded-metadata) section."
   ]
  },
  {
   "cell_type": "code",
   "execution_count": null,
   "metadata": {},
   "outputs": [],
   "source": [
    "'''names(temperatureAndFlow)'''\n",
    "# tODO metadata"
   ]
  },
  {
   "cell_type": "code",
   "execution_count": null,
   "metadata": {},
   "outputs": [],
   "source": [
    "'''temperatureAndFlow <- renameNWISColumns(temperatureAndFlow)\n",
    "names(temperatureAndFlow)'''\n",
    "## todo metadata and rename"
   ]
  },
  {
   "cell_type": "code",
   "execution_count": null,
   "metadata": {},
   "outputs": [],
   "source": [
    "'''\n",
    "#Information about the data frame attributes:\n",
    "names(attributes(temperatureAndFlow))\n",
    "'''\n",
    "# todo metadata attributes"
   ]
  },
  {
   "cell_type": "code",
   "execution_count": null,
   "metadata": {},
   "outputs": [],
   "source": [
    "'''\n",
    "statInfo <- attr(temperatureAndFlow, \"statisticInfo\")\n",
    "variableInfo <- attr(temperatureAndFlow, \"variableInfo\")\n",
    "siteInfo <- attr(temperatureAndFlow, \"siteInfo\")\n",
    "'''\n",
    "# todo attr"
   ]
  },
  {
   "cell_type": "code",
   "execution_count": null,
   "metadata": {},
   "outputs": [],
   "source": [
    "'''\n",
    "variableInfo <- attr(temperatureAndFlow, \"variableInfo\")\n",
    "siteInfo <- attr(temperatureAndFlow, \"siteInfo\")\n",
    "\n",
    "par(mar=c(5,5,5,5)) #sets the size of the plot window\n",
    "\n",
    "plot(temperatureAndFlow$Date, temperatureAndFlow$Wtemp_Max,\n",
    "  ylab=variableInfo$parameter_desc[1],xlab=\"\" )\n",
    "par(new=TRUE)\n",
    "plot(temperatureAndFlow$Date, temperatureAndFlow$Flow,\n",
    "  col=\"red\",type=\"l\",xaxt=\"n\",yaxt=\"n\",xlab=\"\",ylab=\"\",axes=FALSE\n",
    "  )\n",
    "axis(4,col=\"red\",col.axis=\"red\")\n",
    "mtext(variableInfo$parameter_desc[2],side=4,line=3,col=\"red\")\n",
    "title(paste(siteInfo$station_nm,\"2012\"))\n",
    "legend(\"topleft\", variableInfo$param_units, \n",
    "       col=c(\"black\",\"red\"),lty=c(NA,1),pch=c(1,NA))\n",
    "'''"
   ]
  },
  {
   "cell_type": "markdown",
   "metadata": {},
   "source": [
    "## Unit Data\n",
    "\n",
    "Any data collected at regular time intervals (such as 15-minute or hourly) are known as \"unit values\". Many of these are delivered on a real time basis and very recent data (even less than an hour old in many cases) are available through the function `readNWISuv`.  Some of these unit values are available for many years, and some are only available for a recent time period such as 120 days.  Here is an example of a retrieval of such data.  \n"
   ]
  },
  {
   "cell_type": "code",
   "execution_count": 12,
   "metadata": {},
   "outputs": [],
   "source": [
    "'''\n",
    "parameterCd <- \"00060\"  # Discharge\n",
    "startDate <- \"2012-05-12\" \n",
    "endDate <- \"2012-05-13\" \n",
    "dischargeUnit <- readNWISuv(siteNumber, parameterCd, \n",
    "        startDate, endDate)\n",
    "dischargeUnit <- renameNWISColumns(dischargeUnit)\n",
    "'''\n",
    "siteNumber = \"01491000\"\n",
    "parameterCd = \"00060\"  # Discharge\n",
    "startDate = \"2012-05-12\" \n",
    "endDate = \"2012-05-13\" \n",
    "dischargeUnit = nwis.get_record(sites=siteNumber, service='iv', parameterCd=parameterCd, \n",
    "        start=startDate, end=endDate)\n",
    "# TODO rename\n",
    "#dischargeUnit <- renameNWISColumns(dischargeUnit)"
   ]
  },
  {
   "cell_type": "markdown",
   "metadata": {},
   "source": [
    "The retrieval produces a data frame that contains 96 rows (one for every 15 minute period in the day). They include all data collected from the startDate through the endDate (starting and ending with midnight locally-collected time). The dateTime column is converted to UTC (Coordinated Universal Time), so midnight EST will be 5 hours earlier in the dateTime column (the previous day, at 7pm).\n",
    "\n",
    "To override the UTC timezone, specify a valid timezone in the tz argument. Default is \"\", which will keep the dateTime column in UTC. Other valid timezones are:\n",
    "```\n",
    "America/New_York\n",
    "America/Chicago\n",
    "America/Denver\n",
    "America/Los_Angeles\n",
    "America/Anchorage\n",
    "America/Honolulu\n",
    "America/Jamaica\n",
    "America/Managua\n",
    "America/Phoenix\n",
    "America/Metlakatla\n",
    "```"
   ]
  },
  {
   "cell_type": "markdown",
   "metadata": {},
   "source": [
    "Data are retrieved from [https://waterservices.usgs.gov/rest/IV-Test-Tool.html](https://waterservices.usgs.gov/rest/IV-Test-Tool.html). There are occasions where NWIS values are not reported as numbers, instead a common example is \"Ice\".  Any value that cannot be converted to a number will be reported as NA in this package. Site information and measured parameter information is attached to the data frame as attributes. This is discussed further in [metadata](#embedded-metadata) section.\n"
   ]
  },
  {
   "cell_type": "markdown",
   "metadata": {},
   "source": [
    "## Water Quality Data\n",
    "\n",
    "To get USGS water quality data from water samples collected at the streamgage or other monitoring site (as distinct from unit values collected through some type of automatic monitor) we can use the function `readNWISqw`, with the input arguments: `siteNumber`, `parameterCd`, `startDate`, and `endDate`. Additionally, the argument `expanded` is a logical input that allows the user to choose between a simple return of datetimes/qualifier/values (`expanded=FALSE`), or a more complete and verbose output (`expanded=TRUE`). `expanded = TRUE` includes such columns as remark codes, value qualifying text, and detection level for each parameter code. There also includes an argument \"reshape\", that converts the expanded dataset to a \"wide\" format (each requested parameter code gets individual columns). The defaults are `expanded=TRUE`, and `reshape=FALSE`. \n"
   ]
  },
  {
   "cell_type": "code",
   "execution_count": 6,
   "metadata": {
    "pycharm": {
     "is_executing": false
    }
   },
   "outputs": [
    {
     "data": {
      "text/plain": "'dfWide = readNWISqw(siteNumber, parameterCd,\\n      startDate, endDate, reshape=TRUE)\\n      # TODO reshape\\n'"
     },
     "metadata": {},
     "output_type": "execute_result",
     "execution_count": 6
    }
   ],
   "source": [
    "'''\n",
    "# Dissolved Nitrate parameter codes:\n",
    "parameterCd <- c(\"00618\",\"71851\")\n",
    "startDate <- \"1985-10-01\"\n",
    "endDate <- \"2012-09-30\"\n",
    "dfLong <- readNWISqw(siteNumber, parameterCd, \n",
    "      startDate, endDate)\n",
    "# Or the wide return:\n",
    "dfWide <- readNWISqw(siteNumber, parameterCd,\n",
    "      startDate, endDate, reshape=TRUE)\n",
    "'''\n",
    "siteNumber = \"01491000\"\n",
    "parameterCd = [\"00618\",\"71851\"]\n",
    "startDate = \"1985-10-01\"\n",
    "endDate = \"2012-09-30\"\n",
    "dfLong = nwis.get_record(sites=siteNumber, service='qwdata', parameterCd=parameterCd, \n",
    "      start=startDate, end=endDate)\n",
    "# Or the wide return:\n",
    "'''dfWide = readNWISqw(siteNumber, parameterCd,\n",
    "      startDate, endDate, reshape=TRUE)\n",
    "      # TODO reshape\n",
    "'''"
   ]
  },
  {
   "cell_type": "markdown",
   "metadata": {},
   "source": [
    "Site information and measured parameter information is attached to the data frame as attributes. This is discussed further in the [metadata](#embedded-metadata) section. Additional metadata, such as information about the column names can be found by using the `comment` function, also described in the [metadata](#embedded-metadata) section.\n"
   ]
  },
  {
   "cell_type": "code",
   "execution_count": null,
   "metadata": {},
   "outputs": [],
   "source": [
    "'''comment(dfLong)'''\n",
    "# TODO metadata"
   ]
  },
  {
   "cell_type": "markdown",
   "metadata": {},
   "source": [
    "## Groundwater Level Data\n",
    "\n",
    "Groundwater level measurements can be obtained with the `readNWISgwl` function. Information on the returned data can be found with the `comment` function, and attached attributes as described in the [metadata](#embedded-metadata) section.\n"
   ]
  },
  {
   "cell_type": "code",
   "execution_count": null,
   "metadata": {},
   "outputs": [],
   "source": [
    "'''\n",
    "siteNumber <- \"434400121275801\"\n",
    "groundWater <- readNWISgwl(siteNumber)\n",
    "'''\n",
    "siteNumber = \"434400121275801\"\n",
    "groundWater = nwis.get_record(sites=siteNumber, service='gwlevels')"
   ]
  },
  {
   "cell_type": "markdown",
   "metadata": {},
   "source": [
    "## Peak Flow Data\n",
    "\n",
    "Peak flow data are instantaneous discharge or stage data that record the maximum values of these variables during a flood event.  They include the annual peak flood event but can also include records of other peaks that are lower than the annual maximum. Peak discharge measurements can be obtained with the `readNWISpeak` function. Information on the returned data can be found with the `comment` function and attached attributes as described in the [metadata](#embedded-metadata) section.\n"
   ]
  },
  {
   "cell_type": "code",
   "execution_count": null,
   "metadata": {},
   "outputs": [],
   "source": [
    "'''\n",
    "siteNumber <- '01594440'\n",
    "peakData <- readNWISpeak(siteNumber)\n",
    "'''\n",
    "siteNumber = '01594440'\n",
    "peakData = nwis.get_record(sites=siteNumber, service='peaks')"
   ]
  },
  {
   "cell_type": "markdown",
   "metadata": {},
   "source": [
    "## Rating Curve Data\n",
    "\n",
    "Rating curves are the calibration curves that are used to convert measurements of stage to discharge.  Because of changing hydrologic conditions these rating curves change over time. Information on the returned data can be found with the `comment` function and attached attributes as described in the [metadata](#embedded-metadata) section.\n",
    "\n",
    "Rating curves can be obtained with the `readNWISrating` function.\n"
   ]
  },
  {
   "cell_type": "code",
   "execution_count": null,
   "metadata": {},
   "outputs": [],
   "source": [
    "'''\n",
    "ratingData <- readNWISrating(siteNumber, \"base\")\n",
    "attr(ratingData, \"RATING\")\n",
    "'''\n",
    "# todo rating???"
   ]
  },
  {
   "cell_type": "markdown",
   "metadata": {},
   "source": [
    "## Surface-Water Measurement Data\n",
    "\n",
    "These data are the discrete measurements of discharge that are made for the purpose of developing or revising the rating curve.  Information on the returned data can be found with the `comment` function and attached attributes as described in the [metadata](#embedded-metadata) section.\n",
    "\n",
    "Surface-water measurement data can be obtained with the `readNWISmeas` function."
   ]
  },
  {
   "cell_type": "code",
   "execution_count": null,
   "metadata": {},
   "outputs": [],
   "source": [
    "'''surfaceData <- readNWISmeas(siteNumber)'''\n",
    "siteNumber = '01594440'\n",
    "nwis.get_record(sites=siteNumber, service='measurements')"
   ]
  },
  {
   "cell_type": "markdown",
   "metadata": {},
   "source": [
    "## Water Use Data\n",
    "Retrieves water use data from USGS Water Use Data for the Nation.  See [https://waterdata.usgs.gov/nwis/wu](https://waterdata.usgs.gov/nwis/wu) for more information.  All available use categories for the supplied arguments are retrieved. \n"
   ]
  },
  {
   "cell_type": "code",
   "execution_count": 2,
   "metadata": {
    "pycharm": {
     "is_executing": false
    }
   },
   "outputs": [
    {
     "data": {
      "text/plain": "   state_cd    state_name  county_cd         county_nm  year  \\\n0        42  Pennsylvania          3  Allegheny County  1985   \n1        42  Pennsylvania          3  Allegheny County  1990   \n2        42  Pennsylvania          3  Allegheny County  1995   \n3        42  Pennsylvania          3  Allegheny County  2000   \n4        42  Pennsylvania          3  Allegheny County  2005   \n5        42  Pennsylvania          3  Allegheny County  2010   \n6        42  Pennsylvania          3  Allegheny County  2015   \n\n   Total Population total population of area, in thousands  \\\n0                                           1388.300         \n1                                           1336.450         \n2                                           1309.820         \n3                                           1281.670         \n4                                           1235.841         \n5                                           1223.348         \n6                                           1230.459         \n\n  Public Supply population served by groundwater, in thousands  \\\n0                                             99.900             \n1                                            221.260             \n2                                            192.110             \n3                                                  -             \n4                                             64.264             \n5                                             14.480             \n6                                             91.855             \n\n  Public Supply population served by surface water, in thousands  \\\n0                                           1227.030               \n1                                           1079.340               \n2                                           1090.800               \n3                                                  -               \n4                                           1171.577               \n5                                           1021.370               \n6                                            980.108               \n\n   Public Supply total population served, in thousands  \\\n0                                           1326.930     \n1                                           1300.600     \n2                                           1282.910     \n3                                           1281.670     \n4                                           1235.841     \n5                                           1035.850     \n6                                           1071.963     \n\n   Public Supply self-supplied groundwater withdrawals, fresh, in Mgal/d  \\\n0                                              16.47                       \n1                                              13.51                       \n2                                              14.19                       \n3                                              13.48                       \n4                                               0.45                       \n5                                               0.87                       \n6                                               8.82                       \n\n                                           ...                                            \\\n0                                          ...                                             \n1                                          ...                                             \n2                                          ...                                             \n3                                          ...                                             \n4                                          ...                                             \n5                                          ...                                             \n6                                          ...                                             \n\n  Hydroelectric Power power generated by instream use, in gigawatt-hours  \\\n0                                               0.00                       \n1                                               0.00                       \n2                                               0.00                       \n3                                                  -                       \n4                                                  -                       \n5                                                  -                       \n6                                                  -                       \n\n  Hydroelectric Power power generated by offstream use, in gigawatt-hours  \\\n0                                                  -                        \n1                                                  -                        \n2                                               0.00                        \n3                                                  -                        \n4                                                  -                        \n5                                                  -                        \n6                                                  -                        \n\n   Hydroelectric Power total power generated, in gigawatt-hours  \\\n0                                                  -              \n1                                                  -              \n2                                               0.00              \n3                                                  -              \n4                                                  -              \n5                                                  -              \n6                                                  -              \n\n  Hydroelectric Power number of instream facilities  \\\n0                                                 -   \n1                                                 0   \n2                                                 0   \n3                                                 -   \n4                                                 -   \n5                                                 -   \n6                                                 -   \n\n  Hydroelectric Power number of offstream facilities  \\\n0                                                  -   \n1                                                  -   \n2                                                  0   \n3                                                  -   \n4                                                  -   \n5                                                  -   \n6                                                  -   \n\n   Hydroelectric Power total number of facilities  \\\n0                                               -   \n1                                               -   \n2                                               0   \n3                                               -   \n4                                               -   \n5                                               -   \n6                                               -   \n\n  Wastewater Treatment returns by public wastewater facilities, in Mgal/d  \\\n0                                             266.21                        \n1                                              42.51                        \n2                                             225.27                        \n3                                                  -                        \n4                                                  -                        \n5                                                  -                        \n6                                                  -                        \n\n  Wastewater Treatment number of public wastewater facilities  \\\n0                                                 85            \n1                                                 35            \n2                                                 21            \n3                                                  -            \n4                                                  -            \n5                                                  -            \n6                                                  -            \n\n  Wastewater Treatment number of wastewater facilities  \\\n0                                                  -     \n1                                                  -     \n2                                                  -     \n3                                                  -     \n4                                                  -     \n5                                                  -     \n6                                                  -     \n\n  Wastewater Treatment reclaimed wastewater released by wastewater facilities, in Mgal/d  \n0                                                  -                                      \n1                                                  -                                      \n2                                                  -                                      \n3                                                  -                                      \n4                                                  -                                      \n5                                                  -                                      \n6                                                  -                                      \n\n[7 rows x 283 columns]",
      "text/html": "<div>\n<style scoped>\n    .dataframe tbody tr th:only-of-type {\n        vertical-align: middle;\n    }\n\n    .dataframe tbody tr th {\n        vertical-align: top;\n    }\n\n    .dataframe thead th {\n        text-align: right;\n    }\n</style>\n<table border=\"1\" class=\"dataframe\">\n  <thead>\n    <tr style=\"text-align: right;\">\n      <th></th>\n      <th>state_cd</th>\n      <th>state_name</th>\n      <th>county_cd</th>\n      <th>county_nm</th>\n      <th>year</th>\n      <th>Total Population total population of area, in thousands</th>\n      <th>Public Supply population served by groundwater, in thousands</th>\n      <th>Public Supply population served by surface water, in thousands</th>\n      <th>Public Supply total population served, in thousands</th>\n      <th>Public Supply self-supplied groundwater withdrawals, fresh, in Mgal/d</th>\n      <th>...</th>\n      <th>Hydroelectric Power power generated by instream use, in gigawatt-hours</th>\n      <th>Hydroelectric Power power generated by offstream use, in gigawatt-hours</th>\n      <th>Hydroelectric Power total power generated, in gigawatt-hours</th>\n      <th>Hydroelectric Power number of instream facilities</th>\n      <th>Hydroelectric Power number of offstream facilities</th>\n      <th>Hydroelectric Power total number of facilities</th>\n      <th>Wastewater Treatment returns by public wastewater facilities, in Mgal/d</th>\n      <th>Wastewater Treatment number of public wastewater facilities</th>\n      <th>Wastewater Treatment number of wastewater facilities</th>\n      <th>Wastewater Treatment reclaimed wastewater released by wastewater facilities, in Mgal/d</th>\n    </tr>\n  </thead>\n  <tbody>\n    <tr>\n      <th>0</th>\n      <td>42</td>\n      <td>Pennsylvania</td>\n      <td>3</td>\n      <td>Allegheny County</td>\n      <td>1985</td>\n      <td>1388.300</td>\n      <td>99.900</td>\n      <td>1227.030</td>\n      <td>1326.930</td>\n      <td>16.47</td>\n      <td>...</td>\n      <td>0.00</td>\n      <td>-</td>\n      <td>-</td>\n      <td>-</td>\n      <td>-</td>\n      <td>-</td>\n      <td>266.21</td>\n      <td>85</td>\n      <td>-</td>\n      <td>-</td>\n    </tr>\n    <tr>\n      <th>1</th>\n      <td>42</td>\n      <td>Pennsylvania</td>\n      <td>3</td>\n      <td>Allegheny County</td>\n      <td>1990</td>\n      <td>1336.450</td>\n      <td>221.260</td>\n      <td>1079.340</td>\n      <td>1300.600</td>\n      <td>13.51</td>\n      <td>...</td>\n      <td>0.00</td>\n      <td>-</td>\n      <td>-</td>\n      <td>0</td>\n      <td>-</td>\n      <td>-</td>\n      <td>42.51</td>\n      <td>35</td>\n      <td>-</td>\n      <td>-</td>\n    </tr>\n    <tr>\n      <th>2</th>\n      <td>42</td>\n      <td>Pennsylvania</td>\n      <td>3</td>\n      <td>Allegheny County</td>\n      <td>1995</td>\n      <td>1309.820</td>\n      <td>192.110</td>\n      <td>1090.800</td>\n      <td>1282.910</td>\n      <td>14.19</td>\n      <td>...</td>\n      <td>0.00</td>\n      <td>0.00</td>\n      <td>0.00</td>\n      <td>0</td>\n      <td>0</td>\n      <td>0</td>\n      <td>225.27</td>\n      <td>21</td>\n      <td>-</td>\n      <td>-</td>\n    </tr>\n    <tr>\n      <th>3</th>\n      <td>42</td>\n      <td>Pennsylvania</td>\n      <td>3</td>\n      <td>Allegheny County</td>\n      <td>2000</td>\n      <td>1281.670</td>\n      <td>-</td>\n      <td>-</td>\n      <td>1281.670</td>\n      <td>13.48</td>\n      <td>...</td>\n      <td>-</td>\n      <td>-</td>\n      <td>-</td>\n      <td>-</td>\n      <td>-</td>\n      <td>-</td>\n      <td>-</td>\n      <td>-</td>\n      <td>-</td>\n      <td>-</td>\n    </tr>\n    <tr>\n      <th>4</th>\n      <td>42</td>\n      <td>Pennsylvania</td>\n      <td>3</td>\n      <td>Allegheny County</td>\n      <td>2005</td>\n      <td>1235.841</td>\n      <td>64.264</td>\n      <td>1171.577</td>\n      <td>1235.841</td>\n      <td>0.45</td>\n      <td>...</td>\n      <td>-</td>\n      <td>-</td>\n      <td>-</td>\n      <td>-</td>\n      <td>-</td>\n      <td>-</td>\n      <td>-</td>\n      <td>-</td>\n      <td>-</td>\n      <td>-</td>\n    </tr>\n    <tr>\n      <th>5</th>\n      <td>42</td>\n      <td>Pennsylvania</td>\n      <td>3</td>\n      <td>Allegheny County</td>\n      <td>2010</td>\n      <td>1223.348</td>\n      <td>14.480</td>\n      <td>1021.370</td>\n      <td>1035.850</td>\n      <td>0.87</td>\n      <td>...</td>\n      <td>-</td>\n      <td>-</td>\n      <td>-</td>\n      <td>-</td>\n      <td>-</td>\n      <td>-</td>\n      <td>-</td>\n      <td>-</td>\n      <td>-</td>\n      <td>-</td>\n    </tr>\n    <tr>\n      <th>6</th>\n      <td>42</td>\n      <td>Pennsylvania</td>\n      <td>3</td>\n      <td>Allegheny County</td>\n      <td>2015</td>\n      <td>1230.459</td>\n      <td>91.855</td>\n      <td>980.108</td>\n      <td>1071.963</td>\n      <td>8.82</td>\n      <td>...</td>\n      <td>-</td>\n      <td>-</td>\n      <td>-</td>\n      <td>-</td>\n      <td>-</td>\n      <td>-</td>\n      <td>-</td>\n      <td>-</td>\n      <td>-</td>\n      <td>-</td>\n    </tr>\n  </tbody>\n</table>\n<p>7 rows × 283 columns</p>\n</div>"
     },
     "metadata": {},
     "output_type": "execute_result",
     "execution_count": 2
    }
   ],
   "source": [
    "'''\n",
    "allegheny <- readNWISuse(stateCd = \"Pennsylvania\",\n",
    "                         countyCd = \"Allegheny\")\n",
    "national <- readNWISuse(stateCd = NULL, \n",
    "                        countyCd = NULL, \n",
    "                        transform = TRUE)\n",
    "'''\n",
    "# TODO don't see any implementation for water use\n",
    "from dataretrieval import nwis\n",
    "allegheny = nwis.get_record(service=\"water_use\", state=\"PA\", counties=\"003\")\n",
    "allegheny\n",
    "#national = nwis.get_record(service=\"water_use\")\n",
    "#national"
   ]
  },
  {
   "cell_type": "markdown",
   "metadata": {},
   "source": [
    "## Statistics Data\n",
    "Retrieves site statistics from the USGS Statistics Web Service beta.  \n"
   ]
  },
  {
   "cell_type": "code",
   "execution_count": null,
   "metadata": {},
   "outputs": [],
   "source": [
    "'''\n",
    "discharge_stats <- readNWISstat(siteNumbers=c(\"02319394\"),\n",
    "                   parameterCd=c(\"00060\"),\n",
    "                   statReportType=\"annual\") \n",
    "'''\n",
    "nwis.get_stats(sites='02319394', parameterCd=\"00060\", statReportType='annual', statTypeCd='all')\n"
   ]
  },
  {
   "cell_type": "markdown",
   "metadata": {},
   "source": [
    "# Water Quality Portal Web Retrievals\n",
    "\n",
    "There are additional water quality data sets available from the [Water Quality Data Portal](https://www.waterqualitydata.us/).  These data sets can be housed in either the STORET database (data from EPA), NWIS database (data from USGS), STEWARDS database (data from USDA), and additional databases are slated to be included in the future.  Because only USGS uses parameter codes, a \"characteristic name\" must be supplied.  The `readWQPqw` function can take either a USGS parameter code, or a more general characteristic name in the parameterCd input argument. The Water Quality Data Portal includes data discovery tools and information on characteristic names. The following example retrieves specific conductance from a DNR site in Wisconsin. \n"
   ]
  },
  {
   "cell_type": "code",
   "execution_count": null,
   "metadata": {},
   "outputs": [],
   "source": [
    "'''\n",
    "specificCond <- readWQPqw('WIDNR_WQX-10032762',\n",
    "                          'Specific conductance',\n",
    "                          '2011-05-01','2011-09-30')\n",
    "'''\n",
    "# TODO - not working\n",
    "from dataretrieval import wqp\n",
    "wqp.get_results(siteid='WIDNR_WQX-10032762',\n",
    "                          characteristicName = 'Specific conductance',\n",
    "                          startDateLo='2011-05-01', startDateHi='2011-09-30')"
   ]
  },
  {
   "cell_type": "markdown",
   "metadata": {},
   "source": [
    "A tool for finding NWIS characteristic names can be found [here](https://www.waterqualitydata.us/public_srsnames/)"
   ]
  },
  {
   "cell_type": "markdown",
   "metadata": {},
   "source": [
    "# Generalized Retrievals\n",
    "\n",
    "The previous examples all took specific input arguments: `siteNumber`, `parameterCd` (or characteristic name), `startDate`, `endDate`, etc. However, the Web services that supply the data can accept a wide variety of additional arguments. \n",
    "\n",
    "## NWIS \n",
    "\n",
    "### Sites: whatNWISsites\n",
    "\n",
    "The function `whatNWISsites` can be used to discover NWIS sites based on any query that the NWIS Site Service offers. This is done by using the `...` argument, which allows the user to use any arbitrary input argument. We can then use the service [here](https://waterservices.usgs.gov/rest/Site-Test-Tool.html) to discover many options for searching for NWIS sites. For example, you may want to search for sites in a lat/lon bounding box, or only sites tidal streams, or sites with water quality samples, sites above a certain altitude, etc. The results of this site query generate a URL. For example, the tool provided a search within a specified bounding box, for sites that have daily discharge (parameter code = 00060) and temperature (parameter code = 00010). The generated URL is:\n",
    "\n",
    "[https://waterservices.usgs.gov/nwis/site/?format=rdb&bBox=-83.0,36.5,-81.0,38.5&parameterCd=00010,00060&hasDataTypeCd=dv](https://waterservices.usgs.gov/nwis/site/?format=rdb&bBox=-83.0,36.5,-81.0,38.5&parameterCd=00010,00060&hasDataTypeCd=dv)\n",
    "\n",
    "The following `dataRetrieval` code can be used to get those sites:"
   ]
  },
  {
   "cell_type": "code",
   "execution_count": null,
   "metadata": {},
   "outputs": [],
   "source": [
    "# TODO what sites not implemented\n",
    "'''\n",
    "sites <- whatNWISsites(bBox=c(-83.0,36.5,-81.0,38.5), \n",
    "                      parameterCd=c(\"00010\",\"00060\"),\n",
    "                      hasDataTypeCd=\"dv\")\n",
    "'''\n"
   ]
  },
  {
   "cell_type": "markdown",
   "metadata": {},
   "source": [
    "### Data: readNWISdata\n",
    "\n",
    "For NWIS data, the function `readNWISdata` can be used. The argument listed in the R help file is `...` and `service` (only for data requests). Table 5 describes the services are available.\n",
    "\n",
    "TODO table data\n",
    "\n",
    "The `...` argument allows the user to create their own queries based on the instructions found in the web links above. The links provide instructions on how to create a URL to request data. Perhaps you want sites only in Wisconsin, with a drainage area less than 50 mi<sup>2</sup>, and the most recent daily discharge data. That request would be done as follows:\n"
   ]
  },
  {
   "cell_type": "code",
   "execution_count": 14,
   "metadata": {},
   "outputs": [],
   "source": [
    "'''\n",
    "dischargeWI <- readNWISdata(service=\"dv\",\n",
    "                           stateCd=\"WI\",\n",
    "                           parameterCd=\"00060\",\n",
    "                           drainAreaMin=\"50\",\n",
    "                           statCd=\"00003\")\n",
    "\n",
    "# TODO, implement attr metadata\n",
    "siteInfo <- attr(dischargeWI, \"siteInfo\")\n",
    "'''\n",
    "dischargeWI = nwis.get_record(sites=None, service=\"dv\",\n",
    "                           stateCd=\"WI\",\n",
    "                           parameterCd=\"00060\",\n",
    "                           drainAreaMin=\"50\",\n",
    "                           statCd=\"00003\")"
   ]
  },
  {
   "cell_type": "markdown",
   "metadata": {},
   "source": [
    "## WQP \n",
    "\n",
    "TODO only have implementations \n",
    "Just as with NWIS, the Water Quality Portal (WQP) offers a variety of ways to search for sites and request data. The possible Web service arguments for WQP site searches is found [here](https://www.waterqualitydata.us/webservices_documentation).\n",
    "\n",
    "### Sites: whatWQPsites\n",
    "\n",
    "To discover available sites in the WQP in New Jersey that have measured Chloride, use the function `whatWQPsites`.\n"
   ]
  },
  {
   "cell_type": "code",
   "execution_count": null,
   "metadata": {},
   "outputs": [],
   "source": [
    "'''\n",
    "sitesNJ <- whatWQPsites(statecode=\"US:34\",\n",
    "                       characteristicName=\"Chloride\")\n",
    "'''\n",
    "from dataretrieval import wqp\n",
    "sitesNJ = wqp.what_sites(statecode=\"US:34\", characteristicName=\"Chloride\")"
   ]
  },
  {
   "cell_type": "markdown",
   "metadata": {},
   "source": [
    "### Data: readWQPdata\n",
    "\n",
    "To get data from the WQP using generalized Web service calls, use the function `readWQPdata`. For example, to get all the pH data in Wisconsin:\n"
   ]
  },
  {
   "cell_type": "code",
   "execution_count": null,
   "metadata": {},
   "outputs": [],
   "source": [
    "'''\n",
    "dataPH <- readWQPdata(statecode=\"US:55\", \n",
    "                 characteristicName=\"pH\")\n",
    "'''\n",
    "dataPH = wqp.what_sites(statecode=\"US:55\", characteristicName=\"pH\")"
   ]
  },
  {
   "cell_type": "markdown",
   "metadata": {},
   "source": [
    "### Availability: whatWQPdata\n",
    "\n",
    "The function `whatWQPdata` returns a data frame with information on the amount of data collected at a site. For example:\n"
   ]
  },
  {
   "cell_type": "code",
   "execution_count": null,
   "metadata": {},
   "outputs": [],
   "source": [
    "'''\n",
    "type <- \"Stream\"\n",
    "sites <- whatWQPdata(countycode=\"US:55:025\",siteType=type)\n",
    "'''\n",
    "# TODO this doesn't work an error handling in wqp implementation sucks\n",
    "streamType = \"Stream\"\n",
    "sites = wqp.get_results(countycode=\"US:55:025\", siteType=streamType)"
   ]
  },
  {
   "cell_type": "markdown",
   "metadata": {},
   "source": [
    "This returns a data frame with all of the sites that were measured in streams in Dane County, WI. Also, in that table, there is a measure of `activityCount` (how often the site was sampled), and `resultCount` (how many individual results are available).\n"
   ]
  },
  {
   "cell_type": "markdown",
   "metadata": {},
   "source": [
    "### Samples: whatWQPsamples\n",
    "\n",
    "The function `whatWQPsamples` returns information on the individual samples collected at a site. For example:\n"
   ]
  },
  {
   "cell_type": "code",
   "execution_count": null,
   "metadata": {},
   "outputs": [],
   "source": [
    "'''site <- whatWQPsamples(siteid=\"USGS-01594440\")'''\n",
    "\n",
    "site = wqp.what_sites(siteid=\"USGS-01594440\")"
   ]
  },
  {
   "cell_type": "markdown",
   "metadata": {},
   "source": [
    "This returns one row for each instance that a sample was collect.\n",
    "\n",
    "### Metrics: whatWQPmetrics\n",
    "\n",
    "The function `whatWQPmetrics` provides metric information. This is only currently available for STORET data:\n"
   ]
  },
  {
   "cell_type": "code",
   "execution_count": null,
   "metadata": {},
   "outputs": [],
   "source": [
    "'''\n",
    "type <- \"Stream\"\n",
    "sites <- whatWQPmetrics(countycode=\"US:55:025\",siteType=type)\n",
    "'''\n",
    "streamType = \"Stream\"\n",
    "wqp.what_sites(countycode=\"US:55:025\",siteType=streamType)"
   ]
  },
  {
   "cell_type": "markdown",
   "metadata": {},
   "source": [
    "# Embedded Metadata\n",
    "\n",
    "TODO not implemented at all from what I can tell\n",
    "\n",
    "All data frames returned from the Web services have some form of associated metadata. This information is included as attributes to the data frame. All data frames will have a `url` (returning a character of the url used to obtain the data), `siteInfo` (returning a data frame with information on sites),  and `queryTime` (returning a POSIXct datetime) attributes. For example, the url and query time used to obtain the data can be found as follows:\n",
    "\n",
    "```{r meta1, eval=FALSE}\n",
    "attr(dischargeWI, \"url\")\n",
    "attr(dischargeWI, \"queryTime\")\n",
    "siteInfo <- attr(dischargeWI, \"siteInfo\")\n",
    "```\n",
    "\n",
    "Depending on the format that the data was obtained (RDB, WaterML1, etc), there will be additional information embedded in the data frame as attributes. To discover the available attributes:\n",
    "\n",
    "```{r meta2, eval=FALSE}\n",
    "names(attributes(dischargeWI))\n",
    "```\n",
    "\n",
    "For data obtained from `readNWISuv`, `readNWISdv`, `readNWISgwl` there are two attributes that are particularly useful: `siteInfo` and `variableInfo`.\n",
    "\n",
    "```{r meta3, eval=FALSE}\n",
    "siteInfo <- attr(dischargeWI, \"siteInfo\")\n",
    "variableInfo <- attr(dischargeWI, \"variableInfo\")\n",
    "```\n",
    "\n",
    "Data obtained from `readNWISpeak`, `readNWISmeas`, and `readNWISrating`, the `comment` attribute is useful.\n",
    "\n",
    "```{r meta5, eval=FALSE}\n",
    "comment(peakData)\n",
    "#Which is equivalent to:\n",
    "attr(peakData, \"comment\")\n",
    "```"
   ]
  }
 ],
 "metadata": {
  "kernelspec": {
   "display_name": "Python 3",
   "language": "python",
   "name": "python3"
  },
  "language_info": {
   "codemirror_mode": {
    "name": "ipython",
    "version": 3
   },
   "file_extension": ".py",
   "mimetype": "text/x-python",
   "name": "python",
   "nbconvert_exporter": "python",
   "pygments_lexer": "ipython3",
   "version": "3.6.7"
  },
  "pycharm": {
   "stem_cell": {
    "cell_type": "raw",
    "source": [],
    "metadata": {
     "collapsed": false
    }
   }
  }
 },
 "nbformat": 4,
 "nbformat_minor": 2
}