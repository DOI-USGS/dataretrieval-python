{
 "cells": [
  {
   "cell_type": "code",
   "execution_count": 1,
   "metadata": {
    "pycharm": {
     "is_executing": false
    }
   },
   "outputs": [],
   "source": [
    "#! pip install --upgrade git+https://github.com/sblack-usu/dataretrieval\n",
    "from dataretrieval import nwis"
   ]
  },
  {
   "cell_type": "markdown",
   "metadata": {},
   "source": [
    "The dataRetrieval package was created to simplify the process of loading hydrologic data into the R environment. It is designed to retrieve the major data types of U.S. Geological Survey (USGS) hydrologic data that are available on the Web, as well as data from the Water Quality Portal (WQP), which currently houses water quality data from the Environmental Protection Agency (EPA), U.S. Department of Agriculture (USDA), and USGS. Direct USGS data is obtained from a service called the National Water Information System (NWIS).\n",
    "\n",
    "For information on getting started in R and installing the package, see Getting Started. Any use of trade, firm, or product names is for descriptive purposes only and does not imply endorsement by the U.S. Government.\n",
    "\n",
    "A quick workflow for USGS dataRetrieval functions:"
   ]
  },
  {
   "cell_type": "code",
   "execution_count": 2,
   "metadata": {
    "pycharm": {
     "is_executing": false
    }
   },
   "outputs": [],
   "source": [
    "'''\n",
    "library(dataRetrieval)\n",
    "# Choptank River near Greensboro, MD\n",
    "siteNumber <- \"01491000\" \n",
    "ChoptankInfo <- readNWISsite(siteNumber)\n",
    "parameterCd <- \"00060\"\n",
    "\n",
    "#Raw daily data:\n",
    "rawDailyData <- readNWISdv(siteNumber,parameterCd,\n",
    "                      \"1980-01-01\",\"2010-01-01\")\n",
    "\n",
    "# Sample data Nitrate:\n",
    "parameterCd <- \"00618\"\n",
    "qwData <- readNWISqw(siteNumber,parameterCd,\n",
    "                      \"1980-01-01\",\"2010-01-01\")\n",
    "\n",
    "pCode <- readNWISpCode(parameterCd)\n",
    "'''\n",
    "\n",
    "# Choptank River near Greensboro, MD\n",
    "siteNumber = '01491000'\n",
    "chop_tank_info = nwis.get_record(sites=siteNumber, service='site')\n",
    "parameterCd = '00060'\n",
    "\n",
    "# raw daily data\n",
    "rawDailyData = nwis.get_record(sites=siteNumber, service='dv', parameterCd=parameterCd, start=\"1980-01-01\", end=\"2010-01-01\")\n",
    "\n",
    "# sample data Nitrate:\n",
    "parameterCd = \"00618\"\n",
    "qwData = nwis.get_record(sites=siteNumber, service='qwdata', parameterCd=parameterCd, start=\"1980-01-01\", end=\"2010-01-01\")\n",
    "\n",
    "pCode = nwis.get_record(service='pmcodes', parameterCd=parameterCd)"
   ]
  },
  {
   "cell_type": "markdown",
   "metadata": {},
   "source": [
    "TODO - table of dataretrieval functions"
   ]
  },
  {
   "cell_type": "markdown",
   "metadata": {},
   "source": [
    "# USGS Web Retrievals TODO link up or remove links\n",
    "\n",
    "In this section, examples of National Water Information System (NWIS) retrievals show how to get raw data into R. This data includes [site information](#site-information), measured [parameter information](#parameter-information), historical [daily values](#daily-data), [unit values](#unit-data) (which include real-time data but can also include other sensor data stored at regular time intervals), [water quality data](#water-quality-data), [groundwater level data](#groundwater-level-data), [peak flow data](#peak-flow-data), [rating curve data](#rating-curve-data),  [surface-water measurement data](#surface-water-measurement-data), [water use data](#water-use-data), and [statistics data](#statistics-data). The section [Embedded Metadata](#embedded-metadata) shows instructions for getting metadata that is attached to each returned data frame.\n",
    "\n",
    "The USGS organizes hydrologic data in a standard structure.  Streamgages are located throughout the United States, and each streamgage has a unique ID (referred in this document and throughout the `dataRetrieval` package as `siteNumber`).  Often (but not always), these ID's are 8 digits for surface-water sites and 15 digits for groundwater sites.  The first step to finding data is discovering this `siteNumber`. There are many ways to do this, one is the [National Water Information System: Mapper](https://maps.waterdata.usgs.gov/mapper/index.html).\n",
    "\n",
    "Once the `siteNumber` is known, the next required input for USGS data retrievals is the \"parameter code\".  This is a 5-digit code that specifies the measured parameter being requested.  For example, parameter code 00631 represents \"Nitrate plus nitrite, water, filtered, milligrams per liter as nitrogen\", with units of \"mg/l as N\". \n",
    "\n",
    "Not every station will measure all parameters. A short list of commonly measured parameters is shown in Table 2.\n",
    "\n",
    "### TODO table here\n",
    "\n",
    "Two output columns that may not be obvious are \"srsname\" and \"casrn\". Srsname stands for \"Substance Registry Services\". More information on the srs name can be found [here](http://ofmpub.epa.gov/sor_internet/registry/substreg/home/overview/home.do).\n",
    "\n",
    "Casrn stands for \"Chemical Abstracts Service (CAS) Registry Number\". More information on CAS can be found [here](http://www.cas.org/content/chemical-substances/faqs).\n",
    "\n",
    "For unit values data (sensor data measured at regular time intervals such as 15 minutes or hourly), knowing the parameter code and `siteNumber` is enough to make a request for data.  For most variables that are measured on a continuous basis, the USGS also stores the historical data as daily values.  These daily values are statistical summaries of the continuous data, e.g. maximum, minimum, mean, or median. The different statistics are specified by a 5-digit statistics code.  \n",
    "\n",
    "Some common codes are shown in Table 3.\n",
    "\n",
    "### TODO table here\n",
    "\n",
    "Examples for using these site numbers, parameter codes, and statistic codes will be presented in subsequent sections.\n",
    "\n",
    "There are occasions where NWIS values are not reported as numbers, instead there might be text describing a certain event such as “Ice”. Any value that cannot be converted to a number will be reported as NA in this package (not including remark code columns), unless the user sets an argument convertType to FALSE. In that case, the data is returned as a data frame that is entirely character columns."
   ]
  },
  {
   "cell_type": "markdown",
   "metadata": {},
   "source": [
    "## Site Information\n",
    "\n",
    "\n",
    "### readNWISsite\n",
    "\n",
    "Use the `readNWISsite` function to obtain all of the information available for a particular USGS site (or sites) such as full station name, drainage area, latitude, and longitude. `readNWISsite` can also access information about multiple sites with a vector input."
   ]
  },
  {
   "cell_type": "code",
   "execution_count": 3,
   "metadata": {},
   "outputs": [],
   "source": [
    "'''{r getSite, echo=TRUE, eval=FALSE}\n",
    "siteNumbers <- c(\"01491000\",\"01645000\") \n",
    "siteINFO <- readNWISsite(siteNumbers)\n",
    "'''\n",
    "siteNumbers = [\"01491000\",\"01645000\"]\n",
    "siteINFO = nwis.get_record(sites=siteNumbers)"
   ]
  },
  {
   "cell_type": "markdown",
   "metadata": {},
   "source": [
    "Site information is obtained from:\n",
    "[https://waterservices.usgs.gov/rest/Site-Test-Tool.html](https://waterservices.usgs.gov/rest/Site-Test-Tool.html)\n",
    "\n",
    "Information on the returned data can be found with the `comment` function as described in the [Metadata](#embedded-metadata) section.\n"
   ]
  },
  {
   "cell_type": "code",
   "execution_count": null,
   "metadata": {},
   "outputs": [],
   "source": [
    "'''comment(siteINFO)'''\n",
    "#TODO implement Metadata"
   ]
  },
  {
   "cell_type": "markdown",
   "metadata": {},
   "source": [
    "### whatNWISdata\n",
    "\n",
    "To discover what data is available for a particular USGS site, including measured parameters, period of record, and number of samples (count), use the `whatNWISdata` function. It is possible to limit the retrieval information to a subset of services. The possible choices for services are: \"dv\" (daily values), \"uv\", or \"iv\" (unit values), \"qw\" (water-quality), \"sv\" (sites visits), \"pk\" (peak measurements), \"gw\" (groundwater levels), \"ad\" (sites included in USGS Annual Water Data Reports External Link), \"aw\" (sites monitored by the USGS Active Groundwater Level Network External Link), and \"id\" (historical instantaneous values).\n",
    "\n",
    "In the following example, we limit the retrieved data to only daily data. The default for \"service\" is `all`, which returns all of the available data for that site. Likewise, there are arguments for parameter code (`parameterCd`) and statistic code (`statCd`) to filter the results. The default for both is to return all possible values (`all`). The returned `count_nu` for \"uv\" data is the count of days with returned data, not the actual count of returned values.\n"
   ]
  },
  {
   "cell_type": "code",
   "execution_count": null,
   "metadata": {},
   "outputs": [],
   "source": [
    "'''\n",
    "# Continuing from the previous example:\n",
    "# This pulls out just the daily, mean data:\n",
    "dailyDataAvailable <- whatNWISdata(siteNumbers,\n",
    "                    service=\"dv\", statCd=\"00003\")\n",
    "'''\n",
    "\n",
    "dailyDataAvailable = nwis.get_record(sites=siteNumbers, service=\"dv\", statCd=\"00003\")"
   ]
  },
  {
   "cell_type": "markdown",
   "metadata": {},
   "source": [
    "### TODO build table\n"
   ]
  },
  {
   "cell_type": "markdown",
   "metadata": {},
   "source": [
    "## Parameter Information\n",
    "\n",
    "To obtain all of the available information concerning a measured parameter (or multiple parameters), use the `readNWISpCode` function:\n"
   ]
  },
  {
   "cell_type": "code",
   "execution_count": 5,
   "metadata": {
    "pycharm": {
     "is_executing": false
    }
   },
   "outputs": [
    {
     "data": {
      "text/plain": "   parameter_cd parameter_group_nm       casrn  srsname parameter_units\n0           618           Nutrient  14797-55-8  Nitrate       mg/l as N",
      "text/html": "<div>\n<style scoped>\n    .dataframe tbody tr th:only-of-type {\n        vertical-align: middle;\n    }\n\n    .dataframe tbody tr th {\n        vertical-align: top;\n    }\n\n    .dataframe thead th {\n        text-align: right;\n    }\n</style>\n<table border=\"1\" class=\"dataframe\">\n  <thead>\n    <tr style=\"text-align: right;\">\n      <th></th>\n      <th>parameter_cd</th>\n      <th>parameter_group_nm</th>\n      <th>casrn</th>\n      <th>srsname</th>\n      <th>parameter_units</th>\n    </tr>\n  </thead>\n  <tbody>\n    <tr>\n      <th>0</th>\n      <td>618</td>\n      <td>Nutrient</td>\n      <td>14797-55-8</td>\n      <td>Nitrate</td>\n      <td>mg/l as N</td>\n    </tr>\n  </tbody>\n</table>\n</div>"
     },
     "metadata": {},
     "output_type": "execute_result",
     "execution_count": 5
    }
   ],
   "source": [
    "'''\n",
    "# Using defaults:\n",
    "parameterCd <- \"00618\" \n",
    "parameterINFO <- readNWISpCode(parameterCd)\n",
    "'''\n",
    "\n",
    "pCode = nwis.get_record(service='pmcodes', parameterCd=\"00618\")"
   ]
  },
  {
   "cell_type": "markdown",
   "metadata": {},
   "source": [
    "## Daily Data\n",
    "\n",
    "To obtain daily records of USGS data, use the `readNWISdv` function. The arguments for this function are `siteNumber`, `parameterCd`, `startDate`, `endDate`, and `statCd` (defaults to \"00003\").  If you want to use the default values, you do not need to list them in the function call. Daily data is pulled from [https://waterservices.usgs.gov/rest/DV-Test-Tool.html](https://waterservices.usgs.gov/rest/DV-Test-Tool.html).\n",
    "\n",
    "The dates (start and end) must be in the format \"YYYY-MM-DD\" (note: the user must include the quotes).  Setting the start date to \"\" (no space) will prompt the program to ask for the earliest date, and setting the end date to \"\" (no space) will prompt for the latest available date.\n"
   ]
  },
  {
   "cell_type": "code",
   "execution_count": 10,
   "metadata": {},
   "outputs": [],
   "source": [
    "'''\n",
    "# Choptank River near Greensboro, MD:\n",
    "siteNumber <- \"01491000\"\n",
    "parameterCd <- \"00060\"  # Discharge\n",
    "startDate <- \"2009-10-01\"  \n",
    "endDate <- \"2012-09-30\" \n",
    "\n",
    "discharge <- readNWISdv(siteNumber, \n",
    "                    parameterCd, startDate, endDate)\n",
    "'''\n",
    "# Choptank River near Greensboro, MD:\n",
    "siteNumber = \"01491000\"\n",
    "parameterCd = \"00060\"  # Discharge\n",
    "startDate = \"2009-10-01\"  \n",
    "endDate = \"2012-09-30\" \n",
    "\n",
    "discharge = nwis.get_record(sites=siteNumber, service='dv',\n",
    "                    parameterCd=parameterCd, start=startDate, end=endDate)"
   ]
  },
  {
   "cell_type": "markdown",
   "metadata": {},
   "source": [
    "The column \"datetime\" in the returned data frame is automatically imported as a variable of class \"Date\" in R. Each requested parameter has a value and remark code column.  The names of these columns depend on the requested parameter and stat code combinations. USGS daily value qualification codes are often \"A\" (approved for publication) or \"P\" (provisional data subject to revision). \n",
    "\n",
    "Another example would be a request for mean and maximum daily temperature and discharge in early 2012:\n"
   ]
  },
  {
   "cell_type": "code",
   "execution_count": null,
   "metadata": {},
   "outputs": [],
   "source": [
    "'''\n",
    "siteNumber <- \"01491000\"\n",
    "parameterCd <- c(\"00010\",\"00060\")  # Temperature and discharge\n",
    "statCd <- c(\"00001\",\"00003\")  # Mean and maximum\n",
    "startDate <- \"2012-01-01\"\n",
    "endDate <- \"2012-05-01\"\n",
    "\n",
    "temperatureAndFlow <- readNWISdv(siteNumber, parameterCd, \n",
    "        startDate, endDate, statCd=statCd)\n",
    "'''\n",
    "siteNumber = \"01491000\"\n",
    "parameterCd = [\"00010\",\"00060\"]  # Temperature and discharge\n",
    "statCd = [\"00001\",\"00003\"]  # Mean and maximum\n",
    "startDate = \"2012-01-01\"\n",
    "endDate = \"2012-05-01\"\n",
    "\n",
    "temperatureAndFlow = nwis.get_record(sites=siteNumber, service='dv', parameterCd=parameterCd, \n",
    "        start=startDate, end=endDate, statCd=statCd)"
   ]
  },
  {
   "cell_type": "markdown",
   "metadata": {},
   "source": [
    "The column names can be shortened and simplified using the `renameNWISColumns` function.  This is not necessary, but may streamline subsequent data analysis and presentation. Site information, daily statistic information, and measured parameter information is attached to the data frame as attributes. This is discussed further in the [metadata](#embedded-metadata) section."
   ]
  },
  {
   "cell_type": "code",
   "execution_count": null,
   "metadata": {},
   "outputs": [],
   "source": [
    "'''names(temperatureAndFlow)'''\n",
    "# tODO metadata"
   ]
  },
  {
   "cell_type": "code",
   "execution_count": null,
   "metadata": {},
   "outputs": [],
   "source": [
    "'''temperatureAndFlow <- renameNWISColumns(temperatureAndFlow)\n",
    "names(temperatureAndFlow)'''\n",
    "## todo metadata and rename"
   ]
  },
  {
   "cell_type": "code",
   "execution_count": null,
   "metadata": {},
   "outputs": [],
   "source": [
    "'''\n",
    "#Information about the data frame attributes:\n",
    "names(attributes(temperatureAndFlow))\n",
    "'''\n",
    "# todo metadata attributes"
   ]
  },
  {
   "cell_type": "code",
   "execution_count": null,
   "metadata": {},
   "outputs": [],
   "source": [
    "'''\n",
    "statInfo <- attr(temperatureAndFlow, \"statisticInfo\")\n",
    "variableInfo <- attr(temperatureAndFlow, \"variableInfo\")\n",
    "siteInfo <- attr(temperatureAndFlow, \"siteInfo\")\n",
    "'''\n",
    "# todo attr"
   ]
  },
  {
   "cell_type": "code",
   "execution_count": null,
   "metadata": {},
   "outputs": [],
   "source": [
    "'''\n",
    "variableInfo <- attr(temperatureAndFlow, \"variableInfo\")\n",
    "siteInfo <- attr(temperatureAndFlow, \"siteInfo\")\n",
    "\n",
    "par(mar=c(5,5,5,5)) #sets the size of the plot window\n",
    "\n",
    "plot(temperatureAndFlow$Date, temperatureAndFlow$Wtemp_Max,\n",
    "  ylab=variableInfo$parameter_desc[1],xlab=\"\" )\n",
    "par(new=TRUE)\n",
    "plot(temperatureAndFlow$Date, temperatureAndFlow$Flow,\n",
    "  col=\"red\",type=\"l\",xaxt=\"n\",yaxt=\"n\",xlab=\"\",ylab=\"\",axes=FALSE\n",
    "  )\n",
    "axis(4,col=\"red\",col.axis=\"red\")\n",
    "mtext(variableInfo$parameter_desc[2],side=4,line=3,col=\"red\")\n",
    "title(paste(siteInfo$station_nm,\"2012\"))\n",
    "legend(\"topleft\", variableInfo$param_units, \n",
    "       col=c(\"black\",\"red\"),lty=c(NA,1),pch=c(1,NA))\n",
    "'''"
   ]
  },
  {
   "cell_type": "markdown",
   "metadata": {},
   "source": [
    "## Unit Data\n",
    "\n",
    "Any data collected at regular time intervals (such as 15-minute or hourly) are known as \"unit values\". Many of these are delivered on a real time basis and very recent data (even less than an hour old in many cases) are available through the function `readNWISuv`.  Some of these unit values are available for many years, and some are only available for a recent time period such as 120 days.  Here is an example of a retrieval of such data.  \n"
   ]
  },
  {
   "cell_type": "code",
   "execution_count": 12,
   "metadata": {},
   "outputs": [],
   "source": [
    "'''\n",
    "parameterCd <- \"00060\"  # Discharge\n",
    "startDate <- \"2012-05-12\" \n",
    "endDate <- \"2012-05-13\" \n",
    "dischargeUnit <- readNWISuv(siteNumber, parameterCd, \n",
    "        startDate, endDate)\n",
    "dischargeUnit <- renameNWISColumns(dischargeUnit)\n",
    "'''\n",
    "siteNumber = \"01491000\"\n",
    "parameterCd = \"00060\"  # Discharge\n",
    "startDate = \"2012-05-12\" \n",
    "endDate = \"2012-05-13\" \n",
    "dischargeUnit = nwis.get_record(sites=siteNumber, service='iv', parameterCd=parameterCd, \n",
    "        start=startDate, end=endDate)\n",
    "# TODO rename\n",
    "#dischargeUnit <- renameNWISColumns(dischargeUnit)"
   ]
  },
  {
   "cell_type": "markdown",
   "metadata": {},
   "source": [
    "The retrieval produces a data frame that contains 96 rows (one for every 15 minute period in the day). They include all data collected from the startDate through the endDate (starting and ending with midnight locally-collected time). The dateTime column is converted to UTC (Coordinated Universal Time), so midnight EST will be 5 hours earlier in the dateTime column (the previous day, at 7pm).\n",
    "\n",
    "To override the UTC timezone, specify a valid timezone in the tz argument. Default is \"\", which will keep the dateTime column in UTC. Other valid timezones are:\n",
    "```\n",
    "America/New_York\n",
    "America/Chicago\n",
    "America/Denver\n",
    "America/Los_Angeles\n",
    "America/Anchorage\n",
    "America/Honolulu\n",
    "America/Jamaica\n",
    "America/Managua\n",
    "America/Phoenix\n",
    "America/Metlakatla\n",
    "```"
   ]
  },
  {
   "cell_type": "markdown",
   "metadata": {},
   "source": [
    "Data are retrieved from [https://waterservices.usgs.gov/rest/IV-Test-Tool.html](https://waterservices.usgs.gov/rest/IV-Test-Tool.html). There are occasions where NWIS values are not reported as numbers, instead a common example is \"Ice\".  Any value that cannot be converted to a number will be reported as NA in this package. Site information and measured parameter information is attached to the data frame as attributes. This is discussed further in [metadata](#embedded-metadata) section.\n"
   ]
  },
  {
   "cell_type": "markdown",
   "metadata": {},
   "source": [
    "## Water Quality Data\n",
    "\n",
    "To get USGS water quality data from water samples collected at the streamgage or other monitoring site (as distinct from unit values collected through some type of automatic monitor) we can use the function `readNWISqw`, with the input arguments: `siteNumber`, `parameterCd`, `startDate`, and `endDate`. Additionally, the argument `expanded` is a logical input that allows the user to choose between a simple return of datetimes/qualifier/values (`expanded=FALSE`), or a more complete and verbose output (`expanded=TRUE`). `expanded = TRUE` includes such columns as remark codes, value qualifying text, and detection level for each parameter code. There also includes an argument \"reshape\", that converts the expanded dataset to a \"wide\" format (each requested parameter code gets individual columns). The defaults are `expanded=TRUE`, and `reshape=FALSE`. \n"
   ]
  },
  {
   "cell_type": "code",
   "execution_count": 6,
   "metadata": {
    "pycharm": {
     "is_executing": false
    }
   },
   "outputs": [
    {
     "data": {
      "text/plain": "'dfWide = readNWISqw(siteNumber, parameterCd,\\n      startDate, endDate, reshape=TRUE)\\n      # TODO reshape\\n'"
     },
     "metadata": {},
     "output_type": "execute_result",
     "execution_count": 6
    }
   ],
   "source": [
    "'''\n",
    "# Dissolved Nitrate parameter codes:\n",
    "parameterCd <- c(\"00618\",\"71851\")\n",
    "startDate <- \"1985-10-01\"\n",
    "endDate <- \"2012-09-30\"\n",
    "dfLong <- readNWISqw(siteNumber, parameterCd, \n",
    "      startDate, endDate)\n",
    "# Or the wide return:\n",
    "dfWide <- readNWISqw(siteNumber, parameterCd,\n",
    "      startDate, endDate, reshape=TRUE)\n",
    "'''\n",
    "siteNumber = \"01491000\"\n",
    "parameterCd = [\"00618\",\"71851\"]\n",
    "startDate = \"1985-10-01\"\n",
    "endDate = \"2012-09-30\"\n",
    "dfLong = nwis.get_record(sites=siteNumber, service='qwdata', parameterCd=parameterCd, \n",
    "      start=startDate, end=endDate)\n",
    "# Or the wide return:\n",
    "'''dfWide = readNWISqw(siteNumber, parameterCd,\n",
    "      startDate, endDate, reshape=TRUE)\n",
    "      # TODO reshape\n",
    "'''"
   ]
  },
  {
   "cell_type": "markdown",
   "metadata": {},
   "source": [
    "Site information and measured parameter information is attached to the data frame as attributes. This is discussed further in the [metadata](#embedded-metadata) section. Additional metadata, such as information about the column names can be found by using the `comment` function, also described in the [metadata](#embedded-metadata) section.\n"
   ]
  },
  {
   "cell_type": "code",
   "execution_count": null,
   "metadata": {},
   "outputs": [],
   "source": [
    "'''comment(dfLong)'''\n",
    "# TODO metadata"
   ]
  },
  {
   "cell_type": "markdown",
   "metadata": {},
   "source": [
    "## Groundwater Level Data\n",
    "\n",
    "Groundwater level measurements can be obtained with the `readNWISgwl` function. Information on the returned data can be found with the `comment` function, and attached attributes as described in the [metadata](#embedded-metadata) section.\n"
   ]
  },
  {
   "cell_type": "code",
   "execution_count": null,
   "metadata": {},
   "outputs": [],
   "source": [
    "'''\n",
    "siteNumber <- \"434400121275801\"\n",
    "groundWater <- readNWISgwl(siteNumber)\n",
    "'''\n",
    "siteNumber = \"434400121275801\"\n",
    "groundWater = nwis.get_record(sites=siteNumber, service='gwlevels')"
   ]
  },
  {
   "cell_type": "markdown",
   "metadata": {},
   "source": [
    "## Peak Flow Data\n",
    "\n",
    "Peak flow data are instantaneous discharge or stage data that record the maximum values of these variables during a flood event.  They include the annual peak flood event but can also include records of other peaks that are lower than the annual maximum. Peak discharge measurements can be obtained with the `readNWISpeak` function. Information on the returned data can be found with the `comment` function and attached attributes as described in the [metadata](#embedded-metadata) section.\n"
   ]
  },
  {
   "cell_type": "code",
   "execution_count": null,
   "metadata": {},
   "outputs": [],
   "source": [
    "'''\n",
    "siteNumber <- '01594440'\n",
    "peakData <- readNWISpeak(siteNumber)\n",
    "'''\n",
    "siteNumber = '01594440'\n",
    "peakData = nwis.get_record(sites=siteNumber, service='peaks')"
   ]
  },
  {
   "cell_type": "markdown",
   "metadata": {},
   "source": [
    "## Rating Curve Data\n",
    "\n",
    "Rating curves are the calibration curves that are used to convert measurements of stage to discharge.  Because of changing hydrologic conditions these rating curves change over time. Information on the returned data can be found with the `comment` function and attached attributes as described in the [metadata](#embedded-metadata) section.\n",
    "\n",
    "Rating curves can be obtained with the `readNWISrating` function.\n"
   ]
  },
  {
   "cell_type": "code",
   "execution_count": 2,
   "metadata": {
    "pycharm": {
     "is_executing": false
    }
   },
   "outputs": [
    {
     "data": {
      "text/plain": "    INDEP       DEP STOR\n0    2.99     30.00    *\n1    4.00    110.00    *\n2    5.00    225.00    *\n3    5.50    300.00    *\n4    6.00    390.00    *\n5    6.50    490.00    *\n6    7.00    600.00    *\n7    9.00   1175.00    *\n8   13.00   4350.00    *\n9   20.85  16497.75    *\n10  27.90  31100.00    *",
      "text/html": "<div>\n<style scoped>\n    .dataframe tbody tr th:only-of-type {\n        vertical-align: middle;\n    }\n\n    .dataframe tbody tr th {\n        vertical-align: top;\n    }\n\n    .dataframe thead th {\n        text-align: right;\n    }\n</style>\n<table border=\"1\" class=\"dataframe\">\n  <thead>\n    <tr style=\"text-align: right;\">\n      <th></th>\n      <th>INDEP</th>\n      <th>DEP</th>\n      <th>STOR</th>\n    </tr>\n  </thead>\n  <tbody>\n    <tr>\n      <th>0</th>\n      <td>2.99</td>\n      <td>30.00</td>\n      <td>*</td>\n    </tr>\n    <tr>\n      <th>1</th>\n      <td>4.00</td>\n      <td>110.00</td>\n      <td>*</td>\n    </tr>\n    <tr>\n      <th>2</th>\n      <td>5.00</td>\n      <td>225.00</td>\n      <td>*</td>\n    </tr>\n    <tr>\n      <th>3</th>\n      <td>5.50</td>\n      <td>300.00</td>\n      <td>*</td>\n    </tr>\n    <tr>\n      <th>4</th>\n      <td>6.00</td>\n      <td>390.00</td>\n      <td>*</td>\n    </tr>\n    <tr>\n      <th>5</th>\n      <td>6.50</td>\n      <td>490.00</td>\n      <td>*</td>\n    </tr>\n    <tr>\n      <th>6</th>\n      <td>7.00</td>\n      <td>600.00</td>\n      <td>*</td>\n    </tr>\n    <tr>\n      <th>7</th>\n      <td>9.00</td>\n      <td>1175.00</td>\n      <td>*</td>\n    </tr>\n    <tr>\n      <th>8</th>\n      <td>13.00</td>\n      <td>4350.00</td>\n      <td>*</td>\n    </tr>\n    <tr>\n      <th>9</th>\n      <td>20.85</td>\n      <td>16497.75</td>\n      <td>*</td>\n    </tr>\n    <tr>\n      <th>10</th>\n      <td>27.90</td>\n      <td>31100.00</td>\n      <td>*</td>\n    </tr>\n  </tbody>\n</table>\n</div>"
     },
     "metadata": {},
     "output_type": "execute_result",
     "execution_count": 2
    }
   ],
   "source": [
    "'''\n",
    "ratingData <- readNWISrating(siteNumber, \"base\")\n",
    "attr(ratingData, \"RATING\")\n",
    "'''\n",
    "ratings  = nwis.get_record(service='ratings', site='01594440')\n",
    "ratings\n"
   ]
  },
  {
   "cell_type": "markdown",
   "metadata": {},
   "source": [
    "## Surface-Water Measurement Data\n",
    "\n",
    "These data are the discrete measurements of discharge that are made for the purpose of developing or revising the rating curve.  Information on the returned data can be found with the `comment` function and attached attributes as described in the [metadata](#embedded-metadata) section.\n",
    "\n",
    "Surface-water measurement data can be obtained with the `readNWISmeas` function."
   ]
  },
  {
   "cell_type": "code",
   "execution_count": null,
   "metadata": {},
   "outputs": [],
   "source": [
    "'''surfaceData <- readNWISmeas(siteNumber)'''\n",
    "siteNumber = '01594440'\n",
    "nwis.get_record(sites=siteNumber, service='measurements')"
   ]
  },
  {
   "cell_type": "markdown",
   "metadata": {},
   "source": [
    "## Water Use Data\n",
    "Retrieves water use data from USGS Water Use Data for the Nation.  See [https://waterdata.usgs.gov/nwis/wu](https://waterdata.usgs.gov/nwis/wu) for more information.  All available use categories for the supplied arguments are retrieved. \n"
   ]
  },
  {
   "cell_type": "code",
   "execution_count": 2,
   "metadata": {
    "pycharm": {
     "is_executing": false
    }
   },
   "outputs": [
    {
     "data": {
      "text/plain": "   state_cd    state_name  county_cd         county_nm  year  \\\n0        42  Pennsylvania          3  Allegheny County  1985   \n1        42  Pennsylvania          3  Allegheny County  1990   \n2        42  Pennsylvania          3  Allegheny County  1995   \n3        42  Pennsylvania          3  Allegheny County  2000   \n4        42  Pennsylvania          3  Allegheny County  2005   \n5        42  Pennsylvania          3  Allegheny County  2010   \n6        42  Pennsylvania          3  Allegheny County  2015   \n\n   Total Population total population of area, in thousands  \\\n0                                           1388.300         \n1                                           1336.450         \n2                                           1309.820         \n3                                           1281.670         \n4                                           1235.841         \n5                                           1223.348         \n6                                           1230.459         \n\n  Public Supply population served by groundwater, in thousands  \\\n0                                             99.900             \n1                                            221.260             \n2                                            192.110             \n3                                                  -             \n4                                             64.264             \n5                                             14.480             \n6                                             91.855             \n\n  Public Supply population served by surface water, in thousands  \\\n0                                           1227.030               \n1                                           1079.340               \n2                                           1090.800               \n3                                                  -               \n4                                           1171.577               \n5                                           1021.370               \n6                                            980.108               \n\n   Public Supply total population served, in thousands  \\\n0                                           1326.930     \n1                                           1300.600     \n2                                           1282.910     \n3                                           1281.670     \n4                                           1235.841     \n5                                           1035.850     \n6                                           1071.963     \n\n   Public Supply self-supplied groundwater withdrawals, fresh, in Mgal/d  \\\n0                                              16.47                       \n1                                              13.51                       \n2                                              14.19                       \n3                                              13.48                       \n4                                               0.45                       \n5                                               0.87                       \n6                                               8.82                       \n\n                                           ...                                            \\\n0                                          ...                                             \n1                                          ...                                             \n2                                          ...                                             \n3                                          ...                                             \n4                                          ...                                             \n5                                          ...                                             \n6                                          ...                                             \n\n  Hydroelectric Power power generated by instream use, in gigawatt-hours  \\\n0                                               0.00                       \n1                                               0.00                       \n2                                               0.00                       \n3                                                  -                       \n4                                                  -                       \n5                                                  -                       \n6                                                  -                       \n\n  Hydroelectric Power power generated by offstream use, in gigawatt-hours  \\\n0                                                  -                        \n1                                                  -                        \n2                                               0.00                        \n3                                                  -                        \n4                                                  -                        \n5                                                  -                        \n6                                                  -                        \n\n   Hydroelectric Power total power generated, in gigawatt-hours  \\\n0                                                  -              \n1                                                  -              \n2                                               0.00              \n3                                                  -              \n4                                                  -              \n5                                                  -              \n6                                                  -              \n\n  Hydroelectric Power number of instream facilities  \\\n0                                                 -   \n1                                                 0   \n2                                                 0   \n3                                                 -   \n4                                                 -   \n5                                                 -   \n6                                                 -   \n\n  Hydroelectric Power number of offstream facilities  \\\n0                                                  -   \n1                                                  -   \n2                                                  0   \n3                                                  -   \n4                                                  -   \n5                                                  -   \n6                                                  -   \n\n   Hydroelectric Power total number of facilities  \\\n0                                               -   \n1                                               -   \n2                                               0   \n3                                               -   \n4                                               -   \n5                                               -   \n6                                               -   \n\n  Wastewater Treatment returns by public wastewater facilities, in Mgal/d  \\\n0                                             266.21                        \n1                                              42.51                        \n2                                             225.27                        \n3                                                  -                        \n4                                                  -                        \n5                                                  -                        \n6                                                  -                        \n\n  Wastewater Treatment number of public wastewater facilities  \\\n0                                                 85            \n1                                                 35            \n2                                                 21            \n3                                                  -            \n4                                                  -            \n5                                                  -            \n6                                                  -            \n\n  Wastewater Treatment number of wastewater facilities  \\\n0                                                  -     \n1                                                  -     \n2                                                  -     \n3                                                  -     \n4                                                  -     \n5                                                  -     \n6                                                  -     \n\n  Wastewater Treatment reclaimed wastewater released by wastewater facilities, in Mgal/d  \n0                                                  -                                      \n1                                                  -                                      \n2                                                  -                                      \n3                                                  -                                      \n4                                                  -                                      \n5                                                  -                                      \n6                                                  -                                      \n\n[7 rows x 283 columns]",
      "text/html": "<div>\n<style scoped>\n    .dataframe tbody tr th:only-of-type {\n        vertical-align: middle;\n    }\n\n    .dataframe tbody tr th {\n        vertical-align: top;\n    }\n\n    .dataframe thead th {\n        text-align: right;\n    }\n</style>\n<table border=\"1\" class=\"dataframe\">\n  <thead>\n    <tr style=\"text-align: right;\">\n      <th></th>\n      <th>state_cd</th>\n      <th>state_name</th>\n      <th>county_cd</th>\n      <th>county_nm</th>\n      <th>year</th>\n      <th>Total Population total population of area, in thousands</th>\n      <th>Public Supply population served by groundwater, in thousands</th>\n      <th>Public Supply population served by surface water, in thousands</th>\n      <th>Public Supply total population served, in thousands</th>\n      <th>Public Supply self-supplied groundwater withdrawals, fresh, in Mgal/d</th>\n      <th>...</th>\n      <th>Hydroelectric Power power generated by instream use, in gigawatt-hours</th>\n      <th>Hydroelectric Power power generated by offstream use, in gigawatt-hours</th>\n      <th>Hydroelectric Power total power generated, in gigawatt-hours</th>\n      <th>Hydroelectric Power number of instream facilities</th>\n      <th>Hydroelectric Power number of offstream facilities</th>\n      <th>Hydroelectric Power total number of facilities</th>\n      <th>Wastewater Treatment returns by public wastewater facilities, in Mgal/d</th>\n      <th>Wastewater Treatment number of public wastewater facilities</th>\n      <th>Wastewater Treatment number of wastewater facilities</th>\n      <th>Wastewater Treatment reclaimed wastewater released by wastewater facilities, in Mgal/d</th>\n    </tr>\n  </thead>\n  <tbody>\n    <tr>\n      <th>0</th>\n      <td>42</td>\n      <td>Pennsylvania</td>\n      <td>3</td>\n      <td>Allegheny County</td>\n      <td>1985</td>\n      <td>1388.300</td>\n      <td>99.900</td>\n      <td>1227.030</td>\n      <td>1326.930</td>\n      <td>16.47</td>\n      <td>...</td>\n      <td>0.00</td>\n      <td>-</td>\n      <td>-</td>\n      <td>-</td>\n      <td>-</td>\n      <td>-</td>\n      <td>266.21</td>\n      <td>85</td>\n      <td>-</td>\n      <td>-</td>\n    </tr>\n    <tr>\n      <th>1</th>\n      <td>42</td>\n      <td>Pennsylvania</td>\n      <td>3</td>\n      <td>Allegheny County</td>\n      <td>1990</td>\n      <td>1336.450</td>\n      <td>221.260</td>\n      <td>1079.340</td>\n      <td>1300.600</td>\n      <td>13.51</td>\n      <td>...</td>\n      <td>0.00</td>\n      <td>-</td>\n      <td>-</td>\n      <td>0</td>\n      <td>-</td>\n      <td>-</td>\n      <td>42.51</td>\n      <td>35</td>\n      <td>-</td>\n      <td>-</td>\n    </tr>\n    <tr>\n      <th>2</th>\n      <td>42</td>\n      <td>Pennsylvania</td>\n      <td>3</td>\n      <td>Allegheny County</td>\n      <td>1995</td>\n      <td>1309.820</td>\n      <td>192.110</td>\n      <td>1090.800</td>\n      <td>1282.910</td>\n      <td>14.19</td>\n      <td>...</td>\n      <td>0.00</td>\n      <td>0.00</td>\n      <td>0.00</td>\n      <td>0</td>\n      <td>0</td>\n      <td>0</td>\n      <td>225.27</td>\n      <td>21</td>\n      <td>-</td>\n      <td>-</td>\n    </tr>\n    <tr>\n      <th>3</th>\n      <td>42</td>\n      <td>Pennsylvania</td>\n      <td>3</td>\n      <td>Allegheny County</td>\n      <td>2000</td>\n      <td>1281.670</td>\n      <td>-</td>\n      <td>-</td>\n      <td>1281.670</td>\n      <td>13.48</td>\n      <td>...</td>\n      <td>-</td>\n      <td>-</td>\n      <td>-</td>\n      <td>-</td>\n      <td>-</td>\n      <td>-</td>\n      <td>-</td>\n      <td>-</td>\n      <td>-</td>\n      <td>-</td>\n    </tr>\n    <tr>\n      <th>4</th>\n      <td>42</td>\n      <td>Pennsylvania</td>\n      <td>3</td>\n      <td>Allegheny County</td>\n      <td>2005</td>\n      <td>1235.841</td>\n      <td>64.264</td>\n      <td>1171.577</td>\n      <td>1235.841</td>\n      <td>0.45</td>\n      <td>...</td>\n      <td>-</td>\n      <td>-</td>\n      <td>-</td>\n      <td>-</td>\n      <td>-</td>\n      <td>-</td>\n      <td>-</td>\n      <td>-</td>\n      <td>-</td>\n      <td>-</td>\n    </tr>\n    <tr>\n      <th>5</th>\n      <td>42</td>\n      <td>Pennsylvania</td>\n      <td>3</td>\n      <td>Allegheny County</td>\n      <td>2010</td>\n      <td>1223.348</td>\n      <td>14.480</td>\n      <td>1021.370</td>\n      <td>1035.850</td>\n      <td>0.87</td>\n      <td>...</td>\n      <td>-</td>\n      <td>-</td>\n      <td>-</td>\n      <td>-</td>\n      <td>-</td>\n      <td>-</td>\n      <td>-</td>\n      <td>-</td>\n      <td>-</td>\n      <td>-</td>\n    </tr>\n    <tr>\n      <th>6</th>\n      <td>42</td>\n      <td>Pennsylvania</td>\n      <td>3</td>\n      <td>Allegheny County</td>\n      <td>2015</td>\n      <td>1230.459</td>\n      <td>91.855</td>\n      <td>980.108</td>\n      <td>1071.963</td>\n      <td>8.82</td>\n      <td>...</td>\n      <td>-</td>\n      <td>-</td>\n      <td>-</td>\n      <td>-</td>\n      <td>-</td>\n      <td>-</td>\n      <td>-</td>\n      <td>-</td>\n      <td>-</td>\n      <td>-</td>\n    </tr>\n  </tbody>\n</table>\n<p>7 rows × 283 columns</p>\n</div>"
     },
     "metadata": {},
     "output_type": "execute_result",
     "execution_count": 2
    }
   ],
   "source": [
    "'''\n",
    "allegheny <- readNWISuse(stateCd = \"Pennsylvania\",\n",
    "                         countyCd = \"Allegheny\")\n",
    "national <- readNWISuse(stateCd = NULL, \n",
    "                        countyCd = NULL, \n",
    "                        transform = TRUE)\n",
    "'''\n",
    "from dataretrieval import nwis\n",
    "allegheny = nwis.get_record(service=\"water_use\", state=\"PA\", counties=\"003\")\n",
    "allegheny\n",
    "#national = nwis.get_record(service=\"water_use\")\n",
    "#national"
   ]
  },
  {
   "cell_type": "markdown",
   "metadata": {},
   "source": [
    "## Statistics Data\n",
    "Retrieves site statistics from the USGS Statistics Web Service beta.  \n"
   ]
  },
  {
   "cell_type": "code",
   "execution_count": null,
   "metadata": {},
   "outputs": [],
   "source": [
    "'''\n",
    "discharge_stats <- readNWISstat(siteNumbers=c(\"02319394\"),\n",
    "                   parameterCd=c(\"00060\"),\n",
    "                   statReportType=\"annual\") \n",
    "'''\n",
    "nwis.get_stats(sites='02319394', parameterCd=\"00060\", statReportType='annual', statTypeCd='all')\n"
   ]
  },
  {
   "cell_type": "markdown",
   "metadata": {},
   "source": [
    "# Water Quality Portal Web Retrievals\n",
    "\n",
    "There are additional water quality data sets available from the [Water Quality Data Portal](https://www.waterqualitydata.us/).  These data sets can be housed in either the STORET database (data from EPA), NWIS database (data from USGS), STEWARDS database (data from USDA), and additional databases are slated to be included in the future.  Because only USGS uses parameter codes, a \"characteristic name\" must be supplied.  The `readWQPqw` function can take either a USGS parameter code, or a more general characteristic name in the parameterCd input argument. The Water Quality Data Portal includes data discovery tools and information on characteristic names. The following example retrieves specific conductance from a DNR site in Wisconsin. \n"
   ]
  },
  {
   "cell_type": "code",
   "execution_count": 2,
   "metadata": {
    "pycharm": {
     "is_executing": false
    }
   },
   "outputs": [
    {
     "name": "stdout",
     "text": [
      "https://www.waterqualitydata.us:443/data/Result/Search?siteid=WIDNR_WQX-10032762&characteristicName=Specific+conductance&startDateLo=05-01-2011&startDateHi=09-30-2011&zip=no&mimeType=csv\n"
     ],
     "output_type": "stream"
    },
    {
     "data": {
      "text/plain": "  OrganizationIdentifier                     OrganizationFormalName  \\\n0              WIDNR_WQX  Wisconsin Department of Natural Resources   \n1              WIDNR_WQX  Wisconsin Department of Natural Resources   \n2              WIDNR_WQX  Wisconsin Department of Natural Resources   \n3              WIDNR_WQX  Wisconsin Department of Natural Resources   \n4              WIDNR_WQX  Wisconsin Department of Natural Resources   \n\n   ActivityIdentifier ActivityTypeCode ActivityMediaName  \\\n0  WIDNR_WQX-45822640    Field Msr/Obs             Water   \n1  WIDNR_WQX-49176537    Field Msr/Obs             Water   \n2  WIDNR_WQX-47619240    Field Msr/Obs             Water   \n3  WIDNR_WQX-50689894    Field Msr/Obs             Water   \n4  WIDNR_WQX-46495059    Field Msr/Obs             Water   \n\n   ActivityMediaSubdivisionName ActivityStartDate ActivityStartTime/Time  \\\n0                           NaN        2011-05-09               12:20:00   \n1                           NaN        2011-08-08               13:55:00   \n2                           NaN        2011-07-06               08:35:00   \n3                           NaN        2011-09-11               16:10:00   \n4                           NaN        2011-06-05               14:45:00   \n\n  ActivityStartTime/TimeZoneCode ActivityEndDate     ...       \\\n0                            CDT      2011-05-09     ...        \n1                            CDT      2011-08-08     ...        \n2                            CDT      2011-07-06     ...        \n3                            CDT      2011-09-11     ...        \n4                            CDT      2011-06-05     ...        \n\n  ResultAnalyticalMethod/MethodName MethodDescriptionText  LaboratoryName  \\\n0                               NaN                   NaN             NaN   \n1                               NaN                   NaN             NaN   \n2                               NaN                   NaN             NaN   \n3                               NaN                   NaN             NaN   \n4                               NaN                   NaN             NaN   \n\n   AnalysisStartDate  ResultLaboratoryCommentText  \\\n0                NaN                          NaN   \n1                NaN                          NaN   \n2                NaN                          NaN   \n3                NaN                          NaN   \n4                NaN                          NaN   \n\n   DetectionQuantitationLimitTypeName  \\\n0                                 NaN   \n1                                 NaN   \n2                                 NaN   \n3                                 NaN   \n4                                 NaN   \n\n   DetectionQuantitationLimitMeasure/MeasureValue  \\\n0                                             NaN   \n1                                             NaN   \n2                                             NaN   \n3                                             NaN   \n4                                             NaN   \n\n   DetectionQuantitationLimitMeasure/MeasureUnitCode  PreparationStartDate  \\\n0                                                NaN                   NaN   \n1                                                NaN                   NaN   \n2                                                NaN                   NaN   \n3                                                NaN                   NaN   \n4                                                NaN                   NaN   \n\n  ProviderName  \n0       STORET  \n1       STORET  \n2       STORET  \n3       STORET  \n4       STORET  \n\n[5 rows x 63 columns]",
      "text/html": "<div>\n<style scoped>\n    .dataframe tbody tr th:only-of-type {\n        vertical-align: middle;\n    }\n\n    .dataframe tbody tr th {\n        vertical-align: top;\n    }\n\n    .dataframe thead th {\n        text-align: right;\n    }\n</style>\n<table border=\"1\" class=\"dataframe\">\n  <thead>\n    <tr style=\"text-align: right;\">\n      <th></th>\n      <th>OrganizationIdentifier</th>\n      <th>OrganizationFormalName</th>\n      <th>ActivityIdentifier</th>\n      <th>ActivityTypeCode</th>\n      <th>ActivityMediaName</th>\n      <th>ActivityMediaSubdivisionName</th>\n      <th>ActivityStartDate</th>\n      <th>ActivityStartTime/Time</th>\n      <th>ActivityStartTime/TimeZoneCode</th>\n      <th>ActivityEndDate</th>\n      <th>...</th>\n      <th>ResultAnalyticalMethod/MethodName</th>\n      <th>MethodDescriptionText</th>\n      <th>LaboratoryName</th>\n      <th>AnalysisStartDate</th>\n      <th>ResultLaboratoryCommentText</th>\n      <th>DetectionQuantitationLimitTypeName</th>\n      <th>DetectionQuantitationLimitMeasure/MeasureValue</th>\n      <th>DetectionQuantitationLimitMeasure/MeasureUnitCode</th>\n      <th>PreparationStartDate</th>\n      <th>ProviderName</th>\n    </tr>\n  </thead>\n  <tbody>\n    <tr>\n      <th>0</th>\n      <td>WIDNR_WQX</td>\n      <td>Wisconsin Department of Natural Resources</td>\n      <td>WIDNR_WQX-45822640</td>\n      <td>Field Msr/Obs</td>\n      <td>Water</td>\n      <td>NaN</td>\n      <td>2011-05-09</td>\n      <td>12:20:00</td>\n      <td>CDT</td>\n      <td>2011-05-09</td>\n      <td>...</td>\n      <td>NaN</td>\n      <td>NaN</td>\n      <td>NaN</td>\n      <td>NaN</td>\n      <td>NaN</td>\n      <td>NaN</td>\n      <td>NaN</td>\n      <td>NaN</td>\n      <td>NaN</td>\n      <td>STORET</td>\n    </tr>\n    <tr>\n      <th>1</th>\n      <td>WIDNR_WQX</td>\n      <td>Wisconsin Department of Natural Resources</td>\n      <td>WIDNR_WQX-49176537</td>\n      <td>Field Msr/Obs</td>\n      <td>Water</td>\n      <td>NaN</td>\n      <td>2011-08-08</td>\n      <td>13:55:00</td>\n      <td>CDT</td>\n      <td>2011-08-08</td>\n      <td>...</td>\n      <td>NaN</td>\n      <td>NaN</td>\n      <td>NaN</td>\n      <td>NaN</td>\n      <td>NaN</td>\n      <td>NaN</td>\n      <td>NaN</td>\n      <td>NaN</td>\n      <td>NaN</td>\n      <td>STORET</td>\n    </tr>\n    <tr>\n      <th>2</th>\n      <td>WIDNR_WQX</td>\n      <td>Wisconsin Department of Natural Resources</td>\n      <td>WIDNR_WQX-47619240</td>\n      <td>Field Msr/Obs</td>\n      <td>Water</td>\n      <td>NaN</td>\n      <td>2011-07-06</td>\n      <td>08:35:00</td>\n      <td>CDT</td>\n      <td>2011-07-06</td>\n      <td>...</td>\n      <td>NaN</td>\n      <td>NaN</td>\n      <td>NaN</td>\n      <td>NaN</td>\n      <td>NaN</td>\n      <td>NaN</td>\n      <td>NaN</td>\n      <td>NaN</td>\n      <td>NaN</td>\n      <td>STORET</td>\n    </tr>\n    <tr>\n      <th>3</th>\n      <td>WIDNR_WQX</td>\n      <td>Wisconsin Department of Natural Resources</td>\n      <td>WIDNR_WQX-50689894</td>\n      <td>Field Msr/Obs</td>\n      <td>Water</td>\n      <td>NaN</td>\n      <td>2011-09-11</td>\n      <td>16:10:00</td>\n      <td>CDT</td>\n      <td>2011-09-11</td>\n      <td>...</td>\n      <td>NaN</td>\n      <td>NaN</td>\n      <td>NaN</td>\n      <td>NaN</td>\n      <td>NaN</td>\n      <td>NaN</td>\n      <td>NaN</td>\n      <td>NaN</td>\n      <td>NaN</td>\n      <td>STORET</td>\n    </tr>\n    <tr>\n      <th>4</th>\n      <td>WIDNR_WQX</td>\n      <td>Wisconsin Department of Natural Resources</td>\n      <td>WIDNR_WQX-46495059</td>\n      <td>Field Msr/Obs</td>\n      <td>Water</td>\n      <td>NaN</td>\n      <td>2011-06-05</td>\n      <td>14:45:00</td>\n      <td>CDT</td>\n      <td>2011-06-05</td>\n      <td>...</td>\n      <td>NaN</td>\n      <td>NaN</td>\n      <td>NaN</td>\n      <td>NaN</td>\n      <td>NaN</td>\n      <td>NaN</td>\n      <td>NaN</td>\n      <td>NaN</td>\n      <td>NaN</td>\n      <td>STORET</td>\n    </tr>\n  </tbody>\n</table>\n<p>5 rows × 63 columns</p>\n</div>"
     },
     "metadata": {},
     "output_type": "execute_result",
     "execution_count": 2
    }
   ],
   "source": [
    "'''\n",
    "specificCond <- readWQPqw('WIDNR_WQX-10032762',\n",
    "                          'Specific conductance',\n",
    "                          '2011-05-01','2011-09-30')\n",
    "'''\n",
    "from dataretrieval import wqp\n",
    "results = wqp.get_results(siteid='WIDNR_WQX-10032762',\n",
    "                          characteristicName = 'Specific conductance',\n",
    "                          startDateLo='05-01-2011', startDateHi='09-30-2011')\n",
    "results"
   ]
  },
  {
   "cell_type": "markdown",
   "metadata": {},
   "source": [
    "A tool for finding NWIS characteristic names can be found [here](https://www.waterqualitydata.us/public_srsnames/)"
   ]
  },
  {
   "cell_type": "markdown",
   "metadata": {},
   "source": [
    "# Generalized Retrievals\n",
    "\n",
    "The previous examples all took specific input arguments: `siteNumber`, `parameterCd` (or characteristic name), `startDate`, `endDate`, etc. However, the Web services that supply the data can accept a wide variety of additional arguments. \n",
    "\n",
    "## NWIS \n",
    "\n",
    "### Sites: whatNWISsites\n",
    "\n",
    "The function `whatNWISsites` can be used to discover NWIS sites based on any query that the NWIS Site Service offers. This is done by using the `...` argument, which allows the user to use any arbitrary input argument. We can then use the service [here](https://waterservices.usgs.gov/rest/Site-Test-Tool.html) to discover many options for searching for NWIS sites. For example, you may want to search for sites in a lat/lon bounding box, or only sites tidal streams, or sites with water quality samples, sites above a certain altitude, etc. The results of this site query generate a URL. For example, the tool provided a search within a specified bounding box, for sites that have daily discharge (parameter code = 00060) and temperature (parameter code = 00010). The generated URL is:\n",
    "\n",
    "[https://waterservices.usgs.gov/nwis/site/?format=rdb&bBox=-83.0,36.5,-81.0,38.5&parameterCd=00010,00060&hasDataTypeCd=dv](https://waterservices.usgs.gov/nwis/site/?format=rdb&bBox=-83.0,36.5,-81.0,38.5&parameterCd=00010,00060&hasDataTypeCd=dv)\n",
    "\n",
    "The following `dataRetrieval` code can be used to get those sites:"
   ]
  },
  {
   "cell_type": "code",
   "execution_count": 1,
   "metadata": {
    "pycharm": {
     "is_executing": false
    }
   },
   "outputs": [
    {
     "data": {
      "text/plain": "    agency_cd   site_no                                         station_nm  \\\n0        USGS  03161500               SOUTH FORK NEW RIVER NR CRUMPLER, NC   \n1        USGS  03163000                         NEW RIVER NEAR BAYWOOD, VA   \n2        USGS  03175100    COX BRANCH AB TAZEWELL RESERVOIR NR GRATTON, VA   \n3        USGS  03175140            WEST FORK COVE CREEK NEAR BLUEFIELD, VA   \n4        USGS  03177700                   BLUESTONE RIVER AT BLUEFIELD, VA   \n5        USGS  03177710                 BLUESTONE RIVER AT FALLS MILLS, VA   \n6        USGS  03178000                     BLUESTONE R NR SPANISHBURG, WV   \n7        USGS  03178500                     CAMP CREEK NEAR CAMP CREEK, WV   \n8        USGS  03179000                  BLUESTONE RIVER NEAR PIPESTEM, WV   \n9        USGS  03185000                         PINEY CREEK AT RALEIGH, WV   \n10       USGS  03185400                          NEW RIVER AT THURMOND, WV   \n11       USGS  03185500                               NEW RIVER @ CAPERTON   \n12       USGS  03186000                                NEW RIVER @ FAYETTE   \n13       USGS  03191000                      GAULEY RIVER NEAR LEANDER, WV   \n14       USGS  03191500                     PETERS CREEK NEAR LOCKWOOD, WV   \n15       USGS  03192000                       GAULEY RIVER ABOVE BELVA, WV   \n16       USGS  03192200                    Twentymile Creek at Vaughan, WV   \n17       USGS  03192500                          GAULEY RIVER AT BELVA, WV   \n18       USGS  03193000                 KANAWHA RIVER AT KANAWHA FALLS, WV   \n19       USGS  03193742                       KANAWHA RIVER AT GLASGOW, WV   \n20       USGS  03193770                   KANAWHA RIVER AT CABIN CREEK, WV   \n21       USGS  03193776             RIGHT FORK LITTLE CREEK NR CHELYAN, WV   \n22       USGS  03193778                      LITTLE CREEK NEAR CHELYAN, WV   \n23       USGS  03196750                          BUFFALO CREEK AT CLAY, WV   \n24       USGS  03196800                              ELK RIVER AT CLAY, WV   \n25       USGS  03197000                      ELK RIVER AT QUEEN SHOALS, WV   \n26       USGS  03197500                             ELK R AT CLENDENIN, WV   \n27       USGS  03197680                         ELK RIVER AT BLUE CREEK,WV   \n28       USGS  03197790                 LITTLE SANDY CREEK NEAR ELKVIEW,WV   \n29       USGS  03198000                    KANAWHA RIVER AT CHARLESTON, WV   \n..        ...       ...                                                ...   \n176      USGS  03488100               N F HOLSTON RIVER NEAR PLASTERCO, VA   \n177      USGS  03488445                 BRUMLEY CREEK NEAR HANSONVILLE, VA   \n178      USGS  03488450                   BRUMLEY CREEK AT BRUMLEY GAP, VA   \n179      USGS  03488500                   N F HOLSTON RIVER AT HOLSTON, VA   \n180      USGS  03489500                   N F HOLSTON RIVER AT MENDOTA, VA   \n181      USGS  03489850                         COVE CREEK NEAR HILTON, VA   \n182      USGS  03489870  BIG MOCCASIN CR AT COLLINWOOD, NR HANSONVILLE, VA   \n183      USGS  03489900              BIG MOCCASIN CREEK NEAR GATE CITY, VA   \n184      USGS  03490000               N F HOLSTON RIVER NEAR GATE CITY, VA   \n185      USGS  03490350                 HOLSTON RIVER NEAR CHURCH HILL, TN   \n186      USGS  03521000                    CLINCH RIVER AT CEDAR BLUFF, VA   \n187      USGS  03521500                      CLINCH RIVER AT RICHLANDS, VA   \n188      USGS  03522000                        LITTLE RIVER AT WARDELL, VA   \n189      USGS  03523000                   BIG CEDAR CREEK NEAR LEBANON, VA   \n190      USGS  03523500                   THOMPSON CREEK NEAR COULWOOD, VA   \n191      USGS  03524000                      CLINCH RIVER AT CLEVELAND, VA   \n192      USGS  03524500                         GUEST RIVER AT COEBURN, VA   \n193      USGS  03524550                   GUEST RIVER NEAR MILLER YARD, VA   \n194      USGS  03524740          CLINCH RIVER AT ROUTE 65 AT DUNGANNON, VA   \n195      USGS  03524900                              STONY CREEK AT KA, VA   \n196      USGS  03525000                  STONY CREEK AT FORT BLACKMORE, VA   \n197      USGS  03525500                     CLINCH RIVER AT CLINCHPORT, VA   \n198      USGS  03526000                    COPPER CREEK NEAR GATE CITY, VA   \n199      USGS  03526990       COPPER CREEK ABOVE MOUTH AT SPEERS FERRY, VA   \n200      USGS  03527000                   CLINCH RIVER AT SPEERS FERRY, VA   \n201      USGS  03527220                  CLINCH RIVER NEAR LOONEYS GAP, TN   \n202      USGS  03527500                   N F CLINCH RIVER AT DUFFIELD, VA   \n203      USGS  03529500                  POWELL RIVER AT BIG STONE GAP, VA   \n204      USGS  03530000              S F POWELL RIVER AT BIG STONE GAP, VA   \n205      USGS  03531000               POWELL RIVER NEAR PENNINGTON GAP, VA   \n\n    site_tp_cd  dec_lat_va  dec_long_va coord_acy_cd dec_coord_datum_cd  \\\n0           ST   36.534847   -81.342877            S              NAD83   \n1           ST   36.608461   -81.044250            U              NAD83   \n2           ST   37.153449   -81.413995            U              NAD83   \n3           ST   37.184283   -81.329824            S              NAD83   \n4           ST   37.255950   -81.281766            U              NAD83   \n5           ST   37.271506   -81.304823            U              NAD83   \n6           ST   37.433472   -81.110000            1              NAD83   \n7           ST   37.504284   -81.127595            U              NAD83   \n8           ST   37.544008   -81.010368            U              NAD83   \n9           ST   37.760671   -81.162321            U              NAD83   \n10          ST   37.955113   -81.076488            F              NAD83   \n11          ST   38.022334   -81.028988            U              NAD83   \n12          ST   38.065388   -81.077601            U              NAD83   \n13          ST   38.202886   -81.013712            U              NAD83   \n14          ST   38.264611   -81.023111            F              NAD83   \n15          ST   38.233440   -81.180942            U              NAD83   \n16          ST   38.277778   -81.143611            S              NAD83   \n17          ST   38.225106   -81.191497            U              NAD83   \n18          ST   38.138163   -81.214275            F              NAD83   \n19          ST   38.206493   -81.424837            U              NAD83   \n20          ST   38.199548   -81.477894            U              NAD83   \n21          ST   38.179270   -81.517894            U              NAD83   \n22          ST   38.182603   -81.512339            U              NAD83   \n23          ST   38.454546   -81.066774            U              NAD83   \n24          ST   38.460657   -81.087609            U              NAD83   \n25          ST   38.470932   -81.284006            U              NAD83   \n26          ST   38.489820   -81.349841            U              NAD83   \n27          ST   38.449264   -81.455955            U              NAD83   \n28          ST   38.455944   -81.501194            S              NAD83   \n29          ST   38.371484   -81.702070            U              NAD83   \n..         ...         ...          ...          ...                ...   \n176         ST   36.864557   -81.837900            U              NAD83   \n177         ST   36.855943   -82.045129            U              NAD83   \n178         ST   36.791777   -82.019295            M              NAD83   \n179         ST   36.774831   -82.072631            U              NAD83   \n180         ST   36.701492   -82.307086            U              NAD83   \n181         ST   36.652325   -82.364588            U              NAD83   \n182         ST   36.737881   -82.323476            U              NAD83   \n183         ST   36.646489   -82.553209            U              NAD83   \n184         ST   36.608711   -82.567931            U              NAD83   \n185         ST   36.516765   -82.723215            U              NAD83   \n186         ST   37.089003   -81.766503            U              NAD83   \n187         ST   37.086225   -81.780949            M              NAD83   \n188         ST   37.037891   -81.797617            U              NAD83   \n189         ST   36.908165   -82.038740            U              NAD83   \n190         ST   36.989276   -82.062074            U              NAD83   \n191         ST   36.944829   -82.154857            U              NAD83   \n192         ST   36.929269   -82.456262            U              NAD83   \n193         ST   36.878714   -82.405981            U              NAD83   \n194         ST   36.831389   -82.461944            S              NAD83   \n195         ST   36.815932   -82.617101            U              NAD83   \n196         ST   36.775099   -82.580434            U              NAD83   \n197         ST   36.673708   -82.747105            U              NAD83   \n198         ST   36.673988   -82.565710            U              NAD83   \n199         ST   36.655375   -82.743216            S              NAD83   \n200         ST   36.648708   -82.750438            U              NAD83   \n201         ST   36.572807   -82.938754            U              NAD83   \n202         ST   36.711207   -82.795717            U              NAD83   \n203         ST   36.868985   -82.775439            U              NAD83   \n204         ST   36.865097   -82.770994            U              NAD83   \n205         ST   36.734533   -82.998777            U              NAD83   \n\n      alt_va  alt_acy_va alt_datum_cd   huc_cd  \n0    2550.00        1.00       NGVD29  5050001  \n1    2260.00        1.00       NGVD29  5050001  \n2    2990.00        1.00       NGVD29  5050002  \n3    2650.00       20.00       NGVD29  5050002  \n4    2350.00        1.00       NGVD29  5050002  \n5    2316.68        0.60       NAVD88  5050002  \n6    2051.13       10.00       NGVD29  5050002  \n7        NaN         NaN          NaN  5050002  \n8    1526.91       10.00       NAVD88  5050002  \n9    2083.90        0.10       NAVD88  5050004  \n10   1030.70        0.20       NAVD88  5050004  \n11    938.44        0.10       NGVD29  5050004  \n12    838.44        0.10      COE1912  5050004  \n13    981.17        0.10       NGVD29  5050005  \n14   1064.10       10.00       NAVD88  5050005  \n15    668.79       10.00       NAVD88  5050005  \n16    798.00       29.00       NAVD88  5050005  \n17    663.53        0.10      COE1912  5050005  \n18    620.39        0.10       NAVD88  5050006  \n19       NaN         NaN          NaN  5050006  \n20       NaN         NaN          NaN  5050006  \n21       NaN         NaN          NaN  5050006  \n22    750.00       20.00       NGVD29  5050006  \n23       NaN         NaN          NaN  5050007  \n24    677.23        0.16       NAVD88  5050007  \n25    603.50       10.00       NAVD88  5050007  \n26    588.70        0.10       NGVD29  5050007  \n27    578.22        0.10       NGVD29  5050007  \n28       NaN         NaN          NaN  5050007  \n29    547.34       10.00       NAVD88  5050008  \n..       ...         ...          ...      ...  \n176  1625.84        1.00       NGVD29  6010101  \n177  3371.95        1.00       NGVD29  6010101  \n178  1489.16        0.01       NGVD29  6010101  \n179  1437.11        1.00       NGVD29  6010101  \n180  1329.67        1.00       NGVD29  6010101  \n181  1354.40        0.01       NGVD29  6010101  \n182  1796.34        1.00       NGVD29  6010101  \n183  1267.64        1.00       NGVD29  6010101  \n184  1197.56        1.00       NGVD29  6010101  \n185      NaN         NaN          NaN  6010104  \n186  1940.00        1.00       NGVD29  6010205  \n187  1924.08        0.01       NGVD29  6010205  \n188  2033.01        1.00       NGVD29  6010205  \n189  1895.76        0.01       NGVD29  6010205  \n190  1573.22        1.00       NGVD29  6010205  \n191  1499.78        0.12       NAVD88  6010205  \n192  1925.29        0.10       NAVD88  6010205  \n193  1400.00        1.00       NGVD29  6010205  \n194      NaN         NaN          NaN  6010205  \n195  1510.00        1.00       NGVD29  6010205  \n196  1269.78        0.01       NGVD29  6010205  \n197  1210.00        1.00       NGVD29  6010205  \n198  1301.95        1.00       NGVD29  6010205  \n199      NaN         NaN          NaN  6010205  \n200  1195.91        0.21       NAVD88  6010205  \n201      NaN         NaN          NaN  6010205  \n202  1314.14        1.00       NGVD29  6010205  \n203  1458.34        0.23       NAVD88  6010206  \n204  1470.00        1.00       NGVD29  6010206  \n205  1320.00        1.00       NGVD29  6010206  \n\n[206 rows x 12 columns]",
      "text/html": "<div>\n<style scoped>\n    .dataframe tbody tr th:only-of-type {\n        vertical-align: middle;\n    }\n\n    .dataframe tbody tr th {\n        vertical-align: top;\n    }\n\n    .dataframe thead th {\n        text-align: right;\n    }\n</style>\n<table border=\"1\" class=\"dataframe\">\n  <thead>\n    <tr style=\"text-align: right;\">\n      <th></th>\n      <th>agency_cd</th>\n      <th>site_no</th>\n      <th>station_nm</th>\n      <th>site_tp_cd</th>\n      <th>dec_lat_va</th>\n      <th>dec_long_va</th>\n      <th>coord_acy_cd</th>\n      <th>dec_coord_datum_cd</th>\n      <th>alt_va</th>\n      <th>alt_acy_va</th>\n      <th>alt_datum_cd</th>\n      <th>huc_cd</th>\n    </tr>\n  </thead>\n  <tbody>\n    <tr>\n      <th>0</th>\n      <td>USGS</td>\n      <td>03161500</td>\n      <td>SOUTH FORK NEW RIVER NR CRUMPLER, NC</td>\n      <td>ST</td>\n      <td>36.534847</td>\n      <td>-81.342877</td>\n      <td>S</td>\n      <td>NAD83</td>\n      <td>2550.00</td>\n      <td>1.00</td>\n      <td>NGVD29</td>\n      <td>5050001</td>\n    </tr>\n    <tr>\n      <th>1</th>\n      <td>USGS</td>\n      <td>03163000</td>\n      <td>NEW RIVER NEAR BAYWOOD, VA</td>\n      <td>ST</td>\n      <td>36.608461</td>\n      <td>-81.044250</td>\n      <td>U</td>\n      <td>NAD83</td>\n      <td>2260.00</td>\n      <td>1.00</td>\n      <td>NGVD29</td>\n      <td>5050001</td>\n    </tr>\n    <tr>\n      <th>2</th>\n      <td>USGS</td>\n      <td>03175100</td>\n      <td>COX BRANCH AB TAZEWELL RESERVOIR NR GRATTON, VA</td>\n      <td>ST</td>\n      <td>37.153449</td>\n      <td>-81.413995</td>\n      <td>U</td>\n      <td>NAD83</td>\n      <td>2990.00</td>\n      <td>1.00</td>\n      <td>NGVD29</td>\n      <td>5050002</td>\n    </tr>\n    <tr>\n      <th>3</th>\n      <td>USGS</td>\n      <td>03175140</td>\n      <td>WEST FORK COVE CREEK NEAR BLUEFIELD, VA</td>\n      <td>ST</td>\n      <td>37.184283</td>\n      <td>-81.329824</td>\n      <td>S</td>\n      <td>NAD83</td>\n      <td>2650.00</td>\n      <td>20.00</td>\n      <td>NGVD29</td>\n      <td>5050002</td>\n    </tr>\n    <tr>\n      <th>4</th>\n      <td>USGS</td>\n      <td>03177700</td>\n      <td>BLUESTONE RIVER AT BLUEFIELD, VA</td>\n      <td>ST</td>\n      <td>37.255950</td>\n      <td>-81.281766</td>\n      <td>U</td>\n      <td>NAD83</td>\n      <td>2350.00</td>\n      <td>1.00</td>\n      <td>NGVD29</td>\n      <td>5050002</td>\n    </tr>\n    <tr>\n      <th>5</th>\n      <td>USGS</td>\n      <td>03177710</td>\n      <td>BLUESTONE RIVER AT FALLS MILLS, VA</td>\n      <td>ST</td>\n      <td>37.271506</td>\n      <td>-81.304823</td>\n      <td>U</td>\n      <td>NAD83</td>\n      <td>2316.68</td>\n      <td>0.60</td>\n      <td>NAVD88</td>\n      <td>5050002</td>\n    </tr>\n    <tr>\n      <th>6</th>\n      <td>USGS</td>\n      <td>03178000</td>\n      <td>BLUESTONE R NR SPANISHBURG, WV</td>\n      <td>ST</td>\n      <td>37.433472</td>\n      <td>-81.110000</td>\n      <td>1</td>\n      <td>NAD83</td>\n      <td>2051.13</td>\n      <td>10.00</td>\n      <td>NGVD29</td>\n      <td>5050002</td>\n    </tr>\n    <tr>\n      <th>7</th>\n      <td>USGS</td>\n      <td>03178500</td>\n      <td>CAMP CREEK NEAR CAMP CREEK, WV</td>\n      <td>ST</td>\n      <td>37.504284</td>\n      <td>-81.127595</td>\n      <td>U</td>\n      <td>NAD83</td>\n      <td>NaN</td>\n      <td>NaN</td>\n      <td>NaN</td>\n      <td>5050002</td>\n    </tr>\n    <tr>\n      <th>8</th>\n      <td>USGS</td>\n      <td>03179000</td>\n      <td>BLUESTONE RIVER NEAR PIPESTEM, WV</td>\n      <td>ST</td>\n      <td>37.544008</td>\n      <td>-81.010368</td>\n      <td>U</td>\n      <td>NAD83</td>\n      <td>1526.91</td>\n      <td>10.00</td>\n      <td>NAVD88</td>\n      <td>5050002</td>\n    </tr>\n    <tr>\n      <th>9</th>\n      <td>USGS</td>\n      <td>03185000</td>\n      <td>PINEY CREEK AT RALEIGH, WV</td>\n      <td>ST</td>\n      <td>37.760671</td>\n      <td>-81.162321</td>\n      <td>U</td>\n      <td>NAD83</td>\n      <td>2083.90</td>\n      <td>0.10</td>\n      <td>NAVD88</td>\n      <td>5050004</td>\n    </tr>\n    <tr>\n      <th>10</th>\n      <td>USGS</td>\n      <td>03185400</td>\n      <td>NEW RIVER AT THURMOND, WV</td>\n      <td>ST</td>\n      <td>37.955113</td>\n      <td>-81.076488</td>\n      <td>F</td>\n      <td>NAD83</td>\n      <td>1030.70</td>\n      <td>0.20</td>\n      <td>NAVD88</td>\n      <td>5050004</td>\n    </tr>\n    <tr>\n      <th>11</th>\n      <td>USGS</td>\n      <td>03185500</td>\n      <td>NEW RIVER @ CAPERTON</td>\n      <td>ST</td>\n      <td>38.022334</td>\n      <td>-81.028988</td>\n      <td>U</td>\n      <td>NAD83</td>\n      <td>938.44</td>\n      <td>0.10</td>\n      <td>NGVD29</td>\n      <td>5050004</td>\n    </tr>\n    <tr>\n      <th>12</th>\n      <td>USGS</td>\n      <td>03186000</td>\n      <td>NEW RIVER @ FAYETTE</td>\n      <td>ST</td>\n      <td>38.065388</td>\n      <td>-81.077601</td>\n      <td>U</td>\n      <td>NAD83</td>\n      <td>838.44</td>\n      <td>0.10</td>\n      <td>COE1912</td>\n      <td>5050004</td>\n    </tr>\n    <tr>\n      <th>13</th>\n      <td>USGS</td>\n      <td>03191000</td>\n      <td>GAULEY RIVER NEAR LEANDER, WV</td>\n      <td>ST</td>\n      <td>38.202886</td>\n      <td>-81.013712</td>\n      <td>U</td>\n      <td>NAD83</td>\n      <td>981.17</td>\n      <td>0.10</td>\n      <td>NGVD29</td>\n      <td>5050005</td>\n    </tr>\n    <tr>\n      <th>14</th>\n      <td>USGS</td>\n      <td>03191500</td>\n      <td>PETERS CREEK NEAR LOCKWOOD, WV</td>\n      <td>ST</td>\n      <td>38.264611</td>\n      <td>-81.023111</td>\n      <td>F</td>\n      <td>NAD83</td>\n      <td>1064.10</td>\n      <td>10.00</td>\n      <td>NAVD88</td>\n      <td>5050005</td>\n    </tr>\n    <tr>\n      <th>15</th>\n      <td>USGS</td>\n      <td>03192000</td>\n      <td>GAULEY RIVER ABOVE BELVA, WV</td>\n      <td>ST</td>\n      <td>38.233440</td>\n      <td>-81.180942</td>\n      <td>U</td>\n      <td>NAD83</td>\n      <td>668.79</td>\n      <td>10.00</td>\n      <td>NAVD88</td>\n      <td>5050005</td>\n    </tr>\n    <tr>\n      <th>16</th>\n      <td>USGS</td>\n      <td>03192200</td>\n      <td>Twentymile Creek at Vaughan, WV</td>\n      <td>ST</td>\n      <td>38.277778</td>\n      <td>-81.143611</td>\n      <td>S</td>\n      <td>NAD83</td>\n      <td>798.00</td>\n      <td>29.00</td>\n      <td>NAVD88</td>\n      <td>5050005</td>\n    </tr>\n    <tr>\n      <th>17</th>\n      <td>USGS</td>\n      <td>03192500</td>\n      <td>GAULEY RIVER AT BELVA, WV</td>\n      <td>ST</td>\n      <td>38.225106</td>\n      <td>-81.191497</td>\n      <td>U</td>\n      <td>NAD83</td>\n      <td>663.53</td>\n      <td>0.10</td>\n      <td>COE1912</td>\n      <td>5050005</td>\n    </tr>\n    <tr>\n      <th>18</th>\n      <td>USGS</td>\n      <td>03193000</td>\n      <td>KANAWHA RIVER AT KANAWHA FALLS, WV</td>\n      <td>ST</td>\n      <td>38.138163</td>\n      <td>-81.214275</td>\n      <td>F</td>\n      <td>NAD83</td>\n      <td>620.39</td>\n      <td>0.10</td>\n      <td>NAVD88</td>\n      <td>5050006</td>\n    </tr>\n    <tr>\n      <th>19</th>\n      <td>USGS</td>\n      <td>03193742</td>\n      <td>KANAWHA RIVER AT GLASGOW, WV</td>\n      <td>ST</td>\n      <td>38.206493</td>\n      <td>-81.424837</td>\n      <td>U</td>\n      <td>NAD83</td>\n      <td>NaN</td>\n      <td>NaN</td>\n      <td>NaN</td>\n      <td>5050006</td>\n    </tr>\n    <tr>\n      <th>20</th>\n      <td>USGS</td>\n      <td>03193770</td>\n      <td>KANAWHA RIVER AT CABIN CREEK, WV</td>\n      <td>ST</td>\n      <td>38.199548</td>\n      <td>-81.477894</td>\n      <td>U</td>\n      <td>NAD83</td>\n      <td>NaN</td>\n      <td>NaN</td>\n      <td>NaN</td>\n      <td>5050006</td>\n    </tr>\n    <tr>\n      <th>21</th>\n      <td>USGS</td>\n      <td>03193776</td>\n      <td>RIGHT FORK LITTLE CREEK NR CHELYAN, WV</td>\n      <td>ST</td>\n      <td>38.179270</td>\n      <td>-81.517894</td>\n      <td>U</td>\n      <td>NAD83</td>\n      <td>NaN</td>\n      <td>NaN</td>\n      <td>NaN</td>\n      <td>5050006</td>\n    </tr>\n    <tr>\n      <th>22</th>\n      <td>USGS</td>\n      <td>03193778</td>\n      <td>LITTLE CREEK NEAR CHELYAN, WV</td>\n      <td>ST</td>\n      <td>38.182603</td>\n      <td>-81.512339</td>\n      <td>U</td>\n      <td>NAD83</td>\n      <td>750.00</td>\n      <td>20.00</td>\n      <td>NGVD29</td>\n      <td>5050006</td>\n    </tr>\n    <tr>\n      <th>23</th>\n      <td>USGS</td>\n      <td>03196750</td>\n      <td>BUFFALO CREEK AT CLAY, WV</td>\n      <td>ST</td>\n      <td>38.454546</td>\n      <td>-81.066774</td>\n      <td>U</td>\n      <td>NAD83</td>\n      <td>NaN</td>\n      <td>NaN</td>\n      <td>NaN</td>\n      <td>5050007</td>\n    </tr>\n    <tr>\n      <th>24</th>\n      <td>USGS</td>\n      <td>03196800</td>\n      <td>ELK RIVER AT CLAY, WV</td>\n      <td>ST</td>\n      <td>38.460657</td>\n      <td>-81.087609</td>\n      <td>U</td>\n      <td>NAD83</td>\n      <td>677.23</td>\n      <td>0.16</td>\n      <td>NAVD88</td>\n      <td>5050007</td>\n    </tr>\n    <tr>\n      <th>25</th>\n      <td>USGS</td>\n      <td>03197000</td>\n      <td>ELK RIVER AT QUEEN SHOALS, WV</td>\n      <td>ST</td>\n      <td>38.470932</td>\n      <td>-81.284006</td>\n      <td>U</td>\n      <td>NAD83</td>\n      <td>603.50</td>\n      <td>10.00</td>\n      <td>NAVD88</td>\n      <td>5050007</td>\n    </tr>\n    <tr>\n      <th>26</th>\n      <td>USGS</td>\n      <td>03197500</td>\n      <td>ELK R AT CLENDENIN, WV</td>\n      <td>ST</td>\n      <td>38.489820</td>\n      <td>-81.349841</td>\n      <td>U</td>\n      <td>NAD83</td>\n      <td>588.70</td>\n      <td>0.10</td>\n      <td>NGVD29</td>\n      <td>5050007</td>\n    </tr>\n    <tr>\n      <th>27</th>\n      <td>USGS</td>\n      <td>03197680</td>\n      <td>ELK RIVER AT BLUE CREEK,WV</td>\n      <td>ST</td>\n      <td>38.449264</td>\n      <td>-81.455955</td>\n      <td>U</td>\n      <td>NAD83</td>\n      <td>578.22</td>\n      <td>0.10</td>\n      <td>NGVD29</td>\n      <td>5050007</td>\n    </tr>\n    <tr>\n      <th>28</th>\n      <td>USGS</td>\n      <td>03197790</td>\n      <td>LITTLE SANDY CREEK NEAR ELKVIEW,WV</td>\n      <td>ST</td>\n      <td>38.455944</td>\n      <td>-81.501194</td>\n      <td>S</td>\n      <td>NAD83</td>\n      <td>NaN</td>\n      <td>NaN</td>\n      <td>NaN</td>\n      <td>5050007</td>\n    </tr>\n    <tr>\n      <th>29</th>\n      <td>USGS</td>\n      <td>03198000</td>\n      <td>KANAWHA RIVER AT CHARLESTON, WV</td>\n      <td>ST</td>\n      <td>38.371484</td>\n      <td>-81.702070</td>\n      <td>U</td>\n      <td>NAD83</td>\n      <td>547.34</td>\n      <td>10.00</td>\n      <td>NAVD88</td>\n      <td>5050008</td>\n    </tr>\n    <tr>\n      <th>...</th>\n      <td>...</td>\n      <td>...</td>\n      <td>...</td>\n      <td>...</td>\n      <td>...</td>\n      <td>...</td>\n      <td>...</td>\n      <td>...</td>\n      <td>...</td>\n      <td>...</td>\n      <td>...</td>\n      <td>...</td>\n    </tr>\n    <tr>\n      <th>176</th>\n      <td>USGS</td>\n      <td>03488100</td>\n      <td>N F HOLSTON RIVER NEAR PLASTERCO, VA</td>\n      <td>ST</td>\n      <td>36.864557</td>\n      <td>-81.837900</td>\n      <td>U</td>\n      <td>NAD83</td>\n      <td>1625.84</td>\n      <td>1.00</td>\n      <td>NGVD29</td>\n      <td>6010101</td>\n    </tr>\n    <tr>\n      <th>177</th>\n      <td>USGS</td>\n      <td>03488445</td>\n      <td>BRUMLEY CREEK NEAR HANSONVILLE, VA</td>\n      <td>ST</td>\n      <td>36.855943</td>\n      <td>-82.045129</td>\n      <td>U</td>\n      <td>NAD83</td>\n      <td>3371.95</td>\n      <td>1.00</td>\n      <td>NGVD29</td>\n      <td>6010101</td>\n    </tr>\n    <tr>\n      <th>178</th>\n      <td>USGS</td>\n      <td>03488450</td>\n      <td>BRUMLEY CREEK AT BRUMLEY GAP, VA</td>\n      <td>ST</td>\n      <td>36.791777</td>\n      <td>-82.019295</td>\n      <td>M</td>\n      <td>NAD83</td>\n      <td>1489.16</td>\n      <td>0.01</td>\n      <td>NGVD29</td>\n      <td>6010101</td>\n    </tr>\n    <tr>\n      <th>179</th>\n      <td>USGS</td>\n      <td>03488500</td>\n      <td>N F HOLSTON RIVER AT HOLSTON, VA</td>\n      <td>ST</td>\n      <td>36.774831</td>\n      <td>-82.072631</td>\n      <td>U</td>\n      <td>NAD83</td>\n      <td>1437.11</td>\n      <td>1.00</td>\n      <td>NGVD29</td>\n      <td>6010101</td>\n    </tr>\n    <tr>\n      <th>180</th>\n      <td>USGS</td>\n      <td>03489500</td>\n      <td>N F HOLSTON RIVER AT MENDOTA, VA</td>\n      <td>ST</td>\n      <td>36.701492</td>\n      <td>-82.307086</td>\n      <td>U</td>\n      <td>NAD83</td>\n      <td>1329.67</td>\n      <td>1.00</td>\n      <td>NGVD29</td>\n      <td>6010101</td>\n    </tr>\n    <tr>\n      <th>181</th>\n      <td>USGS</td>\n      <td>03489850</td>\n      <td>COVE CREEK NEAR HILTON, VA</td>\n      <td>ST</td>\n      <td>36.652325</td>\n      <td>-82.364588</td>\n      <td>U</td>\n      <td>NAD83</td>\n      <td>1354.40</td>\n      <td>0.01</td>\n      <td>NGVD29</td>\n      <td>6010101</td>\n    </tr>\n    <tr>\n      <th>182</th>\n      <td>USGS</td>\n      <td>03489870</td>\n      <td>BIG MOCCASIN CR AT COLLINWOOD, NR HANSONVILLE, VA</td>\n      <td>ST</td>\n      <td>36.737881</td>\n      <td>-82.323476</td>\n      <td>U</td>\n      <td>NAD83</td>\n      <td>1796.34</td>\n      <td>1.00</td>\n      <td>NGVD29</td>\n      <td>6010101</td>\n    </tr>\n    <tr>\n      <th>183</th>\n      <td>USGS</td>\n      <td>03489900</td>\n      <td>BIG MOCCASIN CREEK NEAR GATE CITY, VA</td>\n      <td>ST</td>\n      <td>36.646489</td>\n      <td>-82.553209</td>\n      <td>U</td>\n      <td>NAD83</td>\n      <td>1267.64</td>\n      <td>1.00</td>\n      <td>NGVD29</td>\n      <td>6010101</td>\n    </tr>\n    <tr>\n      <th>184</th>\n      <td>USGS</td>\n      <td>03490000</td>\n      <td>N F HOLSTON RIVER NEAR GATE CITY, VA</td>\n      <td>ST</td>\n      <td>36.608711</td>\n      <td>-82.567931</td>\n      <td>U</td>\n      <td>NAD83</td>\n      <td>1197.56</td>\n      <td>1.00</td>\n      <td>NGVD29</td>\n      <td>6010101</td>\n    </tr>\n    <tr>\n      <th>185</th>\n      <td>USGS</td>\n      <td>03490350</td>\n      <td>HOLSTON RIVER NEAR CHURCH HILL, TN</td>\n      <td>ST</td>\n      <td>36.516765</td>\n      <td>-82.723215</td>\n      <td>U</td>\n      <td>NAD83</td>\n      <td>NaN</td>\n      <td>NaN</td>\n      <td>NaN</td>\n      <td>6010104</td>\n    </tr>\n    <tr>\n      <th>186</th>\n      <td>USGS</td>\n      <td>03521000</td>\n      <td>CLINCH RIVER AT CEDAR BLUFF, VA</td>\n      <td>ST</td>\n      <td>37.089003</td>\n      <td>-81.766503</td>\n      <td>U</td>\n      <td>NAD83</td>\n      <td>1940.00</td>\n      <td>1.00</td>\n      <td>NGVD29</td>\n      <td>6010205</td>\n    </tr>\n    <tr>\n      <th>187</th>\n      <td>USGS</td>\n      <td>03521500</td>\n      <td>CLINCH RIVER AT RICHLANDS, VA</td>\n      <td>ST</td>\n      <td>37.086225</td>\n      <td>-81.780949</td>\n      <td>M</td>\n      <td>NAD83</td>\n      <td>1924.08</td>\n      <td>0.01</td>\n      <td>NGVD29</td>\n      <td>6010205</td>\n    </tr>\n    <tr>\n      <th>188</th>\n      <td>USGS</td>\n      <td>03522000</td>\n      <td>LITTLE RIVER AT WARDELL, VA</td>\n      <td>ST</td>\n      <td>37.037891</td>\n      <td>-81.797617</td>\n      <td>U</td>\n      <td>NAD83</td>\n      <td>2033.01</td>\n      <td>1.00</td>\n      <td>NGVD29</td>\n      <td>6010205</td>\n    </tr>\n    <tr>\n      <th>189</th>\n      <td>USGS</td>\n      <td>03523000</td>\n      <td>BIG CEDAR CREEK NEAR LEBANON, VA</td>\n      <td>ST</td>\n      <td>36.908165</td>\n      <td>-82.038740</td>\n      <td>U</td>\n      <td>NAD83</td>\n      <td>1895.76</td>\n      <td>0.01</td>\n      <td>NGVD29</td>\n      <td>6010205</td>\n    </tr>\n    <tr>\n      <th>190</th>\n      <td>USGS</td>\n      <td>03523500</td>\n      <td>THOMPSON CREEK NEAR COULWOOD, VA</td>\n      <td>ST</td>\n      <td>36.989276</td>\n      <td>-82.062074</td>\n      <td>U</td>\n      <td>NAD83</td>\n      <td>1573.22</td>\n      <td>1.00</td>\n      <td>NGVD29</td>\n      <td>6010205</td>\n    </tr>\n    <tr>\n      <th>191</th>\n      <td>USGS</td>\n      <td>03524000</td>\n      <td>CLINCH RIVER AT CLEVELAND, VA</td>\n      <td>ST</td>\n      <td>36.944829</td>\n      <td>-82.154857</td>\n      <td>U</td>\n      <td>NAD83</td>\n      <td>1499.78</td>\n      <td>0.12</td>\n      <td>NAVD88</td>\n      <td>6010205</td>\n    </tr>\n    <tr>\n      <th>192</th>\n      <td>USGS</td>\n      <td>03524500</td>\n      <td>GUEST RIVER AT COEBURN, VA</td>\n      <td>ST</td>\n      <td>36.929269</td>\n      <td>-82.456262</td>\n      <td>U</td>\n      <td>NAD83</td>\n      <td>1925.29</td>\n      <td>0.10</td>\n      <td>NAVD88</td>\n      <td>6010205</td>\n    </tr>\n    <tr>\n      <th>193</th>\n      <td>USGS</td>\n      <td>03524550</td>\n      <td>GUEST RIVER NEAR MILLER YARD, VA</td>\n      <td>ST</td>\n      <td>36.878714</td>\n      <td>-82.405981</td>\n      <td>U</td>\n      <td>NAD83</td>\n      <td>1400.00</td>\n      <td>1.00</td>\n      <td>NGVD29</td>\n      <td>6010205</td>\n    </tr>\n    <tr>\n      <th>194</th>\n      <td>USGS</td>\n      <td>03524740</td>\n      <td>CLINCH RIVER AT ROUTE 65 AT DUNGANNON, VA</td>\n      <td>ST</td>\n      <td>36.831389</td>\n      <td>-82.461944</td>\n      <td>S</td>\n      <td>NAD83</td>\n      <td>NaN</td>\n      <td>NaN</td>\n      <td>NaN</td>\n      <td>6010205</td>\n    </tr>\n    <tr>\n      <th>195</th>\n      <td>USGS</td>\n      <td>03524900</td>\n      <td>STONY CREEK AT KA, VA</td>\n      <td>ST</td>\n      <td>36.815932</td>\n      <td>-82.617101</td>\n      <td>U</td>\n      <td>NAD83</td>\n      <td>1510.00</td>\n      <td>1.00</td>\n      <td>NGVD29</td>\n      <td>6010205</td>\n    </tr>\n    <tr>\n      <th>196</th>\n      <td>USGS</td>\n      <td>03525000</td>\n      <td>STONY CREEK AT FORT BLACKMORE, VA</td>\n      <td>ST</td>\n      <td>36.775099</td>\n      <td>-82.580434</td>\n      <td>U</td>\n      <td>NAD83</td>\n      <td>1269.78</td>\n      <td>0.01</td>\n      <td>NGVD29</td>\n      <td>6010205</td>\n    </tr>\n    <tr>\n      <th>197</th>\n      <td>USGS</td>\n      <td>03525500</td>\n      <td>CLINCH RIVER AT CLINCHPORT, VA</td>\n      <td>ST</td>\n      <td>36.673708</td>\n      <td>-82.747105</td>\n      <td>U</td>\n      <td>NAD83</td>\n      <td>1210.00</td>\n      <td>1.00</td>\n      <td>NGVD29</td>\n      <td>6010205</td>\n    </tr>\n    <tr>\n      <th>198</th>\n      <td>USGS</td>\n      <td>03526000</td>\n      <td>COPPER CREEK NEAR GATE CITY, VA</td>\n      <td>ST</td>\n      <td>36.673988</td>\n      <td>-82.565710</td>\n      <td>U</td>\n      <td>NAD83</td>\n      <td>1301.95</td>\n      <td>1.00</td>\n      <td>NGVD29</td>\n      <td>6010205</td>\n    </tr>\n    <tr>\n      <th>199</th>\n      <td>USGS</td>\n      <td>03526990</td>\n      <td>COPPER CREEK ABOVE MOUTH AT SPEERS FERRY, VA</td>\n      <td>ST</td>\n      <td>36.655375</td>\n      <td>-82.743216</td>\n      <td>S</td>\n      <td>NAD83</td>\n      <td>NaN</td>\n      <td>NaN</td>\n      <td>NaN</td>\n      <td>6010205</td>\n    </tr>\n    <tr>\n      <th>200</th>\n      <td>USGS</td>\n      <td>03527000</td>\n      <td>CLINCH RIVER AT SPEERS FERRY, VA</td>\n      <td>ST</td>\n      <td>36.648708</td>\n      <td>-82.750438</td>\n      <td>U</td>\n      <td>NAD83</td>\n      <td>1195.91</td>\n      <td>0.21</td>\n      <td>NAVD88</td>\n      <td>6010205</td>\n    </tr>\n    <tr>\n      <th>201</th>\n      <td>USGS</td>\n      <td>03527220</td>\n      <td>CLINCH RIVER NEAR LOONEYS GAP, TN</td>\n      <td>ST</td>\n      <td>36.572807</td>\n      <td>-82.938754</td>\n      <td>U</td>\n      <td>NAD83</td>\n      <td>NaN</td>\n      <td>NaN</td>\n      <td>NaN</td>\n      <td>6010205</td>\n    </tr>\n    <tr>\n      <th>202</th>\n      <td>USGS</td>\n      <td>03527500</td>\n      <td>N F CLINCH RIVER AT DUFFIELD, VA</td>\n      <td>ST</td>\n      <td>36.711207</td>\n      <td>-82.795717</td>\n      <td>U</td>\n      <td>NAD83</td>\n      <td>1314.14</td>\n      <td>1.00</td>\n      <td>NGVD29</td>\n      <td>6010205</td>\n    </tr>\n    <tr>\n      <th>203</th>\n      <td>USGS</td>\n      <td>03529500</td>\n      <td>POWELL RIVER AT BIG STONE GAP, VA</td>\n      <td>ST</td>\n      <td>36.868985</td>\n      <td>-82.775439</td>\n      <td>U</td>\n      <td>NAD83</td>\n      <td>1458.34</td>\n      <td>0.23</td>\n      <td>NAVD88</td>\n      <td>6010206</td>\n    </tr>\n    <tr>\n      <th>204</th>\n      <td>USGS</td>\n      <td>03530000</td>\n      <td>S F POWELL RIVER AT BIG STONE GAP, VA</td>\n      <td>ST</td>\n      <td>36.865097</td>\n      <td>-82.770994</td>\n      <td>U</td>\n      <td>NAD83</td>\n      <td>1470.00</td>\n      <td>1.00</td>\n      <td>NGVD29</td>\n      <td>6010206</td>\n    </tr>\n    <tr>\n      <th>205</th>\n      <td>USGS</td>\n      <td>03531000</td>\n      <td>POWELL RIVER NEAR PENNINGTON GAP, VA</td>\n      <td>ST</td>\n      <td>36.734533</td>\n      <td>-82.998777</td>\n      <td>U</td>\n      <td>NAD83</td>\n      <td>1320.00</td>\n      <td>1.00</td>\n      <td>NGVD29</td>\n      <td>6010206</td>\n    </tr>\n  </tbody>\n</table>\n<p>206 rows × 12 columns</p>\n</div>"
     },
     "metadata": {},
     "output_type": "execute_result",
     "execution_count": 1
    }
   ],
   "source": [
    "# TODO what sites not implemented\n",
    "'''\n",
    "sites <- whatNWISsites(bBox=c(-83.0,36.5,-81.0,38.5), \n",
    "                      parameterCd=c(\"00010\",\"00060\"),\n",
    "                      hasDataTypeCd=\"dv\")\n",
    "'''\n",
    "from dataretrieval import nwis\n",
    "results = nwis.what_sites(bBox=[-83.0,36.5,-81.0,38.5],\n",
    "                         parameterCd=[\"00010\",\"00060\"],\n",
    "                         hasDataTypeCd=\"dv\")\n",
    "results"
   ]
  },
  {
   "cell_type": "markdown",
   "metadata": {},
   "source": [
    "### Data: readNWISdata\n",
    "\n",
    "For NWIS data, the function `readNWISdata` can be used. The argument listed in the R help file is `...` and `service` (only for data requests). Table 5 describes the services are available.\n",
    "\n",
    "TODO table data\n",
    "\n",
    "The `...` argument allows the user to create their own queries based on the instructions found in the web links above. The links provide instructions on how to create a URL to request data. Perhaps you want sites only in Wisconsin, with a drainage area less than 50 mi<sup>2</sup>, and the most recent daily discharge data. That request would be done as follows:\n"
   ]
  },
  {
   "cell_type": "code",
   "execution_count": 1,
   "metadata": {
    "pycharm": {
     "is_executing": false
    }
   },
   "outputs": [
    {
     "traceback": [
      "\u001b[1;31m---------------------------------------------------------------------------\u001b[0m",
      "\u001b[1;31mNameError\u001b[0m                                 Traceback (most recent call last)",
      "\u001b[1;32m<ipython-input-1-b66ed83e1480>\u001b[0m in \u001b[0;36m<module>\u001b[1;34m\u001b[0m\n\u001b[0;32m      9\u001b[0m \u001b[0msiteInfo\u001b[0m \u001b[1;33m<\u001b[0m\u001b[1;33m-\u001b[0m \u001b[0mattr\u001b[0m\u001b[1;33m(\u001b[0m\u001b[0mdischargeWI\u001b[0m\u001b[1;33m,\u001b[0m \u001b[1;34m\"siteInfo\"\u001b[0m\u001b[1;33m)\u001b[0m\u001b[1;33m\u001b[0m\u001b[0m\n\u001b[0;32m     10\u001b[0m '''\n\u001b[1;32m---> 11\u001b[1;33m dischargeWI = nwis.get_record(sites=None, service=\"dv\",\n\u001b[0m\u001b[0;32m     12\u001b[0m                            \u001b[0mstateCd\u001b[0m\u001b[1;33m=\u001b[0m\u001b[1;34m\"WI\"\u001b[0m\u001b[1;33m,\u001b[0m\u001b[1;33m\u001b[0m\u001b[0m\n\u001b[0;32m     13\u001b[0m                            \u001b[0mparameterCd\u001b[0m\u001b[1;33m=\u001b[0m\u001b[1;34m\"00060\"\u001b[0m\u001b[1;33m,\u001b[0m\u001b[1;33m\u001b[0m\u001b[0m\n",
      "\u001b[1;31mNameError\u001b[0m: name 'nwis' is not defined"
     ],
     "ename": "NameError",
     "evalue": "name 'nwis' is not defined",
     "output_type": "error"
    }
   ],
   "source": [
    "'''\n",
    "dischargeWI <- readNWISdata(service=\"dv\",\n",
    "                           stateCd=\"WI\",\n",
    "                           parameterCd=\"00060\",\n",
    "                           drainAreaMin=\"50\",\n",
    "                           statCd=\"00003\")\n",
    "\n",
    "# TODO, implement attr metadata\n",
    "siteInfo <- attr(dischargeWI, \"siteInfo\")\n",
    "'''\n",
    "dischargeWI = nwis.get_record(sites=None, service=\"dv\",\n",
    "                           stateCd=\"WI\",\n",
    "                           parameterCd=\"00060\",\n",
    "                           drainAreaMin=\"50\",\n",
    "                           statCd=\"00003\")"
   ]
  },
  {
   "cell_type": "markdown",
   "metadata": {},
   "source": [
    "## WQP \n",
    "\n",
    "TODO only have implementations \n",
    "Just as with NWIS, the Water Quality Portal (WQP) offers a variety of ways to search for sites and request data. The possible Web service arguments for WQP site searches is found [here](https://www.waterqualitydata.us/webservices_documentation).\n",
    "\n",
    "### Sites: whatWQPsites\n",
    "\n",
    "To discover available sites in the WQP in New Jersey that have measured Chloride, use the function `whatWQPsites`.\n"
   ]
  },
  {
   "cell_type": "code",
   "execution_count": 3,
   "metadata": {
    "pycharm": {
     "is_executing": false
    }
   },
   "outputs": [],
   "source": [
    "'''\n",
    "sitesNJ <- whatWQPsites(statecode=\"US:34\",\n",
    "                       characteristicName=\"Chloride\")\n",
    "'''\n",
    "from dataretrieval import wqp\n",
    "sitesNJ = wqp.what_sites(statecode=\"US:34\", characteristicName=\"Chloride\")"
   ]
  },
  {
   "cell_type": "markdown",
   "metadata": {},
   "source": [
    "### Data: readWQPdata\n",
    "\n",
    "To get data from the WQP using generalized Web service calls, use the function `readWQPdata`. For example, to get all the pH data in Wisconsin:\n"
   ]
  },
  {
   "cell_type": "code",
   "execution_count": null,
   "metadata": {},
   "outputs": [],
   "source": [
    "'''\n",
    "dataPH <- readWQPdata(statecode=\"US:55\", \n",
    "                 characteristicName=\"pH\")\n",
    "'''\n",
    "dataPH = wqp.what_sites(statecode=\"US:55\", characteristicName=\"pH\")"
   ]
  },
  {
   "cell_type": "markdown",
   "metadata": {},
   "source": [
    "### Availability: whatWQPdata\n",
    "\n",
    "The function `whatWQPdata` returns a data frame with information on the amount of data collected at a site. For example:\n"
   ]
  },
  {
   "cell_type": "code",
   "execution_count": null,
   "metadata": {},
   "outputs": [],
   "source": [
    "'''\n",
    "type <- \"Stream\"\n",
    "sites <- whatWQPdata(countycode=\"US:55:025\",siteType=type)\n",
    "'''\n",
    "# TODO this doesn't work an error handling in wqp implementation sucks\n",
    "streamType = \"Stream\"\n",
    "sites = wqp.get_results(countycode=\"US:55:025\", siteType=streamType)"
   ]
  },
  {
   "cell_type": "markdown",
   "metadata": {},
   "source": [
    "This returns a data frame with all of the sites that were measured in streams in Dane County, WI. Also, in that table, there is a measure of `activityCount` (how often the site was sampled), and `resultCount` (how many individual results are available).\n"
   ]
  },
  {
   "cell_type": "markdown",
   "metadata": {},
   "source": [
    "### Samples: whatWQPsamples\n",
    "\n",
    "The function `whatWQPsamples` returns information on the individual samples collected at a site. For example:\n"
   ]
  },
  {
   "cell_type": "code",
   "execution_count": null,
   "metadata": {},
   "outputs": [],
   "source": [
    "'''site <- whatWQPsamples(siteid=\"USGS-01594440\")'''\n",
    "\n",
    "site = wqp.what_sites(siteid=\"USGS-01594440\")"
   ]
  },
  {
   "cell_type": "markdown",
   "metadata": {},
   "source": [
    "This returns one row for each instance that a sample was collect.\n",
    "\n",
    "### Metrics: whatWQPmetrics\n",
    "\n",
    "The function `whatWQPmetrics` provides metric information. This is only currently available for STORET data:\n"
   ]
  },
  {
   "cell_type": "code",
   "execution_count": null,
   "metadata": {},
   "outputs": [],
   "source": [
    "'''\n",
    "type <- \"Stream\"\n",
    "sites <- whatWQPmetrics(countycode=\"US:55:025\",siteType=type)\n",
    "'''\n",
    "streamType = \"Stream\"\n",
    "wqp.what_sites(countycode=\"US:55:025\",siteType=streamType)"
   ]
  },
  {
   "cell_type": "markdown",
   "metadata": {},
   "source": [
    "# Embedded Metadata\n",
    "\n",
    "TODO not implemented at all from what I can tell\n",
    "\n",
    "All data frames returned from the Web services have some form of associated metadata. This information is included as attributes to the data frame. All data frames will have a `url` (returning a character of the url used to obtain the data), `siteInfo` (returning a data frame with information on sites),  and `queryTime` (returning a POSIXct datetime) attributes. For example, the url and query time used to obtain the data can be found as follows:\n",
    "\n",
    "```{r meta1, eval=FALSE}\n",
    "attr(dischargeWI, \"url\")\n",
    "attr(dischargeWI, \"queryTime\")\n",
    "siteInfo <- attr(dischargeWI, \"siteInfo\")\n",
    "```\n",
    "\n",
    "Depending on the format that the data was obtained (RDB, WaterML1, etc), there will be additional information embedded in the data frame as attributes. To discover the available attributes:\n",
    "\n",
    "```{r meta2, eval=FALSE}\n",
    "names(attributes(dischargeWI))\n",
    "```\n",
    "\n",
    "For data obtained from `readNWISuv`, `readNWISdv`, `readNWISgwl` there are two attributes that are particularly useful: `siteInfo` and `variableInfo`.\n",
    "\n",
    "```{r meta3, eval=FALSE}\n",
    "siteInfo <- attr(dischargeWI, \"siteInfo\")\n",
    "variableInfo <- attr(dischargeWI, \"variableInfo\")\n",
    "```\n",
    "\n",
    "Data obtained from `readNWISpeak`, `readNWISmeas`, and `readNWISrating`, the `comment` attribute is useful.\n",
    "\n",
    "```{r meta5, eval=FALSE}\n",
    "comment(peakData)\n",
    "#Which is equivalent to:\n",
    "attr(peakData, \"comment\")\n",
    "```"
   ]
  }
 ],
 "metadata": {
  "kernelspec": {
   "display_name": "Python 3",
   "language": "python",
   "name": "python3"
  },
  "language_info": {
   "codemirror_mode": {
    "name": "ipython",
    "version": 3
   },
   "file_extension": ".py",
   "mimetype": "text/x-python",
   "name": "python",
   "nbconvert_exporter": "python",
   "pygments_lexer": "ipython3",
   "version": "3.6.7"
  },
  "pycharm": {
   "stem_cell": {
    "cell_type": "raw",
    "source": [],
    "metadata": {
     "collapsed": false
    }
   }
  }
 },
 "nbformat": 4,
 "nbformat_minor": 2
}