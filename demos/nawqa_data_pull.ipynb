{
 "cells": [
  {
   "cell_type": "code",
   "execution_count": null,
   "id": "17ee0eb1-a5ca-4c19-a08b-3c0e21d6ae7e",
   "metadata": {},
   "outputs": [],
   "source": [
    "import pandas as pd\n",
    "import lithops\n",
    "from dataretrieval import wqp\n",
    "import dask.dataframe"
   ]
  },
  {
   "cell_type": "code",
   "execution_count": null,
   "id": "fe83ba80-36b4-432e-99d2-de6f382051b2",
   "metadata": {},
   "outputs": [],
   "source": [
    "site_list = pd.read_csv('NWQN_sites.csv', comment='#', dtype={'SITE_QW_ID': str, 'SITE_FLOW_ID': str})\n",
    "site_list"
   ]
  },
  {
   "cell_type": "code",
   "execution_count": null,
   "id": "f536d5a9-32e6-4b08-992c-6458fda920e9",
   "metadata": {
    "scrolled": true
   },
   "outputs": [],
   "source": [
    "sites = site_list['SITE_QW_ID'].to_list()[0:8]"
   ]
  },
  {
   "cell_type": "code",
   "execution_count": null,
   "id": "d82322f5-b102-478b-bb3f-7b42655372d7",
   "metadata": {},
   "outputs": [],
   "source": [
    "def map_references(site):\n",
    "    \"\"\" Map function to open virtual datasets.\n",
    "    \"\"\"\n",
    "    nawqa, _ = wqp.get_results(siteid=f'USGS-{site}', \n",
    "                               # characteristicName='Phosphorus',\n",
    "                               project=\"National Water Quality Assessment Program (NAWQA)\")\n",
    "\n",
    "    # Need this in case we get no results from our request\n",
    "    if len(nawqa) != 0: \n",
    "        nawqa.astype(str).to_parquet('nawqa.parquet',\n",
    "                                     engine='pyarrow',\n",
    "                                     partition_cols=['MonitoringLocationIdentifier'],\n",
    "                                     compression='zstd')\n",
    "        \n",
    "        return nawqa\n",
    "\n",
    "\n",
    "# def reduce_references(results):\n",
    "#     \"\"\" Reduce to concat virtual datasets.\n",
    "\n",
    "#     \"\"\"\n",
    "#     combined_vds = xr.combine_nested(\n",
    "#         results,\n",
    "#         concat_dim=[\"Time\"],\n",
    "#         coords=\"minimal\",\n",
    "#         compat=\"override\",\n",
    "#     )\n",
    "#     return combined_vds\n",
    "\n",
    "\n",
    "fexec = lithops.LocalhostExecutor()\n",
    "\n",
    "# futures = fexec.map_reduce(\n",
    "#     map_references,\n",
    "#     file_pattern,\n",
    "#     reduce_references,\n",
    "#     spawn_reducer=100,\n",
    "# )\n",
    "\n",
    "futures = fexec.map(\n",
    "    map_references,\n",
    "    sites,\n",
    ")\n",
    "\n",
    "# futures\n",
    "ds = futures.get_result()"
   ]
  },
  {
   "cell_type": "code",
   "execution_count": null,
   "id": "cf89fbd0-91c5-459a-8689-8e9689331550",
   "metadata": {},
   "outputs": [],
   "source": [
    "x = pd.read_parquet('nawqa.parquet', engine='pyarrow')\n",
    "x['MonitoringLocationIdentifier'].unique()"
   ]
  },
  {
   "cell_type": "code",
   "execution_count": null,
   "id": "bd54c53f-2659-44d3-ac03-11135421d3e4",
   "metadata": {},
   "outputs": [],
   "source": [
    "x = dask.dataframe.read_parquet('nawqa.parquet', engine='pyarrow')\n",
    "x['MonitoringLocationIdentifier'].compute().unique()"
   ]
  }
 ],
 "metadata": {
  "kernelspec": {
   "display_name": "Python 3 (ipykernel)",
   "language": "python",
   "name": "python3"
  },
  "language_info": {
   "codemirror_mode": {
    "name": "ipython",
    "version": 3
   },
   "file_extension": ".py",
   "mimetype": "text/x-python",
   "name": "python",
   "nbconvert_exporter": "python",
   "pygments_lexer": "ipython3",
   "version": "3.12.4"
  }
 },
 "nbformat": 4,
 "nbformat_minor": 5
}
