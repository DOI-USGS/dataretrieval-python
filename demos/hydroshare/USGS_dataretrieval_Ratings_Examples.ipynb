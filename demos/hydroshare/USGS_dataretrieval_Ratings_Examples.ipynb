{
 "cells": [
  {
   "cell_type": "markdown",
   "source": [
    "# USGS dataretrieval Python Package `get_ratings()` Examples\n",
    "\n",
    "This notebook provides examples of using the Python dataretrieval package to retrieve rating curve data for a United States Geological Survey (USGS) streamflow gage. The dataretrieval package provides a collection of functions to get data from the USGS National Water Information System (NWIS) and other online sources of hydrology and water quality data, including the United States Environmental Protection Agency (USEPA)."
   ],
   "metadata": {
    "collapsed": false
   }
  },
  {
   "cell_type": "markdown",
   "source": [
    "### Install the Package\n",
    "\n",
    "Use the following code to install the package if it doesn't exist already within your Jupyter Python environment."
   ],
   "metadata": {
    "collapsed": false
   }
  },
  {
   "cell_type": "code",
   "execution_count": null,
   "outputs": [],
   "source": [
    "!pip install dataretrieval"
   ],
   "metadata": {
    "collapsed": false,
    "pycharm": {
     "name": "#%%\n"
    }
   }
  },
  {
   "cell_type": "markdown",
   "source": [
    "Load the package so you can use it along with other packages used in this notebook."
   ],
   "metadata": {
    "collapsed": false
   }
  },
  {
   "cell_type": "code",
   "execution_count": null,
   "outputs": [],
   "source": [
    "from dataretrieval import nwis\n",
    "from IPython.display import display"
   ],
   "metadata": {
    "collapsed": false,
    "pycharm": {
     "name": "#%%\n"
    }
   }
  },
  {
   "cell_type": "markdown",
   "source": [
    "### Basic Usage\n",
    "\n",
    "The dataretrieval package has several functions that allow you to retrieve data from different web services. This example uses the `get_ratings()` function to retrieve rating curve data for a monitoring site from USGS NWIS. The following arguments are available:\n",
    "\n",
    "Arguments (Additional arguments, if supplied, will be used as query parameters)\n",
    "\n",
    "* **site** (string): A USGS site number.  This is usually an 8 digit number as a string. If the nwis parameter site_no is supplied, it will overwrite the site parameter.\n",
    "* **base** (string): Can be \"base\", \"corr\", or \"exsa\"\n",
    "* **county** (string): County IDs from county lookup or \"ALL\"\n",
    "* **categories** (Listlike): List or comma delimited string of Two-letter category abbreviations\n",
    "\n",
    "NOTE: Not all active USGS streamflow gages have traditional rating curves that relate stage to flow."
   ],
   "metadata": {
    "collapsed": false
   }
  },
  {
   "cell_type": "markdown",
   "source": [
    "Example 1: Get rating data for an NWIS Site"
   ],
   "metadata": {
    "collapsed": false,
    "pycharm": {
     "name": "#%% md\n"
    }
   }
  },
  {
   "cell_type": "code",
   "execution_count": null,
   "metadata": {
    "collapsed": true
   },
   "outputs": [],
   "source": [
    "# Specify the USGS site number/code\n",
    "site_id = \"10109000\"\n",
    "\n",
    "# Get the rating curve data\n",
    "ratingData = nwis.get_ratings(site=site_id, file_type=\"exsa\")\n",
    "print(\"Retrieved \" + str(len(ratingData[0])) + \" data values.\")"
   ]
  },
  {
   "cell_type": "markdown",
   "source": [
    "### Interpreting the Result\n",
    "\n",
    "The result of calling the `get_ratings()` function is an object that contains a Pandas data frame object and an associated metadata object. The Pandas data frame contains the rating curve data for the requested site.\n",
    "\n",
    "Once you've got the data frame, there's several useful things you can do to explore the data. You can execute the following code to display the data frame as a table.\n",
    "\n",
    "If the \"type\" parameter in the request has a value of \"base,\" then the columns in the data frame are as follows:\n",
    "* INDEP - typically the gage height in feet\n",
    "* DEP - typically the streamflow in cubic feet per second\n",
    "* STOR - where an \"*\" indicates that the pair are a fixed point of the rating curve\n",
    "\n",
    "If the \"type\" parameter is specified as \"exsa,\" then an additional column called SHIFT is included that indicates the current shift in the rating for that value of INDEP.\n",
    "\n",
    "If the \"type\" parameter is specified as \"corr,\" then the columns are as follows:\n",
    "* INDEP - typically gage height in feet\n",
    "* CORR - the correction for that value\n",
    "* CORRINDEP - the corrected value for CORR"
   ],
   "metadata": {
    "collapsed": false,
    "pycharm": {
     "name": "#%% md\n"
    }
   }
  },
  {
   "cell_type": "code",
   "execution_count": null,
   "outputs": [],
   "source": [
    "display(ratingData[0])"
   ],
   "metadata": {
    "collapsed": false,
    "pycharm": {
     "name": "#%%\n"
    }
   }
  },
  {
   "cell_type": "markdown",
   "source": [
    "Show the data types of the columns in the resulting data frame"
   ],
   "metadata": {
    "collapsed": false,
    "pycharm": {
     "name": "#%% md\n"
    }
   }
  },
  {
   "cell_type": "code",
   "execution_count": null,
   "outputs": [],
   "source": [
    "print(ratingData[0].dtypes)"
   ],
   "metadata": {
    "collapsed": false,
    "pycharm": {
     "name": "#%%\n"
    }
   }
  },
  {
   "cell_type": "markdown",
   "source": [
    "The other part of the result returned from the `get_ratings()` function is a metadata object that contains information about the query that was executed to return the data. For example, you can access the URL that was assembled to retrieve the requested data from the USGS web service. The USGS web service responses contain a descriptive header that defines and can be helpful in interpreting the contents of the response."
   ],
   "metadata": {
    "collapsed": false,
    "pycharm": {
     "name": "#%% md\n"
    }
   }
  },
  {
   "cell_type": "code",
   "execution_count": null,
   "outputs": [],
   "source": [
    "print(\"The query URL used to retrieve the data from NWIS was: \" + ratingData[1].url)"
   ],
   "metadata": {
    "collapsed": false,
    "pycharm": {
     "name": "#%%\n"
    }
   }
  },
  {
   "cell_type": "markdown",
   "source": [
    "Example 2: Get rating data for a different NWIS site by changing the site_id"
   ],
   "metadata": {
    "collapsed": false,
    "pycharm": {
     "name": "#%% md\n"
    }
   }
  },
  {
   "cell_type": "code",
   "execution_count": null,
   "outputs": [],
   "source": [
    "site_id = '01594440'\n",
    "data = nwis.get_ratings(site=site_id, file_type=\"base\")\n",
    "print(\"Retrieved \" + str(len(data[0])) + \" data values.\")"
   ],
   "metadata": {
    "collapsed": false,
    "pycharm": {
     "name": "#%%\n"
    }
   }
  }
 ],
 "metadata": {
  "kernelspec": {
   "display_name": "Python 3",
   "language": "python",
   "name": "python3"
  },
  "language_info": {
   "codemirror_mode": {
    "name": "ipython",
    "version": 2
   },
   "file_extension": ".py",
   "mimetype": "text/x-python",
   "name": "python",
   "nbconvert_exporter": "python",
   "pygments_lexer": "ipython2",
   "version": "2.7.6"
  }
 },
 "nbformat": 4,
 "nbformat_minor": 0
}