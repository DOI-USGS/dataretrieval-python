{
 "cells": [
  {
   "metadata": {},
   "cell_type": "markdown",
   "source": [
    "# USGS dataretrieval Python Package NLDI Data Access Examples\n",
    "\n",
    "This notebook provides examples of using the Python dataretrieval package to retrieve data from the United States  Geological Survey (USGS) Hydro Network-Linked Data Index (NLDI). The dataretrieval package provides a collection of functions to get data from the USGS Hydro Network-Linked Data Index (NLDI)."
   ],
   "id": "94cf2fc11d917e1b"
  },
  {
   "metadata": {},
   "cell_type": "markdown",
   "source": [
    "### Install the Package\n",
    "\n",
    "Use the following code to install the package if it doesn't exist already within your Jupyter Python environment. Note the `nldi` option in the `dataretrieval` package installation. The default `dataretrieval` does not support NLDI data access."
   ],
   "id": "8695bd7a7b335650"
  },
  {
   "metadata": {},
   "cell_type": "code",
   "source": "!pip install dataretrieval[nldi]",
   "id": "2cb985f4a60ce046",
   "outputs": [],
   "execution_count": null
  },
  {
   "metadata": {},
   "cell_type": "markdown",
   "source": "Load the package so that you can use its functions in this notebook.",
   "id": "ef27dd9de0b05a9a"
  },
  {
   "metadata": {},
   "cell_type": "code",
   "source": [
    "from dataretrieval import nldi\n",
    "from IPython.display import display"
   ],
   "id": "aa0f8aad72102b29",
   "outputs": [],
   "execution_count": null
  },
  {
   "metadata": {},
   "cell_type": "markdown",
   "source": [
    "### Basic Usage\n",
    "\n",
    "The dataretrieval package provides a number of functions to get data from the USGS NLDI. \n",
    "\n",
    "#### The following examples show how to use the `get_basin()` function from the dataretrieval package to get basin data from the USGS NLDI. The following arguments are supported:\n",
    "\n",
    "* **feature_source** (string): The name of the NLDI feature source.\n",
    "* **feature_id** (string): The identifier of the NLDI feature.\n",
    "* **simplified** (boolean): If True, the data will be returned with simplified polygons. If False, the data will be returned as a single polygon (default is False).\n",
    "* **split_catchment** (boolean): If True, the data will be returned with split catchment polygons. If False, the data will be returned as a single polygon (default is False) NOTE: Setting this to True may result in error due to a known issue with NLDI API.\n",
    "* **as_json** (boolean): If True, the data will be returned as a python dictionary. If False, the data will be returned as a geopandas dataframe (default is False).\n"
   ],
   "id": "213e4c0d0b983a19"
  },
  {
   "metadata": {},
   "cell_type": "markdown",
   "source": "#### Example 1: Get aggregated basin level data for a single feature source.",
   "id": "9900c519345f9d2f"
  },
  {
   "metadata": {},
   "cell_type": "code",
   "source": [
    "# set the parameters needed to retrieve data\n",
    "feature_source = \"WQP\"\n",
    "feature_id = \"USGS-01031500\""
   ],
   "id": "8db53f3d4d004e65",
   "outputs": [],
   "execution_count": null
  },
  {
   "metadata": {},
   "cell_type": "markdown",
   "source": "Get the basin data as a geopandas dataframe",
   "id": "c8595b1e706a8468"
  },
  {
   "metadata": {},
   "cell_type": "code",
   "source": [
    "gdf = nldi.get_basin(feature_source, feature_id)\n",
    "display(gdf)"
   ],
   "id": "d8d0d847d8c171b6",
   "outputs": [],
   "execution_count": null
  },
  {
   "metadata": {},
   "cell_type": "markdown",
   "source": "Get the basin data as GeoJSON (as_json=True)",
   "id": "af599a9f632930d"
  },
  {
   "metadata": {},
   "cell_type": "code",
   "source": [
    "basin_json_data = nldi.get_basin(feature_source, feature_id, as_json=True)\n",
    "print(basin_json_data)"
   ],
   "id": "340793f67b33ff39",
   "outputs": [],
   "execution_count": null
  },
  {
   "metadata": {},
   "cell_type": "markdown",
   "source": [
    "#### The following examples show how to use the `get_flowlines()` function from the dataretrieval package to get flowlines data from the USGS NLDI. The following arguments are supported:\n",
    "\n",
    "* **navigation_mode** (string): Navigation mode (allowed values are 'UM', 'DM', 'UT', 'DD').\n",
    "* **feature_source** (string): The name of the NLDI feature source.\n",
    "* **feature_id** (string): The identifier of the NLDI feature.\n",
    "* **comid** (integer): COMID (required if feature_resource is not specified).\n",
    "* **distance** (integer): Distance in kilometers (default is 5).\n",
    "* **as_json** (boolean): If True, the data will be returned as a python dictionary. If False, the data will be returned as a geopandas dataframe (default is False)."
   ],
   "id": "23a84052f0711d2"
  },
  {
   "metadata": {},
   "cell_type": "markdown",
   "source": "#### Example 1: Get the flowlines data using feature_source and feature_id",
   "id": "3dc19d7dd78e3173"
  },
  {
   "metadata": {},
   "cell_type": "markdown",
   "source": "Get the flowlines data as a geopandas dataframe",
   "id": "f510302d022eca43"
  },
  {
   "metadata": {},
   "cell_type": "code",
   "source": [
    "gdf = nldi.get_flowlines(navigation_mode='UM', feature_source=\"WQP\", feature_id=\"USGS-01031500\")\n",
    "display(gdf)"
   ],
   "id": "404457b0b8ea283c",
   "outputs": [],
   "execution_count": null
  },
  {
   "metadata": {},
   "cell_type": "markdown",
   "source": "Get the flowlines data as GeoJSON (as_json=True)",
   "id": "8e21e235eb64f446"
  },
  {
   "metadata": {},
   "cell_type": "code",
   "source": [
    "flowlines_json_data = nldi.get_flowlines(navigation_mode='UM', feature_source=\"WQP\", feature_id=\"USGS-01031500\", as_json=True)\n",
    "print(flowlines_json_data)"
   ],
   "id": "c1d916a742e0e986",
   "outputs": [],
   "execution_count": null
  },
  {
   "metadata": {},
   "cell_type": "markdown",
   "source": "#### Example 2: Get the flowlines data using comid",
   "id": "42259375160429ab"
  },
  {
   "metadata": {},
   "cell_type": "markdown",
   "source": "Get the flowlines data as a geopandas dataframe",
   "id": "d01c1153d0e782a6"
  },
  {
   "metadata": {},
   "cell_type": "code",
   "source": [
    "gdf = nldi.get_flowlines(navigation_mode='UM', comid=13294314)\n",
    "display(gdf)"
   ],
   "id": "c014b708c08984e2",
   "outputs": [],
   "execution_count": null
  },
  {
   "metadata": {},
   "cell_type": "markdown",
   "source": "Get the flowlines data as GeoJSON (as_json=True)",
   "id": "49856c0e97950d5d"
  },
  {
   "metadata": {},
   "cell_type": "code",
   "source": [
    "flowlines_json_data = nldi.get_flowlines(navigation_mode='UM', comid=13294314, as_json=True)\n",
    "print(flowlines_json_data)"
   ],
   "id": "b39d360a47ba170f",
   "outputs": [],
   "execution_count": null
  },
  {
   "metadata": {},
   "cell_type": "markdown",
   "source": [
    "#### The following examples show how to use the `get_features()` function from the dataretrieval package to get features data from the USGS NLDI. The following arguments are supported:\n",
    "\n",
    "* **data_source** (string): The name of the NLDI data source.\n",
    "* **navigation_mode** (string): Navigation mode (allowed values are 'UM', 'DM', 'UT', 'DD').\n",
    "* **feature_source** (string): The name of the NLDI feature source.\n",
    "* **feature_id** (string): The identifier of the NLDI feature (required if feature_resource is specified).\n",
    "* **comid** (integer): COMID (required if feature_resource is not specified).\n",
    "* **distance** (integer): Distance in kilometers (default is 50).\n",
    "* **lat** (float): Latitude (required if feature for a specific location is specified).\n",
    "* **long** (float): Longitude (required if feature for a specific location is specified).\n",
    "* **as_json** (boolean): If True, the data will be returned as a python dictionary. If False, the data will be returned as a geopandas dataframe (default is False)."
   ],
   "id": "b27151f75e00f649"
  },
  {
   "metadata": {},
   "cell_type": "markdown",
   "source": "### Example 1: Get all features along the specified navigation path.",
   "id": "b24a6b1f49ed5f7d"
  },
  {
   "metadata": {},
   "cell_type": "markdown",
   "source": "Get the features data using navigation path (UM) and origin type feature source",
   "id": "77f35ddf65093622"
  },
  {
   "metadata": {},
   "cell_type": "code",
   "source": [
    "gdf = nldi.get_features(data_source=\"census2020-nhdpv2\", navigation_mode=\"UM\", feature_source=\"WQP\", feature_id=\"USGS-01031500\")\n",
    "display(gdf)"
   ],
   "id": "492b5bedfb71a478",
   "outputs": [],
   "execution_count": null
  },
  {
   "metadata": {},
   "cell_type": "markdown",
   "source": "Get the features data using navigation path (UM) and origin type COMID ",
   "id": "2a61ce386ef17c8a"
  },
  {
   "metadata": {},
   "cell_type": "code",
   "source": [
    "gdf = nldi.get_features(data_source=\"census2020-nhdpv2\", navigation_mode=\"UM\", comid=13294314)\n",
    "display(gdf)"
   ],
   "id": "fe7bee5ba6e4f419",
   "outputs": [],
   "execution_count": null
  },
  {
   "metadata": {},
   "cell_type": "markdown",
   "source": "Get the features data using origin type feature source (no navigation path)",
   "id": "c7418ac7d155af6c"
  },
  {
   "metadata": {},
   "cell_type": "code",
   "source": [
    "gdf = nldi.get_features(feature_source=\"WQP\", feature_id=\"USGS-01031500\")\n",
    "display(gdf)"
   ],
   "id": "bbde823aba2b82ba",
   "outputs": [],
   "execution_count": null
  },
  {
   "metadata": {},
   "cell_type": "markdown",
   "source": "Get the features data using navigation path (UM) and origin type COMID",
   "id": "cae198983f26adef"
  },
  {
   "metadata": {},
   "cell_type": "code",
   "source": [
    "gdf = nldi.get_features(comid=13294314, data_source=\"census2020-nhdpv2\", navigation_mode=\"UM\")\n",
    "display(gdf)"
   ],
   "id": "1957fe0113e682d4",
   "outputs": [],
   "execution_count": null
  },
  {
   "metadata": {},
   "cell_type": "markdown",
   "source": "Get the features data for a specific location (lat, long)",
   "id": "d72767444885dc2d"
  },
  {
   "metadata": {},
   "cell_type": "code",
   "source": [
    "gdf = nldi.get_features(lat=43.073051, long=-89.401230)\n",
    "display(gdf)"
   ],
   "id": "e6769b9885ef0edb",
   "outputs": [],
   "execution_count": null
  },
  {
   "metadata": {},
   "cell_type": "markdown",
   "source": [
    "#### The following examples show how to use the `search()` function from the dataretrieval package to get data (basins, flowlines, and features) from the USGS NLDI. You can use this `search()` function instead of the `get_basin()`, `get_flowlines()`, and `get_features()` functions described above. The search function returns data as a python dictionary. The following arguments are supported:\n",
    "\n",
    "* **feature_source** (string): The name of the NLDI feature source.\n",
    "* **feature_id** (string): The identifier of the NLDI feature (required if feature_resource is specified).\n",
    "* **navigation_mode** (string): Navigation mode (allowed values are 'UM', 'DM', 'UT', 'DD').\n",
    "* **data_source** (string): The name of the NLDI data source.\n",
    "* **find** (string): The specific data type to search for. Allowed values are 'basin', 'flowlines', and 'feature' (default is 'features').\n",
    "* **comid** (integer): COMID (required if feature_resource is not specified).\n",
    "* **lat** (float): Latitude (required if feature for a specific location is specified).\n",
    "* **long** (float): Longitude (required if feature for a specific location is specified).\n",
    "* **distance** (integer): Distance in kilometers (default is 50)."
   ],
   "id": "4283a91f6b12446d"
  },
  {
   "metadata": {},
   "cell_type": "markdown",
   "source": "#### Example 1: Get aggregated basin level data for a single feature source.",
   "id": "9fbfebefedf5d5c2"
  },
  {
   "metadata": {},
   "cell_type": "code",
   "source": [
    "# set the parameters needed to retrieve data\n",
    "feature_source = \"WQP\"\n",
    "feature_id = \"USGS-01031500\""
   ],
   "id": "9fe88e0664f629e8",
   "outputs": [],
   "execution_count": null
  },
  {
   "metadata": {},
   "cell_type": "code",
   "source": [
    "basin_data = nldi.search(feature_source=feature_source, feature_id=feature_id, find=\"basin\")\n",
    "print(basin_data)"
   ],
   "id": "d7422c075998921c",
   "outputs": [],
   "execution_count": null
  },
  {
   "metadata": {},
   "cell_type": "markdown",
   "source": "#### Example 2: Get flowlines data for a specified feature source.",
   "id": "bc4ef96efc59550a"
  },
  {
   "metadata": {},
   "cell_type": "code",
   "source": [
    "flowlines_data = nldi.search(navigation_mode='UM', feature_source=feature_source, feature_id=feature_id, find=\"flowlines\")\n",
    "print(flowlines_data)"
   ],
   "id": "e247afc5b85a226c",
   "outputs": [],
   "execution_count": null
  },
  {
   "metadata": {},
   "cell_type": "markdown",
   "source": "### Example 3: Get all features along the specified navigation path.",
   "id": "7e17c9af5d643323"
  },
  {
   "metadata": {},
   "cell_type": "code",
   "source": [
    "features_data = nldi.search(data_source=\"census2020-nhdpv2\", navigation_mode='UM', feature_source=feature_source,\n",
    "                            feature_id=feature_id, find=\"features\")\n",
    "print(features_data)"
   ],
   "id": "a40613fc4fedc416",
   "outputs": [],
   "execution_count": null
  }
 ],
 "metadata": {
  "kernelspec": {
   "display_name": "Python 3",
   "language": "python",
   "name": "python3"
  },
  "language_info": {
   "codemirror_mode": {
    "name": "ipython",
    "version": 2
   },
   "file_extension": ".py",
   "mimetype": "text/x-python",
   "name": "python",
   "nbconvert_exporter": "python",
   "pygments_lexer": "ipython2",
   "version": "2.7.6"
  }
 },
 "nbformat": 4,
 "nbformat_minor": 5
}
