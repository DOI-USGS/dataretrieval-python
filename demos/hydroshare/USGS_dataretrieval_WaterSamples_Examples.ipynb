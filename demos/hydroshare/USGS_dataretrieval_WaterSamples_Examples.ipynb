{
 "cells": [
  {
   "cell_type": "markdown",
   "metadata": {
    "pycharm": {
     "name": "#%% md\n"
    }
   },
   "source": [
    "# USGS dataretrieval Python Package `get_qwdata()` Examples\n",
    "\n",
    "This notebook provides examples of using the Python dataretrieval package to retrieve water quality sample data for United States Geological Survey (USGS) monitoring sites. The dataretrieval package provides a collection of functions to get data from the USGS Samples database and other online sources of hydrology and water quality data, including the United States Environmental Protection Agency (USEPA)."
   ]
  },
  {
   "cell_type": "markdown",
   "metadata": {},
   "source": [
    "### Install the Package\n",
    "\n",
    "Use the following code to install the package if it doesn't exist already within your Jupyter Python environment."
   ]
  },
  {
   "cell_type": "code",
   "execution_count": null,
   "metadata": {
    "collapsed": false,
    "jupyter": {
     "outputs_hidden": false
    },
    "pycharm": {
     "name": "#%%\n"
    }
   },
   "outputs": [],
   "source": [
    "!pip install dataretrieval"
   ]
  },
  {
   "cell_type": "markdown",
   "metadata": {},
   "source": [
    "Load the package so you can use it along with other packages used in this notebook."
   ]
  },
  {
   "cell_type": "code",
   "execution_count": null,
   "metadata": {
    "collapsed": false,
    "jupyter": {
     "outputs_hidden": false
    },
    "pycharm": {
     "name": "#%%\n"
    }
   },
   "outputs": [],
   "source": [
    "from dataretrieval import samples\n",
    "from IPython.display import display"
   ]
  },
  {
   "cell_type": "markdown",
   "metadata": {},
   "source": [
    "### Basic Usage\n",
    "\n",
    "The dataretrieval package has several functions that allow you to retrieve data from different web services. This examples uses the `get_usgs_samples()` function to retrieve water quality sample data for USGS monitoring sites from Samples. The following arguments are supported:\n",
    "\n",
    "* **ssl_check** : boolean, optional\n",
    "        Check the SSL certificate.\n",
    "* **service** : string\n",
    "        One of the available Samples services: \"results\", \"locations\", \"activities\",\n",
    "        \"projects\", or \"organizations\". Defaults to \"results\".\n",
    "* **profile** : string\n",
    "        One of the available profiles associated with a service. Options for each\n",
    "        service are:\n",
    "        results - \"fullphyschem\", \"basicphyschem\",\n",
    "                    \"fullbio\", \"basicbio\", \"narrow\",\n",
    "                    \"resultdetectionquantitationlimit\",\n",
    "                    \"labsampleprep\", \"count\"\n",
    "        locations - \"site\", \"count\"\n",
    "        activities - \"sampact\", \"actmetric\",\n",
    "                        \"actgroup\", \"count\"\n",
    "        projects - \"project\", \"projectmonitoringlocationweight\"\n",
    "        organizations - \"organization\", \"count\"\n",
    "* **activityMediaName** : string or list of strings, optional\n",
    "        Name or code indicating environmental medium in which sample was taken.\n",
    "        Check the `activityMediaName_lookup()` function in this module for all\n",
    "        possible inputs.\n",
    "        Example: \"Water\".\n",
    "* **activityStartDateLower** : string, optional\n",
    "        The start date if using a date range. Takes the format YYYY-MM-DD.\n",
    "        The logic is inclusive, i.e. it will also return results that\n",
    "        match the date. If left as None, will pull all data on or before\n",
    "        activityStartDateUpper, if populated.\n",
    "* **activityStartDateUpper** : string, optional\n",
    "        The end date if using a date range. Takes the format YYYY-MM-DD.\n",
    "        The logic is inclusive, i.e. it will also return results that\n",
    "        match the date. If left as None, will pull all data after\n",
    "        activityStartDateLower up to the most recent available results.\n",
    "* **activityTypeCode** : string or list of strings, optional\n",
    "        Text code that describes type of field activity performed.\n",
    "        Example: \"Sample-Routine, regular\".\n",
    "* **characteristicGroup** : string or list of strings, optional\n",
    "        Characteristic group is a broad category of characteristics\n",
    "        describing one or more results. Check the `characteristicGroup_lookup()`\n",
    "        function in this module for all possible inputs.\n",
    "        Example: \"Organics, PFAS\"\n",
    "* **characteristic** : string or list of strings, optional\n",
    "        Characteristic is a specific category describing one or more results.\n",
    "        Check the `characteristic_lookup()` function in this module for all\n",
    "        possible inputs.\n",
    "        Example: \"Suspended Sediment Discharge\"\n",
    "* **characteristicUserSupplied** : string or list of strings, optional\n",
    "        A user supplied characteristic name describing one or more results.\n",
    "* **boundingBox**: list of four floats, optional\n",
    "        Filters on the the associated monitoring location's point location\n",
    "        by checking if it is located within the specified geographic area. \n",
    "        The logic is inclusive, i.e. it will include locations that overlap\n",
    "        with the edge of the bounding box. Values are separated by commas,\n",
    "        expressed in decimal degrees, NAD83, and longitudes west of Greenwich\n",
    "        are negative.\n",
    "        The format is a string consisting of:\n",
    "        - Western-most longitude\n",
    "        - Southern-most latitude\n",
    "        - Eastern-most longitude\n",
    "        - Northern-most longitude \n",
    "        Example: [-92.8,44.2,-88.9,46.0]\n",
    "* **countryFips** : string or list of strings, optional\n",
    "        Example: \"US\" (United States)\n",
    "* **stateFips** : string or list of strings, optional\n",
    "        Check the `stateFips_lookup()` function in this module for all\n",
    "        possible inputs.\n",
    "        Example: \"US:15\" (United States: Hawaii)\n",
    "* **countyFips** : string or list of strings, optional\n",
    "        Check the `countyFips_lookup()` function in this module for all\n",
    "        possible inputs.\n",
    "        Example: \"US:15:001\" (United States: Hawaii, Hawaii County)\n",
    "* **siteTypeCode** : string or list of strings, optional\n",
    "        An abbreviation for a certain site type. Check the `siteType_lookup()`\n",
    "        function in this module for all possible inputs.\n",
    "        Example: \"GW\" (Groundwater site)\n",
    "* **siteTypeName** : string or list of strings, optional\n",
    "        A full name for a certain site type. Check the `siteType_lookup()`\n",
    "        function in this module for all possible inputs.\n",
    "        Example: \"Well\"\n",
    "* **usgsPCode** : string or list of strings, optional\n",
    "        5-digit number used in the US Geological Survey computerized\n",
    "        data system, National Water Information System (NWIS), to\n",
    "        uniquely identify a specific constituent. Check the \n",
    "        `characteristic_lookup()` function in this module for all possible\n",
    "        inputs.\n",
    "        Example: \"00060\" (Discharge, cubic feet per second)\n",
    "* **hydrologicUnit** : string or list of strings, optional\n",
    "        Max 12-digit number used to describe a hydrologic unit.\n",
    "        Example: \"070900020502\"\n",
    "* **monitoringLocationIdentifier** : string or list of strings, optional\n",
    "        A monitoring location identifier has two parts: the agency code\n",
    "        and the location number, separated by a dash (-).\n",
    "        Example: \"USGS-040851385\"\n",
    "* **organizationIdentifier** : string or list of strings, optional\n",
    "        Designator used to uniquely identify a specific organization.\n",
    "        Currently only accepting the organization \"USGS\".\n",
    "* **pointLocationLatitude** : float, optional\n",
    "        Latitude for a point/radius query (decimal degrees). Must be used\n",
    "        with pointLocationLongitude and pointLocationWithinMiles.\n",
    "* **pointLocationLongitude** : float, optional\n",
    "        Longitude for a point/radius query (decimal degrees). Must be used\n",
    "        with pointLocationLatitude and pointLocationWithinMiles.\n",
    "* **pointLocationWithinMiles** : float, optional\n",
    "        Radius for a point/radius query. Must be used with\n",
    "        pointLocationLatitude and pointLocationLongitude\n",
    "* **projectIdentifier** : string or list of strings, optional\n",
    "        Designator used to uniquely identify a data collection project. Project\n",
    "        identifiers are specific to an organization (e.g. USGS).\n",
    "        Example: \"ZH003QW03\"\n",
    "* **recordIdentifierUserSupplied** : string or list of strings, optional\n",
    "        Internal AQS record identifier that returns 1 entry. Only available\n",
    "        for the \"results\" service."
   ]
  },
  {
   "cell_type": "markdown",
   "metadata": {},
   "source": [
    "#### Example 1: Get all water quality sample data for a single monitoring site"
   ]
  },
  {
   "cell_type": "code",
   "execution_count": null,
   "metadata": {
    "collapsed": false,
    "jupyter": {
     "outputs_hidden": false
    },
    "pycharm": {
     "name": "#%%\n"
    }
   },
   "outputs": [],
   "source": [
    "siteID = 'USGS-10109000'\n",
    "wq_data = samples.get_usgs_samples(monitoringLocationIdentifier=siteID)\n",
    "print('Retrieved data for ' + str(len(wq_data[0])) + ' samples.')"
   ]
  },
  {
   "cell_type": "markdown",
   "metadata": {},
   "source": [
    "### Interpreting the Result\n",
    "\n",
    "The result of calling the `get_usgs_samples()` function is an object that contains a Pandas data frame object and an associated metadata object. The Pandas data frame contains the water quality sample data for the requested site, and or observed variables and time frame.\n",
    "\n",
    "Once you've got the data frame, there's several useful things you can do to explore the data."
   ]
  },
  {
   "cell_type": "markdown",
   "metadata": {
    "pycharm": {
     "name": "#%% md\n"
    }
   },
   "source": [
    "Display the data frame as a table. The default data frame for this function is a  long, flat table, with a row for each observed variable at a given site and date/time."
   ]
  },
  {
   "cell_type": "code",
   "execution_count": null,
   "metadata": {
    "collapsed": false,
    "jupyter": {
     "outputs_hidden": false
    },
    "pycharm": {
     "name": "#%%\n"
    }
   },
   "outputs": [],
   "source": [
    "display(wq_data[0])"
   ]
  },
  {
   "cell_type": "markdown",
   "metadata": {},
   "source": [
    "Show the data types of the columns in the resulting data frame."
   ]
  },
  {
   "cell_type": "code",
   "execution_count": null,
   "metadata": {
    "collapsed": false,
    "jupyter": {
     "outputs_hidden": false
    },
    "pycharm": {
     "name": "#%%\n"
    }
   },
   "outputs": [],
   "source": [
    "print(wq_data[0].dtypes)"
   ]
  },
  {
   "cell_type": "markdown",
   "metadata": {},
   "source": [
    "The other part of the result returned from the `get_usgs_data()` function is a metadata object that contains information about the query that was executed to return the data. For example, you can access the URL that was assembled to retrieve the requested data from the USGS web service. The USGS web service responses contain a descriptive header that defines and can be helpful in interpreting the contents of the response."
   ]
  },
  {
   "cell_type": "code",
   "execution_count": null,
   "metadata": {
    "collapsed": false,
    "jupyter": {
     "outputs_hidden": false
    },
    "pycharm": {
     "name": "#%%\n"
    }
   },
   "outputs": [],
   "source": [
    "print('The query URL used to retrieve the data from USGS Samples was: ' + wq_data[1].url)"
   ]
  },
  {
   "cell_type": "markdown",
   "metadata": {},
   "source": [
    "### Additional Examples\n",
    "\n",
    "#### Example 2: Get water quality sample data for multiple sites for a single parameter"
   ]
  },
  {
   "cell_type": "code",
   "execution_count": null,
   "metadata": {
    "collapsed": false,
    "jupyter": {
     "outputs_hidden": false
    },
    "pycharm": {
     "name": "#%%\n"
    }
   },
   "outputs": [],
   "source": [
    "site_ids = ['USGS-04024430', 'USGS-04024000']\n",
    "parameter_code = '00065'\n",
    "wq_multi_site = samples.get_usgs_samples(monitoringLocationIdentifier=site_ids, usgsPCode=parameter_code)\n",
    "print('Retrieved data for ' + str(len(wq_multi_site[0])) + ' samples.')\n",
    "display(wq_multi_site[0])"
   ]
  },
  {
   "cell_type": "markdown",
   "metadata": {
    "pycharm": {
     "name": "#%% md\n"
    }
   },
   "source": [
    "#### Example 3: Retrieve water quality sample data for multiple sites, including a list of parameters, within a time period defined by start date until present"
   ]
  },
  {
   "cell_type": "code",
   "execution_count": null,
   "metadata": {
    "collapsed": false,
    "jupyter": {
     "outputs_hidden": false
    },
    "pycharm": {
     "name": "#%%\n"
    }
   },
   "outputs": [],
   "source": [
    "site_ids = ['USGS-04024430', 'USGS-04024000']\n",
    "parameterCd = ['34247', '30234', '32104', '34220']\n",
    "startDate = '2012-01-01'\n",
    "wq_data2 = samples.get_usgs_samples(monitoringLocationIdentifier=site_ids, usgsPCode=parameterCd,\n",
    "                           activityStartDateLower=startDate)\n",
    "print('Retrieved data for ' + str(len(wq_multi_site[0])) + ' samples.')\n",
    "display(wq_data2[0])\n"
   ]
  },
  {
   "cell_type": "markdown",
   "metadata": {},
   "source": [
    "#### Example 4: Retrieve water quality sample data for one site and convert to a wide format\n",
    "\n",
    "Note that the USGS samples database returns multiple parameters in a \"long\" format: each row in the resulting table represents a single observation of a single parameters. Furthermore, every observation has 181 fields of metadata. However, if you wanted to place your water quality data into a \"wide\" format, where each column represents a water quality parameter code, the code below details one solution."
   ]
  },
  {
   "cell_type": "code",
   "execution_count": null,
   "metadata": {},
   "outputs": [],
   "source": [
    "siteID = 'USGS-10109000'\n",
    "wq_data,_ = samples.get_usgs_samples(monitoringLocationIdentifier=siteID)\n",
    "print('Retrieved data for ' + str(len(wq_data)) + ' sample results.')\n",
    "\n",
    "wq_data[\"characteristic_unit\"] = wq_data[\"Result_Characteristic\"] + \", \" + wq_data[\"Result_MeasureUnit\"]\n",
    "wq_data_wide = wq_data.pivot_table(index=['Location_Identifier', 'Activity_StartDate', 'Activity_StartTime'], columns=\"characteristic_unit\", values=\"Result_Measure\", aggfunc='first')\n",
    "display(wq_data_wide)\n"
   ]
  }
 ],
 "metadata": {
  "kernelspec": {
   "display_name": "dr-test",
   "language": "python",
   "name": "python3"
  },
  "language_info": {
   "codemirror_mode": {
    "name": "ipython",
    "version": 3
   },
   "file_extension": ".py",
   "mimetype": "text/x-python",
   "name": "python",
   "nbconvert_exporter": "python",
   "pygments_lexer": "ipython3",
   "version": "3.11.12"
  }
 },
 "nbformat": 4,
 "nbformat_minor": 4
}
