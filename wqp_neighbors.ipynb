{
 "cells": [
  {
   "cell_type": "markdown",
   "id": "1a21fd49-09b0-4e09-870c-c9694d913565",
   "metadata": {},
   "source": [
    "# Extend the wqp search to nearby sites\n",
    "\n",
    "Extend `wqp.get_results` to filter data from nearby sites.\n",
    "\n",
    "1) given a search, as well as neighborhood search parameters, search sites in the neighborhood for matching data\n",
    "2) The neighborhood search will use the NLDI. First look within the search radius for any matching sites upstream and downstream.\n",
    "3) Apply some additional filter, mainly drainage area to filter out watersheds with drastically different sizes.\n",
    "4) For example, you may search within an initial radius, then use `nwis.get_info(site)` to return the drainage area, then square root to come up with a distance measure and multiply that by some factor, say 0.1, then keep only sites within that distance that have similar area.\n",
    "5) Finally, pull data from each of those sites and combine them into single dataframe, optionally add a boolean flag to indicate whether the data are \"artificial\",\n",
    "\n",
    "## Notes\n",
    "\n",
    "- Ultimately, we'd like to a construct a NWQN dataset. We can identify those data using the project ID field in `wqp.get_results`\n",
    "- For testing, use the NWQN site on the Illinois river. Prior to 2018, the site was located at 05586100 then moved to 05586300."
   ]
  },
  {
   "cell_type": "code",
   "execution_count": null,
   "id": "80f78869-0e4e-475b-bd95-d0ca86064de2",
   "metadata": {},
   "outputs": [],
   "source": []
  }
 ],
 "metadata": {
  "kernelspec": {
   "display_name": "Python 3 (ipykernel)",
   "language": "python",
   "name": "python3"
  },
  "language_info": {
   "codemirror_mode": {
    "name": "ipython",
    "version": 3
   },
   "file_extension": ".py",
   "mimetype": "text/x-python",
   "name": "python",
   "nbconvert_exporter": "python",
   "pygments_lexer": "ipython3",
   "version": "3.12.4"
  }
 },
 "nbformat": 4,
 "nbformat_minor": 5
}
